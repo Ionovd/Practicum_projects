{
 "cells": [
  {
   "cell_type": "markdown",
   "metadata": {},
   "source": [
    "<span style=\"color:green\">**Поздравляю, твой проект принят!**</span>\n",
    "\n",
    "Дмитрий, отличная работа, получился качественный аналитический отчет. Поставленные задачи были успешно выполнены! Спасибо за обозначение корректировок. Недочёты исправлены! Надеюсь, ревью было полезным:) Желаю успехов в учебе и следующих проектах!\n"
   ]
  },
  {
   "cell_type": "markdown",
   "metadata": {},
   "source": [
    "<div class=\"alert alert-block alert-warning\">\n",
    "\n",
    "**Комментарий ревьювера (общий вывод)**\n",
    "    \n",
    "Дмитрий, мне понравилась твоя работа! Выводы хорошо структурированы и достаточно содержательны, умеешь считать перцентили, определять аномалии, качественно проводишь проверку гипотез. Спасибо за четкие комментарии по результатам исследования, аккуратный код и качественное оформление отчета! Это упростило проверку. \n",
    "    \n",
    "Для принятия твоей работы нужно дополнить общий вывод. Новые комментарии и рекомендации имеют метку `v2`.\n",
    "    \n",
    "В дополнении прикрепляю полезный материал по теме A/B-тестирования: \n",
    "   \n",
    "* https://your-scorpion.ru/ab-tests-check-mathematics/\n",
    "    \n",
    "Жду твою работу!\n",
    "  \n",
    "</div>"
   ]
  },
  {
   "cell_type": "markdown",
   "metadata": {},
   "source": [
    "<span style=\"color:purple\">**Привет, Дмитрий!**</span>\n",
    "\n",
    "Меня зовут **Василий** и я – ревьювер, буду проверять твой проект. Ты проделал большую работу над проектом, но давай сделаем его еще лучше.\n",
    "\n",
    "Спасибо, что прислал проект. В тетради ты сможешь найти мои комментарии. Пострайся учесть эти комментарии в ходе выполнения дальнейших проектов.\n",
    "\n",
    "Твой проект обладает хорошей структурой и понятной логикой исследования. Тем не менее, в нём обнаружились недочёты, которые необходимо будет исправить.\n",
    "\n",
    "Обрати внимание, я буду выделять свои комментарии цветом, в зависимости от того, какие действия, важность и особенности тебя ждут в процессе проверки.\n",
    "\n",
    "<div class=\"alert alert-block alert-success\">\n",
    "\n",
    "**Комментарий ревьювера (все отлично)**\n",
    "    \n",
    "Такими комментариями я буду помечать хорошо проделаную работу, а так же хорошо проделаную работу над ошибками.\n",
    "</div>\n",
    "\n",
    "<div class=\"alert alert-block alert-warning\">\n",
    "\n",
    "**Комментарий ревьювера (что можно улучшить)**\n",
    "    \n",
    "После таких комментариев ничего исправлять не нужно, но я дам рекомендации на будущее и подскажу, что можно улучшить.\n",
    "</div>\n",
    "\n",
    "<div class=\"alert alert-block alert-danger\">\n",
    "    \n",
    "**Комментарий ревьювера (недочет, который нужно доработать)**\n",
    "    \n",
    "Если ты видишь такой комментарий, значит я указываю тебе на недочёт, его нужно исправить. Без такого исправления я не приму твою работу:)\n",
    "</div>\n",
    "\n",
    "**Пожалуста, не удаляй мои комментарии. При повторной проверке, я буду ориентироваться на них.**\n",
    "\n",
    "<span style=\"color:blue\"> Можешь под моими комментариями оставлять свои, в которых опиши свои исправления. Это облегчит процесс проверки и мне, и тебе:) Например, вот так:</span>\n",
    "\n",
    "<div class=\"alert alert-block alert-info\">\n",
    "<b>КОММЕНТАРИЙ ОТ УЧЕНИКА: </b>\n",
    "</div>"
   ]
  },
  {
   "cell_type": "markdown",
   "metadata": {},
   "source": [
    "# Изучение гипотез для увеличения выручки\n",
    "\n",
    "**Задачи:**\n",
    "\n",
    "Часть 1. Приоритизация гипотез.\n",
    "\n",
    "- [x] 1) Применить фреймворк ICE для приоритизации гипотез. Отсортировать их по убыванию приоритета.\n",
    "\n",
    "- [x] 2) Применить фреймворк RICE для приоритизации гипотез. Отсортировать их по убыванию приоритета.\n",
    "\n",
    "- [x] 3) Указать, как изменилась приоритизация гипотез при применении RICE вместо ICE. Объясните, почему так произошло.\n",
    "\n",
    "Часть 2. Анализ A/B-теста\n",
    "\n",
    "- [x] 1) Построить график кумулятивной выручки по группам. Сделать выводы и предположения.\n",
    "\n",
    "- [x] 2) Построить график кумулятивного среднего чека по группам. Сделать выводы и предположения.\n",
    "\n",
    "- [x] 3) Построить график относительного изменения кумулятивного среднего чека группы B к группе A. Сделать выводы и предположения.\n",
    "\n",
    "- [x] 4) Построить график кумулятивного среднего количества заказов на посетителя по группам. Сделать выводы и предположения.\n",
    "\n",
    "- [x] 5) Построить график относительного изменения кумулятивного среднего количества заказов на посетителя группы B к группе A. Сделать выводы и предположения.\n",
    "\n",
    "- [x] 6) Построить точечный график количества заказов по пользователям. Сделать выводы и предположения.\n",
    "\n",
    "- [x] 7) Построить 95-й и 99-й перцентили количества заказов на пользователя. Выбрать границу для определения аномальных пользователей.\n",
    "\n",
    "- [x] 8) Построить точечный график стоимостей заказов. Сделать выводы и предположения.\n",
    "\n",
    "- [x] 9) Построить 95-й и 99-й перцентили стоимости заказов. Выбрать границу для определения аномальных заказов.\n",
    "\n",
    "- [x] 10) Построить статистическую значимость различий в среднем количестве заказов на посетителя между группами по «сырым» данным. Сделать выводы и предположения.\n",
    "\n",
    "- [x] 11) Построить статистическую значимость различий в среднем чеке заказа между группами по «сырым» данным. Сделать выводы и предположения.\n",
    "\n",
    "- [x] 12) Построить статистическую значимость различий в среднем количестве заказов на посетителя между группами по «очищенным» данным. Сделать выводы и предположения.\n",
    "\n",
    "- [x] 13) Построить статистическую значимость различий в среднем чеке заказа между группами по «очищенным» данным. Сделать выводы и предположения.\n"
   ]
  },
  {
   "cell_type": "markdown",
   "metadata": {},
   "source": [
    "# Описание данных\n",
    "\n",
    "Данные для первой части:\n",
    "\n",
    "Hypothesis — краткое описание гипотезы;\n",
    "\n",
    "Reach — охват пользователей по 10-балльной шкале;\n",
    "\n",
    "Impact — влияние на пользователей по 10-балльной шкале;\n",
    "\n",
    "Confidence — уверенность в гипотезе по 10-балльной шкале;\n",
    "\n",
    "Efforts — затраты ресурсов на проверку гипотезы по 10-балльной шкале. Чем больше значение Efforts, тем дороже проверка гипотезы.\n",
    "\n",
    "Данные для второй части:\n",
    "\n",
    "transactionId — идентификатор заказа;\n",
    "\n",
    "visitorId — идентификатор пользователя, совершившего заказ;\n",
    "\n",
    "date — дата, когда был совершён заказ;\n",
    "\n",
    "revenue — выручка заказа;\n",
    "\n",
    "group — группа A/B-теста, в которую попал заказ.\n",
    "\n",
    "Файл /datasets/visitors.csv. Скачать датасет\n",
    "\n",
    "date — дата;\n",
    "\n",
    "group — группа A/B-теста;\n",
    "\n",
    "visitors — количество пользователей в указанную дату в указанной группе A/B-теста"
   ]
  },
  {
   "cell_type": "code",
   "execution_count": 1,
   "metadata": {},
   "outputs": [],
   "source": [
    "import pandas as pd\n",
    "import numpy as np\n",
    "import matplotlib.pyplot as plt\n",
    "import seaborn as sns\n",
    "from scipy import stats as st\n",
    "import datetime as dt\n",
    "\n",
    "pd.options.display.max_colwidth = 1"
   ]
  },
  {
   "cell_type": "markdown",
   "metadata": {},
   "source": [
    "<div class=\"alert alert-block alert-success\">\n",
    "\n",
    "**Комментарий ревьювера (все отлично)**\n",
    "    \n",
    "Правильно, что импортируешь необходимые библиотеки в первой ячейке. Так твой коллега, запускающий работу, будет в курсе используемых в ней библиотек и сможет настроить свое окружение при необходимости.\n",
    "</div>"
   ]
  },
  {
   "cell_type": "markdown",
   "metadata": {},
   "source": [
    "## Исследование данных"
   ]
  },
  {
   "cell_type": "code",
   "execution_count": 2,
   "metadata": {},
   "outputs": [],
   "source": [
    "hypothesis = pd.read_csv('/datasets/hypothesis.csv')\n",
    "orders = pd.read_csv('/datasets/orders.csv')\n",
    "visitors = pd.read_csv('/datasets/visitors.csv')"
   ]
  },
  {
   "cell_type": "code",
   "execution_count": 3,
   "metadata": {},
   "outputs": [
    {
     "name": "stdout",
     "output_type": "stream",
     "text": [
      "<class 'pandas.core.frame.DataFrame'>\n",
      "RangeIndex: 9 entries, 0 to 8\n",
      "Data columns (total 5 columns):\n",
      " #   Column      Non-Null Count  Dtype \n",
      "---  ------      --------------  ----- \n",
      " 0   Hypothesis  9 non-null      object\n",
      " 1   Reach       9 non-null      int64 \n",
      " 2   Impact      9 non-null      int64 \n",
      " 3   Confidence  9 non-null      int64 \n",
      " 4   Efforts     9 non-null      int64 \n",
      "dtypes: int64(4), object(1)\n",
      "memory usage: 488.0+ bytes\n"
     ]
    },
    {
     "data": {
      "text/plain": [
       "None"
      ]
     },
     "metadata": {},
     "output_type": "display_data"
    },
    {
     "name": "stdout",
     "output_type": "stream",
     "text": [
      "<class 'pandas.core.frame.DataFrame'>\n",
      "RangeIndex: 1197 entries, 0 to 1196\n",
      "Data columns (total 5 columns):\n",
      " #   Column         Non-Null Count  Dtype \n",
      "---  ------         --------------  ----- \n",
      " 0   transactionId  1197 non-null   int64 \n",
      " 1   visitorId      1197 non-null   int64 \n",
      " 2   date           1197 non-null   object\n",
      " 3   revenue        1197 non-null   int64 \n",
      " 4   group          1197 non-null   object\n",
      "dtypes: int64(3), object(2)\n",
      "memory usage: 46.9+ KB\n"
     ]
    },
    {
     "data": {
      "text/plain": [
       "None"
      ]
     },
     "metadata": {},
     "output_type": "display_data"
    },
    {
     "name": "stdout",
     "output_type": "stream",
     "text": [
      "<class 'pandas.core.frame.DataFrame'>\n",
      "RangeIndex: 62 entries, 0 to 61\n",
      "Data columns (total 3 columns):\n",
      " #   Column    Non-Null Count  Dtype \n",
      "---  ------    --------------  ----- \n",
      " 0   date      62 non-null     object\n",
      " 1   group     62 non-null     object\n",
      " 2   visitors  62 non-null     int64 \n",
      "dtypes: int64(1), object(2)\n",
      "memory usage: 1.6+ KB\n"
     ]
    },
    {
     "data": {
      "text/plain": [
       "None"
      ]
     },
     "metadata": {},
     "output_type": "display_data"
    }
   ],
   "source": [
    "display(hypothesis.info())\n",
    "display(orders.info())\n",
    "display(visitors.info())"
   ]
  },
  {
   "cell_type": "code",
   "execution_count": 4,
   "metadata": {},
   "outputs": [
    {
     "data": {
      "text/plain": [
       "0"
      ]
     },
     "metadata": {},
     "output_type": "display_data"
    }
   ],
   "source": [
    "display(hypothesis.duplicated().sum())"
   ]
  },
  {
   "cell_type": "code",
   "execution_count": 5,
   "metadata": {},
   "outputs": [
    {
     "data": {
      "text/plain": [
       "0"
      ]
     },
     "metadata": {},
     "output_type": "display_data"
    }
   ],
   "source": [
    "display(orders.duplicated().sum())"
   ]
  },
  {
   "cell_type": "code",
   "execution_count": 6,
   "metadata": {},
   "outputs": [
    {
     "data": {
      "text/plain": [
       "0"
      ]
     },
     "metadata": {},
     "output_type": "display_data"
    }
   ],
   "source": [
    "display(visitors.duplicated().sum())"
   ]
  },
  {
   "cell_type": "code",
   "execution_count": 7,
   "metadata": {},
   "outputs": [
    {
     "data": {
      "text/html": [
       "<div>\n",
       "<style scoped>\n",
       "    .dataframe tbody tr th:only-of-type {\n",
       "        vertical-align: middle;\n",
       "    }\n",
       "\n",
       "    .dataframe tbody tr th {\n",
       "        vertical-align: top;\n",
       "    }\n",
       "\n",
       "    .dataframe thead th {\n",
       "        text-align: right;\n",
       "    }\n",
       "</style>\n",
       "<table border=\"1\" class=\"dataframe\">\n",
       "  <thead>\n",
       "    <tr style=\"text-align: right;\">\n",
       "      <th></th>\n",
       "      <th>Hypothesis</th>\n",
       "      <th>Reach</th>\n",
       "      <th>Impact</th>\n",
       "      <th>Confidence</th>\n",
       "      <th>Efforts</th>\n",
       "    </tr>\n",
       "  </thead>\n",
       "  <tbody>\n",
       "    <tr>\n",
       "      <th>0</th>\n",
       "      <td>Добавить два новых канала привлечения трафика, что позволит привлекать на 30% больше пользователей</td>\n",
       "      <td>3</td>\n",
       "      <td>10</td>\n",
       "      <td>8</td>\n",
       "      <td>6</td>\n",
       "    </tr>\n",
       "    <tr>\n",
       "      <th>1</th>\n",
       "      <td>Запустить собственную службу доставки, что сократит срок доставки заказов</td>\n",
       "      <td>2</td>\n",
       "      <td>5</td>\n",
       "      <td>4</td>\n",
       "      <td>10</td>\n",
       "    </tr>\n",
       "    <tr>\n",
       "      <th>2</th>\n",
       "      <td>Добавить блоки рекомендаций товаров на сайт интернет магазина, чтобы повысить конверсию и средний чек заказа</td>\n",
       "      <td>8</td>\n",
       "      <td>3</td>\n",
       "      <td>7</td>\n",
       "      <td>3</td>\n",
       "    </tr>\n",
       "    <tr>\n",
       "      <th>3</th>\n",
       "      <td>Изменить структура категорий, что увеличит конверсию, т.к. пользователи быстрее найдут нужный товар</td>\n",
       "      <td>8</td>\n",
       "      <td>3</td>\n",
       "      <td>3</td>\n",
       "      <td>8</td>\n",
       "    </tr>\n",
       "    <tr>\n",
       "      <th>4</th>\n",
       "      <td>Изменить цвет фона главной страницы, чтобы увеличить вовлеченность пользователей</td>\n",
       "      <td>3</td>\n",
       "      <td>1</td>\n",
       "      <td>1</td>\n",
       "      <td>1</td>\n",
       "    </tr>\n",
       "  </tbody>\n",
       "</table>\n",
       "</div>"
      ],
      "text/plain": [
       "                                                                                                     Hypothesis  \\\n",
       "0  Добавить два новых канала привлечения трафика, что позволит привлекать на 30% больше пользователей             \n",
       "1  Запустить собственную службу доставки, что сократит срок доставки заказов                                      \n",
       "2  Добавить блоки рекомендаций товаров на сайт интернет магазина, чтобы повысить конверсию и средний чек заказа   \n",
       "3  Изменить структура категорий, что увеличит конверсию, т.к. пользователи быстрее найдут нужный товар            \n",
       "4  Изменить цвет фона главной страницы, чтобы увеличить вовлеченность пользователей                               \n",
       "\n",
       "   Reach  Impact  Confidence  Efforts  \n",
       "0  3      10      8           6        \n",
       "1  2      5       4           10       \n",
       "2  8      3       7           3        \n",
       "3  8      3       3           8        \n",
       "4  3      1       1           1        "
      ]
     },
     "metadata": {},
     "output_type": "display_data"
    },
    {
     "data": {
      "text/html": [
       "<div>\n",
       "<style scoped>\n",
       "    .dataframe tbody tr th:only-of-type {\n",
       "        vertical-align: middle;\n",
       "    }\n",
       "\n",
       "    .dataframe tbody tr th {\n",
       "        vertical-align: top;\n",
       "    }\n",
       "\n",
       "    .dataframe thead th {\n",
       "        text-align: right;\n",
       "    }\n",
       "</style>\n",
       "<table border=\"1\" class=\"dataframe\">\n",
       "  <thead>\n",
       "    <tr style=\"text-align: right;\">\n",
       "      <th></th>\n",
       "      <th>transactionId</th>\n",
       "      <th>visitorId</th>\n",
       "      <th>date</th>\n",
       "      <th>revenue</th>\n",
       "      <th>group</th>\n",
       "    </tr>\n",
       "  </thead>\n",
       "  <tbody>\n",
       "    <tr>\n",
       "      <th>0</th>\n",
       "      <td>3667963787</td>\n",
       "      <td>3312258926</td>\n",
       "      <td>2019-08-15</td>\n",
       "      <td>1650</td>\n",
       "      <td>B</td>\n",
       "    </tr>\n",
       "    <tr>\n",
       "      <th>1</th>\n",
       "      <td>2804400009</td>\n",
       "      <td>3642806036</td>\n",
       "      <td>2019-08-15</td>\n",
       "      <td>730</td>\n",
       "      <td>B</td>\n",
       "    </tr>\n",
       "    <tr>\n",
       "      <th>2</th>\n",
       "      <td>2961555356</td>\n",
       "      <td>4069496402</td>\n",
       "      <td>2019-08-15</td>\n",
       "      <td>400</td>\n",
       "      <td>A</td>\n",
       "    </tr>\n",
       "    <tr>\n",
       "      <th>3</th>\n",
       "      <td>3797467345</td>\n",
       "      <td>1196621759</td>\n",
       "      <td>2019-08-15</td>\n",
       "      <td>9759</td>\n",
       "      <td>B</td>\n",
       "    </tr>\n",
       "    <tr>\n",
       "      <th>4</th>\n",
       "      <td>2282983706</td>\n",
       "      <td>2322279887</td>\n",
       "      <td>2019-08-15</td>\n",
       "      <td>2308</td>\n",
       "      <td>B</td>\n",
       "    </tr>\n",
       "  </tbody>\n",
       "</table>\n",
       "</div>"
      ],
      "text/plain": [
       "   transactionId   visitorId        date  revenue group\n",
       "0  3667963787     3312258926  2019-08-15  1650     B   \n",
       "1  2804400009     3642806036  2019-08-15  730      B   \n",
       "2  2961555356     4069496402  2019-08-15  400      A   \n",
       "3  3797467345     1196621759  2019-08-15  9759     B   \n",
       "4  2282983706     2322279887  2019-08-15  2308     B   "
      ]
     },
     "metadata": {},
     "output_type": "display_data"
    },
    {
     "data": {
      "text/html": [
       "<div>\n",
       "<style scoped>\n",
       "    .dataframe tbody tr th:only-of-type {\n",
       "        vertical-align: middle;\n",
       "    }\n",
       "\n",
       "    .dataframe tbody tr th {\n",
       "        vertical-align: top;\n",
       "    }\n",
       "\n",
       "    .dataframe thead th {\n",
       "        text-align: right;\n",
       "    }\n",
       "</style>\n",
       "<table border=\"1\" class=\"dataframe\">\n",
       "  <thead>\n",
       "    <tr style=\"text-align: right;\">\n",
       "      <th></th>\n",
       "      <th>date</th>\n",
       "      <th>group</th>\n",
       "      <th>visitors</th>\n",
       "    </tr>\n",
       "  </thead>\n",
       "  <tbody>\n",
       "    <tr>\n",
       "      <th>0</th>\n",
       "      <td>2019-08-01</td>\n",
       "      <td>A</td>\n",
       "      <td>719</td>\n",
       "    </tr>\n",
       "    <tr>\n",
       "      <th>1</th>\n",
       "      <td>2019-08-02</td>\n",
       "      <td>A</td>\n",
       "      <td>619</td>\n",
       "    </tr>\n",
       "    <tr>\n",
       "      <th>2</th>\n",
       "      <td>2019-08-03</td>\n",
       "      <td>A</td>\n",
       "      <td>507</td>\n",
       "    </tr>\n",
       "    <tr>\n",
       "      <th>3</th>\n",
       "      <td>2019-08-04</td>\n",
       "      <td>A</td>\n",
       "      <td>717</td>\n",
       "    </tr>\n",
       "    <tr>\n",
       "      <th>4</th>\n",
       "      <td>2019-08-05</td>\n",
       "      <td>A</td>\n",
       "      <td>756</td>\n",
       "    </tr>\n",
       "  </tbody>\n",
       "</table>\n",
       "</div>"
      ],
      "text/plain": [
       "         date group  visitors\n",
       "0  2019-08-01  A     719     \n",
       "1  2019-08-02  A     619     \n",
       "2  2019-08-03  A     507     \n",
       "3  2019-08-04  A     717     \n",
       "4  2019-08-05  A     756     "
      ]
     },
     "metadata": {},
     "output_type": "display_data"
    }
   ],
   "source": [
    "display(hypothesis.head())\n",
    "display(orders.head())\n",
    "display(visitors.head())"
   ]
  },
  {
   "cell_type": "markdown",
   "metadata": {},
   "source": [
    "**Промежуточный вывод:**\n",
    "\n",
    "Исследовав данные, пропусков и дубликатов не обнаружено. Однако, названия столбцов не соответсвуют нормальному типу, и столбцы дат date в фреймах orders и visitors имеют тип object вместо 'date'."
   ]
  },
  {
   "cell_type": "markdown",
   "metadata": {},
   "source": [
    "<div class=\"alert alert-block alert-danger\">\n",
    "    \n",
    "**Комментарий ревьювера (недочет, который нужно доработать)**\n",
    "    \n",
    "Проверь, есть ли в таблице orders пользователи, оказавшиеся одновременно в двух группах. Дело в том, что при АВ тестировании могут быть ошибки при логировании и распределении пользователей по группам.\n",
    "</div>"
   ]
  },
  {
   "cell_type": "markdown",
   "metadata": {},
   "source": [
    "<div class=\"alert alert-block alert-info\">\n",
    "<b>Пользователи были найдены и удалены. </b>\n",
    "</div>"
   ]
  },
  {
   "cell_type": "code",
   "execution_count": 8,
   "metadata": {},
   "outputs": [
    {
     "data": {
      "text/html": [
       "<div>\n",
       "<style scoped>\n",
       "    .dataframe tbody tr th:only-of-type {\n",
       "        vertical-align: middle;\n",
       "    }\n",
       "\n",
       "    .dataframe tbody tr th {\n",
       "        vertical-align: top;\n",
       "    }\n",
       "\n",
       "    .dataframe thead th {\n",
       "        text-align: right;\n",
       "    }\n",
       "</style>\n",
       "<table border=\"1\" class=\"dataframe\">\n",
       "  <thead>\n",
       "    <tr style=\"text-align: right;\">\n",
       "      <th></th>\n",
       "      <th>group</th>\n",
       "    </tr>\n",
       "    <tr>\n",
       "      <th>visitorId</th>\n",
       "      <th></th>\n",
       "    </tr>\n",
       "  </thead>\n",
       "  <tbody>\n",
       "    <tr>\n",
       "      <th>5114589</th>\n",
       "      <td>1</td>\n",
       "    </tr>\n",
       "    <tr>\n",
       "      <th>6958315</th>\n",
       "      <td>1</td>\n",
       "    </tr>\n",
       "    <tr>\n",
       "      <th>8300375</th>\n",
       "      <td>2</td>\n",
       "    </tr>\n",
       "    <tr>\n",
       "      <th>11685486</th>\n",
       "      <td>1</td>\n",
       "    </tr>\n",
       "    <tr>\n",
       "      <th>39475350</th>\n",
       "      <td>1</td>\n",
       "    </tr>\n",
       "  </tbody>\n",
       "</table>\n",
       "</div>"
      ],
      "text/plain": [
       "           group\n",
       "visitorId       \n",
       "5114589    1    \n",
       "6958315    1    \n",
       "8300375    2    \n",
       "11685486   1    \n",
       "39475350   1    "
      ]
     },
     "execution_count": 8,
     "metadata": {},
     "output_type": "execute_result"
    }
   ],
   "source": [
    "orders.groupby(['visitorId']).agg({'group' : 'nunique'}).head()"
   ]
  },
  {
   "cell_type": "code",
   "execution_count": 9,
   "metadata": {},
   "outputs": [
    {
     "data": {
      "text/plain": [
       "group    58\n",
       "dtype: int64"
      ]
     },
     "execution_count": 9,
     "metadata": {},
     "output_type": "execute_result"
    }
   ],
   "source": [
    "# отфильтруем на group > 1, то есть дубликаты.\n",
    "orders.groupby('visitorId').agg({'group': 'nunique'}).query('group>1').count()"
   ]
  },
  {
   "cell_type": "markdown",
   "metadata": {},
   "source": [
    "58 пользователей находятся в группе A и в группе B"
   ]
  },
  {
   "cell_type": "code",
   "execution_count": 10,
   "metadata": {},
   "outputs": [],
   "source": [
    "\n",
    "duplicates_AB = orders.groupby('visitorId').agg({'group': 'nunique'}).query('group>1').reset_index()"
   ]
  },
  {
   "cell_type": "code",
   "execution_count": 11,
   "metadata": {},
   "outputs": [],
   "source": [
    "orders = orders[~orders['visitorId'].isin(duplicates_AB['visitorId'])]"
   ]
  },
  {
   "cell_type": "code",
   "execution_count": 12,
   "metadata": {
    "scrolled": true
   },
   "outputs": [
    {
     "data": {
      "text/plain": [
       "group    0\n",
       "dtype: int64"
      ]
     },
     "execution_count": 12,
     "metadata": {},
     "output_type": "execute_result"
    }
   ],
   "source": [
    "orders.groupby('visitorId').agg({'group': 'nunique'}).query('group>1').count()"
   ]
  },
  {
   "cell_type": "markdown",
   "metadata": {},
   "source": [
    "<div class=\"alert alert-block alert-warning\">\n",
    "\n",
    "**Комментарий ревьювера v2 (что можно улучшить)**\n",
    "\n",
    "Проверка выполнена оптимальным методом. Хорошая работа!\n",
    "    \n",
    "Единственного правильного решения по пересечениям здесь нет.\n",
    "    \n",
    "Их можно удалить, но тогда эти пользователи останутся в таблице `visitors`, которую сложно предобработать от таких ошибок. \n",
    "    \n",
    "Если принято решение оставить, то нужно указать в выводе, что анализ далее прошел с учётом того, что небольшая доля пользователей участвовала в двух группах. \n",
    "    \n",
    "В любом случае важно не оставлять факт пересечения групп без внимания. Если пользователи попали в обе группы, то коллегам нужно знать, что есть ошибки в распределении. Эта информация в реальной работе поможет коллегам разобраться в проблеме и устранить ошибку распределения для следующих тестов.\n",
    "</div>"
   ]
  },
  {
   "cell_type": "code",
   "execution_count": 13,
   "metadata": {},
   "outputs": [
    {
     "data": {
      "text/html": [
       "<div>\n",
       "<style scoped>\n",
       "    .dataframe tbody tr th:only-of-type {\n",
       "        vertical-align: middle;\n",
       "    }\n",
       "\n",
       "    .dataframe tbody tr th {\n",
       "        vertical-align: top;\n",
       "    }\n",
       "\n",
       "    .dataframe thead th {\n",
       "        text-align: right;\n",
       "    }\n",
       "</style>\n",
       "<table border=\"1\" class=\"dataframe\">\n",
       "  <thead>\n",
       "    <tr style=\"text-align: right;\">\n",
       "      <th></th>\n",
       "      <th>hypothesis</th>\n",
       "      <th>reach</th>\n",
       "      <th>impact</th>\n",
       "      <th>confidence</th>\n",
       "      <th>efforts</th>\n",
       "    </tr>\n",
       "  </thead>\n",
       "  <tbody>\n",
       "    <tr>\n",
       "      <th>0</th>\n",
       "      <td>Добавить два новых канала привлечения трафика, что позволит привлекать на 30% больше пользователей</td>\n",
       "      <td>3</td>\n",
       "      <td>10</td>\n",
       "      <td>8</td>\n",
       "      <td>6</td>\n",
       "    </tr>\n",
       "    <tr>\n",
       "      <th>1</th>\n",
       "      <td>Запустить собственную службу доставки, что сократит срок доставки заказов</td>\n",
       "      <td>2</td>\n",
       "      <td>5</td>\n",
       "      <td>4</td>\n",
       "      <td>10</td>\n",
       "    </tr>\n",
       "    <tr>\n",
       "      <th>2</th>\n",
       "      <td>Добавить блоки рекомендаций товаров на сайт интернет магазина, чтобы повысить конверсию и средний чек заказа</td>\n",
       "      <td>8</td>\n",
       "      <td>3</td>\n",
       "      <td>7</td>\n",
       "      <td>3</td>\n",
       "    </tr>\n",
       "    <tr>\n",
       "      <th>3</th>\n",
       "      <td>Изменить структура категорий, что увеличит конверсию, т.к. пользователи быстрее найдут нужный товар</td>\n",
       "      <td>8</td>\n",
       "      <td>3</td>\n",
       "      <td>3</td>\n",
       "      <td>8</td>\n",
       "    </tr>\n",
       "    <tr>\n",
       "      <th>4</th>\n",
       "      <td>Изменить цвет фона главной страницы, чтобы увеличить вовлеченность пользователей</td>\n",
       "      <td>3</td>\n",
       "      <td>1</td>\n",
       "      <td>1</td>\n",
       "      <td>1</td>\n",
       "    </tr>\n",
       "  </tbody>\n",
       "</table>\n",
       "</div>"
      ],
      "text/plain": [
       "                                                                                                     hypothesis  \\\n",
       "0  Добавить два новых канала привлечения трафика, что позволит привлекать на 30% больше пользователей             \n",
       "1  Запустить собственную службу доставки, что сократит срок доставки заказов                                      \n",
       "2  Добавить блоки рекомендаций товаров на сайт интернет магазина, чтобы повысить конверсию и средний чек заказа   \n",
       "3  Изменить структура категорий, что увеличит конверсию, т.к. пользователи быстрее найдут нужный товар            \n",
       "4  Изменить цвет фона главной страницы, чтобы увеличить вовлеченность пользователей                               \n",
       "\n",
       "   reach  impact  confidence  efforts  \n",
       "0  3      10      8           6        \n",
       "1  2      5       4           10       \n",
       "2  8      3       7           3        \n",
       "3  8      3       3           8        \n",
       "4  3      1       1           1        "
      ]
     },
     "execution_count": 13,
     "metadata": {},
     "output_type": "execute_result"
    }
   ],
   "source": [
    "hypothesis.columns = hypothesis.columns.str.lower()\n",
    "hypothesis.head()"
   ]
  },
  {
   "cell_type": "code",
   "execution_count": 14,
   "metadata": {},
   "outputs": [],
   "source": [
    "orders['date'] = pd.to_datetime(orders['date']).dt.date\n",
    "\n",
    "visitors['date'] = pd.to_datetime(visitors['date']).dt.date"
   ]
  },
  {
   "cell_type": "markdown",
   "metadata": {},
   "source": [
    "**Вывод 1 блока:**\n",
    "\n",
    "Проведя исследование данных, были обнаружены ряд несоответствий с нормой регистров и типов данных. Проблемы исправлены.\n",
    "\n",
    "Были найдены пользователи, которые состояли одновременно в 2 группах, дубликаты удалены.\n",
    "\n",
    "Пропуски и дупликаты данных отсутвуют.\n"
   ]
  },
  {
   "cell_type": "markdown",
   "metadata": {},
   "source": [
    "## Приоритизация гипотез"
   ]
  },
  {
   "cell_type": "markdown",
   "metadata": {},
   "source": [
    "Применим к 9 гипотезам, фреймворки ICE и RICE, сделаем выводы."
   ]
  },
  {
   "cell_type": "code",
   "execution_count": 15,
   "metadata": {},
   "outputs": [
    {
     "data": {
      "text/html": [
       "<div>\n",
       "<style scoped>\n",
       "    .dataframe tbody tr th:only-of-type {\n",
       "        vertical-align: middle;\n",
       "    }\n",
       "\n",
       "    .dataframe tbody tr th {\n",
       "        vertical-align: top;\n",
       "    }\n",
       "\n",
       "    .dataframe thead th {\n",
       "        text-align: right;\n",
       "    }\n",
       "</style>\n",
       "<table border=\"1\" class=\"dataframe\">\n",
       "  <thead>\n",
       "    <tr style=\"text-align: right;\">\n",
       "      <th></th>\n",
       "      <th>hypothesis</th>\n",
       "      <th>ICE</th>\n",
       "    </tr>\n",
       "  </thead>\n",
       "  <tbody>\n",
       "    <tr>\n",
       "      <th>8</th>\n",
       "      <td>Запустить акцию, дающую скидку на товар в день рождения</td>\n",
       "      <td>16.200000</td>\n",
       "    </tr>\n",
       "    <tr>\n",
       "      <th>0</th>\n",
       "      <td>Добавить два новых канала привлечения трафика, что позволит привлекать на 30% больше пользователей</td>\n",
       "      <td>13.333333</td>\n",
       "    </tr>\n",
       "    <tr>\n",
       "      <th>7</th>\n",
       "      <td>Добавить форму подписки на все основные страницы, чтобы собрать базу клиентов для email-рассылок</td>\n",
       "      <td>11.200000</td>\n",
       "    </tr>\n",
       "    <tr>\n",
       "      <th>6</th>\n",
       "      <td>Показать на главной странице баннеры с актуальными акциями и распродажами, чтобы увеличить конверсию</td>\n",
       "      <td>8.000000</td>\n",
       "    </tr>\n",
       "    <tr>\n",
       "      <th>2</th>\n",
       "      <td>Добавить блоки рекомендаций товаров на сайт интернет магазина, чтобы повысить конверсию и средний чек заказа</td>\n",
       "      <td>7.000000</td>\n",
       "    </tr>\n",
       "    <tr>\n",
       "      <th>1</th>\n",
       "      <td>Запустить собственную службу доставки, что сократит срок доставки заказов</td>\n",
       "      <td>2.000000</td>\n",
       "    </tr>\n",
       "    <tr>\n",
       "      <th>5</th>\n",
       "      <td>Добавить страницу отзывов клиентов о магазине, что позволит увеличить количество заказов</td>\n",
       "      <td>1.333333</td>\n",
       "    </tr>\n",
       "    <tr>\n",
       "      <th>3</th>\n",
       "      <td>Изменить структура категорий, что увеличит конверсию, т.к. пользователи быстрее найдут нужный товар</td>\n",
       "      <td>1.125000</td>\n",
       "    </tr>\n",
       "    <tr>\n",
       "      <th>4</th>\n",
       "      <td>Изменить цвет фона главной страницы, чтобы увеличить вовлеченность пользователей</td>\n",
       "      <td>1.000000</td>\n",
       "    </tr>\n",
       "  </tbody>\n",
       "</table>\n",
       "</div>"
      ],
      "text/plain": [
       "                                                                                                     hypothesis  \\\n",
       "8  Запустить акцию, дающую скидку на товар в день рождения                                                        \n",
       "0  Добавить два новых канала привлечения трафика, что позволит привлекать на 30% больше пользователей             \n",
       "7  Добавить форму подписки на все основные страницы, чтобы собрать базу клиентов для email-рассылок               \n",
       "6  Показать на главной странице баннеры с актуальными акциями и распродажами, чтобы увеличить конверсию           \n",
       "2  Добавить блоки рекомендаций товаров на сайт интернет магазина, чтобы повысить конверсию и средний чек заказа   \n",
       "1  Запустить собственную службу доставки, что сократит срок доставки заказов                                      \n",
       "5  Добавить страницу отзывов клиентов о магазине, что позволит увеличить количество заказов                       \n",
       "3  Изменить структура категорий, что увеличит конверсию, т.к. пользователи быстрее найдут нужный товар            \n",
       "4  Изменить цвет фона главной страницы, чтобы увеличить вовлеченность пользователей                               \n",
       "\n",
       "         ICE  \n",
       "8  16.200000  \n",
       "0  13.333333  \n",
       "7  11.200000  \n",
       "6  8.000000   \n",
       "2  7.000000   \n",
       "1  2.000000   \n",
       "5  1.333333   \n",
       "3  1.125000   \n",
       "4  1.000000   "
      ]
     },
     "metadata": {},
     "output_type": "display_data"
    }
   ],
   "source": [
    "hypothesis['ICE'] = hypothesis['impact'] * hypothesis['confidence'] / hypothesis['efforts']\n",
    "\n",
    "display(hypothesis[['hypothesis', 'ICE']].sort_values(by='ICE', ascending=False))"
   ]
  },
  {
   "cell_type": "markdown",
   "metadata": {},
   "source": [
    "<div class=\"alert alert-block alert-warning\">\n",
    "\n",
    "**Комментарий ревьювера (что можно улучшить)**\n",
    "    \n",
    "Можно увеличить ширину столбцов, если полностью не помещается информация, для этого можно написать следующий код: \n",
    "    \n",
    "    pd.options.display.max_colwidth = 1\n",
    "\n",
    "</div>"
   ]
  },
  {
   "cell_type": "markdown",
   "metadata": {},
   "source": [
    "<div class=\"alert alert-block alert-info\">\n",
    "<b> Улучшил </b>\n",
    "</div>"
   ]
  },
  {
   "cell_type": "markdown",
   "metadata": {},
   "source": [
    "<div class=\"alert alert-block alert-success\">\n",
    "\n",
    "**Комментарий ревьювера v2 (все отлично)**\n",
    "    \n",
    "👍\n",
    "</div>"
   ]
  },
  {
   "cell_type": "code",
   "execution_count": 16,
   "metadata": {},
   "outputs": [
    {
     "data": {
      "text/html": [
       "<div>\n",
       "<style scoped>\n",
       "    .dataframe tbody tr th:only-of-type {\n",
       "        vertical-align: middle;\n",
       "    }\n",
       "\n",
       "    .dataframe tbody tr th {\n",
       "        vertical-align: top;\n",
       "    }\n",
       "\n",
       "    .dataframe thead th {\n",
       "        text-align: right;\n",
       "    }\n",
       "</style>\n",
       "<table border=\"1\" class=\"dataframe\">\n",
       "  <thead>\n",
       "    <tr style=\"text-align: right;\">\n",
       "      <th></th>\n",
       "      <th>hypothesis</th>\n",
       "      <th>RICE</th>\n",
       "    </tr>\n",
       "  </thead>\n",
       "  <tbody>\n",
       "    <tr>\n",
       "      <th>7</th>\n",
       "      <td>Добавить форму подписки на все основные страницы, чтобы собрать базу клиентов для email-рассылок</td>\n",
       "      <td>112.0</td>\n",
       "    </tr>\n",
       "    <tr>\n",
       "      <th>2</th>\n",
       "      <td>Добавить блоки рекомендаций товаров на сайт интернет магазина, чтобы повысить конверсию и средний чек заказа</td>\n",
       "      <td>56.0</td>\n",
       "    </tr>\n",
       "    <tr>\n",
       "      <th>0</th>\n",
       "      <td>Добавить два новых канала привлечения трафика, что позволит привлекать на 30% больше пользователей</td>\n",
       "      <td>40.0</td>\n",
       "    </tr>\n",
       "    <tr>\n",
       "      <th>6</th>\n",
       "      <td>Показать на главной странице баннеры с актуальными акциями и распродажами, чтобы увеличить конверсию</td>\n",
       "      <td>40.0</td>\n",
       "    </tr>\n",
       "    <tr>\n",
       "      <th>8</th>\n",
       "      <td>Запустить акцию, дающую скидку на товар в день рождения</td>\n",
       "      <td>16.2</td>\n",
       "    </tr>\n",
       "    <tr>\n",
       "      <th>3</th>\n",
       "      <td>Изменить структура категорий, что увеличит конверсию, т.к. пользователи быстрее найдут нужный товар</td>\n",
       "      <td>9.0</td>\n",
       "    </tr>\n",
       "    <tr>\n",
       "      <th>1</th>\n",
       "      <td>Запустить собственную службу доставки, что сократит срок доставки заказов</td>\n",
       "      <td>4.0</td>\n",
       "    </tr>\n",
       "    <tr>\n",
       "      <th>5</th>\n",
       "      <td>Добавить страницу отзывов клиентов о магазине, что позволит увеличить количество заказов</td>\n",
       "      <td>4.0</td>\n",
       "    </tr>\n",
       "    <tr>\n",
       "      <th>4</th>\n",
       "      <td>Изменить цвет фона главной страницы, чтобы увеличить вовлеченность пользователей</td>\n",
       "      <td>3.0</td>\n",
       "    </tr>\n",
       "  </tbody>\n",
       "</table>\n",
       "</div>"
      ],
      "text/plain": [
       "                                                                                                     hypothesis  \\\n",
       "7  Добавить форму подписки на все основные страницы, чтобы собрать базу клиентов для email-рассылок               \n",
       "2  Добавить блоки рекомендаций товаров на сайт интернет магазина, чтобы повысить конверсию и средний чек заказа   \n",
       "0  Добавить два новых канала привлечения трафика, что позволит привлекать на 30% больше пользователей             \n",
       "6  Показать на главной странице баннеры с актуальными акциями и распродажами, чтобы увеличить конверсию           \n",
       "8  Запустить акцию, дающую скидку на товар в день рождения                                                        \n",
       "3  Изменить структура категорий, что увеличит конверсию, т.к. пользователи быстрее найдут нужный товар            \n",
       "1  Запустить собственную службу доставки, что сократит срок доставки заказов                                      \n",
       "5  Добавить страницу отзывов клиентов о магазине, что позволит увеличить количество заказов                       \n",
       "4  Изменить цвет фона главной страницы, чтобы увеличить вовлеченность пользователей                               \n",
       "\n",
       "    RICE  \n",
       "7  112.0  \n",
       "2  56.0   \n",
       "0  40.0   \n",
       "6  40.0   \n",
       "8  16.2   \n",
       "3  9.0    \n",
       "1  4.0    \n",
       "5  4.0    \n",
       "4  3.0    "
      ]
     },
     "metadata": {},
     "output_type": "display_data"
    }
   ],
   "source": [
    "hypothesis['RICE'] =hypothesis['reach'] * hypothesis['impact'] * hypothesis['confidence'] / hypothesis['efforts']\n",
    "\n",
    "display(hypothesis[['hypothesis', 'RICE']].sort_values(by='RICE', ascending=False))"
   ]
  },
  {
   "cell_type": "markdown",
   "metadata": {},
   "source": [
    "**Вывод:**\n",
    "\n",
    "Применив оба фреймворка для приоритизации гипотез, можно сделать вывод, что гипотезы \"0\", \"7\" в обоих результатах занимают лидирующие позиции.\n",
    "\n",
    "\"0\" - Добавить два новых канала привлечения трафика, что позволит привлекать на 30% больше пользователей\n",
    "\n",
    "\"7\" - Добавить форму подписки на все основные страницы, чтобы собрать базу клиентов для email-рассылок.\n",
    "\n",
    "Главный фактор из-за которого изминились позиции приоритизации - это показатель \"reach\", то есть кол-во пользователей, которых охватит гипотеза."
   ]
  },
  {
   "cell_type": "markdown",
   "metadata": {},
   "source": [
    "<div class=\"alert alert-block alert-success\">\n",
    "\n",
    "**Комментарий ревьювера (все отлично)**\n",
    "    \n",
    "Все верно, охват меняет приоритезацию. Отличие фреймворков определено.\n",
    "</div>"
   ]
  },
  {
   "cell_type": "markdown",
   "metadata": {},
   "source": [
    "## Анализ A/B-теста"
   ]
  },
  {
   "cell_type": "markdown",
   "metadata": {},
   "source": [
    "### Кумулятивная выручка"
   ]
  },
  {
   "cell_type": "code",
   "execution_count": 17,
   "metadata": {},
   "outputs": [],
   "source": [
    "orders_group_A = orders[orders['group'] == 'A'].groupby('date').agg({'transactionId' : 'nunique', \n",
    "                                       'visitorId' : 'nunique', \n",
    "                                       'revenue' : 'sum'}).sort_values(by='date').cumsum().reset_index()\n",
    "\n",
    "orders_group_B = orders[orders['group'] == 'B'].groupby('date').agg({'transactionId' : 'nunique', \n",
    "                                       'visitorId' : 'nunique', \n",
    "                                       'revenue' : 'sum'}).sort_values(by='date').cumsum().reset_index()"
   ]
  },
  {
   "cell_type": "code",
   "execution_count": 18,
   "metadata": {},
   "outputs": [
    {
     "data": {
      "image/png": "[encoded data removed]",
      "text/plain": [
       "<Figure size 1080x504 with 1 Axes>"
      ]
     },
     "metadata": {
      "needs_background": "light"
     },
     "output_type": "display_data"
    }
   ],
   "source": [
    "fig = plt.figure()\n",
    " \n",
    "fig.set_figheight(7)\n",
    "fig.set_figwidth(15)\n",
    "# Строим график выручки группы А\n",
    "\n",
    "plt.plot(orders_group_A['date'], orders_group_A['revenue'], label='A')\n",
    "\n",
    "# Строим график выручки группы B\n",
    "plt.plot(orders_group_B['date'], orders_group_B['revenue'], label='B')\n",
    "\n",
    "plt.legend()\n",
    "plt.grid()\n",
    "plt.xlabel('Дата')\n",
    "plt.ylabel('Выручка')\n",
    "plt.title('Кумулятивная выручка')\n",
    "\n",
    "plt.show()"
   ]
  },
  {
   "cell_type": "markdown",
   "metadata": {},
   "source": [
    "<div class=\"alert alert-block alert-danger\">\n",
    "    \n",
    "**Комментарий ревьювера (недочет, который нужно доработать)**\n",
    "    \n",
    "Нужно доработать оформление графиков и добавить подписи осей, где их нет.\n",
    "\n",
    "Рекомендую также изучить новые библиотеки визуализации и новые методы в уже изученных.  Прикрепляю несколько интересных ссылок по визуализации:\n",
    "\n",
    "\n",
    "https://coderlessons.com/tutorials/python-technologies/izuchai-siborna/siborn-kratkoe-rukovodstvo\n",
    "\n",
    "https://tproger.ru/translations/python-data-vizualization/\n",
    "    \n",
    "\n",
    "</div>"
   ]
  },
  {
   "cell_type": "markdown",
   "metadata": {},
   "source": [
    "<div class=\"alert alert-block alert-info\">\n",
    "<b>Подписи осей на все графики добавлены </b>\n",
    "</div>"
   ]
  },
  {
   "cell_type": "markdown",
   "metadata": {},
   "source": [
    "<div class=\"alert alert-block alert-success\">\n",
    "\n",
    "**Комментарий ревьювера v2 (все отлично)**\n",
    "    \n",
    "Графики готовы👍\n",
    "</div>"
   ]
  },
  {
   "cell_type": "markdown",
   "metadata": {},
   "source": [
    "**Вывод:**\n",
    "\n",
    "Кумулятивный график показывает нам, что обе группы постепенно росли, но группа \"B\" в моменте совершает скачок, что свидетельствует о повышении кол-ва заказов или аномалии в данных."
   ]
  },
  {
   "cell_type": "markdown",
   "metadata": {},
   "source": [
    "<div class=\"alert alert-block alert-success\">\n",
    "\n",
    "**Комментарий ревьювера (все отлично)**\n",
    "    \n",
    "Резкий рост обнаружен👍\n",
    "</div>"
   ]
  },
  {
   "cell_type": "markdown",
   "metadata": {},
   "source": [
    "### Кумулятивный средний чек"
   ]
  },
  {
   "cell_type": "code",
   "execution_count": 19,
   "metadata": {},
   "outputs": [
    {
     "data": {
      "image/png": "[encoded data removed]",
      "text/plain": [
       "<Figure size 1080x504 with 1 Axes>"
      ]
     },
     "metadata": {
      "needs_background": "light"
     },
     "output_type": "display_data"
    }
   ],
   "source": [
    "fig = plt.figure()\n",
    " \n",
    "fig.set_figheight(7)\n",
    "fig.set_figwidth(15)\n",
    "\n",
    "# Средний чек = выручка / кол-во заказов\n",
    "\n",
    "# Строим график среднего чека группы А\n",
    "\n",
    "plt.plot(orders_group_A['date'], orders_group_A['revenue'] / orders_group_A['transactionId'], label='A')\n",
    "\n",
    "# Строим график среднего чека группы B\n",
    "plt.plot(orders_group_B['date'], orders_group_B['revenue'] / orders_group_A['transactionId'], label='B')\n",
    "\n",
    "plt.legend()\n",
    "plt.grid()\n",
    "plt.xlabel('Дата')\n",
    "plt.ylabel('Средний чек')\n",
    "plt.title('Кумулятивный средний чек')\n",
    "\n",
    "plt.show()"
   ]
  },
  {
   "cell_type": "markdown",
   "metadata": {},
   "source": [
    "**Вывод:**\n",
    "\n",
    "Кумулятивный график среднего чека показывает нам, что группа \"A\" постепенно повысилась и стабилизировалась со временем, когда группа \"B\" со временем совершает сильные скачки. Это может говорить о резком появлении дорогих заказов."
   ]
  },
  {
   "cell_type": "markdown",
   "metadata": {},
   "source": [
    "<div class=\"alert alert-block alert-success\">\n",
    "\n",
    "**Комментарий ревьювера (все отлично)**\n",
    "    \n",
    "Согласен.\n",
    "</div>"
   ]
  },
  {
   "cell_type": "markdown",
   "metadata": {},
   "source": [
    "### Относительное изменение средних чеков"
   ]
  },
  {
   "cell_type": "code",
   "execution_count": 20,
   "metadata": {},
   "outputs": [
    {
     "data": {
      "image/png": "[encoded data removed]",
      "text/plain": [
       "<Figure size 1080x504 with 1 Axes>"
      ]
     },
     "metadata": {
      "needs_background": "light"
     },
     "output_type": "display_data"
    }
   ],
   "source": [
    "fig = plt.figure()\n",
    " \n",
    "fig.set_figheight(7)\n",
    "fig.set_figwidth(15)\n",
    "\n",
    "\n",
    "merged_A_B_revenue = orders_group_A.merge(orders_group_B, left_on='date', right_on='date', how='left', suffixes=['A', 'B'])\n",
    "\n",
    "\n",
    "plt.plot(merged_A_B_revenue['date'], (merged_A_B_revenue['revenueB']/merged_A_B_revenue['transactionIdB'])/(merged_A_B_revenue['revenueA']/merged_A_B_revenue['transactionIdA'])-1)\n",
    "\n",
    "\n",
    "plt.axhline(y=0, color='black', linestyle='--')\n",
    "\n",
    "plt.grid()\n",
    "plt.xlabel('Дата')\n",
    "plt.ylabel('Отношение средних чеков групп')\n",
    "plt.title('Относительное изменение средних чеков')\n",
    "\n",
    "plt.show()"
   ]
  },
  {
   "cell_type": "markdown",
   "metadata": {},
   "source": [
    "**Вывод:**\n",
    "\n",
    "Так же как и на прошлых графиках виден скачок после 17 августа, возможно в этот период был сделан крупный заказ."
   ]
  },
  {
   "cell_type": "markdown",
   "metadata": {},
   "source": [
    "<div class=\"alert alert-block alert-warning\">\n",
    "\n",
    "**Комментарий ревьювера (что можно улучшить)**\n",
    "    \n",
    "Второй пик 19 августа можно объяснить ранее обнаруженными аномалиями. Но чем можно объяснить первый пик с учётом того, что в эти даты аномалий по среднему чеку и по выручке не было?\n",
    "</div>"
   ]
  },
  {
   "cell_type": "markdown",
   "metadata": {},
   "source": [
    "<div class=\"alert alert-block alert-info\">\n",
    "<b>Возможно, так как это отношение, была большая разница между значениями, то есть сильных всплесков нет, но есть разница. </b>\n",
    "</div>"
   ]
  },
  {
   "cell_type": "markdown",
   "metadata": {},
   "source": [
    "<div class=\"alert alert-block alert-success\">\n",
    "\n",
    "**Комментарий ревьювера v2 (все отлично)**\n",
    "    \n",
    "Верно👍\n",
    "</div>"
   ]
  },
  {
   "cell_type": "markdown",
   "metadata": {},
   "source": [
    "###  Кумулятивноe среднего количества заказов на посетителя по группам."
   ]
  },
  {
   "cell_type": "code",
   "execution_count": 21,
   "metadata": {},
   "outputs": [],
   "source": [
    "# Кумулятивноe среднего количества заказов на посетителя по группам = кол-во реальных покупателей / кол-во пользователей.\n",
    "\n",
    "orders_group_A['visitors_A'] = visitors[visitors['group'] == 'A']['visitors'].reset_index(drop=True).cumsum(axis=0)\n",
    "\n",
    "orders_group_B['visitors_B'] = visitors[visitors['group'] == 'B']['visitors'].reset_index(drop=True).cumsum(axis=0)\n",
    "\n",
    "orders_group_A['conversion_A'] = orders_group_A.transactionId / orders_group_A.visitors_A\n",
    "\n",
    "orders_group_B['conversion_B'] = orders_group_B.transactionId / orders_group_B.visitors_B"
   ]
  },
  {
   "cell_type": "code",
   "execution_count": 22,
   "metadata": {},
   "outputs": [
    {
     "data": {
      "image/png": "[encoded data removed]",
      "text/plain": [
       "<Figure size 1080x504 with 1 Axes>"
      ]
     },
     "metadata": {
      "needs_background": "light"
     },
     "output_type": "display_data"
    }
   ],
   "source": [
    "fig = plt.figure()\n",
    " \n",
    "fig.set_figheight(7)\n",
    "fig.set_figwidth(15)\n",
    "\n",
    "plt.plot(orders_group_A['date'], orders_group_A['conversion_A'], label='группа A')\n",
    "\n",
    "plt.plot(orders_group_B['date'], orders_group_B['conversion_B'], label='группа B')\n",
    "\n",
    "plt.title('Кумулятивноe среднего количества заказов на посетителя по группам.')\n",
    "\n",
    "plt.grid()\n",
    "plt.xlabel('Дата')\n",
    "plt.ylabel('Кол-во заказов')\n",
    "\n",
    "plt.legend();"
   ]
  },
  {
   "cell_type": "markdown",
   "metadata": {},
   "source": [
    "**Вывод:**\n",
    "\n",
    "Группы \"A\" и \"B\" стартовали с сильным скачком, но далее \"B\" положительно стабилизируется в отличии от \"A\", где группа стабилизировалась но на более низком уровне."
   ]
  },
  {
   "cell_type": "markdown",
   "metadata": {},
   "source": [
    "<div class=\"alert alert-block alert-success\">\n",
    "\n",
    "**Комментарий ревьювера (все отлично)**\n",
    "    \n",
    "Согласен, к середине теста графики стабилизировались около определенных значений.\n",
    "</div>"
   ]
  },
  {
   "cell_type": "markdown",
   "metadata": {},
   "source": [
    "### Относительные изменения кумулятивного среднего количества заказов на посетителя группы B к группе A"
   ]
  },
  {
   "cell_type": "code",
   "execution_count": 23,
   "metadata": {},
   "outputs": [
    {
     "data": {
      "image/png": "[encoded data removed]",
      "text/plain": [
       "<Figure size 1080x360 with 1 Axes>"
      ]
     },
     "metadata": {
      "needs_background": "light"
     },
     "output_type": "display_data"
    }
   ],
   "source": [
    "fig = plt.figure()\n",
    " \n",
    "fig.set_figheight(5)\n",
    "fig.set_figwidth(15)\n",
    "\n",
    "plt.plot(orders_group_B['date'], orders_group_B['conversion_B'] / orders_group_A['conversion_A'] - 1, label='группа B')\n",
    "\n",
    "plt.title('Относительные изменения кумулятивного среднего количества заказов.')\n",
    "\n",
    "plt.axhline(y=0, color='black', linestyle='--')\n",
    "\n",
    "plt.grid()\n",
    "plt.xlabel('Дата')\n",
    "plt.ylabel('Отношение кол-ва заказов групп')\n",
    "\n",
    "plt.show()"
   ]
  },
  {
   "cell_type": "markdown",
   "metadata": {},
   "source": [
    "**Вывод:**\n",
    "\n",
    "Отношение между группами на протяжение времени стабилизировалось, хотя все время теста группа \"A\" проигрывает группе \"B\"."
   ]
  },
  {
   "cell_type": "markdown",
   "metadata": {},
   "source": [
    "<div class=\"alert alert-block alert-success\">\n",
    "\n",
    "**Комментарий ревьювера (все отлично)**\n",
    "     \n",
    "Группа В лучше группы А большую часть теста. Правильно, что сразу комментируешь графики.\n",
    "</div>"
   ]
  },
  {
   "cell_type": "markdown",
   "metadata": {},
   "source": [
    "## Анализ выбросов и всплесков"
   ]
  },
  {
   "cell_type": "markdown",
   "metadata": {},
   "source": [
    "### График количества заказов по пользователям"
   ]
  },
  {
   "cell_type": "code",
   "execution_count": 24,
   "metadata": {},
   "outputs": [
    {
     "data": {
      "image/png": "[encoded data removed]",
      "text/plain": [
       "<Figure size 1080x360 with 1 Axes>"
      ]
     },
     "metadata": {
      "needs_background": "light"
     },
     "output_type": "display_data"
    }
   ],
   "source": [
    "fig = plt.figure()\n",
    " \n",
    "fig.set_figheight(5)\n",
    "fig.set_figwidth(15)\n",
    "\n",
    "orders_users = (\n",
    "    orders.groupby('visitorId', as_index=False)\n",
    "    .agg({'transactionId': 'nunique'})\n",
    ")\n",
    "\n",
    "plt.grid()\n",
    "\n",
    "plt.title('Количество заказов по пользователям')\n",
    "\n",
    "plt.xlabel('Кол-во пользователей')\n",
    "\n",
    "plt.ylabel('Кол-во заказов')\n",
    "\n",
    "x_values = pd.Series(range(0, len(orders_users)))\n",
    "\n",
    "plt.scatter(x_values, orders_users['transactionId']); "
   ]
  },
  {
   "cell_type": "markdown",
   "metadata": {},
   "source": [
    "**Вывод:**\n",
    "\n",
    "Большинство пользователей сделали 1 заказ, меньше 2,3 заказа. Считаю правильным объявить границей аномальных заказов (2)."
   ]
  },
  {
   "cell_type": "markdown",
   "metadata": {},
   "source": [
    "### 95-й и 99-й перцентили количества заказов на пользователя"
   ]
  },
  {
   "cell_type": "code",
   "execution_count": 25,
   "metadata": {},
   "outputs": [
    {
     "name": "stdout",
     "output_type": "stream",
     "text": [
      "95 и 99 перцентили стоимости заказов: [1. 2.]\n"
     ]
    }
   ],
   "source": [
    "print('95 и 99 перцентили стоимости заказов:', np.percentile(orders_users['transactionId'],[95,99]))"
   ]
  },
  {
   "cell_type": "markdown",
   "metadata": {},
   "source": [
    "Не более 5% пользователей сделали больше 1 заказов и не более 1% более 2 заказов."
   ]
  },
  {
   "cell_type": "markdown",
   "metadata": {},
   "source": [
    "<div class=\"alert alert-block alert-success\">\n",
    "\n",
    "**Комментарий ревьювера (все отлично)**\n",
    "     \n",
    "Отлично, перцентили количества заказов на пользователя рассчитаны верно. \n",
    "</div>"
   ]
  },
  {
   "cell_type": "markdown",
   "metadata": {},
   "source": [
    "### Точечный график стоимостей заказов"
   ]
  },
  {
   "cell_type": "code",
   "execution_count": 26,
   "metadata": {},
   "outputs": [
    {
     "data": {
      "image/png": "[encoded data removed]",
      "text/plain": [
       "<Figure size 1080x360 with 1 Axes>"
      ]
     },
     "metadata": {
      "needs_background": "light"
     },
     "output_type": "display_data"
    }
   ],
   "source": [
    "fig = plt.figure()\n",
    " \n",
    "fig.set_figheight(5)\n",
    "fig.set_figwidth(15)\n",
    "\n",
    "revenue_users = pd.Series(range(0, len(orders['revenue'])))\n",
    "\n",
    "plt.title('График стоимостей заказов')\n",
    "plt.grid()\n",
    "plt.xlabel('Кол-во пользователей')\n",
    "plt.ylabel('Стоимость заказа')\n",
    "plt.scatter(revenue_users, orders['revenue'])\n",
    "plt.show()"
   ]
  },
  {
   "cell_type": "markdown",
   "metadata": {},
   "source": [
    "<div class=\"alert alert-block alert-warning\">\n",
    "\n",
    "**Комментарий ревьювера (что можно улучшить)**\n",
    "    \n",
    "Можно увеличить масштаб графика, не учитывая аномально большие значения при помощи:\n",
    "    \n",
    "    plt.ylim([0, верхняя граница по оси Y])\n",
    "</div>\n"
   ]
  },
  {
   "cell_type": "markdown",
   "metadata": {},
   "source": [
    "<div class=\"alert alert-block alert-info\">\n",
    "<b>Поствив любой порог оси Y, пропадает график, не могу понять в чем проблема.</b>\n",
    "</div>"
   ]
  },
  {
   "cell_type": "markdown",
   "metadata": {},
   "source": [
    "<div class=\"alert alert-block alert-warning\">\n",
    "\n",
    "**Комментарий ревьювера v2 (что можно улучшить)**\n",
    "    \n",
    "Попробуй так:\n",
    "    \n",
    "    plt.ylim([0, 80000])\n",
    "</div>\n"
   ]
  },
  {
   "cell_type": "code",
   "execution_count": 27,
   "metadata": {},
   "outputs": [
    {
     "data": {
      "image/png": "[encoded data removed]",
      "text/plain": [
       "<Figure size 1080x360 with 1 Axes>"
      ]
     },
     "metadata": {
      "needs_background": "light"
     },
     "output_type": "display_data"
    }
   ],
   "source": [
    "fig = plt.figure()\n",
    " \n",
    "fig.set_figheight(5)\n",
    "fig.set_figwidth(15)\n",
    "\n",
    "revenue_users = pd.Series(range(0, len(orders['revenue'])))\n",
    "\n",
    "plt.title('График стоимостей заказов')\n",
    "plt.grid()\n",
    "plt.xlabel('Кол-во пользователей')\n",
    "plt.ylabel('Стоимость заказа')\n",
    "plt.ylim([0, 80000])\n",
    "plt.scatter(revenue_users, orders['revenue'])\n",
    "plt.show()"
   ]
  },
  {
   "cell_type": "markdown",
   "metadata": {},
   "source": [
    "### 95-й и 99-й перцентили стоимости заказов"
   ]
  },
  {
   "cell_type": "code",
   "execution_count": 28,
   "metadata": {},
   "outputs": [
    {
     "name": "stdout",
     "output_type": "stream",
     "text": [
      "95 и 99 перцентили стоимости заказов: [26785. 53904.]\n"
     ]
    }
   ],
   "source": [
    "print('95 и 99 перцентили стоимости заказов:', np.percentile(orders['revenue'],[95,99]))"
   ]
  },
  {
   "cell_type": "code",
   "execution_count": 29,
   "metadata": {},
   "outputs": [
    {
     "data": {
      "text/plain": [
       "425     1294500\n",
       "1196    202740 \n",
       "1136    92550  \n",
       "744     86620  \n",
       "743     67990  \n",
       "Name: revenue, dtype: int64"
      ]
     },
     "metadata": {},
     "output_type": "display_data"
    }
   ],
   "source": [
    "display(orders['revenue'].sort_values(ascending=False).head())\n"
   ]
  },
  {
   "cell_type": "markdown",
   "metadata": {},
   "source": [
    "**Вывод:**\n",
    "\n",
    "Не более 5% заказов стоимостью более 26785 и не более 1% заказов более 53904. Также имеются аномальные заказы на 1.3 миллиона и 202740. Аномальными заказами можно считать заказы более 26785."
   ]
  },
  {
   "cell_type": "markdown",
   "metadata": {},
   "source": [
    "<div class=\"alert alert-block alert-success\">\n",
    "\n",
    "**Комментарий ревьювера (все отлично)**\n",
    "     \n",
    "Отлично, перцентили величины заказов рассчитаны верно. По границе тоже согласен.\n",
    "</div>"
   ]
  },
  {
   "cell_type": "markdown",
   "metadata": {},
   "source": [
    "## Cтатистическая значимость различий (Сырые данные)"
   ]
  },
  {
   "cell_type": "markdown",
   "metadata": {},
   "source": [
    "### Cтатистическая значимость различий в среднем количестве заказов на посетителя"
   ]
  },
  {
   "cell_type": "markdown",
   "metadata": {},
   "source": [
    "H0 - статистически значимых различий в конверсии между группами нет\n",
    "\n",
    "H1 - статистически значимые различия есть\n",
    "\n",
    "Уровень статистической значимости = 0.05"
   ]
  },
  {
   "cell_type": "markdown",
   "metadata": {},
   "source": [
    "<div class=\"alert alert-block alert-success\">\n",
    "\n",
    "**Комментарий ревьювера (все отлично)**\n",
    "    \n",
    "Гипотезы верно сформулированы!\n",
    "    \n",
    "</div>"
   ]
  },
  {
   "cell_type": "markdown",
   "metadata": {},
   "source": [
    "<div class=\"alert alert-block alert-danger\">\n",
    "    \n",
    "**Комментарий ревьювера (недочет, который нужно доработать)**\n",
    "    \n",
    "Каким статистическим тестом проверяются гипотезы и укажи выбранный уровень статистической значимости.\n",
    "</div>"
   ]
  },
  {
   "cell_type": "markdown",
   "metadata": {},
   "source": [
    "<div class=\"alert alert-block alert-info\">\n",
    "<b>Уточнил</b>\n",
    "</div>"
   ]
  },
  {
   "cell_type": "markdown",
   "metadata": {},
   "source": [
    "Так как в данных существуют выбросы, будем использовать Непараметрический тест Уилкоксона-Манна-Уитни."
   ]
  },
  {
   "cell_type": "markdown",
   "metadata": {},
   "source": [
    "<div class=\"alert alert-block alert-success\">\n",
    "\n",
    "**Комментарий ревьювера v2 (все отлично)**\n",
    "    \n",
    "Основные параметры проверки гипотез отражены👍\n",
    "</div>"
   ]
  },
  {
   "cell_type": "code",
   "execution_count": 30,
   "metadata": {},
   "outputs": [
    {
     "name": "stdout",
     "output_type": "stream",
     "text": [
      "p-value:  0.011\n",
      "Относительный прирост : 0.160\n"
     ]
    }
   ],
   "source": [
    "ordersByUsersA = (\n",
    "    orders[orders['group'] == 'A']\n",
    "    .groupby('visitorId', as_index=False)\n",
    "    .agg({'transactionId': pd.Series.nunique})\n",
    ")\n",
    "\n",
    "\n",
    "ordersByUsersB = (\n",
    "    orders[orders['group'] == 'B']\n",
    "    .groupby('visitorId', as_index=False)\n",
    "    .agg({'transactionId': pd.Series.nunique})\n",
    ")\n",
    "\n",
    "\n",
    "sampleA = pd.concat(\n",
    "    [\n",
    "        ordersByUsersA['transactionId'],\n",
    "        pd.Series(\n",
    "            0,\n",
    "            index=np.arange(\n",
    "                visitors[visitors['group'] == 'A']['visitors'].sum() - len(ordersByUsersA['transactionId'])\n",
    "            ),\n",
    "            name='orders',\n",
    "        ),\n",
    "    ],\n",
    "    axis=0,\n",
    ")\n",
    "\n",
    "sampleB = pd.concat(\n",
    "    [\n",
    "        ordersByUsersB['transactionId'],\n",
    "        pd.Series(\n",
    "            0,\n",
    "            index=np.arange(\n",
    "                visitors[visitors['group'] == 'B']['visitors'].sum() - len(ordersByUsersB['transactionId'])\n",
    "            ),\n",
    "            name='orders',\n",
    "        ),\n",
    "    ],\n",
    "    axis=0,\n",
    ")\n",
    "\n",
    "print('p-value: ', \"{0:.3f}\".format(st.mannwhitneyu(sampleA, sampleB)[1]))\n",
    "\n",
    "print('Относительный прирост :', \"{0:.3f}\".format(sampleB.mean() / sampleA.mean() - 1))\n",
    " "
   ]
  },
  {
   "cell_type": "markdown",
   "metadata": {},
   "source": [
    "<div class=\"alert alert-block alert-warning\">\n",
    "\n",
    "**Комментарий ревьювера (что можно улучшить)**\n",
    "    \n",
    "Стоит обозначать, что именно рассчитано – где p-value, а где относительный прирост.\n",
    "</div>"
   ]
  },
  {
   "cell_type": "markdown",
   "metadata": {},
   "source": [
    "**Вывод:**\n",
    "\n",
    "Различия между группами A и B есть: p-value меньше 0.05,следовательно нулевую гипотезу следует отвергнуть.\n",
    "Относительный прирост группы B равен 16%."
   ]
  },
  {
   "cell_type": "markdown",
   "metadata": {},
   "source": [
    "<div class=\"alert alert-block alert-success\">\n",
    "\n",
    "**Комментарий ревьювера (все отлично)**\n",
    "    \n",
    "Согласен. Группа B лучше по результатам.\n",
    "</div>"
   ]
  },
  {
   "cell_type": "markdown",
   "metadata": {},
   "source": [
    "### Статистическая значимость различий в среднем чеке заказа"
   ]
  },
  {
   "cell_type": "markdown",
   "metadata": {},
   "source": [
    "H0 - статистически значимых различий в среднем чеке между группами нет.\n",
    "\n",
    "H1 - статистически значимые различия есть.\n",
    "\n",
    "Уровень статистической значимости = 0.05"
   ]
  },
  {
   "cell_type": "code",
   "execution_count": 31,
   "metadata": {},
   "outputs": [
    {
     "name": "stdout",
     "output_type": "stream",
     "text": [
      "p-value:  0.829\n",
      "Относительный прирост : 0.287\n"
     ]
    }
   ],
   "source": [
    "print('p-value: ','{0:.3f}'.format(st.mannwhitneyu(orders[orders['group']=='A']['revenue'], orders[orders['group']=='B']['revenue'])[1]))\n",
    "print('Относительный прирост :','{0:.3f}'.format(orders[orders['group']=='B']['revenue'].mean()/orders[orders['group']=='A']['revenue'].mean()-1))"
   ]
  },
  {
   "cell_type": "markdown",
   "metadata": {},
   "source": [
    "<div class=\"alert alert-block alert-danger\">\n",
    "    \n",
    "**Комментарий ревьювера (недочет, который нужно доработать)**\n",
    "    \n",
    "Ошибка в коде. Исправь её, чтобы я продолжил ревью. Перед отправкой проекта стоит проверять работоспособность кода — это можно сделать, нажав на панели Jupiter Hub ``Kernel`` и ``Restart & Run All`` \n",
    "</div>"
   ]
  },
  {
   "cell_type": "markdown",
   "metadata": {},
   "source": [
    "<div class=\"alert alert-block alert-success\">\n",
    "\n",
    "**Комментарий ревьювера v2 (все отлично)**\n",
    "    \n",
    "Продолжаем ревью👍\n",
    "</div>"
   ]
  },
  {
   "cell_type": "markdown",
   "metadata": {},
   "source": [
    "**Вывод:**\n",
    "\n",
    "Различий между средними чеками нет: p-value больше 0.05, значит, нулевую гипотезу не отвергаем. \n",
    "Средний чек группы \"B\" выше среднего чека группы \"A\" на 28.7."
   ]
  },
  {
   "cell_type": "markdown",
   "metadata": {},
   "source": [
    "<div class=\"alert alert-block alert-success\">\n",
    "\n",
    "**Комментарий ревьювера v2 (все отлично)**\n",
    "    \n",
    "Ты верно сделал вывод, что статистически значимых различий в среднем чеке нет.\n",
    "</div>"
   ]
  },
  {
   "cell_type": "markdown",
   "metadata": {},
   "source": [
    "## Cтатистическая значимость различий (Очищенные данные)"
   ]
  },
  {
   "cell_type": "markdown",
   "metadata": {},
   "source": [
    "### Cтатистическая значимость различий в среднем количестве заказов на посетителя"
   ]
  },
  {
   "cell_type": "code",
   "execution_count": 32,
   "metadata": {},
   "outputs": [
    {
     "name": "stdout",
     "output_type": "stream",
     "text": [
      "568     113298937\n",
      "1099    148427295\n",
      "928     204675465\n",
      "33      249864742\n",
      "684     358944393\n",
      "Name: visitorId, dtype: int64\n",
      "58\n"
     ]
    }
   ],
   "source": [
    "usersWithManyOrders = pd.concat(\n",
    "    [\n",
    "        ordersByUsersA[ordersByUsersA['transactionId'] > 2]['visitorId'],\n",
    "        ordersByUsersB[ordersByUsersB['transactionId'] > 2]['visitorId'],\n",
    "    ],\n",
    "    axis=0,\n",
    ")\n",
    "usersWithExpensiveOrders = orders[orders['revenue'] > 26785]['visitorId']\n",
    "abnormalUsers = (\n",
    "    pd.concat([usersWithManyOrders, usersWithExpensiveOrders], axis=0)\n",
    "    .drop_duplicates()\n",
    "    .sort_values()\n",
    ")\n",
    "print(abnormalUsers.head(5))\n",
    "print(abnormalUsers.shape[0]) "
   ]
  },
  {
   "cell_type": "markdown",
   "metadata": {},
   "source": [
    "Всего пользователей за аномальными границами - 58"
   ]
  },
  {
   "cell_type": "markdown",
   "metadata": {},
   "source": [
    "<div class=\"alert alert-block alert-success\">\n",
    "\n",
    "**Комментарий ревьювера v2 (все отлично)**\n",
    "    \n",
    "Здорово, что посчитал аномальных пользователей. Это важно для оценки и контроля данных после фильтрации.\n",
    "    \n",
    "</div>"
   ]
  },
  {
   "cell_type": "markdown",
   "metadata": {},
   "source": [
    "<div class=\"alert alert-block alert-warning\">\n",
    "\n",
    "**Комментарий ревьювера v2 (что можно улучшить)**\n",
    "    \n",
    "Стоит исключить ручной ввод данных, такой код неустойчив к изменениям исходных данных. Вместо этого лучше использовать перцентили:\n",
    "    \n",
    "    int(np.percentile(orders['revenue'], [95])) \n",
    "</div>"
   ]
  },
  {
   "cell_type": "code",
   "execution_count": 33,
   "metadata": {},
   "outputs": [
    {
     "name": "stdout",
     "output_type": "stream",
     "text": [
      "p-value:  0.010\n",
      "Относительный прирост : 0.188\n"
     ]
    }
   ],
   "source": [
    "sampleAFiltered = pd.concat(\n",
    "    [\n",
    "        ordersByUsersA[\n",
    "            np.logical_not(ordersByUsersA['visitorId'].isin(abnormalUsers))\n",
    "        ]['transactionId'],\n",
    "        pd.Series(\n",
    "            0,\n",
    "            index=np.arange(\n",
    "                visitors[visitors['group'] == 'A']['visitors'].sum() - len(ordersByUsersA['transactionId'])\n",
    "            ),\n",
    "            name='orders',\n",
    "        ),\n",
    "    ],\n",
    "    axis=0,\n",
    ")\n",
    "\n",
    "sampleBFiltered = pd.concat(\n",
    "    [\n",
    "        ordersByUsersB[\n",
    "            np.logical_not(ordersByUsersB['visitorId'].isin(abnormalUsers))\n",
    "        ]['transactionId'],\n",
    "        pd.Series(\n",
    "            0,\n",
    "            index=np.arange(\n",
    "                visitors[visitors['group'] == 'A']['visitors'].sum() - len(ordersByUsersA['transactionId'])\n",
    "            ),\n",
    "            name='orders',\n",
    "        ),\n",
    "    ],\n",
    "    axis=0,\n",
    ")\n",
    "\n",
    "print('p-value: ',\"{0:.3f}\".format(st.mannwhitneyu(sampleAFiltered, sampleBFiltered)[1]))\n",
    "\n",
    "print('Относительный прирост :',\"{0:.3f}\".format(sampleBFiltered.mean() / sampleAFiltered.mean() - 1))"
   ]
  },
  {
   "cell_type": "markdown",
   "metadata": {},
   "source": [
    "**Вывод:**\n",
    "\n",
    "Различия по очищенным данным между группами A и B так же есть: p-value меньше 0.05, следовательно нулевую гипотезу следует отвергнуть.\n",
    "Относительный прирост группы B равен 18.8%."
   ]
  },
  {
   "cell_type": "markdown",
   "metadata": {},
   "source": [
    "<div class=\"alert alert-block alert-success\">\n",
    "\n",
    "**Комментарий ревьювера v2 (все отлично)**\n",
    "    \n",
    "Всё верно, значимые различия по-прежнему есть.\n",
    "    \n",
    "</div>"
   ]
  },
  {
   "cell_type": "markdown",
   "metadata": {},
   "source": [
    "### Статистическая значимость различий в среднем чеке заказа"
   ]
  },
  {
   "cell_type": "code",
   "execution_count": 34,
   "metadata": {},
   "outputs": [
    {
     "name": "stdout",
     "output_type": "stream",
     "text": [
      "p-value:  0.646\n",
      "Относительный прирост : -0.048\n"
     ]
    }
   ],
   "source": [
    "print('p-value: ',\n",
    "    '{0:.3f}'.format(\n",
    "        st.mannwhitneyu(\n",
    "            orders[\n",
    "                np.logical_and(\n",
    "                    orders['group'] == 'A',\n",
    "                    np.logical_not(orders['visitorId'].isin(abnormalUsers)),\n",
    "                )\n",
    "            ]['revenue'],\n",
    "            orders[\n",
    "                np.logical_and(\n",
    "                    orders['group'] == 'B',\n",
    "                    np.logical_not(orders['visitorId'].isin(abnormalUsers)),\n",
    "                )\n",
    "            ]['revenue'],\n",
    "        )[1]\n",
    "    )\n",
    ")\n",
    "\n",
    "print('Относительный прирост :',\n",
    "    \"{0:.3f}\".format(\n",
    "        orders[\n",
    "            np.logical_and(\n",
    "                orders['group'] == 'B',\n",
    "                np.logical_not(orders['visitorId'].isin(abnormalUsers)),\n",
    "            )\n",
    "        ]['revenue'].mean()\n",
    "        / orders[\n",
    "            np.logical_and(\n",
    "                orders['group'] == 'A',\n",
    "                np.logical_not(orders['visitorId'].isin(abnormalUsers)),\n",
    "            )\n",
    "        ]['revenue'].mean()\n",
    "        - 1\n",
    "    )\n",
    ") "
   ]
  },
  {
   "cell_type": "markdown",
   "metadata": {},
   "source": [
    "**Вывод:**\n",
    "\n",
    "p-value больше 0.05. Причин отвергать нулевую гипотезу по прежнему нет.\n",
    "\n",
    "Средний чек группы B стал ниже  группы A, на 4.8%."
   ]
  },
  {
   "cell_type": "markdown",
   "metadata": {},
   "source": [
    "<div class=\"alert alert-block alert-success\">\n",
    "\n",
    "**Комментарий ревьювера v2 (все отлично)**\n",
    "    \n",
    "Согласен с выводом. После очистки значимых отличий по среднему чеку не появилось.\n",
    "</div>"
   ]
  },
  {
   "cell_type": "markdown",
   "metadata": {},
   "source": [
    "## Результат"
   ]
  },
  {
   "cell_type": "markdown",
   "metadata": {},
   "source": [
    "В ходе работы сперва было произведено исследование данных:\n",
    "\n",
    "* Данные были обработаны, пропусков и дубликатов в фреймах найдено не было.\n",
    "\n",
    "* Названия столбцов были приведены к общему стилю.\n",
    "\n",
    "* Были обнаружены пользователи, которые состояли в группах A и B в кол-ве 58 человек, данные этих пользователей были удалены.\n",
    "\n",
    "\n",
    "После исследования данных, была произведена приоритезация имеющихся гипотез с помощью фреймворков ICE и RICE:\n",
    "\n",
    "* Применив их мы получили результаты, где лидирующие позиции заняли гипотезы 0 и 7:\n",
    "\n",
    "   * \"0\" - Добавить два новых канала привлечения трафика, что позволит привлекать на 30% больше пользователей\n",
    "\n",
    "   * \"7\" - Добавить форму подписки на все основные страницы, чтобы собрать базу клиентов для email-рассылок.\n",
    "\n",
    "\n",
    "\n",
    "Проанализировав A/B тест были выведены следующие результаты:\n",
    "\n",
    "* Как по сырым, так и по фильтрованным данным были выявлены различия в среднем количестве заказов на посетителя.\n",
    "\n",
    "* Как по сырым, так и по фильтрованным данным нет статистически значимого различия по среднему чеку между группами.\n",
    "\n",
    "* Результаты графиков:\n",
    "\n",
    "    * График среднего количества заказов на посетителя показал, что результаты группы \"B\" лучше, чем у группы \"A\".\n",
    "    \n",
    "    * График среднего чека так же показали преимущество группы \"B\".\n",
    "    \n",
    "* Тест можно остановить и зафиксировать победу группы \"B\"."
   ]
  },
  {
   "cell_type": "markdown",
   "metadata": {},
   "source": [
    "<div class=\"alert alert-block alert-success\">\n",
    "\n",
    "**Комментарий ревьювера v2 (все отлично)**\n",
    "   \n",
    "Согласен с решением. Тест прошел успешно! Среднее количество заказов увеличилось при отсутствии значимых изменений по среднему чеку -> выручка увеличилась, так как стали покупать чаще.\n",
    "</div>"
   ]
  },
  {
   "cell_type": "markdown",
   "metadata": {},
   "source": [
    "<div class=\"alert alert-block alert-danger\">\n",
    "    \n",
    "**Комментарий ревьювера v2 (недочет, который нужно доработать)**\n",
    "    \n",
    "Требуется сформулировать общий вывод с отображением всех итогов проекта, в том числе по приоритезации гипотез. \n",
    "\n",
    "</div>\n",
    "\n"
   ]
  },
  {
   "cell_type": "markdown",
   "metadata": {},
   "source": [
    "<div class=\"alert alert-block alert-info\">\n",
    "<b>Дополнил вывод итогами каждой части проекта.</b>\n",
    "</div>"
   ]
  },
  {
   "cell_type": "markdown",
   "metadata": {},
   "source": [
    "<div class=\"alert alert-block alert-success\">\n",
    "\n",
    "**Комментарий ревьювера v3 (все отлично)**\n",
    "    \n",
    "Основные результаты отражены. Хороший итоговый вывод👍\n",
    "</div>"
   ]
  },
  {
   "cell_type": "code",
   "execution_count": null,
   "metadata": {},
   "outputs": [],
   "source": []
  }
 ],
 "metadata": {
  "ExecuteTimeLog": [
   {
    "duration": 1410,
    "start_time": "2024-09-24T16:01:00.285Z"
   },
   {
    "duration": 101,
    "start_time": "2024-09-24T16:02:53.805Z"
   },
   {
    "duration": 240,
    "start_time": "2024-09-24T16:03:44.562Z"
   },
   {
    "duration": 11,
    "start_time": "2024-09-24T16:04:33.369Z"
   },
   {
    "duration": 79,
    "start_time": "2024-09-24T16:04:57.544Z"
   },
   {
    "duration": 9,
    "start_time": "2024-09-24T16:04:59.125Z"
   },
   {
    "duration": 9,
    "start_time": "2024-09-24T16:05:27.483Z"
   },
   {
    "duration": 13,
    "start_time": "2024-09-24T16:05:30.275Z"
   },
   {
    "duration": 13,
    "start_time": "2024-09-24T16:05:46.506Z"
   },
   {
    "duration": 26,
    "start_time": "2024-09-24T16:06:02.994Z"
   },
   {
    "duration": 5,
    "start_time": "2024-09-24T16:06:59.441Z"
   },
   {
    "duration": 5,
    "start_time": "2024-09-24T16:07:03.676Z"
   },
   {
    "duration": 7,
    "start_time": "2024-09-24T16:07:13.661Z"
   },
   {
    "duration": 5,
    "start_time": "2024-09-24T16:07:15.337Z"
   },
   {
    "duration": 20,
    "start_time": "2024-09-24T16:07:55.785Z"
   },
   {
    "duration": 9,
    "start_time": "2024-09-24T16:12:27.077Z"
   },
   {
    "duration": 10,
    "start_time": "2024-09-24T16:12:34.293Z"
   },
   {
    "duration": 9,
    "start_time": "2024-09-24T16:12:44.148Z"
   },
   {
    "duration": 6,
    "start_time": "2024-09-24T16:15:22.588Z"
   },
   {
    "duration": 13,
    "start_time": "2024-09-24T16:15:41.506Z"
   },
   {
    "duration": 14,
    "start_time": "2024-09-24T16:15:47.798Z"
   },
   {
    "duration": 12,
    "start_time": "2024-09-24T16:16:02.595Z"
   },
   {
    "duration": 6,
    "start_time": "2024-09-24T16:16:08.367Z"
   },
   {
    "duration": 7,
    "start_time": "2024-09-24T16:18:19.457Z"
   },
   {
    "duration": 35,
    "start_time": "2024-09-24T20:20:26.684Z"
   },
   {
    "duration": 10,
    "start_time": "2024-09-24T20:22:31.802Z"
   },
   {
    "duration": 9,
    "start_time": "2024-09-24T20:23:26.107Z"
   },
   {
    "duration": 11,
    "start_time": "2024-09-24T20:23:43.017Z"
   },
   {
    "duration": 12,
    "start_time": "2024-09-24T20:23:46.189Z"
   },
   {
    "duration": 11,
    "start_time": "2024-09-24T20:24:14.912Z"
   },
   {
    "duration": 10,
    "start_time": "2024-09-24T20:24:17.043Z"
   },
   {
    "duration": 9,
    "start_time": "2024-09-24T20:47:21.182Z"
   },
   {
    "duration": 8,
    "start_time": "2024-09-24T20:47:32.358Z"
   },
   {
    "duration": 17,
    "start_time": "2024-09-24T20:49:43.334Z"
   },
   {
    "duration": 12,
    "start_time": "2024-09-24T20:49:56.249Z"
   },
   {
    "duration": 9,
    "start_time": "2024-09-24T20:50:10.164Z"
   },
   {
    "duration": 8,
    "start_time": "2024-09-24T20:50:13.604Z"
   },
   {
    "duration": 13,
    "start_time": "2024-09-24T20:50:49.028Z"
   },
   {
    "duration": 9,
    "start_time": "2024-09-24T20:50:51.835Z"
   },
   {
    "duration": 13,
    "start_time": "2024-09-24T20:51:56.569Z"
   },
   {
    "duration": 9,
    "start_time": "2024-09-24T20:52:40.154Z"
   },
   {
    "duration": 9,
    "start_time": "2024-09-24T20:53:28.342Z"
   },
   {
    "duration": 10,
    "start_time": "2024-09-24T20:54:25.875Z"
   },
   {
    "duration": 250,
    "start_time": "2024-09-24T20:54:35.243Z"
   },
   {
    "duration": 251,
    "start_time": "2024-09-24T20:54:56.409Z"
   },
   {
    "duration": 173,
    "start_time": "2024-09-24T20:55:04.931Z"
   },
   {
    "duration": 242,
    "start_time": "2024-09-24T20:55:31.795Z"
   },
   {
    "duration": 154,
    "start_time": "2024-09-24T20:55:39.194Z"
   },
   {
    "duration": 255,
    "start_time": "2024-09-24T20:56:35.228Z"
   },
   {
    "duration": 219,
    "start_time": "2024-09-24T20:56:48.341Z"
   },
   {
    "duration": 168,
    "start_time": "2024-09-24T20:57:44.287Z"
   },
   {
    "duration": 175,
    "start_time": "2024-09-24T20:57:59.572Z"
   },
   {
    "duration": 212,
    "start_time": "2024-09-24T20:59:25.386Z"
   },
   {
    "duration": 215,
    "start_time": "2024-09-24T21:03:54.353Z"
   },
   {
    "duration": 205,
    "start_time": "2024-09-24T21:04:07.946Z"
   },
   {
    "duration": 201,
    "start_time": "2024-09-24T21:04:17.932Z"
   },
   {
    "duration": 1157,
    "start_time": "2024-09-24T21:10:59.655Z"
   },
   {
    "duration": 11,
    "start_time": "2024-09-24T21:11:23.566Z"
   },
   {
    "duration": 310,
    "start_time": "2024-09-24T21:11:56.367Z"
   },
   {
    "duration": 327,
    "start_time": "2024-09-24T21:12:12.011Z"
   },
   {
    "duration": 312,
    "start_time": "2024-09-24T21:12:21.969Z"
   },
   {
    "duration": 352,
    "start_time": "2024-09-24T21:12:26.728Z"
   },
   {
    "duration": 306,
    "start_time": "2024-09-24T21:12:38.329Z"
   },
   {
    "duration": 332,
    "start_time": "2024-09-24T21:12:54.921Z"
   },
   {
    "duration": 12,
    "start_time": "2024-09-24T21:16:03.071Z"
   },
   {
    "duration": 3,
    "start_time": "2024-09-24T21:18:08.213Z"
   },
   {
    "duration": 79,
    "start_time": "2024-09-24T21:21:47.624Z"
   },
   {
    "duration": 7,
    "start_time": "2024-09-24T21:21:53.380Z"
   },
   {
    "duration": 9,
    "start_time": "2024-09-24T21:23:11.545Z"
   },
   {
    "duration": 10,
    "start_time": "2024-09-24T21:24:31.385Z"
   },
   {
    "duration": 197,
    "start_time": "2024-09-24T21:24:43.470Z"
   },
   {
    "duration": 131,
    "start_time": "2024-09-24T21:25:01.883Z"
   },
   {
    "duration": 225,
    "start_time": "2024-09-24T21:25:21.566Z"
   },
   {
    "duration": 7,
    "start_time": "2024-09-24T21:25:42.653Z"
   },
   {
    "duration": 194,
    "start_time": "2024-09-24T21:25:44.068Z"
   },
   {
    "duration": 213,
    "start_time": "2024-09-24T21:32:16.906Z"
   },
   {
    "duration": 7,
    "start_time": "2024-09-24T21:32:21.373Z"
   },
   {
    "duration": 221,
    "start_time": "2024-09-24T21:34:19.224Z"
   },
   {
    "duration": 217,
    "start_time": "2024-09-24T21:35:17.489Z"
   },
   {
    "duration": 1157,
    "start_time": "2024-09-24T21:36:44.178Z"
   },
   {
    "duration": 202,
    "start_time": "2024-09-24T21:37:01.165Z"
   },
   {
    "duration": 380,
    "start_time": "2024-09-24T21:37:16.599Z"
   },
   {
    "duration": 269,
    "start_time": "2024-09-24T21:37:25.848Z"
   },
   {
    "duration": 440,
    "start_time": "2024-09-24T21:37:30.454Z"
   },
   {
    "duration": 434,
    "start_time": "2024-09-24T21:37:35.113Z"
   },
   {
    "duration": 364,
    "start_time": "2024-09-24T21:37:39.388Z"
   },
   {
    "duration": 311,
    "start_time": "2024-09-24T21:38:18.334Z"
   },
   {
    "duration": 277,
    "start_time": "2024-09-24T21:38:36.881Z"
   },
   {
    "duration": 319,
    "start_time": "2024-09-24T21:38:58.534Z"
   },
   {
    "duration": 267,
    "start_time": "2024-09-24T21:39:24.481Z"
   },
   {
    "duration": 123,
    "start_time": "2024-09-24T21:45:32.172Z"
   },
   {
    "duration": 117,
    "start_time": "2024-09-24T21:45:39.508Z"
   },
   {
    "duration": 122,
    "start_time": "2024-09-24T21:45:46.079Z"
   },
   {
    "duration": 27,
    "start_time": "2024-09-24T21:52:28.950Z"
   },
   {
    "duration": 1121,
    "start_time": "2024-09-24T21:58:32.246Z"
   },
   {
    "duration": 4,
    "start_time": "2024-09-24T21:58:41.062Z"
   },
   {
    "duration": 4,
    "start_time": "2024-09-24T21:58:49.364Z"
   },
   {
    "duration": 126,
    "start_time": "2024-09-24T22:02:57.296Z"
   },
   {
    "duration": 148,
    "start_time": "2024-09-24T22:04:09.513Z"
   },
   {
    "duration": 151,
    "start_time": "2024-09-24T22:04:17.864Z"
   },
   {
    "duration": 4,
    "start_time": "2024-09-24T22:06:44.464Z"
   },
   {
    "duration": 6,
    "start_time": "2024-09-24T22:08:22.702Z"
   },
   {
    "duration": 6,
    "start_time": "2024-09-24T22:08:38.581Z"
   },
   {
    "duration": 250,
    "start_time": "2024-09-24T22:40:35.476Z"
   },
   {
    "duration": 126,
    "start_time": "2024-09-24T22:42:18.950Z"
   },
   {
    "duration": 3,
    "start_time": "2024-09-24T22:42:56.565Z"
   },
   {
    "duration": 3,
    "start_time": "2024-09-24T22:43:05.336Z"
   },
   {
    "duration": 158,
    "start_time": "2024-09-24T22:43:14.679Z"
   },
   {
    "duration": 10,
    "start_time": "2024-09-24T22:50:09.146Z"
   },
   {
    "duration": 1120,
    "start_time": "2024-09-24T22:54:51.635Z"
   },
   {
    "duration": 1124,
    "start_time": "2024-09-24T22:56:11.573Z"
   },
   {
    "duration": 1221,
    "start_time": "2024-09-24T22:57:16.243Z"
   },
   {
    "duration": 146,
    "start_time": "2024-09-24T22:58:16.424Z"
   },
   {
    "duration": 1112,
    "start_time": "2024-09-24T22:58:22.351Z"
   },
   {
    "duration": 7,
    "start_time": "2024-09-24T22:59:01.131Z"
   },
   {
    "duration": 10,
    "start_time": "2024-09-24T23:00:02.691Z"
   },
   {
    "duration": 1111,
    "start_time": "2024-09-24T23:01:03.624Z"
   },
   {
    "duration": 62,
    "start_time": "2024-09-24T23:02:23.804Z"
   },
   {
    "duration": 73,
    "start_time": "2024-09-24T23:03:18.927Z"
   },
   {
    "duration": 1100,
    "start_time": "2024-09-24T23:03:26.339Z"
   },
   {
    "duration": 154,
    "start_time": "2024-09-24T23:04:29.330Z"
   },
   {
    "duration": 10,
    "start_time": "2024-09-24T23:04:34.482Z"
   },
   {
    "duration": 1142,
    "start_time": "2024-09-24T23:04:56.409Z"
   },
   {
    "duration": 9,
    "start_time": "2024-09-24T23:05:14.206Z"
   },
   {
    "duration": 10,
    "start_time": "2024-09-24T23:05:58.788Z"
   },
   {
    "duration": 1122,
    "start_time": "2024-09-24T23:08:46.739Z"
   },
   {
    "duration": 9,
    "start_time": "2024-09-24T23:08:59.639Z"
   },
   {
    "duration": 29,
    "start_time": "2024-09-24T23:09:20.572Z"
   },
   {
    "duration": 29,
    "start_time": "2024-09-24T23:10:10.927Z"
   },
   {
    "duration": 14,
    "start_time": "2024-09-24T23:15:04.517Z"
   },
   {
    "duration": 1279,
    "start_time": "2024-09-25T06:17:22.311Z"
   },
   {
    "duration": 80,
    "start_time": "2024-09-25T06:17:23.592Z"
   },
   {
    "duration": 30,
    "start_time": "2024-09-25T06:17:23.674Z"
   },
   {
    "duration": 5,
    "start_time": "2024-09-25T06:17:23.706Z"
   },
   {
    "duration": 14,
    "start_time": "2024-09-25T06:17:23.713Z"
   },
   {
    "duration": 5,
    "start_time": "2024-09-25T06:17:23.729Z"
   },
   {
    "duration": 29,
    "start_time": "2024-09-25T06:17:23.735Z"
   },
   {
    "duration": 8,
    "start_time": "2024-09-25T06:17:23.766Z"
   },
   {
    "duration": 11,
    "start_time": "2024-09-25T06:17:23.776Z"
   },
   {
    "duration": 13,
    "start_time": "2024-09-25T06:17:23.788Z"
   },
   {
    "duration": 34,
    "start_time": "2024-09-25T06:17:23.803Z"
   },
   {
    "duration": 24,
    "start_time": "2024-09-25T06:17:23.845Z"
   },
   {
    "duration": 321,
    "start_time": "2024-09-25T06:17:23.871Z"
   },
   {
    "duration": 263,
    "start_time": "2024-09-25T06:17:24.197Z"
   },
   {
    "duration": 360,
    "start_time": "2024-09-25T06:17:24.462Z"
   },
   {
    "duration": 9,
    "start_time": "2024-09-25T06:17:24.824Z"
   },
   {
    "duration": 294,
    "start_time": "2024-09-25T06:17:24.835Z"
   },
   {
    "duration": 358,
    "start_time": "2024-09-25T06:17:25.131Z"
   },
   {
    "duration": 175,
    "start_time": "2024-09-25T06:17:25.490Z"
   },
   {
    "duration": 4,
    "start_time": "2024-09-25T06:17:25.667Z"
   },
   {
    "duration": 183,
    "start_time": "2024-09-25T06:17:25.672Z"
   },
   {
    "duration": 5,
    "start_time": "2024-09-25T06:17:25.856Z"
   },
   {
    "duration": 6,
    "start_time": "2024-09-25T06:17:25.863Z"
   },
   {
    "duration": 285,
    "start_time": "2024-09-25T06:17:25.871Z"
   },
   {
    "duration": 108,
    "start_time": "2024-09-25T06:17:26.158Z"
   },
   {
    "duration": 0,
    "start_time": "2024-09-25T06:17:26.267Z"
   },
   {
    "duration": 0,
    "start_time": "2024-09-25T06:17:26.268Z"
   },
   {
    "duration": 0,
    "start_time": "2024-09-25T06:17:26.269Z"
   },
   {
    "duration": 1273,
    "start_time": "2024-09-25T06:29:27.457Z"
   },
   {
    "duration": 79,
    "start_time": "2024-09-25T06:29:28.732Z"
   },
   {
    "duration": 31,
    "start_time": "2024-09-25T06:29:28.813Z"
   },
   {
    "duration": 5,
    "start_time": "2024-09-25T06:29:28.846Z"
   },
   {
    "duration": 14,
    "start_time": "2024-09-25T06:29:28.853Z"
   },
   {
    "duration": 6,
    "start_time": "2024-09-25T06:29:28.868Z"
   },
   {
    "duration": 19,
    "start_time": "2024-09-25T06:29:28.875Z"
   },
   {
    "duration": 7,
    "start_time": "2024-09-25T06:29:28.896Z"
   },
   {
    "duration": 8,
    "start_time": "2024-09-25T06:29:28.905Z"
   },
   {
    "duration": 40,
    "start_time": "2024-09-25T06:29:28.915Z"
   },
   {
    "duration": 11,
    "start_time": "2024-09-25T06:29:28.957Z"
   },
   {
    "duration": 16,
    "start_time": "2024-09-25T06:29:28.970Z"
   },
   {
    "duration": 325,
    "start_time": "2024-09-25T06:29:28.988Z"
   },
   {
    "duration": 238,
    "start_time": "2024-09-25T06:29:29.315Z"
   },
   {
    "duration": 322,
    "start_time": "2024-09-25T06:29:29.555Z"
   },
   {
    "duration": 9,
    "start_time": "2024-09-25T06:29:29.879Z"
   },
   {
    "duration": 274,
    "start_time": "2024-09-25T06:29:29.889Z"
   },
   {
    "duration": 338,
    "start_time": "2024-09-25T06:29:30.165Z"
   },
   {
    "duration": 173,
    "start_time": "2024-09-25T06:29:30.504Z"
   },
   {
    "duration": 5,
    "start_time": "2024-09-25T06:29:30.678Z"
   },
   {
    "duration": 192,
    "start_time": "2024-09-25T06:29:30.685Z"
   },
   {
    "duration": 5,
    "start_time": "2024-09-25T06:29:30.879Z"
   },
   {
    "duration": 16,
    "start_time": "2024-09-25T06:29:30.886Z"
   },
   {
    "duration": 285,
    "start_time": "2024-09-25T06:29:30.904Z"
   },
   {
    "duration": 118,
    "start_time": "2024-09-25T06:29:31.191Z"
   },
   {
    "duration": 0,
    "start_time": "2024-09-25T06:29:31.311Z"
   },
   {
    "duration": 0,
    "start_time": "2024-09-25T06:29:31.313Z"
   },
   {
    "duration": 0,
    "start_time": "2024-09-25T06:29:31.314Z"
   },
   {
    "duration": 64,
    "start_time": "2024-09-25T07:54:36.393Z"
   },
   {
    "duration": 1451,
    "start_time": "2024-09-25T07:55:13.203Z"
   },
   {
    "duration": 238,
    "start_time": "2024-09-25T07:55:14.656Z"
   },
   {
    "duration": 33,
    "start_time": "2024-09-25T07:55:14.895Z"
   },
   {
    "duration": 5,
    "start_time": "2024-09-25T07:55:14.929Z"
   },
   {
    "duration": 6,
    "start_time": "2024-09-25T07:55:14.936Z"
   },
   {
    "duration": 5,
    "start_time": "2024-09-25T07:55:14.943Z"
   },
   {
    "duration": 19,
    "start_time": "2024-09-25T07:55:14.950Z"
   },
   {
    "duration": 8,
    "start_time": "2024-09-25T07:55:14.971Z"
   },
   {
    "duration": 50,
    "start_time": "2024-09-25T07:55:14.980Z"
   },
   {
    "duration": 41,
    "start_time": "2024-09-25T07:55:15.032Z"
   },
   {
    "duration": 32,
    "start_time": "2024-09-25T07:55:15.075Z"
   },
   {
    "duration": 50,
    "start_time": "2024-09-25T07:55:15.108Z"
   },
   {
    "duration": 355,
    "start_time": "2024-09-25T07:55:15.159Z"
   },
   {
    "duration": 253,
    "start_time": "2024-09-25T07:55:15.516Z"
   },
   {
    "duration": 359,
    "start_time": "2024-09-25T07:55:15.771Z"
   },
   {
    "duration": 9,
    "start_time": "2024-09-25T07:55:16.131Z"
   },
   {
    "duration": 267,
    "start_time": "2024-09-25T07:55:16.142Z"
   },
   {
    "duration": 332,
    "start_time": "2024-09-25T07:55:16.411Z"
   },
   {
    "duration": 184,
    "start_time": "2024-09-25T07:55:16.745Z"
   },
   {
    "duration": 6,
    "start_time": "2024-09-25T07:55:16.931Z"
   },
   {
    "duration": 190,
    "start_time": "2024-09-25T07:55:16.939Z"
   },
   {
    "duration": 6,
    "start_time": "2024-09-25T07:55:17.130Z"
   },
   {
    "duration": 13,
    "start_time": "2024-09-25T07:55:17.138Z"
   },
   {
    "duration": 285,
    "start_time": "2024-09-25T07:55:17.153Z"
   },
   {
    "duration": 11,
    "start_time": "2024-09-25T07:55:17.440Z"
   },
   {
    "duration": 9,
    "start_time": "2024-09-25T07:55:17.452Z"
   },
   {
    "duration": 33,
    "start_time": "2024-09-25T07:55:17.463Z"
   },
   {
    "duration": 131,
    "start_time": "2024-09-25T07:55:17.498Z"
   },
   {
    "duration": 15,
    "start_time": "2024-09-25T07:55:54.032Z"
   },
   {
    "duration": 15,
    "start_time": "2024-09-25T09:41:59.339Z"
   },
   {
    "duration": 17,
    "start_time": "2024-09-25T09:45:32.423Z"
   },
   {
    "duration": 10,
    "start_time": "2024-09-25T09:45:42.110Z"
   },
   {
    "duration": 12,
    "start_time": "2024-09-25T09:45:56.465Z"
   },
   {
    "duration": 19,
    "start_time": "2024-09-25T09:47:55.747Z"
   },
   {
    "duration": 14,
    "start_time": "2024-09-25T09:48:01.482Z"
   },
   {
    "duration": 6,
    "start_time": "2024-09-25T09:48:43.392Z"
   },
   {
    "duration": 11,
    "start_time": "2024-09-25T09:48:53.042Z"
   },
   {
    "duration": 14,
    "start_time": "2024-09-25T09:49:01.039Z"
   },
   {
    "duration": 9,
    "start_time": "2024-09-25T09:49:56.366Z"
   },
   {
    "duration": 1217,
    "start_time": "2024-09-25T09:50:06.942Z"
   },
   {
    "duration": 82,
    "start_time": "2024-09-25T09:50:08.161Z"
   },
   {
    "duration": 28,
    "start_time": "2024-09-25T09:50:08.245Z"
   },
   {
    "duration": 59,
    "start_time": "2024-09-25T09:50:08.275Z"
   },
   {
    "duration": 74,
    "start_time": "2024-09-25T09:50:08.335Z"
   },
   {
    "duration": 8,
    "start_time": "2024-09-25T09:50:08.410Z"
   },
   {
    "duration": 19,
    "start_time": "2024-09-25T09:50:08.420Z"
   },
   {
    "duration": 9,
    "start_time": "2024-09-25T09:50:08.441Z"
   },
   {
    "duration": 8,
    "start_time": "2024-09-25T09:50:08.452Z"
   },
   {
    "duration": 6,
    "start_time": "2024-09-25T09:50:08.462Z"
   },
   {
    "duration": 14,
    "start_time": "2024-09-25T09:50:08.469Z"
   },
   {
    "duration": 8,
    "start_time": "2024-09-25T09:50:08.485Z"
   },
   {
    "duration": 11,
    "start_time": "2024-09-25T09:50:08.525Z"
   },
   {
    "duration": 70,
    "start_time": "2024-09-25T09:50:08.538Z"
   },
   {
    "duration": 19,
    "start_time": "2024-09-25T09:50:08.609Z"
   },
   {
    "duration": 302,
    "start_time": "2024-09-25T09:50:08.630Z"
   },
   {
    "duration": 240,
    "start_time": "2024-09-25T09:50:08.937Z"
   },
   {
    "duration": 324,
    "start_time": "2024-09-25T09:50:09.179Z"
   },
   {
    "duration": 9,
    "start_time": "2024-09-25T09:50:09.505Z"
   },
   {
    "duration": 305,
    "start_time": "2024-09-25T09:50:09.515Z"
   },
   {
    "duration": 346,
    "start_time": "2024-09-25T09:50:09.825Z"
   },
   {
    "duration": 185,
    "start_time": "2024-09-25T09:50:10.173Z"
   },
   {
    "duration": 5,
    "start_time": "2024-09-25T09:50:10.360Z"
   },
   {
    "duration": 190,
    "start_time": "2024-09-25T09:50:10.367Z"
   },
   {
    "duration": 5,
    "start_time": "2024-09-25T09:50:10.559Z"
   },
   {
    "duration": 31,
    "start_time": "2024-09-25T09:50:10.566Z"
   },
   {
    "duration": 259,
    "start_time": "2024-09-25T09:50:10.599Z"
   },
   {
    "duration": 11,
    "start_time": "2024-09-25T09:50:10.862Z"
   },
   {
    "duration": 10,
    "start_time": "2024-09-25T09:50:10.875Z"
   },
   {
    "duration": 57,
    "start_time": "2024-09-25T09:50:10.886Z"
   },
   {
    "duration": 14,
    "start_time": "2024-09-25T09:50:10.945Z"
   },
   {
    "duration": 10,
    "start_time": "2024-09-25T09:50:50.413Z"
   },
   {
    "duration": 9,
    "start_time": "2024-09-25T09:51:07.103Z"
   },
   {
    "duration": 12,
    "start_time": "2024-09-25T09:51:17.521Z"
   },
   {
    "duration": 10,
    "start_time": "2024-09-25T09:51:23.184Z"
   },
   {
    "duration": 8,
    "start_time": "2024-09-25T09:52:29.112Z"
   },
   {
    "duration": 6,
    "start_time": "2024-09-25T09:52:30.664Z"
   },
   {
    "duration": 10,
    "start_time": "2024-09-25T09:52:35.233Z"
   },
   {
    "duration": 5,
    "start_time": "2024-09-25T09:53:39.911Z"
   },
   {
    "duration": 10,
    "start_time": "2024-09-25T09:53:42.376Z"
   },
   {
    "duration": 1199,
    "start_time": "2024-09-25T09:53:46.867Z"
   },
   {
    "duration": 84,
    "start_time": "2024-09-25T09:53:48.068Z"
   },
   {
    "duration": 30,
    "start_time": "2024-09-25T09:53:48.154Z"
   },
   {
    "duration": 5,
    "start_time": "2024-09-25T09:53:48.186Z"
   },
   {
    "duration": 5,
    "start_time": "2024-09-25T09:53:48.193Z"
   },
   {
    "duration": 5,
    "start_time": "2024-09-25T09:53:48.200Z"
   },
   {
    "duration": 32,
    "start_time": "2024-09-25T09:53:48.206Z"
   },
   {
    "duration": 10,
    "start_time": "2024-09-25T09:53:48.239Z"
   },
   {
    "duration": 160,
    "start_time": "2024-09-25T09:53:48.250Z"
   },
   {
    "duration": 8,
    "start_time": "2024-09-25T09:53:48.413Z"
   },
   {
    "duration": 5,
    "start_time": "2024-09-25T09:53:48.423Z"
   },
   {
    "duration": 14,
    "start_time": "2024-09-25T09:53:48.430Z"
   },
   {
    "duration": 8,
    "start_time": "2024-09-25T09:53:48.446Z"
   },
   {
    "duration": 20,
    "start_time": "2024-09-25T09:53:48.456Z"
   },
   {
    "duration": 11,
    "start_time": "2024-09-25T09:53:48.478Z"
   },
   {
    "duration": 28,
    "start_time": "2024-09-25T09:53:48.491Z"
   },
   {
    "duration": 15,
    "start_time": "2024-09-25T09:53:48.525Z"
   },
   {
    "duration": 328,
    "start_time": "2024-09-25T09:53:48.542Z"
   },
   {
    "duration": 257,
    "start_time": "2024-09-25T09:53:48.872Z"
   },
   {
    "duration": 330,
    "start_time": "2024-09-25T09:53:49.131Z"
   },
   {
    "duration": 9,
    "start_time": "2024-09-25T09:53:49.463Z"
   },
   {
    "duration": 343,
    "start_time": "2024-09-25T09:53:49.474Z"
   },
   {
    "duration": 339,
    "start_time": "2024-09-25T09:53:49.818Z"
   },
   {
    "duration": 184,
    "start_time": "2024-09-25T09:53:50.158Z"
   },
   {
    "duration": 4,
    "start_time": "2024-09-25T09:53:50.344Z"
   },
   {
    "duration": 233,
    "start_time": "2024-09-25T09:53:50.350Z"
   },
   {
    "duration": 4,
    "start_time": "2024-09-25T09:53:50.585Z"
   },
   {
    "duration": 55,
    "start_time": "2024-09-25T09:53:50.592Z"
   },
   {
    "duration": 242,
    "start_time": "2024-09-25T09:53:50.649Z"
   },
   {
    "duration": 10,
    "start_time": "2024-09-25T09:53:50.893Z"
   },
   {
    "duration": 21,
    "start_time": "2024-09-25T09:53:50.905Z"
   },
   {
    "duration": 32,
    "start_time": "2024-09-25T09:53:50.928Z"
   },
   {
    "duration": 14,
    "start_time": "2024-09-25T09:53:50.961Z"
   },
   {
    "duration": 9,
    "start_time": "2024-09-25T09:54:48.914Z"
   },
   {
    "duration": 106,
    "start_time": "2024-09-25T09:54:49.822Z"
   },
   {
    "duration": 5,
    "start_time": "2024-09-25T09:54:55.673Z"
   },
   {
    "duration": 10,
    "start_time": "2024-09-25T09:54:57.469Z"
   },
   {
    "duration": 1184,
    "start_time": "2024-09-25T09:55:10.176Z"
   },
   {
    "duration": 86,
    "start_time": "2024-09-25T09:55:11.362Z"
   },
   {
    "duration": 30,
    "start_time": "2024-09-25T09:55:11.449Z"
   },
   {
    "duration": 5,
    "start_time": "2024-09-25T09:55:11.482Z"
   },
   {
    "duration": 62,
    "start_time": "2024-09-25T09:55:11.489Z"
   },
   {
    "duration": 9,
    "start_time": "2024-09-25T09:55:11.553Z"
   },
   {
    "duration": 20,
    "start_time": "2024-09-25T09:55:11.564Z"
   },
   {
    "duration": 10,
    "start_time": "2024-09-25T09:55:11.586Z"
   },
   {
    "duration": 13,
    "start_time": "2024-09-25T09:55:11.598Z"
   },
   {
    "duration": 19,
    "start_time": "2024-09-25T09:55:11.614Z"
   },
   {
    "duration": 6,
    "start_time": "2024-09-25T09:55:11.635Z"
   },
   {
    "duration": 13,
    "start_time": "2024-09-25T09:55:11.643Z"
   },
   {
    "duration": 11,
    "start_time": "2024-09-25T09:55:11.658Z"
   },
   {
    "duration": 8,
    "start_time": "2024-09-25T09:55:11.671Z"
   },
   {
    "duration": 53,
    "start_time": "2024-09-25T09:55:11.681Z"
   },
   {
    "duration": 12,
    "start_time": "2024-09-25T09:55:11.735Z"
   },
   {
    "duration": 14,
    "start_time": "2024-09-25T09:55:11.749Z"
   },
   {
    "duration": 318,
    "start_time": "2024-09-25T09:55:11.765Z"
   },
   {
    "duration": 218,
    "start_time": "2024-09-25T09:55:12.084Z"
   },
   {
    "duration": 330,
    "start_time": "2024-09-25T09:55:12.304Z"
   },
   {
    "duration": 10,
    "start_time": "2024-09-25T09:55:12.636Z"
   },
   {
    "duration": 252,
    "start_time": "2024-09-25T09:55:12.648Z"
   },
   {
    "duration": 326,
    "start_time": "2024-09-25T09:55:12.902Z"
   },
   {
    "duration": 190,
    "start_time": "2024-09-25T09:55:13.229Z"
   },
   {
    "duration": 6,
    "start_time": "2024-09-25T09:55:13.421Z"
   },
   {
    "duration": 172,
    "start_time": "2024-09-25T09:55:13.430Z"
   },
   {
    "duration": 5,
    "start_time": "2024-09-25T09:55:13.604Z"
   },
   {
    "duration": 6,
    "start_time": "2024-09-25T09:55:13.626Z"
   },
   {
    "duration": 255,
    "start_time": "2024-09-25T09:55:13.634Z"
   },
   {
    "duration": 11,
    "start_time": "2024-09-25T09:55:13.892Z"
   },
   {
    "duration": 27,
    "start_time": "2024-09-25T09:55:13.904Z"
   },
   {
    "duration": 33,
    "start_time": "2024-09-25T09:55:13.933Z"
   },
   {
    "duration": 15,
    "start_time": "2024-09-25T09:55:13.968Z"
   },
   {
    "duration": 3,
    "start_time": "2024-09-25T09:57:24.982Z"
   },
   {
    "duration": 1253,
    "start_time": "2024-09-25T09:57:30.406Z"
   },
   {
    "duration": 83,
    "start_time": "2024-09-25T09:57:31.661Z"
   },
   {
    "duration": 31,
    "start_time": "2024-09-25T09:57:31.746Z"
   },
   {
    "duration": 5,
    "start_time": "2024-09-25T09:57:31.779Z"
   },
   {
    "duration": 17,
    "start_time": "2024-09-25T09:57:31.786Z"
   },
   {
    "duration": 30,
    "start_time": "2024-09-25T09:57:31.805Z"
   },
   {
    "duration": 29,
    "start_time": "2024-09-25T09:57:31.836Z"
   },
   {
    "duration": 17,
    "start_time": "2024-09-25T09:57:31.866Z"
   },
   {
    "duration": 18,
    "start_time": "2024-09-25T09:57:31.885Z"
   },
   {
    "duration": 19,
    "start_time": "2024-09-25T09:57:31.906Z"
   },
   {
    "duration": 12,
    "start_time": "2024-09-25T09:57:31.927Z"
   },
   {
    "duration": 19,
    "start_time": "2024-09-25T09:57:31.941Z"
   },
   {
    "duration": 17,
    "start_time": "2024-09-25T09:57:31.961Z"
   },
   {
    "duration": 9,
    "start_time": "2024-09-25T09:57:31.980Z"
   },
   {
    "duration": 26,
    "start_time": "2024-09-25T09:57:31.991Z"
   },
   {
    "duration": 23,
    "start_time": "2024-09-25T09:57:32.019Z"
   },
   {
    "duration": 16,
    "start_time": "2024-09-25T09:57:32.044Z"
   },
   {
    "duration": 317,
    "start_time": "2024-09-25T09:57:32.061Z"
   },
   {
    "duration": 226,
    "start_time": "2024-09-25T09:57:32.379Z"
   },
   {
    "duration": 350,
    "start_time": "2024-09-25T09:57:32.606Z"
   },
   {
    "duration": 9,
    "start_time": "2024-09-25T09:57:32.958Z"
   },
   {
    "duration": 257,
    "start_time": "2024-09-25T09:57:32.968Z"
   },
   {
    "duration": 310,
    "start_time": "2024-09-25T09:57:33.227Z"
   },
   {
    "duration": 198,
    "start_time": "2024-09-25T09:57:33.539Z"
   },
   {
    "duration": 5,
    "start_time": "2024-09-25T09:57:33.738Z"
   },
   {
    "duration": 172,
    "start_time": "2024-09-25T09:57:33.745Z"
   },
   {
    "duration": 9,
    "start_time": "2024-09-25T09:57:33.918Z"
   },
   {
    "duration": 5,
    "start_time": "2024-09-25T09:57:33.931Z"
   },
   {
    "duration": 251,
    "start_time": "2024-09-25T09:57:33.938Z"
   },
   {
    "duration": 10,
    "start_time": "2024-09-25T09:57:34.191Z"
   },
   {
    "duration": 25,
    "start_time": "2024-09-25T09:57:34.202Z"
   },
   {
    "duration": 31,
    "start_time": "2024-09-25T09:57:34.229Z"
   },
   {
    "duration": 13,
    "start_time": "2024-09-25T09:57:34.262Z"
   },
   {
    "duration": 213,
    "start_time": "2024-09-25T10:07:09.847Z"
   },
   {
    "duration": 311,
    "start_time": "2024-09-25T10:08:15.574Z"
   },
   {
    "duration": 235,
    "start_time": "2024-09-25T10:08:30.690Z"
   },
   {
    "duration": 229,
    "start_time": "2024-09-25T10:09:30.906Z"
   },
   {
    "duration": 229,
    "start_time": "2024-09-25T10:09:47.682Z"
   },
   {
    "duration": 326,
    "start_time": "2024-09-25T10:11:12.230Z"
   },
   {
    "duration": 251,
    "start_time": "2024-09-25T10:11:30.370Z"
   },
   {
    "duration": 5,
    "start_time": "2024-09-25T10:11:52.152Z"
   },
   {
    "duration": 310,
    "start_time": "2024-09-25T10:11:55.837Z"
   },
   {
    "duration": 80,
    "start_time": "2024-09-25T10:12:30.768Z"
   },
   {
    "duration": 278,
    "start_time": "2024-09-25T10:12:47.308Z"
   },
   {
    "duration": 156,
    "start_time": "2024-09-25T10:12:56.005Z"
   },
   {
    "duration": 156,
    "start_time": "2024-09-25T10:13:05.347Z"
   },
   {
    "duration": 238,
    "start_time": "2024-09-25T10:13:51.116Z"
   },
   {
    "duration": 161,
    "start_time": "2024-09-25T10:14:45.503Z"
   },
   {
    "duration": 161,
    "start_time": "2024-09-25T10:14:58.311Z"
   },
   {
    "duration": 162,
    "start_time": "2024-09-25T10:16:42.442Z"
   },
   {
    "duration": 200,
    "start_time": "2024-09-25T10:16:59.528Z"
   },
   {
    "duration": 159,
    "start_time": "2024-09-25T10:22:29.775Z"
   },
   {
    "duration": 178,
    "start_time": "2024-09-25T10:22:35.032Z"
   },
   {
    "duration": 170,
    "start_time": "2024-09-25T10:22:39.163Z"
   },
   {
    "duration": 1267,
    "start_time": "2024-09-25T10:30:46.793Z"
   },
   {
    "duration": 83,
    "start_time": "2024-09-25T10:30:48.062Z"
   },
   {
    "duration": 32,
    "start_time": "2024-09-25T10:30:48.147Z"
   },
   {
    "duration": 5,
    "start_time": "2024-09-25T10:30:48.181Z"
   },
   {
    "duration": 6,
    "start_time": "2024-09-25T10:30:48.188Z"
   },
   {
    "duration": 5,
    "start_time": "2024-09-25T10:30:48.196Z"
   },
   {
    "duration": 39,
    "start_time": "2024-09-25T10:30:48.203Z"
   },
   {
    "duration": 9,
    "start_time": "2024-09-25T10:30:48.243Z"
   },
   {
    "duration": 16,
    "start_time": "2024-09-25T10:30:48.254Z"
   },
   {
    "duration": 7,
    "start_time": "2024-09-25T10:30:48.271Z"
   },
   {
    "duration": 4,
    "start_time": "2024-09-25T10:30:48.280Z"
   },
   {
    "duration": 12,
    "start_time": "2024-09-25T10:30:48.285Z"
   },
   {
    "duration": 34,
    "start_time": "2024-09-25T10:30:48.298Z"
   },
   {
    "duration": 6,
    "start_time": "2024-09-25T10:30:48.335Z"
   },
   {
    "duration": 14,
    "start_time": "2024-09-25T10:30:48.343Z"
   },
   {
    "duration": 116,
    "start_time": "2024-09-25T10:30:48.358Z"
   },
   {
    "duration": 77,
    "start_time": "2024-09-25T10:30:48.476Z"
   },
   {
    "duration": 334,
    "start_time": "2024-09-25T10:30:48.555Z"
   },
   {
    "duration": 246,
    "start_time": "2024-09-25T10:30:48.890Z"
   },
   {
    "duration": 327,
    "start_time": "2024-09-25T10:30:49.138Z"
   },
   {
    "duration": 9,
    "start_time": "2024-09-25T10:30:49.466Z"
   },
   {
    "duration": 291,
    "start_time": "2024-09-25T10:30:49.477Z"
   },
   {
    "duration": 295,
    "start_time": "2024-09-25T10:30:49.770Z"
   },
   {
    "duration": 204,
    "start_time": "2024-09-25T10:30:50.067Z"
   },
   {
    "duration": 5,
    "start_time": "2024-09-25T10:30:50.273Z"
   },
   {
    "duration": 184,
    "start_time": "2024-09-25T10:30:50.280Z"
   },
   {
    "duration": 5,
    "start_time": "2024-09-25T10:30:50.467Z"
   },
   {
    "duration": 84,
    "start_time": "2024-09-25T10:30:50.473Z"
   },
   {
    "duration": 227,
    "start_time": "2024-09-25T10:30:50.558Z"
   },
   {
    "duration": 9,
    "start_time": "2024-09-25T10:30:50.787Z"
   },
   {
    "duration": 15,
    "start_time": "2024-09-25T10:30:50.798Z"
   },
   {
    "duration": 32,
    "start_time": "2024-09-25T10:30:50.825Z"
   },
   {
    "duration": 14,
    "start_time": "2024-09-25T10:30:50.859Z"
   },
   {
    "duration": 169,
    "start_time": "2024-09-25T10:33:40.760Z"
   },
   {
    "duration": 168,
    "start_time": "2024-09-25T10:34:06.360Z"
   },
   {
    "duration": 163,
    "start_time": "2024-09-25T10:35:24.074Z"
   },
   {
    "duration": 172,
    "start_time": "2024-09-25T10:35:30.504Z"
   },
   {
    "duration": 163,
    "start_time": "2024-09-25T10:35:49.116Z"
   },
   {
    "duration": 18,
    "start_time": "2024-09-25T10:36:30.180Z"
   },
   {
    "duration": 1242,
    "start_time": "2024-09-25T10:37:19.449Z"
   },
   {
    "duration": 83,
    "start_time": "2024-09-25T10:37:20.693Z"
   },
   {
    "duration": 32,
    "start_time": "2024-09-25T10:37:20.777Z"
   },
   {
    "duration": 5,
    "start_time": "2024-09-25T10:37:20.811Z"
   },
   {
    "duration": 6,
    "start_time": "2024-09-25T10:37:20.817Z"
   },
   {
    "duration": 22,
    "start_time": "2024-09-25T10:37:20.825Z"
   },
   {
    "duration": 23,
    "start_time": "2024-09-25T10:37:20.849Z"
   },
   {
    "duration": 9,
    "start_time": "2024-09-25T10:37:20.874Z"
   },
   {
    "duration": 12,
    "start_time": "2024-09-25T10:37:20.885Z"
   },
   {
    "duration": 14,
    "start_time": "2024-09-25T10:37:20.900Z"
   },
   {
    "duration": 10,
    "start_time": "2024-09-25T10:37:20.916Z"
   },
   {
    "duration": 11,
    "start_time": "2024-09-25T10:37:20.929Z"
   },
   {
    "duration": 31,
    "start_time": "2024-09-25T10:37:20.943Z"
   },
   {
    "duration": 29,
    "start_time": "2024-09-25T10:37:20.976Z"
   },
   {
    "duration": 20,
    "start_time": "2024-09-25T10:37:21.008Z"
   },
   {
    "duration": 23,
    "start_time": "2024-09-25T10:37:21.030Z"
   },
   {
    "duration": 19,
    "start_time": "2024-09-25T10:37:21.055Z"
   },
   {
    "duration": 324,
    "start_time": "2024-09-25T10:37:21.075Z"
   },
   {
    "duration": 256,
    "start_time": "2024-09-25T10:37:21.400Z"
   },
   {
    "duration": 329,
    "start_time": "2024-09-25T10:37:21.657Z"
   },
   {
    "duration": 9,
    "start_time": "2024-09-25T10:37:21.987Z"
   },
   {
    "duration": 261,
    "start_time": "2024-09-25T10:37:21.998Z"
   },
   {
    "duration": 306,
    "start_time": "2024-09-25T10:37:22.261Z"
   },
   {
    "duration": 188,
    "start_time": "2024-09-25T10:37:22.569Z"
   },
   {
    "duration": 5,
    "start_time": "2024-09-25T10:37:22.759Z"
   },
   {
    "duration": 191,
    "start_time": "2024-09-25T10:37:22.766Z"
   },
   {
    "duration": 5,
    "start_time": "2024-09-25T10:37:22.959Z"
   },
   {
    "duration": 23,
    "start_time": "2024-09-25T10:37:22.968Z"
   },
   {
    "duration": 243,
    "start_time": "2024-09-25T10:37:22.993Z"
   },
   {
    "duration": 12,
    "start_time": "2024-09-25T10:37:23.238Z"
   },
   {
    "duration": 15,
    "start_time": "2024-09-25T10:37:23.252Z"
   },
   {
    "duration": 49,
    "start_time": "2024-09-25T10:37:23.269Z"
   },
   {
    "duration": 19,
    "start_time": "2024-09-25T10:37:23.320Z"
   },
   {
    "duration": 9,
    "start_time": "2024-09-25T10:40:01.151Z"
   },
   {
    "duration": 1249,
    "start_time": "2024-09-25T10:40:19.123Z"
   },
   {
    "duration": 83,
    "start_time": "2024-09-25T10:40:20.373Z"
   },
   {
    "duration": 33,
    "start_time": "2024-09-25T10:40:20.458Z"
   },
   {
    "duration": 5,
    "start_time": "2024-09-25T10:40:20.492Z"
   },
   {
    "duration": 14,
    "start_time": "2024-09-25T10:40:20.499Z"
   },
   {
    "duration": 7,
    "start_time": "2024-09-25T10:40:20.515Z"
   },
   {
    "duration": 24,
    "start_time": "2024-09-25T10:40:20.523Z"
   },
   {
    "duration": 78,
    "start_time": "2024-09-25T10:40:20.548Z"
   },
   {
    "duration": 13,
    "start_time": "2024-09-25T10:40:20.627Z"
   },
   {
    "duration": 8,
    "start_time": "2024-09-25T10:40:20.643Z"
   },
   {
    "duration": 3,
    "start_time": "2024-09-25T10:40:20.653Z"
   },
   {
    "duration": 9,
    "start_time": "2024-09-25T10:40:20.658Z"
   },
   {
    "duration": 8,
    "start_time": "2024-09-25T10:40:20.669Z"
   },
   {
    "duration": 7,
    "start_time": "2024-09-25T10:40:20.679Z"
   },
   {
    "duration": 41,
    "start_time": "2024-09-25T10:40:20.687Z"
   },
   {
    "duration": 46,
    "start_time": "2024-09-25T10:40:20.730Z"
   },
   {
    "duration": 15,
    "start_time": "2024-09-25T10:40:20.777Z"
   },
   {
    "duration": 325,
    "start_time": "2024-09-25T10:40:20.794Z"
   },
   {
    "duration": 249,
    "start_time": "2024-09-25T10:40:21.120Z"
   },
   {
    "duration": 306,
    "start_time": "2024-09-25T10:40:21.370Z"
   },
   {
    "duration": 9,
    "start_time": "2024-09-25T10:40:21.677Z"
   },
   {
    "duration": 277,
    "start_time": "2024-09-25T10:40:21.688Z"
   },
   {
    "duration": 316,
    "start_time": "2024-09-25T10:40:21.967Z"
   },
   {
    "duration": 197,
    "start_time": "2024-09-25T10:40:22.285Z"
   },
   {
    "duration": 5,
    "start_time": "2024-09-25T10:40:22.484Z"
   },
   {
    "duration": 199,
    "start_time": "2024-09-25T10:40:22.490Z"
   },
   {
    "duration": 4,
    "start_time": "2024-09-25T10:40:22.691Z"
   },
   {
    "duration": 5,
    "start_time": "2024-09-25T10:40:22.698Z"
   },
   {
    "duration": 320,
    "start_time": "2024-09-25T10:40:22.705Z"
   },
   {
    "duration": 14,
    "start_time": "2024-09-25T10:40:23.027Z"
   },
   {
    "duration": 12,
    "start_time": "2024-09-25T10:40:23.044Z"
   },
   {
    "duration": 32,
    "start_time": "2024-09-25T10:40:23.057Z"
   },
   {
    "duration": 51,
    "start_time": "2024-09-25T10:40:23.091Z"
   },
   {
    "duration": 1189,
    "start_time": "2024-09-26T04:41:29.565Z"
   },
   {
    "duration": 75,
    "start_time": "2024-09-26T04:41:30.756Z"
   },
   {
    "duration": 30,
    "start_time": "2024-09-26T04:41:30.833Z"
   },
   {
    "duration": 6,
    "start_time": "2024-09-26T04:41:30.865Z"
   },
   {
    "duration": 16,
    "start_time": "2024-09-26T04:41:30.873Z"
   },
   {
    "duration": 13,
    "start_time": "2024-09-26T04:41:30.891Z"
   },
   {
    "duration": 31,
    "start_time": "2024-09-26T04:41:30.906Z"
   },
   {
    "duration": 18,
    "start_time": "2024-09-26T04:41:30.939Z"
   },
   {
    "duration": 12,
    "start_time": "2024-09-26T04:41:30.959Z"
   },
   {
    "duration": 19,
    "start_time": "2024-09-26T04:41:30.973Z"
   },
   {
    "duration": 10,
    "start_time": "2024-09-26T04:41:30.994Z"
   },
   {
    "duration": 26,
    "start_time": "2024-09-26T04:41:31.006Z"
   },
   {
    "duration": 19,
    "start_time": "2024-09-26T04:41:31.033Z"
   },
   {
    "duration": 13,
    "start_time": "2024-09-26T04:41:31.054Z"
   },
   {
    "duration": 17,
    "start_time": "2024-09-26T04:41:31.068Z"
   },
   {
    "duration": 21,
    "start_time": "2024-09-26T04:41:31.086Z"
   },
   {
    "duration": 20,
    "start_time": "2024-09-26T04:41:31.108Z"
   },
   {
    "duration": 368,
    "start_time": "2024-09-26T04:41:31.130Z"
   },
   {
    "duration": 226,
    "start_time": "2024-09-26T04:41:31.499Z"
   },
   {
    "duration": 346,
    "start_time": "2024-09-26T04:41:31.727Z"
   },
   {
    "duration": 10,
    "start_time": "2024-09-26T04:41:32.074Z"
   },
   {
    "duration": 292,
    "start_time": "2024-09-26T04:41:32.086Z"
   },
   {
    "duration": 289,
    "start_time": "2024-09-26T04:41:32.380Z"
   },
   {
    "duration": 178,
    "start_time": "2024-09-26T04:41:32.671Z"
   },
   {
    "duration": 16,
    "start_time": "2024-09-26T04:41:32.852Z"
   },
   {
    "duration": 164,
    "start_time": "2024-09-26T04:41:32.871Z"
   },
   {
    "duration": 4,
    "start_time": "2024-09-26T04:41:33.036Z"
   },
   {
    "duration": 13,
    "start_time": "2024-09-26T04:41:33.043Z"
   },
   {
    "duration": 272,
    "start_time": "2024-09-26T04:41:33.057Z"
   },
   {
    "duration": 13,
    "start_time": "2024-09-26T04:41:33.331Z"
   },
   {
    "duration": 12,
    "start_time": "2024-09-26T04:41:33.353Z"
   },
   {
    "duration": 39,
    "start_time": "2024-09-26T04:41:33.367Z"
   },
   {
    "duration": 14,
    "start_time": "2024-09-26T04:41:33.407Z"
   },
   {
    "duration": 163,
    "start_time": "2024-09-26T04:43:16.591Z"
   },
   {
    "duration": 1268,
    "start_time": "2024-09-26T04:48:13.047Z"
   },
   {
    "duration": 77,
    "start_time": "2024-09-26T04:48:14.317Z"
   },
   {
    "duration": 27,
    "start_time": "2024-09-26T04:48:14.396Z"
   },
   {
    "duration": 5,
    "start_time": "2024-09-26T04:48:14.425Z"
   },
   {
    "duration": 13,
    "start_time": "2024-09-26T04:48:14.431Z"
   },
   {
    "duration": 14,
    "start_time": "2024-09-26T04:48:14.445Z"
   },
   {
    "duration": 26,
    "start_time": "2024-09-26T04:48:14.460Z"
   },
   {
    "duration": 8,
    "start_time": "2024-09-26T04:48:14.488Z"
   },
   {
    "duration": 11,
    "start_time": "2024-09-26T04:48:14.498Z"
   },
   {
    "duration": 7,
    "start_time": "2024-09-26T04:48:14.512Z"
   },
   {
    "duration": 35,
    "start_time": "2024-09-26T04:48:14.521Z"
   },
   {
    "duration": 13,
    "start_time": "2024-09-26T04:48:14.558Z"
   },
   {
    "duration": 9,
    "start_time": "2024-09-26T04:48:14.572Z"
   },
   {
    "duration": 8,
    "start_time": "2024-09-26T04:48:14.582Z"
   },
   {
    "duration": 10,
    "start_time": "2024-09-26T04:48:14.591Z"
   },
   {
    "duration": 14,
    "start_time": "2024-09-26T04:48:14.603Z"
   },
   {
    "duration": 41,
    "start_time": "2024-09-26T04:48:14.618Z"
   },
   {
    "duration": 321,
    "start_time": "2024-09-26T04:48:14.661Z"
   },
   {
    "duration": 230,
    "start_time": "2024-09-26T04:48:14.983Z"
   },
   {
    "duration": 344,
    "start_time": "2024-09-26T04:48:15.214Z"
   },
   {
    "duration": 10,
    "start_time": "2024-09-26T04:48:15.561Z"
   },
   {
    "duration": 259,
    "start_time": "2024-09-26T04:48:15.573Z"
   },
   {
    "duration": 348,
    "start_time": "2024-09-26T04:48:15.834Z"
   },
   {
    "duration": 194,
    "start_time": "2024-09-26T04:48:16.184Z"
   },
   {
    "duration": 4,
    "start_time": "2024-09-26T04:48:16.380Z"
   },
   {
    "duration": 177,
    "start_time": "2024-09-26T04:48:16.386Z"
   },
   {
    "duration": 5,
    "start_time": "2024-09-26T04:48:16.565Z"
   },
   {
    "duration": 6,
    "start_time": "2024-09-26T04:48:16.574Z"
   },
   {
    "duration": 284,
    "start_time": "2024-09-26T04:48:16.582Z"
   },
   {
    "duration": 13,
    "start_time": "2024-09-26T04:48:16.869Z"
   },
   {
    "duration": 12,
    "start_time": "2024-09-26T04:48:16.884Z"
   },
   {
    "duration": 40,
    "start_time": "2024-09-26T04:48:16.897Z"
   },
   {
    "duration": 26,
    "start_time": "2024-09-26T04:48:16.939Z"
   },
   {
    "duration": 51,
    "start_time": "2024-09-26T07:55:08.136Z"
   },
   {
    "duration": 1421,
    "start_time": "2024-09-26T07:55:13.991Z"
   },
   {
    "duration": 225,
    "start_time": "2024-09-26T07:55:15.414Z"
   },
   {
    "duration": 33,
    "start_time": "2024-09-26T07:55:15.641Z"
   },
   {
    "duration": 20,
    "start_time": "2024-09-26T07:55:15.677Z"
   },
   {
    "duration": 23,
    "start_time": "2024-09-26T07:55:15.699Z"
   },
   {
    "duration": 12,
    "start_time": "2024-09-26T07:55:15.724Z"
   },
   {
    "duration": 19,
    "start_time": "2024-09-26T07:55:15.738Z"
   },
   {
    "duration": 9,
    "start_time": "2024-09-26T07:55:15.758Z"
   },
   {
    "duration": 15,
    "start_time": "2024-09-26T07:55:15.769Z"
   },
   {
    "duration": 33,
    "start_time": "2024-09-26T07:55:15.787Z"
   },
   {
    "duration": 4,
    "start_time": "2024-09-26T07:55:15.822Z"
   },
   {
    "duration": 14,
    "start_time": "2024-09-26T07:55:15.828Z"
   },
   {
    "duration": 8,
    "start_time": "2024-09-26T07:55:15.844Z"
   },
   {
    "duration": 8,
    "start_time": "2024-09-26T07:55:15.854Z"
   },
   {
    "duration": 19,
    "start_time": "2024-09-26T07:55:15.864Z"
   },
   {
    "duration": 35,
    "start_time": "2024-09-26T07:55:15.885Z"
   },
   {
    "duration": 15,
    "start_time": "2024-09-26T07:55:15.922Z"
   },
   {
    "duration": 341,
    "start_time": "2024-09-26T07:55:15.939Z"
   },
   {
    "duration": 248,
    "start_time": "2024-09-26T07:55:16.282Z"
   },
   {
    "duration": 393,
    "start_time": "2024-09-26T07:55:16.532Z"
   },
   {
    "duration": 9,
    "start_time": "2024-09-26T07:55:16.927Z"
   },
   {
    "duration": 258,
    "start_time": "2024-09-26T07:55:16.937Z"
   },
   {
    "duration": 365,
    "start_time": "2024-09-26T07:55:17.197Z"
   },
   {
    "duration": 185,
    "start_time": "2024-09-26T07:55:17.564Z"
   },
   {
    "duration": 6,
    "start_time": "2024-09-26T07:55:17.751Z"
   },
   {
    "duration": 219,
    "start_time": "2024-09-26T07:55:17.758Z"
   },
   {
    "duration": 5,
    "start_time": "2024-09-26T07:55:17.980Z"
   },
   {
    "duration": 17,
    "start_time": "2024-09-26T07:55:17.988Z"
   },
   {
    "duration": 250,
    "start_time": "2024-09-26T07:55:18.006Z"
   },
   {
    "duration": 10,
    "start_time": "2024-09-26T07:55:18.258Z"
   },
   {
    "duration": 9,
    "start_time": "2024-09-26T07:55:18.269Z"
   },
   {
    "duration": 51,
    "start_time": "2024-09-26T07:55:18.280Z"
   },
   {
    "duration": 16,
    "start_time": "2024-09-26T07:55:18.332Z"
   },
   {
    "duration": 169,
    "start_time": "2024-09-26T07:56:04.586Z"
   },
   {
    "duration": 191,
    "start_time": "2024-09-26T07:56:09.635Z"
   },
   {
    "duration": 1251,
    "start_time": "2024-09-26T08:09:34.236Z"
   },
   {
    "duration": 81,
    "start_time": "2024-09-26T08:09:35.489Z"
   },
   {
    "duration": 35,
    "start_time": "2024-09-26T08:09:35.571Z"
   },
   {
    "duration": 5,
    "start_time": "2024-09-26T08:09:35.608Z"
   },
   {
    "duration": 30,
    "start_time": "2024-09-26T08:09:35.615Z"
   },
   {
    "duration": 41,
    "start_time": "2024-09-26T08:09:35.646Z"
   },
   {
    "duration": 44,
    "start_time": "2024-09-26T08:09:35.688Z"
   },
   {
    "duration": 36,
    "start_time": "2024-09-26T08:09:35.733Z"
   },
   {
    "duration": 23,
    "start_time": "2024-09-26T08:09:35.771Z"
   },
   {
    "duration": 8,
    "start_time": "2024-09-26T08:09:35.797Z"
   },
   {
    "duration": 5,
    "start_time": "2024-09-26T08:09:35.806Z"
   },
   {
    "duration": 29,
    "start_time": "2024-09-26T08:09:35.812Z"
   },
   {
    "duration": 18,
    "start_time": "2024-09-26T08:09:35.844Z"
   },
   {
    "duration": 18,
    "start_time": "2024-09-26T08:09:35.864Z"
   },
   {
    "duration": 15,
    "start_time": "2024-09-26T08:09:35.884Z"
   },
   {
    "duration": 19,
    "start_time": "2024-09-26T08:09:35.901Z"
   },
   {
    "duration": 24,
    "start_time": "2024-09-26T08:09:35.922Z"
   },
   {
    "duration": 404,
    "start_time": "2024-09-26T08:09:35.948Z"
   },
   {
    "duration": 316,
    "start_time": "2024-09-26T08:09:36.354Z"
   },
   {
    "duration": 357,
    "start_time": "2024-09-26T08:09:36.671Z"
   },
   {
    "duration": 9,
    "start_time": "2024-09-26T08:09:37.029Z"
   },
   {
    "duration": 265,
    "start_time": "2024-09-26T08:09:37.040Z"
   },
   {
    "duration": 339,
    "start_time": "2024-09-26T08:09:37.306Z"
   },
   {
    "duration": 203,
    "start_time": "2024-09-26T08:09:37.647Z"
   },
   {
    "duration": 5,
    "start_time": "2024-09-26T08:09:37.851Z"
   },
   {
    "duration": 201,
    "start_time": "2024-09-26T08:09:37.858Z"
   },
   {
    "duration": 291,
    "start_time": "2024-09-26T08:09:38.061Z"
   },
   {
    "duration": 4,
    "start_time": "2024-09-26T08:09:38.357Z"
   },
   {
    "duration": 14,
    "start_time": "2024-09-26T08:09:38.363Z"
   },
   {
    "duration": 166,
    "start_time": "2024-09-26T08:09:38.379Z"
   },
   {
    "duration": 11,
    "start_time": "2024-09-26T08:09:38.547Z"
   },
   {
    "duration": 11,
    "start_time": "2024-09-26T08:09:38.560Z"
   },
   {
    "duration": 62,
    "start_time": "2024-09-26T08:09:38.573Z"
   },
   {
    "duration": 16,
    "start_time": "2024-09-26T08:09:38.637Z"
   },
   {
    "duration": 1384,
    "start_time": "2024-09-27T02:27:35.853Z"
   },
   {
    "duration": 88,
    "start_time": "2024-09-27T02:27:37.239Z"
   },
   {
    "duration": 45,
    "start_time": "2024-09-27T02:27:37.329Z"
   },
   {
    "duration": 6,
    "start_time": "2024-09-27T02:27:37.376Z"
   },
   {
    "duration": 6,
    "start_time": "2024-09-27T02:27:37.383Z"
   },
   {
    "duration": 18,
    "start_time": "2024-09-27T02:27:37.391Z"
   },
   {
    "duration": 60,
    "start_time": "2024-09-27T02:27:37.411Z"
   },
   {
    "duration": 10,
    "start_time": "2024-09-27T02:27:37.473Z"
   },
   {
    "duration": 37,
    "start_time": "2024-09-27T02:27:37.485Z"
   },
   {
    "duration": 48,
    "start_time": "2024-09-27T02:27:37.526Z"
   },
   {
    "duration": 10,
    "start_time": "2024-09-27T02:27:37.576Z"
   },
   {
    "duration": 25,
    "start_time": "2024-09-27T02:27:37.588Z"
   },
   {
    "duration": 28,
    "start_time": "2024-09-27T02:27:37.615Z"
   },
   {
    "duration": 8,
    "start_time": "2024-09-27T02:27:37.646Z"
   },
   {
    "duration": 31,
    "start_time": "2024-09-27T02:27:37.658Z"
   },
   {
    "duration": 41,
    "start_time": "2024-09-27T02:27:37.691Z"
   },
   {
    "duration": 42,
    "start_time": "2024-09-27T02:27:37.734Z"
   },
   {
    "duration": 366,
    "start_time": "2024-09-27T02:27:37.778Z"
   },
   {
    "duration": 273,
    "start_time": "2024-09-27T02:27:38.146Z"
   },
   {
    "duration": 407,
    "start_time": "2024-09-27T02:27:38.421Z"
   },
   {
    "duration": 10,
    "start_time": "2024-09-27T02:27:38.830Z"
   },
   {
    "duration": 287,
    "start_time": "2024-09-27T02:27:38.841Z"
   },
   {
    "duration": 374,
    "start_time": "2024-09-27T02:27:39.130Z"
   },
   {
    "duration": 208,
    "start_time": "2024-09-27T02:27:39.508Z"
   },
   {
    "duration": 5,
    "start_time": "2024-09-27T02:27:39.719Z"
   },
   {
    "duration": 209,
    "start_time": "2024-09-27T02:27:39.726Z"
   },
   {
    "duration": 309,
    "start_time": "2024-09-27T02:27:39.937Z"
   },
   {
    "duration": 16,
    "start_time": "2024-09-27T02:27:40.259Z"
   },
   {
    "duration": 11,
    "start_time": "2024-09-27T02:27:40.277Z"
   },
   {
    "duration": 190,
    "start_time": "2024-09-27T02:27:40.290Z"
   },
   {
    "duration": 11,
    "start_time": "2024-09-27T02:27:40.482Z"
   },
   {
    "duration": 21,
    "start_time": "2024-09-27T02:27:40.495Z"
   },
   {
    "duration": 56,
    "start_time": "2024-09-27T02:27:40.519Z"
   },
   {
    "duration": 16,
    "start_time": "2024-09-27T02:27:40.577Z"
   }
  ],
  "kernelspec": {
   "display_name": "Python 3 (ipykernel)",
   "language": "python",
   "name": "python3"
  },
  "language_info": {
   "codemirror_mode": {
    "name": "ipython",
    "version": 3
   },
   "file_extension": ".py",
   "mimetype": "text/x-python",
   "name": "python",
   "nbconvert_exporter": "python",
   "pygments_lexer": "ipython3",
   "version": "3.9.5"
  },
  "toc": {
   "base_numbering": 1,
   "nav_menu": {},
   "number_sections": true,
   "sideBar": true,
   "skip_h1_title": true,
   "title_cell": "Table of Contents",
   "title_sidebar": "Contents",
   "toc_cell": false,
   "toc_position": {},
   "toc_section_display": true,
   "toc_window_display": false
  }
 },
 "nbformat": 4,
 "nbformat_minor": 2
}
