{
 "cells": [
  {
   "cell_type": "markdown",
   "id": "2e121268",
   "metadata": {},
   "source": [
    "----------------------"
   ]
  },
  {
   "cell_type": "markdown",
   "id": "0d81810d",
   "metadata": {},
   "source": [
    "# Исследование популярного сервиса аренды самокатов GoFast\n",
    "\n",
    "**Введение**\n",
    "\n",
    "В данной работе мы будем различные методы анализирования и визуализирования данных, чтобы увидеть насколько точны данные для последующей работы, также построим разные соотношения 2 групп людей( с подпиской и без нее), тем самым мы поймем в какую сторону развиватсья компании дальше. Также проверим гипотезы связанные с помесячной выручкой каждого пользователя по группам(кто выгоднее компании), длительностью поездки и связь износа самокатов с ultra пользователями.\n",
    "\n",
    "\n",
    "**Цели**\n",
    "\n",
    "С помощью данных выяснить лучшие пути развития для компании, разобрать возможные ошибки.\n",
    "\n",
    "\n",
    "**Задачи**\n",
    "\n",
    "Задачи будут описаны ниже ввиде чекбоксов."
   ]
  },
  {
   "cell_type": "code",
   "execution_count": 1,
   "id": "6cc98b8d",
   "metadata": {},
   "outputs": [],
   "source": [
    "import pandas as pd\n",
    "from math import sqrt\n",
    "from scipy import stats as st\n",
    "import matplotlib.pyplot as plt\n",
    "import seaborn as sns\n",
    "import numpy as np\n",
    "from scipy.stats import binom, norm"
   ]
  },
  {
   "cell_type": "markdown",
   "id": "375e1081",
   "metadata": {},
   "source": [
    "**Загрузка данных**\n",
    "- [x] Считать CSV-файлы с данными с помощью библиотеки pandas и сохраните их в датафреймы.\n",
    "- [x] Вывести первые строки каждого набора данных. Изучить общую информацию о каждом датафрейме\n",
    "\n",
    "**Предобработка данных**\n",
    "- [x] Привести столбец date к типу даты pandas.\n",
    "- [x] Создать новый столбец с номером месяца на основе столбца date.\n",
    "- [x] Проверить наличие пропущенных значений и дубликатов в датафреймах. Обработайте их, если такие значения присутствуют.\n",
    "\n",
    "**Исследовательский анализ данных**\n",
    "\n",
    "Описать и визуализировать общую информацию о пользователях и поездках:\n",
    "\n",
    "- [x] частота встречаемости городов;\n",
    "- [x] соотношение пользователей с подпиской и без подписки;\n",
    "- [x] возраст пользователей;\n",
    "- [x] расстояние, которое пользователь преодолел за одну поездку;\n",
    "- [x] продолжительность поездок.\n",
    "\n",
    "**Объединение данных**\n",
    "\n",
    "- [x] Объединить данные о пользователях, поездках и подписках в один датафрейм. Для этого воспользуйтесь методом merge().\n",
    "- [x] Создать ещё два датафрейма из датафрейма, созданного на этапе выше:\n",
    "- [x] данными о пользователях без подписки;\n",
    "- [x] данными о пользователях с подпиской.\n",
    "- [x] Визуализировать информацию о расстоянии и времени поездок для пользователей обеих категорий.\n",
    "\n",
    "**Подсчёт выручки**\n",
    "\n",
    "- [x] Создать датафрейм с агрегированными данными о поездках на основе датафрейма с объединёнными данными из шага 4: найти суммарное расстояние, количество поездок и суммарное время для каждого пользователя за каждый месяц.\n",
    "- [x] В этот же датафрейм добавить столбец с помесячной выручкой, которую принёс каждый пользователь. Для этого обратимся к информации об условиях оплаты для подписчиков и тех, у кого нет подписки. Продолжительность каждой поездки в каждой строке исходного датафрейма для подсчёта стоимости округляется до следующего целого числа.\n",
    "\n",
    "**Проверка гипотез**\n",
    "\n",
    "- [x] Важно понять, тратят ли пользователи с подпиской больше времени на поездки? Если да, то пользователи с подпиской могут быть «выгоднее» для компании. Проверьте гипотезу. Используйте исходные данные о продолжительности каждой сессии — отдельно для подписчиков и тех, у кого нет подписки.\n",
    "- [x] Расстояние одной поездки в 3130 метров — оптимальное с точки зрения износа самоката. Можно ли сказать, что среднее расстояние, которое проезжают пользователи с подпиской за одну поездку, не превышает 3130 метров? Проверьте гипотезу и сделайте выводы.\n",
    "- [x] Проверьте гипотезу о том, будет ли помесячная выручка от пользователей с подпиской по месяцам выше, чем выручка от пользователей без подписки. Сделайте вывод.\n",
    "- [x] Представьте такую ситуацию: техническая команда сервиса обновила сервера, с которыми взаимодействует мобильное приложение. Она надеется, что из-за этого количество обращений в техподдержку значимо снизилось. Некоторый файл содержит для каждого пользователя данные о количестве обращений до обновления и после него. Какой тест вам понадобился бы для проверки этой гипотезы?\n",
    "\n",
    "**Распределения**\n",
    "- [x] Отделу маркетинга GoFast поставили задачу: нужно провести акцию с раздачей промокодов на один бесплатный месяц подписки, в рамках которой как минимум 100 существующих клиентов должны продлить эту подписку. То есть по завершении периода действия подписки пользователь может либо отказаться от неё, либо продлить, совершив соответствующий платёж. Эта акция уже проводилась ранее и по итогу выяснилось, что после бесплатного пробного периода подписку продлевают 10 % пользователей. Выясните, какое минимальное количество промокодов нужно разослать, чтобы вероятность не выполнить план была примерно 5 %. Подберите параметры распределения, описывающего эту ситуацию, постройте график распределения и сформулируйте ответ на вопрос о количестве промокодов.\n",
    "\n",
    "- [x] Отдел маркетинга рассылает клиентам push-уведомления в мобильном приложении. Клиенты могут открыть его или не открывать. Известно, что уведомления открывают около 40 % получивших клиентов. Отдел планирует разослать 1 млн уведомлений. С помощью аппроксимации постройте примерный график распределения и оцените вероятность того, что уведомление откроют не более 399,5 тыс. пользователей."
   ]
  },
  {
   "cell_type": "markdown",
   "id": "3e769311",
   "metadata": {},
   "source": [
    "#### Шаг 1. Загрузка данных"
   ]
  },
  {
   "cell_type": "code",
   "execution_count": 2,
   "id": "77a285e1",
   "metadata": {},
   "outputs": [],
   "source": [
    "# Создаем датасеты\n",
    "df_users_go = pd.read_csv('/datasets/users_go.csv', sep=',')\n",
    "df_riders_go = pd.read_csv('/datasets/rides_go.csv', sep=',')\n",
    "df_subscriptions_go = pd.read_csv('/datasets/subscriptions_go.csv', sep=',')"
   ]
  },
  {
   "cell_type": "code",
   "execution_count": 3,
   "id": "3ab62f12",
   "metadata": {},
   "outputs": [
    {
     "name": "stdout",
     "output_type": "stream",
     "text": [
      "   user_id        name  age            city subscription_type\n",
      "0        1        Кира   22          Тюмень             ultra\n",
      "1        2   Станислав   31            Омск             ultra\n",
      "2        3     Алексей   20          Москва             ultra\n",
      "3        4  Константин   26  Ростов-на-Дону             ultra\n",
      "4        5       Адель   28            Омск             ultra \n",
      "\n",
      "   user_id     distance   duration        date\n",
      "0        1  4409.919140  25.599769  2021-01-01\n",
      "1        1  2617.592153  15.816871  2021-01-18\n",
      "2        1   754.159807   6.232113  2021-04-20\n",
      "3        1  2694.783254  18.511000  2021-08-11\n",
      "4        1  4028.687306  26.265803  2021-08-28 \n",
      "\n",
      "  subscription_type  minute_price  start_ride_price  subscription_fee\n",
      "0              free             8                50                 0\n",
      "1             ultra             6                 0               199 \n",
      "\n"
     ]
    }
   ],
   "source": [
    "# Выведем первые строки каждого дата фрейма\n",
    "print(df_users_go.head(), '\\n')\n",
    "print(df_riders_go.head(), '\\n')\n",
    "print(df_subscriptions_go.head(), '\\n')"
   ]
  },
  {
   "cell_type": "code",
   "execution_count": 4,
   "id": "81396fdc",
   "metadata": {},
   "outputs": [
    {
     "name": "stdout",
     "output_type": "stream",
     "text": [
      "<class 'pandas.core.frame.DataFrame'>\n",
      "RangeIndex: 1565 entries, 0 to 1564\n",
      "Data columns (total 5 columns):\n",
      " #   Column             Non-Null Count  Dtype \n",
      "---  ------             --------------  ----- \n",
      " 0   user_id            1565 non-null   int64 \n",
      " 1   name               1565 non-null   object\n",
      " 2   age                1565 non-null   int64 \n",
      " 3   city               1565 non-null   object\n",
      " 4   subscription_type  1565 non-null   object\n",
      "dtypes: int64(2), object(3)\n",
      "memory usage: 61.3+ KB\n"
     ]
    }
   ],
   "source": [
    "#Изучим датасет users\n",
    "df_users_go.info()"
   ]
  },
  {
   "cell_type": "markdown",
   "id": "31c06d2a",
   "metadata": {},
   "source": [
    " В датасете df_users_go пропусков не обнаружено/\n",
    " "
   ]
  },
  {
   "cell_type": "code",
   "execution_count": 5,
   "id": "389a3b3b",
   "metadata": {},
   "outputs": [
    {
     "name": "stdout",
     "output_type": "stream",
     "text": [
      "<class 'pandas.core.frame.DataFrame'>\n",
      "RangeIndex: 18068 entries, 0 to 18067\n",
      "Data columns (total 4 columns):\n",
      " #   Column    Non-Null Count  Dtype  \n",
      "---  ------    --------------  -----  \n",
      " 0   user_id   18068 non-null  int64  \n",
      " 1   distance  18068 non-null  float64\n",
      " 2   duration  18068 non-null  float64\n",
      " 3   date      18068 non-null  object \n",
      "dtypes: float64(2), int64(1), object(1)\n",
      "memory usage: 564.8+ KB\n"
     ]
    }
   ],
   "source": [
    "df_riders_go.info()"
   ]
  },
  {
   "cell_type": "markdown",
   "id": "75cbcf53",
   "metadata": {},
   "source": [
    "В датасете df_riders_go пропусков не обнаружено / Данные в столбце date имеют неправельный тип данных."
   ]
  },
  {
   "cell_type": "code",
   "execution_count": 6,
   "id": "309ac563",
   "metadata": {},
   "outputs": [
    {
     "name": "stdout",
     "output_type": "stream",
     "text": [
      "<class 'pandas.core.frame.DataFrame'>\n",
      "RangeIndex: 2 entries, 0 to 1\n",
      "Data columns (total 4 columns):\n",
      " #   Column             Non-Null Count  Dtype \n",
      "---  ------             --------------  ----- \n",
      " 0   subscription_type  2 non-null      object\n",
      " 1   minute_price       2 non-null      int64 \n",
      " 2   start_ride_price   2 non-null      int64 \n",
      " 3   subscription_fee   2 non-null      int64 \n",
      "dtypes: int64(3), object(1)\n",
      "memory usage: 192.0+ bytes\n"
     ]
    }
   ],
   "source": [
    "df_subscriptions_go.info()"
   ]
  },
  {
   "cell_type": "markdown",
   "id": "1d9c8aec",
   "metadata": {},
   "source": [
    "**Вывод по 1 шагу:**\n",
    "* В дата фрейме df_users_go 1565 строк, 5 столбцов, пропусков нет, проблем с наименованием столбцов тоже.\n",
    "\n",
    "\n",
    "* В дата фрейме df_riders_go 18068  строк, 4 столбца пропусков нет, проблем с наименованием столбцов тоже, есть проблема с типом данных столбца date.\n",
    "\n",
    "\n",
    "* В дата фрейме df_subscriptions_go 2 строки, 4 столбца пропусков нет, проблем с наименованием столбцов тоже.\n",
    "\n"
   ]
  },
  {
   "cell_type": "markdown",
   "id": "4446a7f6",
   "metadata": {},
   "source": [
    "#### Шаг 2. Предобработка данных"
   ]
  },
  {
   "cell_type": "code",
   "execution_count": 7,
   "id": "43e92bf1",
   "metadata": {},
   "outputs": [
    {
     "data": {
      "text/plain": [
       "0       2021-01-01\n",
       "1       2021-01-18\n",
       "2       2021-04-20\n",
       "3       2021-08-11\n",
       "4       2021-08-28\n",
       "           ...    \n",
       "18063   2021-11-04\n",
       "18064   2021-11-16\n",
       "18065   2021-11-18\n",
       "18066   2021-11-27\n",
       "18067   2021-12-29\n",
       "Name: date, Length: 18068, dtype: datetime64[ns]"
      ]
     },
     "execution_count": 7,
     "metadata": {},
     "output_type": "execute_result"
    }
   ],
   "source": [
    "# Переведем столбец date в нужный формат\n",
    "df_riders_go['date'] = pd.to_datetime(df_riders_go['date'], format= '%Y-%m-%d')\n",
    "df_riders_go['date']"
   ]
  },
  {
   "cell_type": "code",
   "execution_count": 8,
   "id": "bda1827e",
   "metadata": {},
   "outputs": [
    {
     "name": "stdout",
     "output_type": "stream",
     "text": [
      "[ 1  4  8 10 11 12  3  6  7  2  5  9]\n"
     ]
    },
    {
     "data": {
      "text/html": [
       "<div>\n",
       "<style scoped>\n",
       "    .dataframe tbody tr th:only-of-type {\n",
       "        vertical-align: middle;\n",
       "    }\n",
       "\n",
       "    .dataframe tbody tr th {\n",
       "        vertical-align: top;\n",
       "    }\n",
       "\n",
       "    .dataframe thead th {\n",
       "        text-align: right;\n",
       "    }\n",
       "</style>\n",
       "<table border=\"1\" class=\"dataframe\">\n",
       "  <thead>\n",
       "    <tr style=\"text-align: right;\">\n",
       "      <th></th>\n",
       "      <th>user_id</th>\n",
       "      <th>distance</th>\n",
       "      <th>duration</th>\n",
       "      <th>date</th>\n",
       "      <th>date_month</th>\n",
       "    </tr>\n",
       "  </thead>\n",
       "  <tbody>\n",
       "    <tr>\n",
       "      <th>0</th>\n",
       "      <td>1</td>\n",
       "      <td>4409.919140</td>\n",
       "      <td>25.599769</td>\n",
       "      <td>2021-01-01</td>\n",
       "      <td>1</td>\n",
       "    </tr>\n",
       "    <tr>\n",
       "      <th>1</th>\n",
       "      <td>1</td>\n",
       "      <td>2617.592153</td>\n",
       "      <td>15.816871</td>\n",
       "      <td>2021-01-18</td>\n",
       "      <td>1</td>\n",
       "    </tr>\n",
       "    <tr>\n",
       "      <th>2</th>\n",
       "      <td>1</td>\n",
       "      <td>754.159807</td>\n",
       "      <td>6.232113</td>\n",
       "      <td>2021-04-20</td>\n",
       "      <td>4</td>\n",
       "    </tr>\n",
       "    <tr>\n",
       "      <th>3</th>\n",
       "      <td>1</td>\n",
       "      <td>2694.783254</td>\n",
       "      <td>18.511000</td>\n",
       "      <td>2021-08-11</td>\n",
       "      <td>8</td>\n",
       "    </tr>\n",
       "    <tr>\n",
       "      <th>4</th>\n",
       "      <td>1</td>\n",
       "      <td>4028.687306</td>\n",
       "      <td>26.265803</td>\n",
       "      <td>2021-08-28</td>\n",
       "      <td>8</td>\n",
       "    </tr>\n",
       "    <tr>\n",
       "      <th>5</th>\n",
       "      <td>1</td>\n",
       "      <td>2770.890808</td>\n",
       "      <td>16.650138</td>\n",
       "      <td>2021-10-09</td>\n",
       "      <td>10</td>\n",
       "    </tr>\n",
       "    <tr>\n",
       "      <th>6</th>\n",
       "      <td>1</td>\n",
       "      <td>3039.020292</td>\n",
       "      <td>14.927879</td>\n",
       "      <td>2021-10-19</td>\n",
       "      <td>10</td>\n",
       "    </tr>\n",
       "    <tr>\n",
       "      <th>7</th>\n",
       "      <td>1</td>\n",
       "      <td>2842.118050</td>\n",
       "      <td>23.117468</td>\n",
       "      <td>2021-11-06</td>\n",
       "      <td>11</td>\n",
       "    </tr>\n",
       "    <tr>\n",
       "      <th>8</th>\n",
       "      <td>1</td>\n",
       "      <td>3412.690668</td>\n",
       "      <td>15.238072</td>\n",
       "      <td>2021-11-14</td>\n",
       "      <td>11</td>\n",
       "    </tr>\n",
       "    <tr>\n",
       "      <th>9</th>\n",
       "      <td>1</td>\n",
       "      <td>748.690645</td>\n",
       "      <td>15.041884</td>\n",
       "      <td>2021-11-22</td>\n",
       "      <td>11</td>\n",
       "    </tr>\n",
       "  </tbody>\n",
       "</table>\n",
       "</div>"
      ],
      "text/plain": [
       "   user_id     distance   duration       date  date_month\n",
       "0        1  4409.919140  25.599769 2021-01-01           1\n",
       "1        1  2617.592153  15.816871 2021-01-18           1\n",
       "2        1   754.159807   6.232113 2021-04-20           4\n",
       "3        1  2694.783254  18.511000 2021-08-11           8\n",
       "4        1  4028.687306  26.265803 2021-08-28           8\n",
       "5        1  2770.890808  16.650138 2021-10-09          10\n",
       "6        1  3039.020292  14.927879 2021-10-19          10\n",
       "7        1  2842.118050  23.117468 2021-11-06          11\n",
       "8        1  3412.690668  15.238072 2021-11-14          11\n",
       "9        1   748.690645  15.041884 2021-11-22          11"
      ]
     },
     "execution_count": 8,
     "metadata": {},
     "output_type": "execute_result"
    }
   ],
   "source": [
    "# Создадим новый столбец с месяцем на основе date\n",
    "df_riders_go['date_month'] = pd.DatetimeIndex(df_riders_go['date']).month\n",
    "print(df_riders_go['date_month'].unique())\n",
    "df_riders_go.head(10)"
   ]
  },
  {
   "cell_type": "code",
   "execution_count": 9,
   "id": "af3ed552",
   "metadata": {},
   "outputs": [
    {
     "name": "stdout",
     "output_type": "stream",
     "text": [
      "Количество дубликатов в датасете df_users_go:  31\n",
      "Количество дубликатов в датасете df_riders_go:  0\n",
      "Количество дубликатов в датасете df_subscriptions_go:  0\n"
     ]
    }
   ],
   "source": [
    "# Проверим на дубликаты\n",
    "print('Количество дубликатов в датасете df_users_go: ', df_users_go.duplicated().sum())\n",
    "\n",
    "print('Количество дубликатов в датасете df_riders_go: ', df_riders_go.duplicated().sum())\n",
    "\n",
    "print('Количество дубликатов в датасете df_subscriptions_go: ', df_subscriptions_go.duplicated().sum())"
   ]
  },
  {
   "cell_type": "code",
   "execution_count": 10,
   "id": "ef6ec4d9",
   "metadata": {},
   "outputs": [
    {
     "data": {
      "text/plain": [
       "0"
      ]
     },
     "execution_count": 10,
     "metadata": {},
     "output_type": "execute_result"
    }
   ],
   "source": [
    "# Избавимся от дубликатов\n",
    "df_users_go.drop_duplicates(inplace=True)\n",
    "df_users_go.duplicated().sum()"
   ]
  },
  {
   "cell_type": "code",
   "execution_count": 11,
   "id": "de09969f",
   "metadata": {},
   "outputs": [
    {
     "data": {
      "text/plain": [
       "user_id              0\n",
       "name                 0\n",
       "age                  0\n",
       "city                 0\n",
       "subscription_type    0\n",
       "dtype: int64"
      ]
     },
     "execution_count": 11,
     "metadata": {},
     "output_type": "execute_result"
    }
   ],
   "source": [
    "# Также проверим на Nan значения\n",
    "df_users_go.isna().sum()"
   ]
  },
  {
   "cell_type": "code",
   "execution_count": 12,
   "id": "bcec5005",
   "metadata": {},
   "outputs": [
    {
     "data": {
      "text/plain": [
       "user_id       0\n",
       "distance      0\n",
       "duration      0\n",
       "date          0\n",
       "date_month    0\n",
       "dtype: int64"
      ]
     },
     "execution_count": 12,
     "metadata": {},
     "output_type": "execute_result"
    }
   ],
   "source": [
    "df_riders_go.isna().sum()"
   ]
  },
  {
   "cell_type": "code",
   "execution_count": 13,
   "id": "fad4baee",
   "metadata": {},
   "outputs": [
    {
     "data": {
      "text/plain": [
       "subscription_type    0\n",
       "minute_price         0\n",
       "start_ride_price     0\n",
       "subscription_fee     0\n",
       "dtype: int64"
      ]
     },
     "execution_count": 13,
     "metadata": {},
     "output_type": "execute_result"
    }
   ],
   "source": [
    "df_subscriptions_go.isna().sum()"
   ]
  },
  {
   "cell_type": "markdown",
   "id": "1dadf340",
   "metadata": {},
   "source": [
    "**Вывод по 2 шагу:**\n",
    "\n",
    "Была проведена предобработка данных.\n",
    "\n",
    "* Столбец date из типа object был переведен в формат datetime.\n",
    "\n",
    "* Создали дополнительный столбец с отдельными месяцами date_month.\n",
    "\n",
    "* Пропущенных значений и значений Nan нет.\n",
    "\n",
    "* Явные дубликаты в датасете df_users_go были удалены 31 дубликат в сете из 1565 (1,98% данных, можно принебречь)."
   ]
  },
  {
   "cell_type": "markdown",
   "id": "e4c4adb7",
   "metadata": {},
   "source": [
    "#### Шаг 3. Исследовательский анализ данных"
   ]
  },
  {
   "cell_type": "code",
   "execution_count": 14,
   "id": "610878e1",
   "metadata": {},
   "outputs": [
    {
     "data": {
      "text/plain": [
       "Text(0.5, 1.0, 'Частота встречаемости городов')"
      ]
     },
     "execution_count": 14,
     "metadata": {},
     "output_type": "execute_result"
    },
    {
     "data": {
      "image/png": "[encoded data removed]",
      "text/plain": [
       "<Figure size 720x360 with 1 Axes>"
      ]
     },
     "metadata": {
      "needs_background": "light"
     },
     "output_type": "display_data"
    }
   ],
   "source": [
    "# Проанализируем и визуализируем частоту встречаемости городов\n",
    "city_pivot_table = df_users_go.pivot_table(index='city', values='user_id', aggfunc='count').sort_values(by='user_id',ascending=False)\n",
    "city_pivot_table.plot(kind='bar',grid=True,figsize = (10,5))\n",
    "ax = plt.gca()\n",
    "ax.get_legend().remove()\n",
    "plt.xlabel(\"Город\", fontsize=10, fontweight=\"regular\")\n",
    "plt.ylabel(\"Количество\", fontsize=10, fontweight=\"regular\")\n",
    "plt.title(label='Частота встречаемости городов', loc='center', fontweight=\"bold\")"
   ]
  },
  {
   "cell_type": "markdown",
   "id": "742d9e9f",
   "metadata": {},
   "source": [
    "По гистограмме можно сделать вывод, что топ 3 встречающихся городов: Пятигорск(219),Екатеринбург(204),Ростов-на-Дону(198)"
   ]
  },
  {
   "cell_type": "code",
   "execution_count": 15,
   "id": "23468088",
   "metadata": {},
   "outputs": [
    {
     "data": {
      "image/png": "[encoded data removed]",
      "text/plain": [
       "<Figure size 720x360 with 1 Axes>"
      ]
     },
     "metadata": {},
     "output_type": "display_data"
    },
    {
     "data": {
      "text/html": [
       "<div>\n",
       "<style scoped>\n",
       "    .dataframe tbody tr th:only-of-type {\n",
       "        vertical-align: middle;\n",
       "    }\n",
       "\n",
       "    .dataframe tbody tr th {\n",
       "        vertical-align: top;\n",
       "    }\n",
       "\n",
       "    .dataframe thead th {\n",
       "        text-align: right;\n",
       "    }\n",
       "</style>\n",
       "<table border=\"1\" class=\"dataframe\">\n",
       "  <thead>\n",
       "    <tr style=\"text-align: right;\">\n",
       "      <th></th>\n",
       "      <th>кол-во пользователей</th>\n",
       "    </tr>\n",
       "    <tr>\n",
       "      <th>subscription_type</th>\n",
       "      <th></th>\n",
       "    </tr>\n",
       "  </thead>\n",
       "  <tbody>\n",
       "    <tr>\n",
       "      <th>free</th>\n",
       "      <td>835</td>\n",
       "    </tr>\n",
       "    <tr>\n",
       "      <th>ultra</th>\n",
       "      <td>699</td>\n",
       "    </tr>\n",
       "  </tbody>\n",
       "</table>\n",
       "</div>"
      ],
      "text/plain": [
       "                   кол-во пользователей\n",
       "subscription_type                      \n",
       "free                                835\n",
       "ultra                               699"
      ]
     },
     "execution_count": 15,
     "metadata": {},
     "output_type": "execute_result"
    }
   ],
   "source": [
    "# Проанализируем и визуализируем соотношение пользователей с подпиской и без подписки\n",
    "sub_pivot_table = df_users_go.pivot_table(index='subscription_type', values='user_id', aggfunc='count')\n",
    "sub_pivot_table.plot(kind='pie',y='user_id',figsize = (10,5), autopct='%1.1f%%', \n",
    "                     title='Отношение пользователей free, ultra к общему количеству')\n",
    "ax = plt.gca()\n",
    "ax.axes.xaxis.set_visible(False)\n",
    "ax.axes.yaxis.set_visible(False)\n",
    "ax.get_legend().remove()\n",
    "plt.show()\n",
    "sub_pivot_table.rename(columns = {'user_id' : 'кол-во пользователей'},inplace = True)\n",
    "sub_pivot_table"
   ]
  },
  {
   "cell_type": "markdown",
   "id": "e8a14a38",
   "metadata": {},
   "source": [
    "По соотношению, можно сделать вывод, что пользователей с подпиской free больше, чем пользователей с подпиской ultra."
   ]
  },
  {
   "cell_type": "code",
   "execution_count": 16,
   "id": "e6bc79de",
   "metadata": {},
   "outputs": [
    {
     "data": {
      "text/plain": [
       "Text(0.5, 1.0, 'Возраст пользователей')"
      ]
     },
     "execution_count": 16,
     "metadata": {},
     "output_type": "execute_result"
    },
    {
     "data": {
      "image/png": "[encoded data removed]",
      "text/plain": [
       "<Figure size 720x360 with 1 Axes>"
      ]
     },
     "metadata": {
      "needs_background": "light"
     },
     "output_type": "display_data"
    }
   ],
   "source": [
    "# Проанализируем и визуализируем возраст пользователей\n",
    "age_pivot_table = df_users_go.pivot_table(index='age', values='user_id', aggfunc='count').sort_values(by='age',ascending=False)\n",
    "age_pivot_table.plot(kind='bar',grid=True,figsize = (10,5))\n",
    "ax = plt.gca()\n",
    "ax.get_legend().remove()\n",
    "plt.xlabel(\"Возраст\", fontsize=10, fontweight=\"regular\")\n",
    "plt.ylabel(\"Количество\", fontsize=10, fontweight=\"regular\")\n",
    "plt.title(label='Возраст пользователей', loc='center', fontweight=\"bold\")"
   ]
  },
  {
   "cell_type": "markdown",
   "id": "1126297a",
   "metadata": {},
   "source": [
    "По графику можно сделать вывод, что преобладают пользователи от 20-30 лет."
   ]
  },
  {
   "cell_type": "code",
   "execution_count": 17,
   "id": "ebd6058a",
   "metadata": {},
   "outputs": [
    {
     "data": {
      "text/plain": [
       "Text(0, 0.5, 'Количество пользователей')"
      ]
     },
     "execution_count": 17,
     "metadata": {},
     "output_type": "execute_result"
    },
    {
     "data": {
      "image/png": "[encoded data removed]",
      "text/plain": [
       "<Figure size 720x360 with 1 Axes>"
      ]
     },
     "metadata": {
      "needs_background": "light"
     },
     "output_type": "display_data"
    }
   ],
   "source": [
    "# Проанализируем и визуализируем расстояние, которое пользователь преодолел за одну поездку;\n",
    "df_riders_go['distance'].hist(bins=50,figsize=(10,5))\n",
    "plt.title('Расстояние пройденное за 1 поездку', loc='center', fontweight=\"bold\")\n",
    "plt.xlabel(\"Расстояние в метрах\", fontsize=10, fontweight=\"regular\")\n",
    "plt.ylabel(\"Количество пользователей\", fontsize=10, fontweight=\"regular\")"
   ]
  },
  {
   "cell_type": "markdown",
   "id": "18fa6b41",
   "metadata": {},
   "source": [
    "Тут можем заметить небольшое деление на 2 группы, пользователи с короткой поездкой до 1км (либо передумали, случилась ошибка, либо и вправду нужно было преодалеть такое малое растояение за короткий промежуток времени) и пользователи, который преодолели расстояние от 2км до 5км."
   ]
  },
  {
   "cell_type": "code",
   "execution_count": 18,
   "id": "da492f50",
   "metadata": {},
   "outputs": [
    {
     "data": {
      "text/plain": [
       "Text(0, 0.5, 'Количество пользователей')"
      ]
     },
     "execution_count": 18,
     "metadata": {},
     "output_type": "execute_result"
    },
    {
     "data": {
      "image/png": "[encoded data removed]",
      "text/plain": [
       "<Figure size 720x360 with 1 Axes>"
      ]
     },
     "metadata": {
      "needs_background": "light"
     },
     "output_type": "display_data"
    }
   ],
   "source": [
    "# Проанализируем и визуализируем продолжительность поездок.\n",
    "df_riders_go['duration'].hist(bins=50,figsize=(10,5))\n",
    "plt.title('Продолжительность поездки', loc='center', fontweight=\"bold\")\n",
    "plt.xlabel(\"Время в минутах\", fontsize=10, fontweight=\"regular\")\n",
    "plt.ylabel(\"Количество пользователей\", fontsize=10, fontweight=\"regular\")"
   ]
  },
  {
   "cell_type": "markdown",
   "id": "98e30458",
   "metadata": {},
   "source": [
    "Основная масса пользователей совершала поездки от 5 до 30 минут, также видим небольшой выброс около 0, возомжно данные пользователи отменяли свою поездку."
   ]
  },
  {
   "cell_type": "markdown",
   "id": "b4e35830",
   "metadata": {},
   "source": [
    "**Вывод по 3 шагу:**\n",
    "\n",
    "Были описаны и визуализированны такие параметры как:\n",
    "\n",
    "* Частота встречаемости городов, где топ-3 города Пятигорск, Екатеренбург и Росотов-на-Дону.\n",
    "\n",
    "\n",
    "* Соотношение пользователей с подпиской и без подписки, оказалось что пользователей с подпиской free больше.\n",
    "\n",
    "\n",
    "* Возраст пользователей, основная масса 20-30 лет.\n",
    "\n",
    "\n",
    "* Расстояние, которое пользователь преодолел за одну поездку, есть группа пользователей с поездками до 1км, но в основном пользватели преодолевали расстояния от 2км до 5км.\n",
    "\n",
    "\n",
    "* Продолжительность поездок, есть небольшой выброс в данных, это возможно объясняется отменой поездки сразу же после оформления. В основной массе пользователи тратили на 1 поездку от 5 до 30 минут."
   ]
  },
  {
   "cell_type": "markdown",
   "id": "968ad20f",
   "metadata": {},
   "source": [
    "#### Шаг 4. Объединение данных"
   ]
  },
  {
   "cell_type": "code",
   "execution_count": 19,
   "id": "14bd2fc8",
   "metadata": {},
   "outputs": [
    {
     "name": "stdout",
     "output_type": "stream",
     "text": [
      "<class 'pandas.core.frame.DataFrame'>\n",
      "Int64Index: 18068 entries, 0 to 18067\n",
      "Data columns (total 12 columns):\n",
      " #   Column             Non-Null Count  Dtype         \n",
      "---  ------             --------------  -----         \n",
      " 0   user_id            18068 non-null  int64         \n",
      " 1   name               18068 non-null  object        \n",
      " 2   age                18068 non-null  int64         \n",
      " 3   city               18068 non-null  object        \n",
      " 4   subscription_type  18068 non-null  object        \n",
      " 5   distance           18068 non-null  float64       \n",
      " 6   duration           18068 non-null  float64       \n",
      " 7   date               18068 non-null  datetime64[ns]\n",
      " 8   date_month         18068 non-null  int64         \n",
      " 9   minute_price       18068 non-null  int64         \n",
      " 10  start_ride_price   18068 non-null  int64         \n",
      " 11  subscription_fee   18068 non-null  int64         \n",
      "dtypes: datetime64[ns](1), float64(2), int64(6), object(3)\n",
      "memory usage: 1.8+ MB\n"
     ]
    }
   ],
   "source": [
    "# Создадим датафрейм объединяющий данные о пользователях, поездках и подписках.\n",
    "df = df_users_go.merge(df_riders_go)\n",
    "df = df.merge(df_subscriptions_go)\n",
    "df.info()"
   ]
  },
  {
   "cell_type": "code",
   "execution_count": 20,
   "id": "f722f3b7",
   "metadata": {},
   "outputs": [],
   "source": [
    "# Создадим дополнительные датафреймы с free и ultra подписками\n",
    "df_free_sub = df[df['subscription_type'] == 'free']\n",
    "df_ultra_sub = df.query('subscription_type == \"ultra\"')"
   ]
  },
  {
   "cell_type": "code",
   "execution_count": 21,
   "id": "00e74e12",
   "metadata": {},
   "outputs": [
    {
     "data": {
      "text/html": [
       "<div>\n",
       "<style scoped>\n",
       "    .dataframe tbody tr th:only-of-type {\n",
       "        vertical-align: middle;\n",
       "    }\n",
       "\n",
       "    .dataframe tbody tr th {\n",
       "        vertical-align: top;\n",
       "    }\n",
       "\n",
       "    .dataframe thead th {\n",
       "        text-align: right;\n",
       "    }\n",
       "</style>\n",
       "<table border=\"1\" class=\"dataframe\">\n",
       "  <thead>\n",
       "    <tr style=\"text-align: right;\">\n",
       "      <th></th>\n",
       "      <th>user_id</th>\n",
       "      <th>name</th>\n",
       "      <th>age</th>\n",
       "      <th>city</th>\n",
       "      <th>subscription_type</th>\n",
       "      <th>distance</th>\n",
       "      <th>duration</th>\n",
       "      <th>date</th>\n",
       "      <th>date_month</th>\n",
       "      <th>minute_price</th>\n",
       "      <th>start_ride_price</th>\n",
       "      <th>subscription_fee</th>\n",
       "    </tr>\n",
       "  </thead>\n",
       "  <tbody>\n",
       "    <tr>\n",
       "      <th>6500</th>\n",
       "      <td>700</td>\n",
       "      <td>Айдар</td>\n",
       "      <td>22</td>\n",
       "      <td>Омск</td>\n",
       "      <td>free</td>\n",
       "      <td>2515.690719</td>\n",
       "      <td>14.944286</td>\n",
       "      <td>2021-01-02</td>\n",
       "      <td>1</td>\n",
       "      <td>8</td>\n",
       "      <td>50</td>\n",
       "      <td>0</td>\n",
       "    </tr>\n",
       "    <tr>\n",
       "      <th>6501</th>\n",
       "      <td>700</td>\n",
       "      <td>Айдар</td>\n",
       "      <td>22</td>\n",
       "      <td>Омск</td>\n",
       "      <td>free</td>\n",
       "      <td>846.932642</td>\n",
       "      <td>16.234663</td>\n",
       "      <td>2021-02-01</td>\n",
       "      <td>2</td>\n",
       "      <td>8</td>\n",
       "      <td>50</td>\n",
       "      <td>0</td>\n",
       "    </tr>\n",
       "    <tr>\n",
       "      <th>6502</th>\n",
       "      <td>700</td>\n",
       "      <td>Айдар</td>\n",
       "      <td>22</td>\n",
       "      <td>Омск</td>\n",
       "      <td>free</td>\n",
       "      <td>4004.434142</td>\n",
       "      <td>20.016628</td>\n",
       "      <td>2021-02-04</td>\n",
       "      <td>2</td>\n",
       "      <td>8</td>\n",
       "      <td>50</td>\n",
       "      <td>0</td>\n",
       "    </tr>\n",
       "    <tr>\n",
       "      <th>6503</th>\n",
       "      <td>700</td>\n",
       "      <td>Айдар</td>\n",
       "      <td>22</td>\n",
       "      <td>Омск</td>\n",
       "      <td>free</td>\n",
       "      <td>1205.911290</td>\n",
       "      <td>9.782872</td>\n",
       "      <td>2021-02-10</td>\n",
       "      <td>2</td>\n",
       "      <td>8</td>\n",
       "      <td>50</td>\n",
       "      <td>0</td>\n",
       "    </tr>\n",
       "    <tr>\n",
       "      <th>6504</th>\n",
       "      <td>700</td>\n",
       "      <td>Айдар</td>\n",
       "      <td>22</td>\n",
       "      <td>Омск</td>\n",
       "      <td>free</td>\n",
       "      <td>3047.379435</td>\n",
       "      <td>17.427673</td>\n",
       "      <td>2021-02-14</td>\n",
       "      <td>2</td>\n",
       "      <td>8</td>\n",
       "      <td>50</td>\n",
       "      <td>0</td>\n",
       "    </tr>\n",
       "    <tr>\n",
       "      <th>6505</th>\n",
       "      <td>700</td>\n",
       "      <td>Айдар</td>\n",
       "      <td>22</td>\n",
       "      <td>Омск</td>\n",
       "      <td>free</td>\n",
       "      <td>4342.002254</td>\n",
       "      <td>22.368009</td>\n",
       "      <td>2021-02-23</td>\n",
       "      <td>2</td>\n",
       "      <td>8</td>\n",
       "      <td>50</td>\n",
       "      <td>0</td>\n",
       "    </tr>\n",
       "    <tr>\n",
       "      <th>6506</th>\n",
       "      <td>700</td>\n",
       "      <td>Айдар</td>\n",
       "      <td>22</td>\n",
       "      <td>Омск</td>\n",
       "      <td>free</td>\n",
       "      <td>3798.334905</td>\n",
       "      <td>18.243756</td>\n",
       "      <td>2021-03-03</td>\n",
       "      <td>3</td>\n",
       "      <td>8</td>\n",
       "      <td>50</td>\n",
       "      <td>0</td>\n",
       "    </tr>\n",
       "    <tr>\n",
       "      <th>6507</th>\n",
       "      <td>700</td>\n",
       "      <td>Айдар</td>\n",
       "      <td>22</td>\n",
       "      <td>Омск</td>\n",
       "      <td>free</td>\n",
       "      <td>2984.551206</td>\n",
       "      <td>15.424899</td>\n",
       "      <td>2021-04-09</td>\n",
       "      <td>4</td>\n",
       "      <td>8</td>\n",
       "      <td>50</td>\n",
       "      <td>0</td>\n",
       "    </tr>\n",
       "    <tr>\n",
       "      <th>6508</th>\n",
       "      <td>700</td>\n",
       "      <td>Айдар</td>\n",
       "      <td>22</td>\n",
       "      <td>Омск</td>\n",
       "      <td>free</td>\n",
       "      <td>3360.107141</td>\n",
       "      <td>16.765497</td>\n",
       "      <td>2021-06-12</td>\n",
       "      <td>6</td>\n",
       "      <td>8</td>\n",
       "      <td>50</td>\n",
       "      <td>0</td>\n",
       "    </tr>\n",
       "    <tr>\n",
       "      <th>6509</th>\n",
       "      <td>700</td>\n",
       "      <td>Айдар</td>\n",
       "      <td>22</td>\n",
       "      <td>Омск</td>\n",
       "      <td>free</td>\n",
       "      <td>2567.543847</td>\n",
       "      <td>11.312160</td>\n",
       "      <td>2021-06-23</td>\n",
       "      <td>6</td>\n",
       "      <td>8</td>\n",
       "      <td>50</td>\n",
       "      <td>0</td>\n",
       "    </tr>\n",
       "  </tbody>\n",
       "</table>\n",
       "</div>"
      ],
      "text/plain": [
       "      user_id   name  age  city subscription_type     distance   duration  \\\n",
       "6500      700  Айдар   22  Омск              free  2515.690719  14.944286   \n",
       "6501      700  Айдар   22  Омск              free   846.932642  16.234663   \n",
       "6502      700  Айдар   22  Омск              free  4004.434142  20.016628   \n",
       "6503      700  Айдар   22  Омск              free  1205.911290   9.782872   \n",
       "6504      700  Айдар   22  Омск              free  3047.379435  17.427673   \n",
       "6505      700  Айдар   22  Омск              free  4342.002254  22.368009   \n",
       "6506      700  Айдар   22  Омск              free  3798.334905  18.243756   \n",
       "6507      700  Айдар   22  Омск              free  2984.551206  15.424899   \n",
       "6508      700  Айдар   22  Омск              free  3360.107141  16.765497   \n",
       "6509      700  Айдар   22  Омск              free  2567.543847  11.312160   \n",
       "\n",
       "           date  date_month  minute_price  start_ride_price  subscription_fee  \n",
       "6500 2021-01-02           1             8                50                 0  \n",
       "6501 2021-02-01           2             8                50                 0  \n",
       "6502 2021-02-04           2             8                50                 0  \n",
       "6503 2021-02-10           2             8                50                 0  \n",
       "6504 2021-02-14           2             8                50                 0  \n",
       "6505 2021-02-23           2             8                50                 0  \n",
       "6506 2021-03-03           3             8                50                 0  \n",
       "6507 2021-04-09           4             8                50                 0  \n",
       "6508 2021-06-12           6             8                50                 0  \n",
       "6509 2021-06-23           6             8                50                 0  "
      ]
     },
     "execution_count": 21,
     "metadata": {},
     "output_type": "execute_result"
    }
   ],
   "source": [
    "df_free_sub.head(10)"
   ]
  },
  {
   "cell_type": "code",
   "execution_count": 22,
   "id": "abfe7691",
   "metadata": {},
   "outputs": [
    {
     "data": {
      "text/html": [
       "<div>\n",
       "<style scoped>\n",
       "    .dataframe tbody tr th:only-of-type {\n",
       "        vertical-align: middle;\n",
       "    }\n",
       "\n",
       "    .dataframe tbody tr th {\n",
       "        vertical-align: top;\n",
       "    }\n",
       "\n",
       "    .dataframe thead th {\n",
       "        text-align: right;\n",
       "    }\n",
       "</style>\n",
       "<table border=\"1\" class=\"dataframe\">\n",
       "  <thead>\n",
       "    <tr style=\"text-align: right;\">\n",
       "      <th></th>\n",
       "      <th>user_id</th>\n",
       "      <th>name</th>\n",
       "      <th>age</th>\n",
       "      <th>city</th>\n",
       "      <th>subscription_type</th>\n",
       "      <th>distance</th>\n",
       "      <th>duration</th>\n",
       "      <th>date</th>\n",
       "      <th>date_month</th>\n",
       "      <th>minute_price</th>\n",
       "      <th>start_ride_price</th>\n",
       "      <th>subscription_fee</th>\n",
       "    </tr>\n",
       "  </thead>\n",
       "  <tbody>\n",
       "    <tr>\n",
       "      <th>0</th>\n",
       "      <td>1</td>\n",
       "      <td>Кира</td>\n",
       "      <td>22</td>\n",
       "      <td>Тюмень</td>\n",
       "      <td>ultra</td>\n",
       "      <td>4409.919140</td>\n",
       "      <td>25.599769</td>\n",
       "      <td>2021-01-01</td>\n",
       "      <td>1</td>\n",
       "      <td>6</td>\n",
       "      <td>0</td>\n",
       "      <td>199</td>\n",
       "    </tr>\n",
       "    <tr>\n",
       "      <th>1</th>\n",
       "      <td>1</td>\n",
       "      <td>Кира</td>\n",
       "      <td>22</td>\n",
       "      <td>Тюмень</td>\n",
       "      <td>ultra</td>\n",
       "      <td>2617.592153</td>\n",
       "      <td>15.816871</td>\n",
       "      <td>2021-01-18</td>\n",
       "      <td>1</td>\n",
       "      <td>6</td>\n",
       "      <td>0</td>\n",
       "      <td>199</td>\n",
       "    </tr>\n",
       "    <tr>\n",
       "      <th>2</th>\n",
       "      <td>1</td>\n",
       "      <td>Кира</td>\n",
       "      <td>22</td>\n",
       "      <td>Тюмень</td>\n",
       "      <td>ultra</td>\n",
       "      <td>754.159807</td>\n",
       "      <td>6.232113</td>\n",
       "      <td>2021-04-20</td>\n",
       "      <td>4</td>\n",
       "      <td>6</td>\n",
       "      <td>0</td>\n",
       "      <td>199</td>\n",
       "    </tr>\n",
       "    <tr>\n",
       "      <th>3</th>\n",
       "      <td>1</td>\n",
       "      <td>Кира</td>\n",
       "      <td>22</td>\n",
       "      <td>Тюмень</td>\n",
       "      <td>ultra</td>\n",
       "      <td>2694.783254</td>\n",
       "      <td>18.511000</td>\n",
       "      <td>2021-08-11</td>\n",
       "      <td>8</td>\n",
       "      <td>6</td>\n",
       "      <td>0</td>\n",
       "      <td>199</td>\n",
       "    </tr>\n",
       "    <tr>\n",
       "      <th>4</th>\n",
       "      <td>1</td>\n",
       "      <td>Кира</td>\n",
       "      <td>22</td>\n",
       "      <td>Тюмень</td>\n",
       "      <td>ultra</td>\n",
       "      <td>4028.687306</td>\n",
       "      <td>26.265803</td>\n",
       "      <td>2021-08-28</td>\n",
       "      <td>8</td>\n",
       "      <td>6</td>\n",
       "      <td>0</td>\n",
       "      <td>199</td>\n",
       "    </tr>\n",
       "    <tr>\n",
       "      <th>5</th>\n",
       "      <td>1</td>\n",
       "      <td>Кира</td>\n",
       "      <td>22</td>\n",
       "      <td>Тюмень</td>\n",
       "      <td>ultra</td>\n",
       "      <td>2770.890808</td>\n",
       "      <td>16.650138</td>\n",
       "      <td>2021-10-09</td>\n",
       "      <td>10</td>\n",
       "      <td>6</td>\n",
       "      <td>0</td>\n",
       "      <td>199</td>\n",
       "    </tr>\n",
       "    <tr>\n",
       "      <th>6</th>\n",
       "      <td>1</td>\n",
       "      <td>Кира</td>\n",
       "      <td>22</td>\n",
       "      <td>Тюмень</td>\n",
       "      <td>ultra</td>\n",
       "      <td>3039.020292</td>\n",
       "      <td>14.927879</td>\n",
       "      <td>2021-10-19</td>\n",
       "      <td>10</td>\n",
       "      <td>6</td>\n",
       "      <td>0</td>\n",
       "      <td>199</td>\n",
       "    </tr>\n",
       "    <tr>\n",
       "      <th>7</th>\n",
       "      <td>1</td>\n",
       "      <td>Кира</td>\n",
       "      <td>22</td>\n",
       "      <td>Тюмень</td>\n",
       "      <td>ultra</td>\n",
       "      <td>2842.118050</td>\n",
       "      <td>23.117468</td>\n",
       "      <td>2021-11-06</td>\n",
       "      <td>11</td>\n",
       "      <td>6</td>\n",
       "      <td>0</td>\n",
       "      <td>199</td>\n",
       "    </tr>\n",
       "    <tr>\n",
       "      <th>8</th>\n",
       "      <td>1</td>\n",
       "      <td>Кира</td>\n",
       "      <td>22</td>\n",
       "      <td>Тюмень</td>\n",
       "      <td>ultra</td>\n",
       "      <td>3412.690668</td>\n",
       "      <td>15.238072</td>\n",
       "      <td>2021-11-14</td>\n",
       "      <td>11</td>\n",
       "      <td>6</td>\n",
       "      <td>0</td>\n",
       "      <td>199</td>\n",
       "    </tr>\n",
       "    <tr>\n",
       "      <th>9</th>\n",
       "      <td>1</td>\n",
       "      <td>Кира</td>\n",
       "      <td>22</td>\n",
       "      <td>Тюмень</td>\n",
       "      <td>ultra</td>\n",
       "      <td>748.690645</td>\n",
       "      <td>15.041884</td>\n",
       "      <td>2021-11-22</td>\n",
       "      <td>11</td>\n",
       "      <td>6</td>\n",
       "      <td>0</td>\n",
       "      <td>199</td>\n",
       "    </tr>\n",
       "  </tbody>\n",
       "</table>\n",
       "</div>"
      ],
      "text/plain": [
       "   user_id  name  age    city subscription_type     distance   duration  \\\n",
       "0        1  Кира   22  Тюмень             ultra  4409.919140  25.599769   \n",
       "1        1  Кира   22  Тюмень             ultra  2617.592153  15.816871   \n",
       "2        1  Кира   22  Тюмень             ultra   754.159807   6.232113   \n",
       "3        1  Кира   22  Тюмень             ultra  2694.783254  18.511000   \n",
       "4        1  Кира   22  Тюмень             ultra  4028.687306  26.265803   \n",
       "5        1  Кира   22  Тюмень             ultra  2770.890808  16.650138   \n",
       "6        1  Кира   22  Тюмень             ultra  3039.020292  14.927879   \n",
       "7        1  Кира   22  Тюмень             ultra  2842.118050  23.117468   \n",
       "8        1  Кира   22  Тюмень             ultra  3412.690668  15.238072   \n",
       "9        1  Кира   22  Тюмень             ultra   748.690645  15.041884   \n",
       "\n",
       "        date  date_month  minute_price  start_ride_price  subscription_fee  \n",
       "0 2021-01-01           1             6                 0               199  \n",
       "1 2021-01-18           1             6                 0               199  \n",
       "2 2021-04-20           4             6                 0               199  \n",
       "3 2021-08-11           8             6                 0               199  \n",
       "4 2021-08-28           8             6                 0               199  \n",
       "5 2021-10-09          10             6                 0               199  \n",
       "6 2021-10-19          10             6                 0               199  \n",
       "7 2021-11-06          11             6                 0               199  \n",
       "8 2021-11-14          11             6                 0               199  \n",
       "9 2021-11-22          11             6                 0               199  "
      ]
     },
     "execution_count": 22,
     "metadata": {},
     "output_type": "execute_result"
    }
   ],
   "source": [
    "df_ultra_sub.head(10)"
   ]
  },
  {
   "cell_type": "code",
   "execution_count": 23,
   "id": "7fe1d005",
   "metadata": {},
   "outputs": [
    {
     "data": {
      "image/png": "[encoded data removed]",
      "text/plain": [
       "<Figure size 432x288 with 1 Axes>"
      ]
     },
     "metadata": {
      "needs_background": "light"
     },
     "output_type": "display_data"
    }
   ],
   "source": [
    "# Визуализируем информацию о расстоянии и времени поездок для пользователей обеих категорий.\n",
    "\n",
    "plt.hist([df_free_sub['distance'], df_ultra_sub['distance']], bins=50, stacked=True, color=['Yellow', 'Pink'], edgecolor='black')\n",
    "plt.legend(['free', 'ultra'])\n",
    "plt.xlabel('Расстояние')\n",
    "plt.ylabel('Кол-во')\n",
    "plt.title('Пройденное расстояние обеих категорий пользователей')\n",
    "plt.show()"
   ]
  },
  {
   "cell_type": "markdown",
   "id": "6e19303e",
   "metadata": {},
   "source": [
    "Сравнив пройденное растояние обеих категорий, можно сделать вывод, что пользователи с подпиской ultra чаще преодалевают расстояние более 3км, возможно это связанно с тем, что стоимость старта и стоимость 1 минуты поездки меньше, чем в подписке free."
   ]
  },
  {
   "cell_type": "code",
   "execution_count": 24,
   "id": "bf4616e5",
   "metadata": {},
   "outputs": [
    {
     "data": {
      "image/png": "[encoded data removed]",
      "text/plain": [
       "<Figure size 432x288 with 1 Axes>"
      ]
     },
     "metadata": {
      "needs_background": "light"
     },
     "output_type": "display_data"
    }
   ],
   "source": [
    "plt.hist([df_free_sub['duration'], df_ultra_sub['duration']], bins=50, stacked=True, color=['Yellow', 'Pink'], edgecolor='black')\n",
    "plt.legend(['free', 'ultra'])\n",
    "plt.xlabel('Расстояние')\n",
    "plt.ylabel('Кол-во')\n",
    "plt.title('Пройденное расстояние обеих категорий пользователей')\n",
    "plt.show()"
   ]
  },
  {
   "cell_type": "markdown",
   "id": "164bee5d",
   "metadata": {},
   "source": [
    "Особо сильных отличий в длительности поездки между двумя категорями нет."
   ]
  },
  {
   "cell_type": "markdown",
   "id": "eed497a5",
   "metadata": {},
   "source": [
    "**Вывод по 4 шагу:**\n",
    "\n",
    "* Был создан полный датафрейм df, с помощью объединения 3 изначальных.\n",
    "\n",
    "* Из полного датафрейма были выделены 2 группы пользователей исходя из их подписок (free и ultra).\n",
    "\n",
    "* Проанализировав и сравнив 2 новые группы, были сделаны выводы, что пользователи с ultra подпиской преодалевают большее расстояние, возможно из-за пониженной стоимости поездки за 1 минуту."
   ]
  },
  {
   "cell_type": "markdown",
   "id": "4a2c6bbd",
   "metadata": {},
   "source": [
    "#### Шаг 5. Подсчёт выручки"
   ]
  },
  {
   "cell_type": "code",
   "execution_count": 25,
   "id": "8b8fe22f",
   "metadata": {},
   "outputs": [
    {
     "data": {
      "text/html": [
       "<div>\n",
       "<style scoped>\n",
       "    .dataframe tbody tr th:only-of-type {\n",
       "        vertical-align: middle;\n",
       "    }\n",
       "\n",
       "    .dataframe tbody tr th {\n",
       "        vertical-align: top;\n",
       "    }\n",
       "\n",
       "    .dataframe thead th {\n",
       "        text-align: right;\n",
       "    }\n",
       "</style>\n",
       "<table border=\"1\" class=\"dataframe\">\n",
       "  <thead>\n",
       "    <tr style=\"text-align: right;\">\n",
       "      <th></th>\n",
       "      <th></th>\n",
       "      <th>total_distance</th>\n",
       "      <th>total_duration</th>\n",
       "      <th>trips</th>\n",
       "      <th>subscription_type</th>\n",
       "    </tr>\n",
       "    <tr>\n",
       "      <th>user_id</th>\n",
       "      <th>date_month</th>\n",
       "      <th></th>\n",
       "      <th></th>\n",
       "      <th></th>\n",
       "      <th></th>\n",
       "    </tr>\n",
       "  </thead>\n",
       "  <tbody>\n",
       "    <tr>\n",
       "      <th rowspan=\"6\" valign=\"top\">1</th>\n",
       "      <th>1</th>\n",
       "      <td>7027.511294</td>\n",
       "      <td>42.0</td>\n",
       "      <td>2</td>\n",
       "      <td>ultra</td>\n",
       "    </tr>\n",
       "    <tr>\n",
       "      <th>4</th>\n",
       "      <td>754.159807</td>\n",
       "      <td>7.0</td>\n",
       "      <td>1</td>\n",
       "      <td>ultra</td>\n",
       "    </tr>\n",
       "    <tr>\n",
       "      <th>8</th>\n",
       "      <td>6723.470560</td>\n",
       "      <td>46.0</td>\n",
       "      <td>2</td>\n",
       "      <td>ultra</td>\n",
       "    </tr>\n",
       "    <tr>\n",
       "      <th>10</th>\n",
       "      <td>5809.911100</td>\n",
       "      <td>32.0</td>\n",
       "      <td>2</td>\n",
       "      <td>ultra</td>\n",
       "    </tr>\n",
       "    <tr>\n",
       "      <th>11</th>\n",
       "      <td>7003.499363</td>\n",
       "      <td>56.0</td>\n",
       "      <td>3</td>\n",
       "      <td>ultra</td>\n",
       "    </tr>\n",
       "    <tr>\n",
       "      <th>12</th>\n",
       "      <td>6751.629942</td>\n",
       "      <td>28.0</td>\n",
       "      <td>2</td>\n",
       "      <td>ultra</td>\n",
       "    </tr>\n",
       "    <tr>\n",
       "      <th rowspan=\"4\" valign=\"top\">2</th>\n",
       "      <th>3</th>\n",
       "      <td>10187.723006</td>\n",
       "      <td>63.0</td>\n",
       "      <td>3</td>\n",
       "      <td>ultra</td>\n",
       "    </tr>\n",
       "    <tr>\n",
       "      <th>4</th>\n",
       "      <td>6164.381824</td>\n",
       "      <td>40.0</td>\n",
       "      <td>2</td>\n",
       "      <td>ultra</td>\n",
       "    </tr>\n",
       "    <tr>\n",
       "      <th>6</th>\n",
       "      <td>3255.338202</td>\n",
       "      <td>14.0</td>\n",
       "      <td>1</td>\n",
       "      <td>ultra</td>\n",
       "    </tr>\n",
       "    <tr>\n",
       "      <th>7</th>\n",
       "      <td>6780.722964</td>\n",
       "      <td>48.0</td>\n",
       "      <td>2</td>\n",
       "      <td>ultra</td>\n",
       "    </tr>\n",
       "  </tbody>\n",
       "</table>\n",
       "</div>"
      ],
      "text/plain": [
       "                    total_distance  total_duration  trips subscription_type\n",
       "user_id date_month                                                         \n",
       "1       1              7027.511294            42.0      2             ultra\n",
       "        4               754.159807             7.0      1             ultra\n",
       "        8              6723.470560            46.0      2             ultra\n",
       "        10             5809.911100            32.0      2             ultra\n",
       "        11             7003.499363            56.0      3             ultra\n",
       "        12             6751.629942            28.0      2             ultra\n",
       "2       3             10187.723006            63.0      3             ultra\n",
       "        4              6164.381824            40.0      2             ultra\n",
       "        6              3255.338202            14.0      1             ultra\n",
       "        7              6780.722964            48.0      2             ultra"
      ]
     },
     "execution_count": 25,
     "metadata": {},
     "output_type": "execute_result"
    }
   ],
   "source": [
    "# Создадим датафрейм с агрегированными данными о поездках \n",
    "# Найдем суммарное расстояние, количество поездок и суммарное время для каждого пользователя за каждый месяц\n",
    "\n",
    "# Округлим время поездки\n",
    "df['duration'] = np.ceil(df['duration'])\n",
    "df_pivot_sum_month = df.pivot_table(index =['user_id','date_month'],\n",
    "                                   values = ('distance','name','duration','subscription_type'),\n",
    "                                   aggfunc = ({'distance': sum,'name': len,'duration': sum,'subscription_type': max})\n",
    "                                   )\n",
    "df_pivot_sum_month.rename(columns = {'name' : 'trips','date_month' : 'month', 'distance' : 'total_distance',\n",
    "                                    'duration' : 'total_duration'}, inplace = True)\n",
    "df_pivot_sum_month.head(10)"
   ]
  },
  {
   "cell_type": "code",
   "execution_count": 26,
   "id": "35e4223a",
   "metadata": {},
   "outputs": [],
   "source": [
    "# Добавим к новому датафрейму выручку за месяц для этого можем создать функцию, которая будет считать выручку исходя из тарифа.\n",
    "#free\n",
    "#абонентская плата отсутствует;\n",
    "#стоимость одной минуты поездки — 8 рублей;\n",
    "#стоимость старта (начала поездки) — 50 рублей;\n",
    "#ultra\n",
    "#абонентская плата — 199 рублей в месяц;\n",
    "#стоимость одной минуты поездки — 6 рублей;\n",
    "#стоимость старта — бесплатно. \n",
    "\n",
    "\n",
    "def revenue_count(frame):\n",
    "    if frame['subscription_type'] == 'free':\n",
    "       return 8 * frame['total_duration'] + 50 * frame['trips']\n",
    "    elif frame['subscription_type'] == 'ultra':\n",
    "       return  6 * frame['total_duration'] + 199\n",
    "    else: \n",
    "        return 'error'\n",
    "        \n",
    "        "
   ]
  },
  {
   "cell_type": "code",
   "execution_count": 27,
   "id": "64aeaa25",
   "metadata": {},
   "outputs": [
    {
     "data": {
      "text/html": [
       "<div>\n",
       "<style scoped>\n",
       "    .dataframe tbody tr th:only-of-type {\n",
       "        vertical-align: middle;\n",
       "    }\n",
       "\n",
       "    .dataframe tbody tr th {\n",
       "        vertical-align: top;\n",
       "    }\n",
       "\n",
       "    .dataframe thead th {\n",
       "        text-align: right;\n",
       "    }\n",
       "</style>\n",
       "<table border=\"1\" class=\"dataframe\">\n",
       "  <thead>\n",
       "    <tr style=\"text-align: right;\">\n",
       "      <th></th>\n",
       "      <th></th>\n",
       "      <th>total_distance</th>\n",
       "      <th>total_duration</th>\n",
       "      <th>trips</th>\n",
       "      <th>subscription_type</th>\n",
       "      <th>revenue</th>\n",
       "    </tr>\n",
       "    <tr>\n",
       "      <th>user_id</th>\n",
       "      <th>date_month</th>\n",
       "      <th></th>\n",
       "      <th></th>\n",
       "      <th></th>\n",
       "      <th></th>\n",
       "      <th></th>\n",
       "    </tr>\n",
       "  </thead>\n",
       "  <tbody>\n",
       "    <tr>\n",
       "      <th rowspan=\"5\" valign=\"top\">1</th>\n",
       "      <th>1</th>\n",
       "      <td>7027.511294</td>\n",
       "      <td>42.0</td>\n",
       "      <td>2</td>\n",
       "      <td>ultra</td>\n",
       "      <td>451.0</td>\n",
       "    </tr>\n",
       "    <tr>\n",
       "      <th>4</th>\n",
       "      <td>754.159807</td>\n",
       "      <td>7.0</td>\n",
       "      <td>1</td>\n",
       "      <td>ultra</td>\n",
       "      <td>241.0</td>\n",
       "    </tr>\n",
       "    <tr>\n",
       "      <th>8</th>\n",
       "      <td>6723.470560</td>\n",
       "      <td>46.0</td>\n",
       "      <td>2</td>\n",
       "      <td>ultra</td>\n",
       "      <td>475.0</td>\n",
       "    </tr>\n",
       "    <tr>\n",
       "      <th>10</th>\n",
       "      <td>5809.911100</td>\n",
       "      <td>32.0</td>\n",
       "      <td>2</td>\n",
       "      <td>ultra</td>\n",
       "      <td>391.0</td>\n",
       "    </tr>\n",
       "    <tr>\n",
       "      <th>11</th>\n",
       "      <td>7003.499363</td>\n",
       "      <td>56.0</td>\n",
       "      <td>3</td>\n",
       "      <td>ultra</td>\n",
       "      <td>535.0</td>\n",
       "    </tr>\n",
       "    <tr>\n",
       "      <th>...</th>\n",
       "      <th>...</th>\n",
       "      <td>...</td>\n",
       "      <td>...</td>\n",
       "      <td>...</td>\n",
       "      <td>...</td>\n",
       "      <td>...</td>\n",
       "    </tr>\n",
       "    <tr>\n",
       "      <th rowspan=\"5\" valign=\"top\">1534</th>\n",
       "      <th>6</th>\n",
       "      <td>3409.468534</td>\n",
       "      <td>26.0</td>\n",
       "      <td>2</td>\n",
       "      <td>free</td>\n",
       "      <td>308.0</td>\n",
       "    </tr>\n",
       "    <tr>\n",
       "      <th>8</th>\n",
       "      <td>7622.453034</td>\n",
       "      <td>48.0</td>\n",
       "      <td>2</td>\n",
       "      <td>free</td>\n",
       "      <td>484.0</td>\n",
       "    </tr>\n",
       "    <tr>\n",
       "      <th>9</th>\n",
       "      <td>4928.173852</td>\n",
       "      <td>23.0</td>\n",
       "      <td>1</td>\n",
       "      <td>free</td>\n",
       "      <td>234.0</td>\n",
       "    </tr>\n",
       "    <tr>\n",
       "      <th>11</th>\n",
       "      <td>13350.015305</td>\n",
       "      <td>78.0</td>\n",
       "      <td>4</td>\n",
       "      <td>free</td>\n",
       "      <td>824.0</td>\n",
       "    </tr>\n",
       "    <tr>\n",
       "      <th>12</th>\n",
       "      <td>2371.711192</td>\n",
       "      <td>16.0</td>\n",
       "      <td>1</td>\n",
       "      <td>free</td>\n",
       "      <td>178.0</td>\n",
       "    </tr>\n",
       "  </tbody>\n",
       "</table>\n",
       "<p>11331 rows × 5 columns</p>\n",
       "</div>"
      ],
      "text/plain": [
       "                    total_distance  total_duration  trips subscription_type  \\\n",
       "user_id date_month                                                            \n",
       "1       1              7027.511294            42.0      2             ultra   \n",
       "        4               754.159807             7.0      1             ultra   \n",
       "        8              6723.470560            46.0      2             ultra   \n",
       "        10             5809.911100            32.0      2             ultra   \n",
       "        11             7003.499363            56.0      3             ultra   \n",
       "...                            ...             ...    ...               ...   \n",
       "1534    6              3409.468534            26.0      2              free   \n",
       "        8              7622.453034            48.0      2              free   \n",
       "        9              4928.173852            23.0      1              free   \n",
       "        11            13350.015305            78.0      4              free   \n",
       "        12             2371.711192            16.0      1              free   \n",
       "\n",
       "                    revenue  \n",
       "user_id date_month           \n",
       "1       1             451.0  \n",
       "        4             241.0  \n",
       "        8             475.0  \n",
       "        10            391.0  \n",
       "        11            535.0  \n",
       "...                     ...  \n",
       "1534    6             308.0  \n",
       "        8             484.0  \n",
       "        9             234.0  \n",
       "        11            824.0  \n",
       "        12            178.0  \n",
       "\n",
       "[11331 rows x 5 columns]"
      ]
     },
     "execution_count": 27,
     "metadata": {},
     "output_type": "execute_result"
    }
   ],
   "source": [
    "df_pivot_sum_month['revenue'] = df_pivot_sum_month.apply(revenue_count, axis=1)\n",
    "df_pivot_sum_month"
   ]
  },
  {
   "cell_type": "code",
   "execution_count": 28,
   "id": "27878f75",
   "metadata": {},
   "outputs": [
    {
     "name": "stdout",
     "output_type": "stream",
     "text": [
      "                   total_distance  total_duration  trips    revenue\n",
      "subscription_type                                                  \n",
      "free                 3.523029e+07        206963.0  11568  2234104.0\n",
      "ultra                2.025040e+07        123745.0   6500  1644537.0 \n",
      "\n",
      "Выручка за год:  3878641.0 \n",
      "\n",
      "                   total_distance  total_duration     trips     revenue\n",
      "subscription_type                                                      \n",
      "free                  5182.449164       30.444690  1.701677  328.641365\n",
      "ultra                 4467.327382       27.298698  1.433929  362.792191 \n",
      "\n"
     ]
    }
   ],
   "source": [
    "print(df_pivot_sum_month.groupby('subscription_type').sum(), '\\n')\n",
    "print('Выручка за год: ',df_pivot_sum_month['revenue'].sum(), '\\n')\n",
    "print(df_pivot_sum_month.groupby('subscription_type').mean(), '\\n')"
   ]
  },
  {
   "cell_type": "markdown",
   "id": "9e2e3d4c",
   "metadata": {},
   "source": [
    "**Вывод по 5 шагу:**\n",
    "\n",
    "Проведя анализ выручки, были сделаны выводы:\n",
    "\n",
    "* За год пользователи с подпиской free принесли на 576 483 рублей меньше, чем пользователи с подпиской ultra( стоит учитывать, что пользователей с подпиской free больше).\n",
    "\n",
    "* Общий доход за год: 3 853 677 рублей.\n",
    "\n",
    "* В среднем пользователи с подпиской free приносили 325 рублей в месяц, когда с подпиской ultra 361 рубль."
   ]
  },
  {
   "cell_type": "markdown",
   "id": "d7e24fbb",
   "metadata": {},
   "source": [
    "#### Шаг 6. Проверка гипотез"
   ]
  },
  {
   "cell_type": "markdown",
   "id": "93992fb2",
   "metadata": {},
   "source": [
    "**1 Гипотеза.**\n",
    "\n",
    "Важно понять, тратят ли пользователи с подпиской больше времени на поездки? Если да, то пользователи с подпиской могут быть «выгоднее» для компании. Проверьте гипотезу. Используйте исходные данные о продолжительности каждой сессии — отдельно для подписчиков и тех, у кого нет подписки.\n",
    "\n",
    "H0 : Продолжительность поездки подписки free и ultra равны.\n",
    "\n",
    "H1 : Продолжительность поездки подписки ultra > free.\n",
    "\n",
    "Уровень статистической значимости alpha = .05\n"
   ]
  },
  {
   "cell_type": "code",
   "execution_count": 29,
   "id": "2ecc85e1",
   "metadata": {},
   "outputs": [
    {
     "name": "stdout",
     "output_type": "stream",
     "text": [
      "1.2804098316645618e-34\n",
      "Отвергаем нулевую гипотезу\n"
     ]
    }
   ],
   "source": [
    "h_ultra = df_ultra_sub['duration']\n",
    "h_free = df_free_sub['duration']\n",
    "\n",
    "results = st.ttest_ind(h_ultra, h_free, alternative = 'greater')\n",
    "alpha = .05\n",
    "print(results.pvalue)\n",
    "if results.pvalue < alpha:\n",
    "    print('Отвергаем нулевую гипотезу')\n",
    "else:\n",
    "    print('Не удалось отвергнуть нулевую гипотезу')"
   ]
  },
  {
   "cell_type": "markdown",
   "id": "7ab3d510",
   "metadata": {},
   "source": [
    "1) Отвергнув нулевую гипотезу, мы можем сделать вывод, что пользователи с подпиской ultra, тратят больше времени на поездки."
   ]
  },
  {
   "cell_type": "markdown",
   "id": "651c6095",
   "metadata": {},
   "source": [
    "**2 Гипотеза.**\n",
    "\n",
    "Расстояние одной поездки в 3130 метров — оптимальное с точки зрения износа самоката. Можно ли сказать, что среднее расстояние, которое проезжают пользователи с подпиской за одну поездку, не превышает 3130 метров? Проверьте гипотезу и сделайте выводы.\n",
    "\n",
    "H0 : Расстояние одной поездки = 3130.\n",
    "\n",
    "H1 : Расстояние одной поездки > 3130.\n",
    "\n",
    "Уровень статистической значимости alpha = .05"
   ]
  },
  {
   "cell_type": "code",
   "execution_count": 30,
   "id": "62f61867",
   "metadata": {},
   "outputs": [
    {
     "name": "stdout",
     "output_type": "stream",
     "text": [
      "0.9195368847849785\n",
      "Не удалось отвергнуть нулевую гипотезу\n"
     ]
    }
   ],
   "source": [
    "h_distance_ultra = df_ultra_sub['distance']\n",
    "\n",
    "value = 3130\n",
    "\n",
    "results = st.ttest_1samp(h_distance_ultra, value, alternative = 'greater')\n",
    "alpha = .05\n",
    "print(results.pvalue)\n",
    "if results.pvalue < alpha:\n",
    "    print('Отвергаем нулевую гипотезу')\n",
    "else:\n",
    "    print('Не удалось отвергнуть нулевую гипотезу')"
   ]
  },
  {
   "cell_type": "markdown",
   "id": "229bba7b",
   "metadata": {},
   "source": [
    "2) Проверив вторую гипотезу, мы можем утверждать, что среднее расстояние, которое пользователи ultra проезжают за одну поездку не привышает оптимальное (3130 метра) с точки зрения износа самоката."
   ]
  },
  {
   "cell_type": "markdown",
   "id": "421d1612",
   "metadata": {},
   "source": [
    "**3 Гипотеза.**\n",
    "\n",
    "Проверить гипотезу о том, будет ли помесячная выручка от пользователей с подпиской по месяцам выше, чем выручка от пользователей без подписки. Сделать вывод.\n",
    "\n",
    "H0 : Помесечная выручка от пользователей ultra = помесечной выручки от пользователей free.\n",
    "\n",
    "H1 : Помесечная выручка от пользователей ultra > помесечной выручки от пользователей free.\n",
    "\n",
    "Уровень статистической значимости alpha = .05"
   ]
  },
  {
   "cell_type": "code",
   "execution_count": 31,
   "id": "e7d4ed34",
   "metadata": {},
   "outputs": [
    {
     "name": "stdout",
     "output_type": "stream",
     "text": [
      "1.8850394384715216e-31\n",
      "Отвергаем нулевую гипотезу\n"
     ]
    }
   ],
   "source": [
    "h_revenue_ultra = df_pivot_sum_month['revenue'][df_pivot_sum_month['subscription_type'] == 'ultra']\n",
    "h_revenue_free = df_pivot_sum_month['revenue'][df_pivot_sum_month['subscription_type'] == 'free']\n",
    "\n",
    "results = st.ttest_ind(h_revenue_ultra, h_revenue_free, alternative = 'greater')\n",
    "alpha = .05\n",
    "print(results.pvalue)\n",
    "if results.pvalue < alpha:\n",
    "    print('Отвергаем нулевую гипотезу')\n",
    "else:\n",
    "    print('Не удалось отвергнуть нулевую гипотезу')"
   ]
  },
  {
   "cell_type": "markdown",
   "id": "82570386",
   "metadata": {},
   "source": [
    "3) Отвергнув нулевую гипотезу, мы можем сделать вывод, что помесечная выручка от пользователей с подпиской ultra выше, чем от пользователей с подпиской free."
   ]
  },
  {
   "cell_type": "markdown",
   "id": "bd629b96",
   "metadata": {},
   "source": [
    "**4 Гипотеза.**\n",
    "\n",
    "Представим такую ситуацию: техническая команда сервиса обновила сервера, с которыми взаимодействует мобильное приложение. Она надеется, что из-за этого количество обращений в техподдержку значимо снизилось. Некоторый файл содержит для каждого пользователя данные о количестве обращений до обновления и после него. Какой тест вам понадобился бы для проверки этой гипотезы?\n",
    "\n",
    "**Ответ:**\n",
    "\n",
    "Мы имеем две зависимые выборки, значит для проверки мы будем использовать гипотезу о равенстве среднего значения генеральной совокупности до и после изменения.\n",
    "\n",
    "H0 : x1 = x2.\n",
    "\n",
    "H1 : x1 > x2.\n",
    "\n",
    "Где x1 - среднее кол-во обращений \"до\", x2 - среднее кол-во обращений \"после\".\n",
    "\n",
    "**Код будет выглядеть так:**\n",
    "```python\n",
    "x1 = df_before\n",
    "x2 = df_after\n",
    "results = scipy.stats.ttest_rel(x1,x2,alternative = 'greater')\n",
    "alpha = .05\n",
    "print(results.pvalue)\n",
    "if results.pvalue < alpha:\n",
    "    print('Отвергаем нулевую гипотезу')\n",
    "else:\n",
    "    print('Не удалось отвергнуть нулевую гипотезу')\n",
    "```"
   ]
  },
  {
   "cell_type": "markdown",
   "id": "863c2929",
   "metadata": {},
   "source": [
    "**Вывод по 6 шагу:**\n",
    "\n",
    "Мы провели проверку 3 гипотез и ответили на вопрос 4 гипотезы, что нам это дало?\n",
    "\n",
    "\n",
    "* По первой гипотезе мы сделалил вывод, что пользователи с подпиской ultra, тратят больше времени на поездки, чем пользователи с подпиской free, обслуволено это возомжно стоимостью поездки за 1 минуту.\n",
    "\n",
    "\n",
    "* Вторую гипотезу мы не смогли отвергнуть нулевую гипотезу, следователньо, мы не можем говорить, что среднее расстояние, которое пользователи ultra проезжают за одну поездку меньше чем оптимальное (3130 метра) с точки зрения износа самоката.\n",
    "\n",
    "\n",
    "* Третья гипотеза показала нам, что пользователи с подпиской ultra дают больше выручку за месяц, чем пользователи с подпиской free."
   ]
  },
  {
   "cell_type": "markdown",
   "id": "b4b3972b",
   "metadata": {},
   "source": [
    "#### Шаг 7. Распределения"
   ]
  },
  {
   "cell_type": "code",
   "execution_count": 32,
   "id": "c5b94479",
   "metadata": {},
   "outputs": [
    {
     "name": "stdout",
     "output_type": "stream",
     "text": [
      "Кол-во промокодов нужных для достижениях успеха: 1172\n"
     ]
    },
    {
     "name": "stderr",
     "output_type": "stream",
     "text": [
      "/opt/conda/lib/python3.9/site-packages/scipy/stats/_discrete_distns.py:78: RuntimeWarning: divide by zero encountered in _binom_pdf\n",
      "  return _boost._binom_pdf(x, n, p)\n"
     ]
    },
    {
     "data": {
      "text/plain": [
       "[<matplotlib.lines.Line2D at 0x7f23361729a0>]"
      ]
     },
     "execution_count": 32,
     "metadata": {},
     "output_type": "execute_result"
    },
    {
     "data": {
      "image/png": "[encoded data removed]",
      "text/plain": [
       "<Figure size 432x288 with 1 Axes>"
      ]
     },
     "metadata": {
      "needs_background": "light"
     },
     "output_type": "display_data"
    }
   ],
   "source": [
    "# Узнаем какое кол-во бесплатных периодов нужно раздать, чтобы вероятность не выполнить план была примерно 5%.\n",
    "# Исходя из прошлого эксперимента 10% продлили подписку, следовательно нам нужно раздать 1000 промокодов.\n",
    "\n",
    "n = 1000 # количество испытаний\n",
    "p = 0.1 # вероятность успеха в данном испытании\n",
    "k = 100 # количество успехов\n",
    "b_cdf = 0.05 # вероятность не выполнить план 5%\n",
    "\n",
    "while b_cdf < binom.cdf(k,n,p):\n",
    "    n +=1\n",
    "print('Кол-во промокодов нужных для достижениях успеха:',n)\n",
    "binom_probs = []\n",
    "for k in range(n + 1):\n",
    "    binom_prob = binom.pmf(k, n, p)\n",
    "    binom_probs.append(binom_prob)\n",
    "plt.plot(range(n + 1), binom_probs, 'bo',\n",
    "         label=f'Биномиальное распределение с n={n} и p={p}')"
   ]
  },
  {
   "cell_type": "markdown",
   "id": "43de37f8",
   "metadata": {},
   "source": [
    "**Вывод:** Необходимо минимум 1172 промокода, для того чтобы минимум 100 клиентов продлили подписку."
   ]
  },
  {
   "cell_type": "markdown",
   "id": "ce4f8cc9",
   "metadata": {},
   "source": [
    "2) \n",
    "Отдел маркетинга рассылает клиентам push-уведомления в мобильном приложении. Клиенты могут открыть его или не открывать. Известно, что уведомления открывают около 40 % получивших клиентов. Отдел планирует разослать 1 млн уведомлений. С помощью аппроксимации постройте примерный график распределения и оцените вероятность того, что уведомление откроют не более 399,5 тыс. пользователей."
   ]
  },
  {
   "cell_type": "code",
   "execution_count": 33,
   "id": "c4c4d0f3",
   "metadata": {},
   "outputs": [
    {
     "name": "stdout",
     "output_type": "stream",
     "text": [
      "Вероятность открытия сообщений: 0.15371708296369768\n"
     ]
    }
   ],
   "source": [
    "n= 1000000\n",
    "p = 0.4\n",
    "k = 399500\n",
    "\n",
    "# зададим мат.ожидание и ст.отклонение нормального распределения равными\n",
    "# мат.ожиданию и ст.отклонению биномиального распределения\n",
    "mu = n * p\n",
    "sigma = sqrt(n * p * (1 - p))\n",
    "distr = st.norm(mu, sigma) # задаём нормальное распределение\n",
    "result = distr.cdf(k)# считаем вероятность хвоста слева от 399.5 тысяч\n",
    "print('Вероятность открытия сообщений:', result)"
   ]
  },
  {
   "cell_type": "markdown",
   "id": "e7fe469a",
   "metadata": {},
   "source": [
    "**Вывод:** Вероятность того, что сообщение откроют не более 399.5 тысяч пользователей равна 15,37 %."
   ]
  },
  {
   "cell_type": "markdown",
   "id": "2c6ccdcc",
   "metadata": {},
   "source": [
    "# Общий вывод:\n",
    "\n",
    "Представленные для анализа данные содержали информацию о некоторых пользователях из нескольких городов, а также об их поездках.\n",
    "\n",
    "**Данные**\n",
    "\n",
    "* В процессе анализа и обработки данных проблем не возникло все данные были приведены к нужному типу, пропщенных значений не было, данные были репрезентативны,так же были удалены 31 дубликат, возможно техническая ошибка.\n",
    "\n",
    "* Были добавлены и расчитаны новые дата сетты для последующего анализа(2 группы дата сеттов по подпискам и расчет помесечной выручки).\n",
    "\n",
    "**Результаты исследования**\n",
    "\n",
    "* По итогам анализа таких параметров как, частота встречаемости городов; соотношение пользователей с подпиской и без подписки;возраст пользователей;расстояние, которое пользователь преодолел за одну поездку;продолжительность поездок; были сделаны выводы:\n",
    "\n",
    "    *  Топ 3  городов пользующихся самокатами GoFast: Пятигорск, Екатеринбург, Ростов-на-Дону.\n",
    "    \n",
    "    *  Пользователей с подпиской free больше, чем пользователей с подпиской ultra.\n",
    "    \n",
    "    *  Основной возраст пользователей 20-30 лет.\n",
    "    \n",
    "    *  Расстояние преодаленное за одну поездку либо не превышало 1 км (возможно были проблемы с самокатами, или просто короткая дорога для пользователя), либо основная масса в среднем 2-5 км.\n",
    "    \n",
    "    *  Длительность поездки варьируется от 5 до 30 минут, также были замечены поездки длящиеся меньше минуты( скорее всего поездки были отменены, нужно уточнить почему, данных для таких выводов недостаточно).\n",
    "\n",
    "\n",
    "* Далее было проведено сравнение по некоторым параметрам пользователей с подписками ultra и free. Это дало нам следующие выводы:\n",
    "\n",
    "    * Пользователи с подпиской ultra чаще преодалевают расстояние более 3км, возможно это связанно с тем, что стоимость старта и стоимость 1 минуты поездки меньше, чем в подписке free.\n",
    "    \n",
    "    * Разницы в длительности поездки между двумя категорями нет.\n",
    "    \n",
    "* Были проведены расчеты месячной выручки:\n",
    "\n",
    "    * За год пользователи с подпиской free принесли на 576 483 рублей меньше, чем пользователи с подпиской ultra( стоит учитывать, что пользователей с подпиской free больше).\n",
    "\n",
    "    * Общий доход за год: 3 853 677 рублей.\n",
    "\n",
    "    * В среднем пользователи с подпиской free приносили 325 рублей в месяц, когда с подпиской ultra 361 рубль.\n",
    "    \n",
    "* В заключении были проведены проверки гипотез:\n",
    "\n",
    "    * По результатам проверки первой гипотезы, был сделан вывод, что пользователи с подпиской ultra, тратят больше времени на поездки.\n",
    "\n",
    "    * По результатам проверки второй гипотезы, мы можем предположить, что пользователи с подпиской ultra не привышают оптимального для самоката расстояния в 3130 метров.\n",
    "    \n",
    "    * По результатам проверки третьей гипотезы, было видно, что пользователи с подпиской ultra дают больше выручку за месяц, чем пользователи с подпиской free.\n",
    "    \n",
    "**Рекомендации:**\n",
    "\n",
    "   Исходя из вышесказанных результатов, хорошим решением для компании GoFast будет сосредоточение на увеличение пользователей с подпиской ultra, это можно будет сделать с помощью промоакций, бесплатных промокодов на пробный период. Для нормализации оптимального расстояния за 1 поездку, чтобы замедлить изнашивание самокатов, можно снизить абоненсткую плату, но добавить плату за пройденный метр."
   ]
  },
  {
   "cell_type": "code",
   "execution_count": null,
   "id": "3311bbca",
   "metadata": {},
   "outputs": [],
   "source": []
  }
 ],
 "metadata": {
  "ExecuteTimeLog": [
   {
    "duration": 895,
    "start_time": "2024-06-05T14:06:22.086Z"
   },
   {
    "duration": 202,
    "start_time": "2024-06-05T14:08:17.100Z"
   },
   {
    "duration": 13,
    "start_time": "2024-06-05T14:09:16.661Z"
   },
   {
    "duration": 70,
    "start_time": "2024-06-05T14:10:19.346Z"
   },
   {
    "duration": 5,
    "start_time": "2024-06-05T14:10:21.022Z"
   },
   {
    "duration": 6,
    "start_time": "2024-06-05T14:11:05.110Z"
   },
   {
    "duration": 64,
    "start_time": "2024-06-05T14:11:21.289Z"
   },
   {
    "duration": 8,
    "start_time": "2024-06-05T14:11:27.781Z"
   },
   {
    "duration": 10,
    "start_time": "2024-06-05T14:11:54.043Z"
   },
   {
    "duration": 56,
    "start_time": "2024-06-05T14:12:31.260Z"
   },
   {
    "duration": 57,
    "start_time": "2024-06-05T14:12:37.933Z"
   },
   {
    "duration": 10,
    "start_time": "2024-06-05T14:12:53.055Z"
   },
   {
    "duration": 10,
    "start_time": "2024-06-05T14:13:05.640Z"
   },
   {
    "duration": 8,
    "start_time": "2024-06-05T14:14:16.833Z"
   },
   {
    "duration": 11,
    "start_time": "2024-06-05T14:14:34.271Z"
   },
   {
    "duration": 11,
    "start_time": "2024-06-05T14:15:44.189Z"
   },
   {
    "duration": 10,
    "start_time": "2024-06-05T14:19:32.440Z"
   },
   {
    "duration": 6,
    "start_time": "2024-06-05T14:32:17.409Z"
   },
   {
    "duration": 16,
    "start_time": "2024-06-05T14:32:23.528Z"
   },
   {
    "duration": 86,
    "start_time": "2024-06-05T14:33:34.562Z"
   },
   {
    "duration": 4,
    "start_time": "2024-06-05T14:35:24.573Z"
   },
   {
    "duration": 6,
    "start_time": "2024-06-05T14:35:32.455Z"
   },
   {
    "duration": 6,
    "start_time": "2024-06-05T14:35:40.809Z"
   },
   {
    "duration": 15,
    "start_time": "2024-06-05T14:36:15.152Z"
   },
   {
    "duration": 2,
    "start_time": "2024-06-05T14:36:55.740Z"
   },
   {
    "duration": 12,
    "start_time": "2024-06-05T14:37:10.475Z"
   },
   {
    "duration": 7,
    "start_time": "2024-06-05T14:38:48.852Z"
   },
   {
    "duration": 6,
    "start_time": "2024-06-05T14:38:55.197Z"
   },
   {
    "duration": 5,
    "start_time": "2024-06-05T14:40:18.416Z"
   },
   {
    "duration": 11,
    "start_time": "2024-06-05T14:40:43.952Z"
   },
   {
    "duration": 6,
    "start_time": "2024-06-05T14:44:51.389Z"
   },
   {
    "duration": 10,
    "start_time": "2024-06-05T14:45:11.858Z"
   },
   {
    "duration": 12,
    "start_time": "2024-06-05T14:47:53.199Z"
   },
   {
    "duration": 4,
    "start_time": "2024-06-05T14:48:21.124Z"
   },
   {
    "duration": 9,
    "start_time": "2024-06-05T14:48:23.751Z"
   },
   {
    "duration": 7,
    "start_time": "2024-06-05T14:48:28.884Z"
   },
   {
    "duration": 7,
    "start_time": "2024-06-05T14:48:31.797Z"
   },
   {
    "duration": 8,
    "start_time": "2024-06-05T14:48:45.120Z"
   },
   {
    "duration": 12,
    "start_time": "2024-06-05T14:49:27.170Z"
   },
   {
    "duration": 6,
    "start_time": "2024-06-05T14:49:31.220Z"
   },
   {
    "duration": 9,
    "start_time": "2024-06-05T14:49:59.477Z"
   },
   {
    "duration": 5,
    "start_time": "2024-06-05T14:50:01.709Z"
   },
   {
    "duration": 20,
    "start_time": "2024-06-05T15:01:33.387Z"
   },
   {
    "duration": 4,
    "start_time": "2024-06-05T15:01:37.801Z"
   },
   {
    "duration": 5,
    "start_time": "2024-06-05T15:01:45.311Z"
   },
   {
    "duration": 579,
    "start_time": "2024-06-05T15:01:56.717Z"
   },
   {
    "duration": 149,
    "start_time": "2024-06-05T15:02:07.660Z"
   },
   {
    "duration": 8,
    "start_time": "2024-06-05T15:02:13.155Z"
   },
   {
    "duration": 126,
    "start_time": "2024-06-05T15:03:00.647Z"
   },
   {
    "duration": 159,
    "start_time": "2024-06-05T15:03:12.639Z"
   },
   {
    "duration": 214,
    "start_time": "2024-06-05T15:04:31.790Z"
   },
   {
    "duration": 175,
    "start_time": "2024-06-05T15:04:42.786Z"
   },
   {
    "duration": 209,
    "start_time": "2024-06-05T15:07:03.536Z"
   },
   {
    "duration": 202,
    "start_time": "2024-06-05T15:09:16.291Z"
   },
   {
    "duration": 260,
    "start_time": "2024-06-05T15:09:26.875Z"
   },
   {
    "duration": 54,
    "start_time": "2024-06-05T15:10:18.040Z"
   },
   {
    "duration": 148,
    "start_time": "2024-06-05T15:10:37.734Z"
   },
   {
    "duration": 184,
    "start_time": "2024-06-05T15:14:15.001Z"
   },
   {
    "duration": 185,
    "start_time": "2024-06-05T15:14:21.435Z"
   },
   {
    "duration": 71,
    "start_time": "2024-06-05T15:15:22.080Z"
   },
   {
    "duration": 180,
    "start_time": "2024-06-05T15:15:28.234Z"
   },
   {
    "duration": 20,
    "start_time": "2024-06-05T15:16:23.619Z"
   },
   {
    "duration": 5,
    "start_time": "2024-06-05T15:21:48.659Z"
   },
   {
    "duration": 8,
    "start_time": "2024-06-05T15:23:04.757Z"
   },
   {
    "duration": 241,
    "start_time": "2024-06-05T15:23:12.568Z"
   },
   {
    "duration": 18,
    "start_time": "2024-06-05T15:27:22.849Z"
   },
   {
    "duration": 21,
    "start_time": "2024-06-05T15:27:32.705Z"
   },
   {
    "duration": 13,
    "start_time": "2024-06-05T15:27:48.181Z"
   },
   {
    "duration": 11,
    "start_time": "2024-06-05T15:31:48.137Z"
   },
   {
    "duration": 8,
    "start_time": "2024-06-05T15:32:55.281Z"
   },
   {
    "duration": 121,
    "start_time": "2024-06-05T15:33:45.370Z"
   },
   {
    "duration": 125,
    "start_time": "2024-06-05T15:34:37.964Z"
   },
   {
    "duration": 19,
    "start_time": "2024-06-05T15:34:50.819Z"
   },
   {
    "duration": 143,
    "start_time": "2024-06-05T15:34:56.763Z"
   },
   {
    "duration": 126,
    "start_time": "2024-06-05T15:35:02.626Z"
   },
   {
    "duration": 228,
    "start_time": "2024-06-05T15:35:23.297Z"
   },
   {
    "duration": 140,
    "start_time": "2024-06-05T15:37:27.073Z"
   },
   {
    "duration": 138,
    "start_time": "2024-06-05T15:37:34.764Z"
   },
   {
    "duration": 8,
    "start_time": "2024-06-05T15:46:05.666Z"
   },
   {
    "duration": 11,
    "start_time": "2024-06-05T15:46:09.400Z"
   },
   {
    "duration": 216,
    "start_time": "2024-06-05T15:48:19.784Z"
   },
   {
    "duration": 13,
    "start_time": "2024-06-05T15:49:21.613Z"
   },
   {
    "duration": 138,
    "start_time": "2024-06-05T15:49:34.732Z"
   },
   {
    "duration": 132,
    "start_time": "2024-06-05T15:49:48.558Z"
   },
   {
    "duration": 144,
    "start_time": "2024-06-05T15:50:13.864Z"
   },
   {
    "duration": 1896,
    "start_time": "2024-06-05T15:52:26.956Z"
   },
   {
    "duration": 224,
    "start_time": "2024-06-05T15:53:01.771Z"
   },
   {
    "duration": 220,
    "start_time": "2024-06-05T15:53:38.269Z"
   },
   {
    "duration": 203,
    "start_time": "2024-06-05T16:00:00.352Z"
   },
   {
    "duration": 10,
    "start_time": "2024-06-05T16:12:59.794Z"
   },
   {
    "duration": 24,
    "start_time": "2024-06-05T16:13:02.712Z"
   },
   {
    "duration": 31,
    "start_time": "2024-06-05T16:13:45.825Z"
   },
   {
    "duration": 27,
    "start_time": "2024-06-05T16:14:02.049Z"
   },
   {
    "duration": 973,
    "start_time": "2024-06-05T16:15:41.951Z"
   },
   {
    "duration": 7,
    "start_time": "2024-06-05T16:15:48.829Z"
   },
   {
    "duration": 18,
    "start_time": "2024-06-05T16:15:52.790Z"
   },
   {
    "duration": 14,
    "start_time": "2024-06-05T16:16:07.886Z"
   },
   {
    "duration": 13,
    "start_time": "2024-06-05T16:16:11.294Z"
   },
   {
    "duration": 118,
    "start_time": "2024-06-05T16:17:00.350Z"
   },
   {
    "duration": 66,
    "start_time": "2024-06-05T16:17:13.420Z"
   },
   {
    "duration": 11,
    "start_time": "2024-06-05T16:17:28.175Z"
   },
   {
    "duration": 9,
    "start_time": "2024-06-05T16:17:39.644Z"
   },
   {
    "duration": 13,
    "start_time": "2024-06-05T16:17:58.295Z"
   },
   {
    "duration": 12,
    "start_time": "2024-06-05T16:18:07.125Z"
   },
   {
    "duration": 289,
    "start_time": "2024-06-05T16:21:12.332Z"
   },
   {
    "duration": 260,
    "start_time": "2024-06-05T16:21:29.517Z"
   },
   {
    "duration": 277,
    "start_time": "2024-06-05T16:21:50.293Z"
   },
   {
    "duration": 292,
    "start_time": "2024-06-05T16:24:23.039Z"
   },
   {
    "duration": 3,
    "start_time": "2024-06-05T16:33:40.217Z"
   },
   {
    "duration": 65,
    "start_time": "2024-06-05T16:43:25.772Z"
   },
   {
    "duration": 71,
    "start_time": "2024-06-05T16:43:31.633Z"
   },
   {
    "duration": 9,
    "start_time": "2024-06-05T16:43:36.102Z"
   },
   {
    "duration": 8,
    "start_time": "2024-06-05T16:43:59.572Z"
   },
   {
    "duration": 94,
    "start_time": "2024-06-05T16:45:39.464Z"
   },
   {
    "duration": 9,
    "start_time": "2024-06-05T16:45:49.059Z"
   },
   {
    "duration": 15,
    "start_time": "2024-06-05T16:48:10.741Z"
   },
   {
    "duration": 16,
    "start_time": "2024-06-05T16:48:18.314Z"
   },
   {
    "duration": 872,
    "start_time": "2024-06-05T16:48:35.116Z"
   },
   {
    "duration": 817,
    "start_time": "2024-06-05T16:48:43.581Z"
   },
   {
    "duration": 858,
    "start_time": "2024-06-05T16:50:46.449Z"
   },
   {
    "duration": 854,
    "start_time": "2024-06-05T16:50:50.941Z"
   },
   {
    "duration": 860,
    "start_time": "2024-06-05T16:51:12.967Z"
   },
   {
    "duration": 881,
    "start_time": "2024-06-05T16:54:32.287Z"
   },
   {
    "duration": 3,
    "start_time": "2024-06-05T17:07:13.912Z"
   },
   {
    "duration": 1014,
    "start_time": "2024-06-05T17:08:03.559Z"
   },
   {
    "duration": 775,
    "start_time": "2024-06-05T17:08:22.716Z"
   },
   {
    "duration": 840,
    "start_time": "2024-06-05T17:08:37.359Z"
   },
   {
    "duration": 51,
    "start_time": "2024-06-05T17:08:57.815Z"
   },
   {
    "duration": 3,
    "start_time": "2024-06-05T17:09:23.655Z"
   },
   {
    "duration": 113,
    "start_time": "2024-06-05T17:09:26.265Z"
   },
   {
    "duration": 123,
    "start_time": "2024-06-05T17:09:31.425Z"
   },
   {
    "duration": 5,
    "start_time": "2024-06-05T17:10:31.460Z"
   },
   {
    "duration": 135,
    "start_time": "2024-06-05T17:10:33.768Z"
   },
   {
    "duration": 3,
    "start_time": "2024-06-05T17:10:51.534Z"
   },
   {
    "duration": 130,
    "start_time": "2024-06-05T17:10:53.796Z"
   },
   {
    "duration": 3,
    "start_time": "2024-06-05T17:11:43.774Z"
   },
   {
    "duration": 130,
    "start_time": "2024-06-05T17:11:45.909Z"
   },
   {
    "duration": 5,
    "start_time": "2024-06-05T17:12:23.509Z"
   },
   {
    "duration": 4,
    "start_time": "2024-06-05T17:12:49.236Z"
   },
   {
    "duration": 9,
    "start_time": "2024-06-05T17:13:11.422Z"
   },
   {
    "duration": 11,
    "start_time": "2024-06-05T17:14:20.601Z"
   },
   {
    "duration": 8,
    "start_time": "2024-06-05T17:14:52.150Z"
   },
   {
    "duration": 24,
    "start_time": "2024-06-05T17:15:10.189Z"
   },
   {
    "duration": 9,
    "start_time": "2024-06-05T17:15:21.059Z"
   },
   {
    "duration": 64,
    "start_time": "2024-06-05T17:15:33.830Z"
   },
   {
    "duration": 75,
    "start_time": "2024-06-05T17:15:42.612Z"
   },
   {
    "duration": 9,
    "start_time": "2024-06-05T17:15:51.248Z"
   },
   {
    "duration": 8,
    "start_time": "2024-06-05T17:16:21.432Z"
   },
   {
    "duration": 63,
    "start_time": "2024-06-05T17:20:12.132Z"
   },
   {
    "duration": 101,
    "start_time": "2024-06-05T17:20:17.233Z"
   },
   {
    "duration": 19,
    "start_time": "2024-06-05T17:20:21.145Z"
   },
   {
    "duration": 14,
    "start_time": "2024-06-05T17:20:34.249Z"
   },
   {
    "duration": 14,
    "start_time": "2024-06-05T17:20:38.426Z"
   },
   {
    "duration": 2,
    "start_time": "2024-06-05T18:56:11.499Z"
   },
   {
    "duration": 6,
    "start_time": "2024-06-05T19:01:43.052Z"
   },
   {
    "duration": 5,
    "start_time": "2024-06-05T19:09:10.287Z"
   },
   {
    "duration": 1174,
    "start_time": "2024-06-05T19:15:59.772Z"
   },
   {
    "duration": 7,
    "start_time": "2024-06-05T19:18:20.929Z"
   },
   {
    "duration": 5,
    "start_time": "2024-06-05T19:19:00.527Z"
   },
   {
    "duration": 5,
    "start_time": "2024-06-05T19:19:09.346Z"
   },
   {
    "duration": 8,
    "start_time": "2024-06-05T19:19:18.290Z"
   },
   {
    "duration": 9,
    "start_time": "2024-06-05T19:49:53.345Z"
   },
   {
    "duration": 3,
    "start_time": "2024-06-05T19:50:14.940Z"
   },
   {
    "duration": 1446,
    "start_time": "2024-06-05T19:50:19.275Z"
   },
   {
    "duration": 297,
    "start_time": "2024-06-05T19:52:03.360Z"
   },
   {
    "duration": 384,
    "start_time": "2024-06-05T19:52:45.230Z"
   },
   {
    "duration": 287,
    "start_time": "2024-06-05T19:52:50.282Z"
   },
   {
    "duration": 290,
    "start_time": "2024-06-05T19:54:13.901Z"
   },
   {
    "duration": 38,
    "start_time": "2024-06-05T19:58:31.872Z"
   },
   {
    "duration": 5,
    "start_time": "2024-06-05T19:58:38.242Z"
   },
   {
    "duration": 126,
    "start_time": "2024-06-05T19:58:47.925Z"
   },
   {
    "duration": 1754,
    "start_time": "2024-06-05T20:02:24.081Z"
   },
   {
    "duration": 1744,
    "start_time": "2024-06-05T20:03:19.494Z"
   },
   {
    "duration": 9,
    "start_time": "2024-06-05T20:05:14.553Z"
   },
   {
    "duration": 10,
    "start_time": "2024-06-05T20:05:31.185Z"
   },
   {
    "duration": 1657,
    "start_time": "2024-06-05T20:05:44.255Z"
   },
   {
    "duration": 24,
    "start_time": "2024-06-05T20:08:32.429Z"
   },
   {
    "duration": 25,
    "start_time": "2024-06-05T20:08:40.595Z"
   },
   {
    "duration": 137,
    "start_time": "2024-06-05T20:14:48.085Z"
   },
   {
    "duration": 124,
    "start_time": "2024-06-05T20:15:14.158Z"
   },
   {
    "duration": 125,
    "start_time": "2024-06-05T20:15:39.403Z"
   },
   {
    "duration": 133,
    "start_time": "2024-06-05T20:15:45.654Z"
   },
   {
    "duration": 29,
    "start_time": "2024-06-05T20:18:59.300Z"
   },
   {
    "duration": 275,
    "start_time": "2024-06-05T20:19:19.019Z"
   },
   {
    "duration": 139,
    "start_time": "2024-06-05T20:19:39.831Z"
   },
   {
    "duration": 131,
    "start_time": "2024-06-05T20:19:50.784Z"
   },
   {
    "duration": 248,
    "start_time": "2024-06-05T20:20:36.012Z"
   },
   {
    "duration": 56,
    "start_time": "2024-06-05T20:21:35.987Z"
   },
   {
    "duration": 259,
    "start_time": "2024-06-05T20:21:40.705Z"
   },
   {
    "duration": 317,
    "start_time": "2024-06-05T20:21:53.993Z"
   },
   {
    "duration": 141,
    "start_time": "2024-06-05T20:23:25.763Z"
   },
   {
    "duration": 262,
    "start_time": "2024-06-05T20:23:38.473Z"
   },
   {
    "duration": 3,
    "start_time": "2024-06-05T20:30:29.754Z"
   },
   {
    "duration": 151,
    "start_time": "2024-06-05T20:31:47.119Z"
   },
   {
    "duration": 140,
    "start_time": "2024-06-05T20:32:07.882Z"
   },
   {
    "duration": 1145,
    "start_time": "2024-06-05T20:33:50.212Z"
   },
   {
    "duration": 65,
    "start_time": "2024-06-05T20:33:51.359Z"
   },
   {
    "duration": 10,
    "start_time": "2024-06-05T20:33:51.428Z"
   },
   {
    "duration": 11,
    "start_time": "2024-06-05T20:33:51.440Z"
   },
   {
    "duration": 26,
    "start_time": "2024-06-05T20:33:51.453Z"
   },
   {
    "duration": 11,
    "start_time": "2024-06-05T20:33:51.480Z"
   },
   {
    "duration": 10,
    "start_time": "2024-06-05T20:33:51.493Z"
   },
   {
    "duration": 34,
    "start_time": "2024-06-05T20:33:51.505Z"
   },
   {
    "duration": 9,
    "start_time": "2024-06-05T20:33:51.541Z"
   },
   {
    "duration": 31,
    "start_time": "2024-06-05T20:33:51.551Z"
   },
   {
    "duration": 23,
    "start_time": "2024-06-05T20:33:51.584Z"
   },
   {
    "duration": 7,
    "start_time": "2024-06-05T20:33:51.608Z"
   },
   {
    "duration": 7,
    "start_time": "2024-06-05T20:33:51.617Z"
   },
   {
    "duration": 185,
    "start_time": "2024-06-05T20:33:51.625Z"
   },
   {
    "duration": 127,
    "start_time": "2024-06-05T20:33:51.811Z"
   },
   {
    "duration": 153,
    "start_time": "2024-06-05T20:33:51.944Z"
   },
   {
    "duration": 191,
    "start_time": "2024-06-05T20:33:52.098Z"
   },
   {
    "duration": 191,
    "start_time": "2024-06-05T20:33:52.290Z"
   },
   {
    "duration": 26,
    "start_time": "2024-06-05T20:33:52.483Z"
   },
   {
    "duration": 58,
    "start_time": "2024-06-05T20:33:52.510Z"
   },
   {
    "duration": 13,
    "start_time": "2024-06-05T20:33:52.570Z"
   },
   {
    "duration": 16,
    "start_time": "2024-06-05T20:33:52.585Z"
   },
   {
    "duration": 281,
    "start_time": "2024-06-05T20:33:52.602Z"
   },
   {
    "duration": 354,
    "start_time": "2024-06-05T20:33:52.885Z"
   },
   {
    "duration": 842,
    "start_time": "2024-06-05T20:33:53.241Z"
   },
   {
    "duration": 3,
    "start_time": "2024-06-05T20:33:54.085Z"
   },
   {
    "duration": 159,
    "start_time": "2024-06-05T20:33:54.091Z"
   },
   {
    "duration": 14,
    "start_time": "2024-06-05T20:33:54.252Z"
   },
   {
    "duration": 4,
    "start_time": "2024-06-05T20:33:54.268Z"
   },
   {
    "duration": 5,
    "start_time": "2024-06-05T20:33:54.274Z"
   },
   {
    "duration": 9,
    "start_time": "2024-06-05T20:33:54.280Z"
   },
   {
    "duration": 339,
    "start_time": "2024-06-05T20:33:54.290Z"
   },
   {
    "duration": 268,
    "start_time": "2024-06-05T20:33:54.630Z"
   },
   {
    "duration": 253,
    "start_time": "2024-06-05T20:34:35.111Z"
   },
   {
    "duration": 130,
    "start_time": "2024-06-05T20:35:50.898Z"
   },
   {
    "duration": 6,
    "start_time": "2024-06-05T20:38:33.723Z"
   },
   {
    "duration": 1135,
    "start_time": "2024-06-06T00:35:32.118Z"
   },
   {
    "duration": 280,
    "start_time": "2024-06-06T00:35:33.255Z"
   },
   {
    "duration": 9,
    "start_time": "2024-06-06T00:35:33.536Z"
   },
   {
    "duration": 11,
    "start_time": "2024-06-06T00:35:33.547Z"
   },
   {
    "duration": 9,
    "start_time": "2024-06-06T00:35:33.560Z"
   },
   {
    "duration": 13,
    "start_time": "2024-06-06T00:35:33.570Z"
   },
   {
    "duration": 12,
    "start_time": "2024-06-06T00:35:33.585Z"
   },
   {
    "duration": 11,
    "start_time": "2024-06-06T00:35:33.598Z"
   },
   {
    "duration": 9,
    "start_time": "2024-06-06T00:35:33.611Z"
   },
   {
    "duration": 11,
    "start_time": "2024-06-06T00:35:33.621Z"
   },
   {
    "duration": 5,
    "start_time": "2024-06-06T00:35:33.633Z"
   },
   {
    "duration": 10,
    "start_time": "2024-06-06T00:35:33.640Z"
   },
   {
    "duration": 6,
    "start_time": "2024-06-06T00:35:33.651Z"
   },
   {
    "duration": 169,
    "start_time": "2024-06-06T00:35:33.659Z"
   },
   {
    "duration": 124,
    "start_time": "2024-06-06T00:35:33.829Z"
   },
   {
    "duration": 134,
    "start_time": "2024-06-06T00:35:33.954Z"
   },
   {
    "duration": 158,
    "start_time": "2024-06-06T00:35:34.089Z"
   },
   {
    "duration": 170,
    "start_time": "2024-06-06T00:35:34.248Z"
   },
   {
    "duration": 21,
    "start_time": "2024-06-06T00:35:34.420Z"
   },
   {
    "duration": 10,
    "start_time": "2024-06-06T00:35:34.442Z"
   },
   {
    "duration": 30,
    "start_time": "2024-06-06T00:35:34.453Z"
   },
   {
    "duration": 16,
    "start_time": "2024-06-06T00:35:34.485Z"
   },
   {
    "duration": 210,
    "start_time": "2024-06-06T00:35:34.502Z"
   },
   {
    "duration": 237,
    "start_time": "2024-06-06T00:35:34.713Z"
   },
   {
    "duration": 825,
    "start_time": "2024-06-06T00:35:34.951Z"
   },
   {
    "duration": 3,
    "start_time": "2024-06-06T00:35:35.777Z"
   },
   {
    "duration": 131,
    "start_time": "2024-06-06T00:35:35.781Z"
   },
   {
    "duration": 12,
    "start_time": "2024-06-06T00:35:35.913Z"
   },
   {
    "duration": 10,
    "start_time": "2024-06-06T00:35:35.926Z"
   },
   {
    "duration": 12,
    "start_time": "2024-06-06T00:35:35.937Z"
   },
   {
    "duration": 27,
    "start_time": "2024-06-06T00:35:35.950Z"
   },
   {
    "duration": 231,
    "start_time": "2024-06-06T00:35:35.978Z"
   },
   {
    "duration": 4,
    "start_time": "2024-06-06T00:35:36.211Z"
   },
   {
    "duration": 5,
    "start_time": "2024-06-06T00:42:04.268Z"
   },
   {
    "duration": 995,
    "start_time": "2024-06-06T00:46:11.688Z"
   },
   {
    "duration": 60,
    "start_time": "2024-06-06T00:46:12.685Z"
   },
   {
    "duration": 8,
    "start_time": "2024-06-06T00:46:12.746Z"
   },
   {
    "duration": 8,
    "start_time": "2024-06-06T00:46:12.756Z"
   },
   {
    "duration": 10,
    "start_time": "2024-06-06T00:46:12.765Z"
   },
   {
    "duration": 7,
    "start_time": "2024-06-06T00:46:12.776Z"
   },
   {
    "duration": 14,
    "start_time": "2024-06-06T00:46:12.784Z"
   },
   {
    "duration": 10,
    "start_time": "2024-06-06T00:46:12.799Z"
   },
   {
    "duration": 8,
    "start_time": "2024-06-06T00:46:12.810Z"
   },
   {
    "duration": 6,
    "start_time": "2024-06-06T00:46:12.820Z"
   },
   {
    "duration": 5,
    "start_time": "2024-06-06T00:46:12.827Z"
   },
   {
    "duration": 7,
    "start_time": "2024-06-06T00:46:12.833Z"
   },
   {
    "duration": 4,
    "start_time": "2024-06-06T00:46:12.841Z"
   },
   {
    "duration": 185,
    "start_time": "2024-06-06T00:46:12.846Z"
   },
   {
    "duration": 113,
    "start_time": "2024-06-06T00:46:13.032Z"
   },
   {
    "duration": 131,
    "start_time": "2024-06-06T00:46:13.146Z"
   },
   {
    "duration": 168,
    "start_time": "2024-06-06T00:46:13.279Z"
   },
   {
    "duration": 149,
    "start_time": "2024-06-06T00:46:13.449Z"
   },
   {
    "duration": 22,
    "start_time": "2024-06-06T00:46:13.599Z"
   },
   {
    "duration": 9,
    "start_time": "2024-06-06T00:46:13.623Z"
   },
   {
    "duration": 10,
    "start_time": "2024-06-06T00:46:13.633Z"
   },
   {
    "duration": 30,
    "start_time": "2024-06-06T00:46:13.645Z"
   },
   {
    "duration": 226,
    "start_time": "2024-06-06T00:46:13.677Z"
   },
   {
    "duration": 239,
    "start_time": "2024-06-06T00:46:13.905Z"
   },
   {
    "duration": 880,
    "start_time": "2024-06-06T00:46:14.146Z"
   },
   {
    "duration": 3,
    "start_time": "2024-06-06T00:46:15.027Z"
   },
   {
    "duration": 200,
    "start_time": "2024-06-06T00:46:15.031Z"
   },
   {
    "duration": 12,
    "start_time": "2024-06-06T00:46:15.233Z"
   },
   {
    "duration": 10,
    "start_time": "2024-06-06T00:46:15.246Z"
   },
   {
    "duration": 16,
    "start_time": "2024-06-06T00:46:15.257Z"
   },
   {
    "duration": 29,
    "start_time": "2024-06-06T00:46:15.274Z"
   },
   {
    "duration": 252,
    "start_time": "2024-06-06T00:46:15.304Z"
   },
   {
    "duration": 4,
    "start_time": "2024-06-06T00:46:15.558Z"
   },
   {
    "duration": 48,
    "start_time": "2024-06-06T09:44:10.321Z"
   },
   {
    "duration": 1238,
    "start_time": "2024-06-06T09:44:17.927Z"
   },
   {
    "duration": 295,
    "start_time": "2024-06-06T09:44:19.168Z"
   },
   {
    "duration": 14,
    "start_time": "2024-06-06T09:44:19.464Z"
   },
   {
    "duration": 10,
    "start_time": "2024-06-06T09:44:19.480Z"
   },
   {
    "duration": 22,
    "start_time": "2024-06-06T09:44:19.491Z"
   },
   {
    "duration": 11,
    "start_time": "2024-06-06T09:44:19.514Z"
   },
   {
    "duration": 20,
    "start_time": "2024-06-06T09:44:19.526Z"
   },
   {
    "duration": 20,
    "start_time": "2024-06-06T09:44:19.548Z"
   },
   {
    "duration": 11,
    "start_time": "2024-06-06T09:44:19.569Z"
   },
   {
    "duration": 16,
    "start_time": "2024-06-06T09:44:19.582Z"
   },
   {
    "duration": 5,
    "start_time": "2024-06-06T09:44:19.609Z"
   },
   {
    "duration": 28,
    "start_time": "2024-06-06T09:44:19.615Z"
   },
   {
    "duration": 20,
    "start_time": "2024-06-06T09:44:19.644Z"
   },
   {
    "duration": 183,
    "start_time": "2024-06-06T09:44:19.665Z"
   },
   {
    "duration": 128,
    "start_time": "2024-06-06T09:44:19.850Z"
   },
   {
    "duration": 148,
    "start_time": "2024-06-06T09:44:19.980Z"
   },
   {
    "duration": 182,
    "start_time": "2024-06-06T09:44:20.130Z"
   },
   {
    "duration": 181,
    "start_time": "2024-06-06T09:44:20.313Z"
   },
   {
    "duration": 33,
    "start_time": "2024-06-06T09:44:20.496Z"
   },
   {
    "duration": 9,
    "start_time": "2024-06-06T09:44:20.530Z"
   },
   {
    "duration": 32,
    "start_time": "2024-06-06T09:44:20.540Z"
   },
   {
    "duration": 18,
    "start_time": "2024-06-06T09:44:20.573Z"
   },
   {
    "duration": 268,
    "start_time": "2024-06-06T09:44:20.593Z"
   },
   {
    "duration": 332,
    "start_time": "2024-06-06T09:44:20.863Z"
   },
   {
    "duration": 954,
    "start_time": "2024-06-06T09:44:21.196Z"
   },
   {
    "duration": 3,
    "start_time": "2024-06-06T09:44:22.152Z"
   },
   {
    "duration": 220,
    "start_time": "2024-06-06T09:44:22.156Z"
   },
   {
    "duration": 18,
    "start_time": "2024-06-06T09:44:22.379Z"
   },
   {
    "duration": 6,
    "start_time": "2024-06-06T09:44:22.408Z"
   },
   {
    "duration": 6,
    "start_time": "2024-06-06T09:44:22.416Z"
   },
   {
    "duration": 20,
    "start_time": "2024-06-06T09:44:22.424Z"
   },
   {
    "duration": 311,
    "start_time": "2024-06-06T09:44:22.446Z"
   },
   {
    "duration": 7,
    "start_time": "2024-06-06T09:44:22.759Z"
   },
   {
    "duration": 120,
    "start_time": "2024-06-06T09:45:07.049Z"
   },
   {
    "duration": 207,
    "start_time": "2024-06-06T09:46:50.555Z"
   },
   {
    "duration": 109,
    "start_time": "2024-06-06T10:09:11.601Z"
   },
   {
    "duration": 68,
    "start_time": "2024-06-06T10:09:37.340Z"
   },
   {
    "duration": 90,
    "start_time": "2024-06-06T10:10:25.154Z"
   },
   {
    "duration": 80,
    "start_time": "2024-06-06T10:11:03.932Z"
   },
   {
    "duration": 79,
    "start_time": "2024-06-06T10:11:14.765Z"
   },
   {
    "duration": 178,
    "start_time": "2024-06-06T10:12:46.001Z"
   },
   {
    "duration": 156,
    "start_time": "2024-06-06T10:13:05.594Z"
   },
   {
    "duration": 140,
    "start_time": "2024-06-06T10:13:14.160Z"
   },
   {
    "duration": 141,
    "start_time": "2024-06-06T10:13:18.117Z"
   },
   {
    "duration": 216,
    "start_time": "2024-06-06T10:13:23.449Z"
   },
   {
    "duration": 149,
    "start_time": "2024-06-06T10:15:13.094Z"
   },
   {
    "duration": 144,
    "start_time": "2024-06-06T10:15:21.760Z"
   },
   {
    "duration": 147,
    "start_time": "2024-06-06T10:16:03.619Z"
   },
   {
    "duration": 139,
    "start_time": "2024-06-06T10:16:14.225Z"
   },
   {
    "duration": 137,
    "start_time": "2024-06-06T10:16:36.797Z"
   },
   {
    "duration": 156,
    "start_time": "2024-06-06T10:17:25.458Z"
   },
   {
    "duration": 247,
    "start_time": "2024-06-06T10:18:45.164Z"
   },
   {
    "duration": 174,
    "start_time": "2024-06-06T10:20:08.130Z"
   },
   {
    "duration": 163,
    "start_time": "2024-06-06T10:20:18.002Z"
   },
   {
    "duration": 169,
    "start_time": "2024-06-06T10:21:08.187Z"
   },
   {
    "duration": 232,
    "start_time": "2024-06-06T10:21:23.996Z"
   },
   {
    "duration": 179,
    "start_time": "2024-06-06T10:21:44.557Z"
   },
   {
    "duration": 179,
    "start_time": "2024-06-06T10:22:05.888Z"
   },
   {
    "duration": 198,
    "start_time": "2024-06-06T10:22:27.332Z"
   },
   {
    "duration": 52,
    "start_time": "2024-06-06T10:22:41.251Z"
   },
   {
    "duration": 250,
    "start_time": "2024-06-06T10:22:46.054Z"
   },
   {
    "duration": 181,
    "start_time": "2024-06-06T10:22:56.369Z"
   },
   {
    "duration": 198,
    "start_time": "2024-06-06T10:23:10.674Z"
   },
   {
    "duration": 176,
    "start_time": "2024-06-06T10:23:39.682Z"
   },
   {
    "duration": 249,
    "start_time": "2024-06-06T10:25:15.177Z"
   },
   {
    "duration": 357,
    "start_time": "2024-06-06T10:25:27.710Z"
   },
   {
    "duration": 253,
    "start_time": "2024-06-06T10:27:29.946Z"
   },
   {
    "duration": 171,
    "start_time": "2024-06-06T10:27:35.594Z"
   },
   {
    "duration": 196,
    "start_time": "2024-06-06T10:28:33.600Z"
   },
   {
    "duration": 252,
    "start_time": "2024-06-06T10:28:51.400Z"
   },
   {
    "duration": 254,
    "start_time": "2024-06-06T10:30:07.026Z"
   },
   {
    "duration": 381,
    "start_time": "2024-06-06T10:30:21.535Z"
   },
   {
    "duration": 211,
    "start_time": "2024-06-06T10:31:27.507Z"
   },
   {
    "duration": 272,
    "start_time": "2024-06-06T10:32:39.758Z"
   },
   {
    "duration": 253,
    "start_time": "2024-06-06T10:32:47.745Z"
   },
   {
    "duration": 278,
    "start_time": "2024-06-06T10:33:27.298Z"
   },
   {
    "duration": 257,
    "start_time": "2024-06-06T10:33:57.827Z"
   },
   {
    "duration": 260,
    "start_time": "2024-06-06T10:34:42.076Z"
   },
   {
    "duration": 416,
    "start_time": "2024-06-06T10:34:57.180Z"
   },
   {
    "duration": 917,
    "start_time": "2024-06-06T10:36:52.172Z"
   },
   {
    "duration": 1119,
    "start_time": "2024-06-06T10:37:00.592Z"
   },
   {
    "duration": 63,
    "start_time": "2024-06-06T10:37:01.713Z"
   },
   {
    "duration": 23,
    "start_time": "2024-06-06T10:37:01.777Z"
   },
   {
    "duration": 119,
    "start_time": "2024-06-06T10:37:01.801Z"
   },
   {
    "duration": 42,
    "start_time": "2024-06-06T10:37:01.922Z"
   },
   {
    "duration": 360,
    "start_time": "2024-06-06T10:37:01.966Z"
   },
   {
    "duration": 61,
    "start_time": "2024-06-06T10:37:02.328Z"
   },
   {
    "duration": 87,
    "start_time": "2024-06-06T10:37:02.391Z"
   },
   {
    "duration": 63,
    "start_time": "2024-06-06T10:37:02.480Z"
   },
   {
    "duration": 15,
    "start_time": "2024-06-06T10:37:02.545Z"
   },
   {
    "duration": 20,
    "start_time": "2024-06-06T10:37:02.561Z"
   },
   {
    "duration": 28,
    "start_time": "2024-06-06T10:37:02.582Z"
   },
   {
    "duration": 33,
    "start_time": "2024-06-06T10:37:02.611Z"
   },
   {
    "duration": 224,
    "start_time": "2024-06-06T10:37:02.645Z"
   },
   {
    "duration": 108,
    "start_time": "2024-06-06T10:37:02.871Z"
   },
   {
    "duration": 256,
    "start_time": "2024-06-06T10:37:02.980Z"
   },
   {
    "duration": 190,
    "start_time": "2024-06-06T10:37:03.237Z"
   },
   {
    "duration": 195,
    "start_time": "2024-06-06T10:37:03.428Z"
   },
   {
    "duration": 23,
    "start_time": "2024-06-06T10:37:03.625Z"
   },
   {
    "duration": 9,
    "start_time": "2024-06-06T10:37:03.649Z"
   },
   {
    "duration": 20,
    "start_time": "2024-06-06T10:37:03.659Z"
   },
   {
    "duration": 15,
    "start_time": "2024-06-06T10:37:03.680Z"
   },
   {
    "duration": 275,
    "start_time": "2024-06-06T10:37:03.696Z"
   },
   {
    "duration": 320,
    "start_time": "2024-06-06T10:37:03.973Z"
   },
   {
    "duration": 902,
    "start_time": "2024-06-06T10:37:04.295Z"
   },
   {
    "duration": 3,
    "start_time": "2024-06-06T10:37:05.198Z"
   },
   {
    "duration": 165,
    "start_time": "2024-06-06T10:37:05.209Z"
   },
   {
    "duration": 13,
    "start_time": "2024-06-06T10:37:05.377Z"
   },
   {
    "duration": 9,
    "start_time": "2024-06-06T10:37:05.392Z"
   },
   {
    "duration": 8,
    "start_time": "2024-06-06T10:37:05.403Z"
   },
   {
    "duration": 11,
    "start_time": "2024-06-06T10:37:05.412Z"
   },
   {
    "duration": 303,
    "start_time": "2024-06-06T10:37:05.425Z"
   },
   {
    "duration": 5,
    "start_time": "2024-06-06T10:37:05.729Z"
   },
   {
    "duration": 6,
    "start_time": "2024-06-06T10:39:05.981Z"
   },
   {
    "duration": 105,
    "start_time": "2024-06-06T10:45:55.662Z"
   },
   {
    "duration": 165,
    "start_time": "2024-06-06T10:46:12.558Z"
   },
   {
    "duration": 243,
    "start_time": "2024-06-06T10:47:21.696Z"
   },
   {
    "duration": 153,
    "start_time": "2024-06-06T10:47:42.607Z"
   },
   {
    "duration": 151,
    "start_time": "2024-06-06T10:48:30.979Z"
   },
   {
    "duration": 82,
    "start_time": "2024-06-06T10:52:41.760Z"
   },
   {
    "duration": 219,
    "start_time": "2024-06-06T10:53:01.106Z"
   },
   {
    "duration": 234,
    "start_time": "2024-06-06T10:53:19.755Z"
   },
   {
    "duration": 53,
    "start_time": "2024-06-06T10:55:05.722Z"
   },
   {
    "duration": 1150,
    "start_time": "2024-06-06T15:29:45.738Z"
   },
   {
    "duration": 64,
    "start_time": "2024-06-06T15:29:46.890Z"
   },
   {
    "duration": 12,
    "start_time": "2024-06-06T15:29:46.956Z"
   },
   {
    "duration": 10,
    "start_time": "2024-06-06T15:29:46.970Z"
   },
   {
    "duration": 13,
    "start_time": "2024-06-06T15:29:46.981Z"
   },
   {
    "duration": 9,
    "start_time": "2024-06-06T15:29:46.995Z"
   },
   {
    "duration": 13,
    "start_time": "2024-06-06T15:29:47.005Z"
   },
   {
    "duration": 13,
    "start_time": "2024-06-06T15:29:47.019Z"
   },
   {
    "duration": 10,
    "start_time": "2024-06-06T15:29:47.034Z"
   },
   {
    "duration": 7,
    "start_time": "2024-06-06T15:29:47.048Z"
   },
   {
    "duration": 6,
    "start_time": "2024-06-06T15:29:47.057Z"
   },
   {
    "duration": 11,
    "start_time": "2024-06-06T15:29:47.065Z"
   },
   {
    "duration": 6,
    "start_time": "2024-06-06T15:29:47.112Z"
   },
   {
    "duration": 187,
    "start_time": "2024-06-06T15:29:47.120Z"
   },
   {
    "duration": 87,
    "start_time": "2024-06-06T15:29:47.311Z"
   },
   {
    "duration": 257,
    "start_time": "2024-06-06T15:29:47.412Z"
   },
   {
    "duration": 202,
    "start_time": "2024-06-06T15:29:47.670Z"
   },
   {
    "duration": 197,
    "start_time": "2024-06-06T15:29:47.873Z"
   },
   {
    "duration": 26,
    "start_time": "2024-06-06T15:29:48.071Z"
   },
   {
    "duration": 21,
    "start_time": "2024-06-06T15:29:48.098Z"
   },
   {
    "duration": 12,
    "start_time": "2024-06-06T15:29:48.121Z"
   },
   {
    "duration": 17,
    "start_time": "2024-06-06T15:29:48.134Z"
   },
   {
    "duration": 277,
    "start_time": "2024-06-06T15:29:48.153Z"
   },
   {
    "duration": 348,
    "start_time": "2024-06-06T15:29:48.431Z"
   },
   {
    "duration": 986,
    "start_time": "2024-06-06T15:29:48.780Z"
   },
   {
    "duration": 4,
    "start_time": "2024-06-06T15:29:49.767Z"
   },
   {
    "duration": 166,
    "start_time": "2024-06-06T15:29:49.772Z"
   },
   {
    "duration": 14,
    "start_time": "2024-06-06T15:29:49.941Z"
   },
   {
    "duration": 9,
    "start_time": "2024-06-06T15:29:49.956Z"
   },
   {
    "duration": 26,
    "start_time": "2024-06-06T15:29:49.967Z"
   },
   {
    "duration": 23,
    "start_time": "2024-06-06T15:29:49.994Z"
   },
   {
    "duration": 338,
    "start_time": "2024-06-06T15:29:50.019Z"
   },
   {
    "duration": 5,
    "start_time": "2024-06-06T15:29:50.358Z"
   }
  ],
  "kernelspec": {
   "display_name": "Python 3 (ipykernel)",
   "language": "python",
   "name": "python3"
  },
  "language_info": {
   "codemirror_mode": {
    "name": "ipython",
    "version": 3
   },
   "file_extension": ".py",
   "mimetype": "text/x-python",
   "name": "python",
   "nbconvert_exporter": "python",
   "pygments_lexer": "ipython3",
   "version": "3.9.5"
  },
  "toc": {
   "base_numbering": 1,
   "nav_menu": {},
   "number_sections": true,
   "sideBar": true,
   "skip_h1_title": true,
   "title_cell": "Table of Contents",
   "title_sidebar": "Contents",
   "toc_cell": false,
   "toc_position": {},
   "toc_section_display": true,
   "toc_window_display": false
  }
 },
 "nbformat": 4,
 "nbformat_minor": 5
}
