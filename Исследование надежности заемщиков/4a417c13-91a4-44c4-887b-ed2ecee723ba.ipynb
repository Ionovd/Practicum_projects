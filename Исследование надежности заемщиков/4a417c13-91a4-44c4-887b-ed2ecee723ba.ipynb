{
 "cells": [
  {
   "cell_type": "markdown",
   "id": "e3a036cf",
   "metadata": {},
   "source": [
    "<h2> Комментарий ревьюера <a class=\"tocSkip\"></h2>\n",
    "\n",
    "Дмитрий, привет!\n",
    "\n",
    "Меня зовут Олег Михеев, и я буду проверять твой проект. Предлагаю общаться на \"ты\", но если тебе будет некомфортно, обязательно сообщи, и мы перейдем на \"вы\". Моя главная цель - не указать на твои ошибки, а поделиться опытом и подготовить тебя к работе аналитиком. Увидев у тебя ошибку, я постараюсь указать на её наличие и дам возможность найти и самостоятельно исправить её.\n",
    "\n",
    "В проверке проекта я буду использовать разные цвета для обозначения комментариев. Например:\n",
    "\n",
    "<br/>\n",
    "\n",
    "<div class=\"alert alert-success\">\n",
    "<h3> Комментарий ревьюера ✔️<a class=\"tocSkip\"> </h3>\n",
    "\n",
    "Так выделены удачные решения, на которые можно опираться в будущем.\n",
    "</div>\n",
    "\n",
    "<br/>\n",
    "\n",
    "<div class=\"alert alert-warning\">\n",
    "    <h3> Комментарий ревьюера ⚠️<a class=\"tocSkip\"> </h3>\n",
    "\n",
    "Когда решение на отдельном шаге станет лучше, если внести небольшие коррективы.\n",
    "</div>\n",
    "\n",
    "\n",
    "<br/>\n",
    "<div class=\"alert alert-block alert-danger\">\n",
    "<h3> Комментарий ревьюера ❌<a class=\"tocSkip\"></h3>\n",
    "\n",
    " А так выделены решения, которые необходимо доработать, чтобы я мог принять проект.\n",
    "</div>\n",
    "    \n",
    "  \n",
    "Если вносишь изменения в проект, указывай, пожалуйста, это в своих комментариях. Будет удобно, если обозначишь их заметным цветом. Например, вот так:\n",
    "       \n",
    "<div class=\"alert alert-block alert-info\">\n",
    "    \n",
    "<h3> Комментарий студента  <a class=\"tocSkip\"></h3>\n",
    "    \n",
    "Можешь кликнуть сюда два раза и скопировать код комментария. Также если что-то непонятно или остались вопросы по ревью, обязательно пиши.\n",
    "    \n",
    "</div>\n",
    "    \n",
    "Пожалуйста, не удаляй и не перемещай мои комментарии, чтобы не произошло путаницы, и я мог быстрее проверить проект.\n",
    "<br/>"
   ]
  },
  {
   "cell_type": "markdown",
   "id": "8ec1efd2",
   "metadata": {},
   "source": [
    "<div style=\"border:solid Chocolate 2px; padding: 40px\">\n",
    "\n",
    "**Общий вывод по ревью**\n",
    "\n",
    "Здорово, что удалось пройти по всем этапам исследования. Ты уже неплохо освоил теорию, но некоторые моменты необходимо доработать, чтобы можно было идти дальше.\n",
    "\n",
    "**Что нужно сделать, чтобы я мог принять проект**:\n",
    "\n",
    "* Вывести сводные таблицы с количеством клиентов, количеством должников и процентом должников для всех вопросов исследовательской части.\n",
    "* Пересмотреть выводы там, где необходимо, с учётом объёма категорий клиентов\n",
    "* Уточнить ответ в вопросе о медиане\n",
    "* Написать подробный финальный вывод, учитывающий все группы клиентов с процентными показателями и информацию о предобработке\n",
    "\n",
    "**Успехов! Жду проект на повторное ревью!**"
   ]
  },
  {
   "cell_type": "markdown",
   "id": "55e57538",
   "metadata": {},
   "source": [
    "<div style=\"border:solid Chocolate 2px; padding: 40px\">\n",
    "\n",
    "**Общий вывод по ревью v2**\n",
    "\n",
    "Спасибо, что постарался учесть все замечания и рекомендации.\n",
    "\n",
    "Осталось совсем немного. Чтобы я мог принять проект, опиши финальный вывод более подробно, пожалуйста.\n",
    "\n",
    "**Буду ждать твой проект на следующую итерацию!**"
   ]
  },
  {
   "cell_type": "markdown",
   "id": "c0af6500",
   "metadata": {},
   "source": [
    "<div style=\"border:solid Chocolate 2px; padding: 40px\">\n",
    "\n",
    "**Общий вывод по ревью v3**\n",
    "\n",
    "Все критические замечания учтены!\n",
    "\n",
    "Придерживайся тех же принципов работы в следующих проектах, и это облегчит тебе взаимодействие с потенциальными коллегами и позволит быстрее сдавать учебные проекты.\n",
    "\n",
    "**Проект принимаю. Успехов в обучении!**"
   ]
  },
  {
   "cell_type": "markdown",
   "id": "386f2ae7",
   "metadata": {
    "deletable": false,
    "editable": false,
    "id": "386f2ae7"
   },
   "source": [
    "# Исследование надежности заемщиков\n"
   ]
  },
  {
   "cell_type": "markdown",
   "id": "ffe86f65",
   "metadata": {
    "deletable": false,
    "editable": false,
    "id": "ffe86f65"
   },
   "source": [
    "Во второй части проекта вы выполните шаги 3 и 4. Их вручную проверит ревьюер.\n",
    "Чтобы вам не пришлось писать код заново для шагов 1 и 2, мы добавили авторские решения в ячейки с кодом. \n",
    "\n"
   ]
  },
  {
   "cell_type": "markdown",
   "id": "26613308",
   "metadata": {
    "deletable": false,
    "editable": false,
    "id": "26613308"
   },
   "source": [
    "## Откройте таблицу и изучите общую информацию о данных"
   ]
  },
  {
   "cell_type": "markdown",
   "id": "3c9f838e",
   "metadata": {
    "deletable": false,
    "editable": false,
    "id": "3c9f838e"
   },
   "source": [
    "**Задание 1. Импортируйте библиотеку pandas. Считайте данные из csv-файла в датафрейм и сохраните в переменную `data`. Путь к файлу:**\n",
    "\n",
    "`/datasets/data.csv`"
   ]
  },
  {
   "cell_type": "code",
   "execution_count": 1,
   "id": "77a68a90",
   "metadata": {
    "deletable": false,
    "id": "77a68a90"
   },
   "outputs": [],
   "source": [
    "import pandas as pd\n",
    "import seaborn as sb\n",
    "import matplotlib.pyplot as plt\n",
    "try:\n",
    "    data = pd.read_csv('/datasets/data.csv')\n",
    "except:\n",
    "    data = pd.read_csv('https://code.s3.yandex.net/datasets/data.csv')"
   ]
  },
  {
   "cell_type": "markdown",
   "id": "45365635",
   "metadata": {
    "deletable": false,
    "editable": false,
    "id": "45365635"
   },
   "source": [
    "**Задание 2. Выведите первые 20 строчек датафрейма `data` на экран.**"
   ]
  },
  {
   "cell_type": "code",
   "execution_count": 2,
   "id": "b0451a9a",
   "metadata": {
    "deletable": false,
    "id": "b0451a9a",
    "outputId": "1a8f3ef2-d323-4ec2-ddf7-89670b5944c4"
   },
   "outputs": [
    {
     "data": {
      "text/html": [
       "<div>\n",
       "<style scoped>\n",
       "    .dataframe tbody tr th:only-of-type {\n",
       "        vertical-align: middle;\n",
       "    }\n",
       "\n",
       "    .dataframe tbody tr th {\n",
       "        vertical-align: top;\n",
       "    }\n",
       "\n",
       "    .dataframe thead th {\n",
       "        text-align: right;\n",
       "    }\n",
       "</style>\n",
       "<table border=\"1\" class=\"dataframe\">\n",
       "  <thead>\n",
       "    <tr style=\"text-align: right;\">\n",
       "      <th></th>\n",
       "      <th>children</th>\n",
       "      <th>days_employed</th>\n",
       "      <th>dob_years</th>\n",
       "      <th>education</th>\n",
       "      <th>education_id</th>\n",
       "      <th>family_status</th>\n",
       "      <th>family_status_id</th>\n",
       "      <th>gender</th>\n",
       "      <th>income_type</th>\n",
       "      <th>debt</th>\n",
       "      <th>total_income</th>\n",
       "      <th>purpose</th>\n",
       "    </tr>\n",
       "  </thead>\n",
       "  <tbody>\n",
       "    <tr>\n",
       "      <th>0</th>\n",
       "      <td>1</td>\n",
       "      <td>-8437.673028</td>\n",
       "      <td>42</td>\n",
       "      <td>высшее</td>\n",
       "      <td>0</td>\n",
       "      <td>женат / замужем</td>\n",
       "      <td>0</td>\n",
       "      <td>F</td>\n",
       "      <td>сотрудник</td>\n",
       "      <td>0</td>\n",
       "      <td>253875.639453</td>\n",
       "      <td>покупка жилья</td>\n",
       "    </tr>\n",
       "    <tr>\n",
       "      <th>1</th>\n",
       "      <td>1</td>\n",
       "      <td>-4024.803754</td>\n",
       "      <td>36</td>\n",
       "      <td>среднее</td>\n",
       "      <td>1</td>\n",
       "      <td>женат / замужем</td>\n",
       "      <td>0</td>\n",
       "      <td>F</td>\n",
       "      <td>сотрудник</td>\n",
       "      <td>0</td>\n",
       "      <td>112080.014102</td>\n",
       "      <td>приобретение автомобиля</td>\n",
       "    </tr>\n",
       "    <tr>\n",
       "      <th>2</th>\n",
       "      <td>0</td>\n",
       "      <td>-5623.422610</td>\n",
       "      <td>33</td>\n",
       "      <td>Среднее</td>\n",
       "      <td>1</td>\n",
       "      <td>женат / замужем</td>\n",
       "      <td>0</td>\n",
       "      <td>M</td>\n",
       "      <td>сотрудник</td>\n",
       "      <td>0</td>\n",
       "      <td>145885.952297</td>\n",
       "      <td>покупка жилья</td>\n",
       "    </tr>\n",
       "    <tr>\n",
       "      <th>3</th>\n",
       "      <td>3</td>\n",
       "      <td>-4124.747207</td>\n",
       "      <td>32</td>\n",
       "      <td>среднее</td>\n",
       "      <td>1</td>\n",
       "      <td>женат / замужем</td>\n",
       "      <td>0</td>\n",
       "      <td>M</td>\n",
       "      <td>сотрудник</td>\n",
       "      <td>0</td>\n",
       "      <td>267628.550329</td>\n",
       "      <td>дополнительное образование</td>\n",
       "    </tr>\n",
       "    <tr>\n",
       "      <th>4</th>\n",
       "      <td>0</td>\n",
       "      <td>340266.072047</td>\n",
       "      <td>53</td>\n",
       "      <td>среднее</td>\n",
       "      <td>1</td>\n",
       "      <td>гражданский брак</td>\n",
       "      <td>1</td>\n",
       "      <td>F</td>\n",
       "      <td>пенсионер</td>\n",
       "      <td>0</td>\n",
       "      <td>158616.077870</td>\n",
       "      <td>сыграть свадьбу</td>\n",
       "    </tr>\n",
       "    <tr>\n",
       "      <th>5</th>\n",
       "      <td>0</td>\n",
       "      <td>-926.185831</td>\n",
       "      <td>27</td>\n",
       "      <td>высшее</td>\n",
       "      <td>0</td>\n",
       "      <td>гражданский брак</td>\n",
       "      <td>1</td>\n",
       "      <td>M</td>\n",
       "      <td>компаньон</td>\n",
       "      <td>0</td>\n",
       "      <td>255763.565419</td>\n",
       "      <td>покупка жилья</td>\n",
       "    </tr>\n",
       "    <tr>\n",
       "      <th>6</th>\n",
       "      <td>0</td>\n",
       "      <td>-2879.202052</td>\n",
       "      <td>43</td>\n",
       "      <td>высшее</td>\n",
       "      <td>0</td>\n",
       "      <td>женат / замужем</td>\n",
       "      <td>0</td>\n",
       "      <td>F</td>\n",
       "      <td>компаньон</td>\n",
       "      <td>0</td>\n",
       "      <td>240525.971920</td>\n",
       "      <td>операции с жильем</td>\n",
       "    </tr>\n",
       "    <tr>\n",
       "      <th>7</th>\n",
       "      <td>0</td>\n",
       "      <td>-152.779569</td>\n",
       "      <td>50</td>\n",
       "      <td>СРЕДНЕЕ</td>\n",
       "      <td>1</td>\n",
       "      <td>женат / замужем</td>\n",
       "      <td>0</td>\n",
       "      <td>M</td>\n",
       "      <td>сотрудник</td>\n",
       "      <td>0</td>\n",
       "      <td>135823.934197</td>\n",
       "      <td>образование</td>\n",
       "    </tr>\n",
       "    <tr>\n",
       "      <th>8</th>\n",
       "      <td>2</td>\n",
       "      <td>-6929.865299</td>\n",
       "      <td>35</td>\n",
       "      <td>ВЫСШЕЕ</td>\n",
       "      <td>0</td>\n",
       "      <td>гражданский брак</td>\n",
       "      <td>1</td>\n",
       "      <td>F</td>\n",
       "      <td>сотрудник</td>\n",
       "      <td>0</td>\n",
       "      <td>95856.832424</td>\n",
       "      <td>на проведение свадьбы</td>\n",
       "    </tr>\n",
       "    <tr>\n",
       "      <th>9</th>\n",
       "      <td>0</td>\n",
       "      <td>-2188.756445</td>\n",
       "      <td>41</td>\n",
       "      <td>среднее</td>\n",
       "      <td>1</td>\n",
       "      <td>женат / замужем</td>\n",
       "      <td>0</td>\n",
       "      <td>M</td>\n",
       "      <td>сотрудник</td>\n",
       "      <td>0</td>\n",
       "      <td>144425.938277</td>\n",
       "      <td>покупка жилья для семьи</td>\n",
       "    </tr>\n",
       "    <tr>\n",
       "      <th>10</th>\n",
       "      <td>2</td>\n",
       "      <td>-4171.483647</td>\n",
       "      <td>36</td>\n",
       "      <td>высшее</td>\n",
       "      <td>0</td>\n",
       "      <td>женат / замужем</td>\n",
       "      <td>0</td>\n",
       "      <td>M</td>\n",
       "      <td>компаньон</td>\n",
       "      <td>0</td>\n",
       "      <td>113943.491460</td>\n",
       "      <td>покупка недвижимости</td>\n",
       "    </tr>\n",
       "    <tr>\n",
       "      <th>11</th>\n",
       "      <td>0</td>\n",
       "      <td>-792.701887</td>\n",
       "      <td>40</td>\n",
       "      <td>среднее</td>\n",
       "      <td>1</td>\n",
       "      <td>женат / замужем</td>\n",
       "      <td>0</td>\n",
       "      <td>F</td>\n",
       "      <td>сотрудник</td>\n",
       "      <td>0</td>\n",
       "      <td>77069.234271</td>\n",
       "      <td>покупка коммерческой недвижимости</td>\n",
       "    </tr>\n",
       "    <tr>\n",
       "      <th>12</th>\n",
       "      <td>0</td>\n",
       "      <td>NaN</td>\n",
       "      <td>65</td>\n",
       "      <td>среднее</td>\n",
       "      <td>1</td>\n",
       "      <td>гражданский брак</td>\n",
       "      <td>1</td>\n",
       "      <td>M</td>\n",
       "      <td>пенсионер</td>\n",
       "      <td>0</td>\n",
       "      <td>NaN</td>\n",
       "      <td>сыграть свадьбу</td>\n",
       "    </tr>\n",
       "    <tr>\n",
       "      <th>13</th>\n",
       "      <td>0</td>\n",
       "      <td>-1846.641941</td>\n",
       "      <td>54</td>\n",
       "      <td>неоконченное высшее</td>\n",
       "      <td>2</td>\n",
       "      <td>женат / замужем</td>\n",
       "      <td>0</td>\n",
       "      <td>F</td>\n",
       "      <td>сотрудник</td>\n",
       "      <td>0</td>\n",
       "      <td>130458.228857</td>\n",
       "      <td>приобретение автомобиля</td>\n",
       "    </tr>\n",
       "    <tr>\n",
       "      <th>14</th>\n",
       "      <td>0</td>\n",
       "      <td>-1844.956182</td>\n",
       "      <td>56</td>\n",
       "      <td>высшее</td>\n",
       "      <td>0</td>\n",
       "      <td>гражданский брак</td>\n",
       "      <td>1</td>\n",
       "      <td>F</td>\n",
       "      <td>компаньон</td>\n",
       "      <td>1</td>\n",
       "      <td>165127.911772</td>\n",
       "      <td>покупка жилой недвижимости</td>\n",
       "    </tr>\n",
       "    <tr>\n",
       "      <th>15</th>\n",
       "      <td>1</td>\n",
       "      <td>-972.364419</td>\n",
       "      <td>26</td>\n",
       "      <td>среднее</td>\n",
       "      <td>1</td>\n",
       "      <td>женат / замужем</td>\n",
       "      <td>0</td>\n",
       "      <td>F</td>\n",
       "      <td>сотрудник</td>\n",
       "      <td>0</td>\n",
       "      <td>116820.904450</td>\n",
       "      <td>строительство собственной недвижимости</td>\n",
       "    </tr>\n",
       "    <tr>\n",
       "      <th>16</th>\n",
       "      <td>0</td>\n",
       "      <td>-1719.934226</td>\n",
       "      <td>35</td>\n",
       "      <td>среднее</td>\n",
       "      <td>1</td>\n",
       "      <td>женат / замужем</td>\n",
       "      <td>0</td>\n",
       "      <td>F</td>\n",
       "      <td>сотрудник</td>\n",
       "      <td>0</td>\n",
       "      <td>289202.704229</td>\n",
       "      <td>недвижимость</td>\n",
       "    </tr>\n",
       "    <tr>\n",
       "      <th>17</th>\n",
       "      <td>0</td>\n",
       "      <td>-2369.999720</td>\n",
       "      <td>33</td>\n",
       "      <td>высшее</td>\n",
       "      <td>0</td>\n",
       "      <td>гражданский брак</td>\n",
       "      <td>1</td>\n",
       "      <td>M</td>\n",
       "      <td>сотрудник</td>\n",
       "      <td>0</td>\n",
       "      <td>90410.586745</td>\n",
       "      <td>строительство недвижимости</td>\n",
       "    </tr>\n",
       "    <tr>\n",
       "      <th>18</th>\n",
       "      <td>0</td>\n",
       "      <td>400281.136913</td>\n",
       "      <td>53</td>\n",
       "      <td>среднее</td>\n",
       "      <td>1</td>\n",
       "      <td>вдовец / вдова</td>\n",
       "      <td>2</td>\n",
       "      <td>F</td>\n",
       "      <td>пенсионер</td>\n",
       "      <td>0</td>\n",
       "      <td>56823.777243</td>\n",
       "      <td>на покупку подержанного автомобиля</td>\n",
       "    </tr>\n",
       "    <tr>\n",
       "      <th>19</th>\n",
       "      <td>0</td>\n",
       "      <td>-10038.818549</td>\n",
       "      <td>48</td>\n",
       "      <td>СРЕДНЕЕ</td>\n",
       "      <td>1</td>\n",
       "      <td>в разводе</td>\n",
       "      <td>3</td>\n",
       "      <td>F</td>\n",
       "      <td>сотрудник</td>\n",
       "      <td>0</td>\n",
       "      <td>242831.107982</td>\n",
       "      <td>на покупку своего автомобиля</td>\n",
       "    </tr>\n",
       "  </tbody>\n",
       "</table>\n",
       "</div>"
      ],
      "text/plain": [
       "    children  days_employed  dob_years            education  education_id  \\\n",
       "0          1   -8437.673028         42               высшее             0   \n",
       "1          1   -4024.803754         36              среднее             1   \n",
       "2          0   -5623.422610         33              Среднее             1   \n",
       "3          3   -4124.747207         32              среднее             1   \n",
       "4          0  340266.072047         53              среднее             1   \n",
       "5          0    -926.185831         27               высшее             0   \n",
       "6          0   -2879.202052         43               высшее             0   \n",
       "7          0    -152.779569         50              СРЕДНЕЕ             1   \n",
       "8          2   -6929.865299         35               ВЫСШЕЕ             0   \n",
       "9          0   -2188.756445         41              среднее             1   \n",
       "10         2   -4171.483647         36               высшее             0   \n",
       "11         0    -792.701887         40              среднее             1   \n",
       "12         0            NaN         65              среднее             1   \n",
       "13         0   -1846.641941         54  неоконченное высшее             2   \n",
       "14         0   -1844.956182         56               высшее             0   \n",
       "15         1    -972.364419         26              среднее             1   \n",
       "16         0   -1719.934226         35              среднее             1   \n",
       "17         0   -2369.999720         33               высшее             0   \n",
       "18         0  400281.136913         53              среднее             1   \n",
       "19         0  -10038.818549         48              СРЕДНЕЕ             1   \n",
       "\n",
       "       family_status  family_status_id gender income_type  debt  \\\n",
       "0    женат / замужем                 0      F   сотрудник     0   \n",
       "1    женат / замужем                 0      F   сотрудник     0   \n",
       "2    женат / замужем                 0      M   сотрудник     0   \n",
       "3    женат / замужем                 0      M   сотрудник     0   \n",
       "4   гражданский брак                 1      F   пенсионер     0   \n",
       "5   гражданский брак                 1      M   компаньон     0   \n",
       "6    женат / замужем                 0      F   компаньон     0   \n",
       "7    женат / замужем                 0      M   сотрудник     0   \n",
       "8   гражданский брак                 1      F   сотрудник     0   \n",
       "9    женат / замужем                 0      M   сотрудник     0   \n",
       "10   женат / замужем                 0      M   компаньон     0   \n",
       "11   женат / замужем                 0      F   сотрудник     0   \n",
       "12  гражданский брак                 1      M   пенсионер     0   \n",
       "13   женат / замужем                 0      F   сотрудник     0   \n",
       "14  гражданский брак                 1      F   компаньон     1   \n",
       "15   женат / замужем                 0      F   сотрудник     0   \n",
       "16   женат / замужем                 0      F   сотрудник     0   \n",
       "17  гражданский брак                 1      M   сотрудник     0   \n",
       "18    вдовец / вдова                 2      F   пенсионер     0   \n",
       "19         в разводе                 3      F   сотрудник     0   \n",
       "\n",
       "     total_income                                 purpose  \n",
       "0   253875.639453                           покупка жилья  \n",
       "1   112080.014102                 приобретение автомобиля  \n",
       "2   145885.952297                           покупка жилья  \n",
       "3   267628.550329              дополнительное образование  \n",
       "4   158616.077870                         сыграть свадьбу  \n",
       "5   255763.565419                           покупка жилья  \n",
       "6   240525.971920                       операции с жильем  \n",
       "7   135823.934197                             образование  \n",
       "8    95856.832424                   на проведение свадьбы  \n",
       "9   144425.938277                 покупка жилья для семьи  \n",
       "10  113943.491460                    покупка недвижимости  \n",
       "11   77069.234271       покупка коммерческой недвижимости  \n",
       "12            NaN                         сыграть свадьбу  \n",
       "13  130458.228857                 приобретение автомобиля  \n",
       "14  165127.911772              покупка жилой недвижимости  \n",
       "15  116820.904450  строительство собственной недвижимости  \n",
       "16  289202.704229                            недвижимость  \n",
       "17   90410.586745              строительство недвижимости  \n",
       "18   56823.777243      на покупку подержанного автомобиля  \n",
       "19  242831.107982            на покупку своего автомобиля  "
      ]
     },
     "execution_count": 2,
     "metadata": {},
     "output_type": "execute_result"
    }
   ],
   "source": [
    "data.head(20)"
   ]
  },
  {
   "cell_type": "markdown",
   "id": "0ed8f27f",
   "metadata": {
    "deletable": false,
    "editable": false,
    "id": "0ed8f27f"
   },
   "source": [
    "**Задание 3. Выведите основную информацию о датафрейме с помощью метода `info()`.**"
   ]
  },
  {
   "cell_type": "code",
   "execution_count": 3,
   "id": "ab3f863b",
   "metadata": {
    "deletable": false,
    "id": "ab3f863b",
    "outputId": "15376089-8dad-46c9-b520-c05248d43158"
   },
   "outputs": [
    {
     "name": "stdout",
     "output_type": "stream",
     "text": [
      "<class 'pandas.core.frame.DataFrame'>\n",
      "RangeIndex: 21525 entries, 0 to 21524\n",
      "Data columns (total 12 columns):\n",
      " #   Column            Non-Null Count  Dtype  \n",
      "---  ------            --------------  -----  \n",
      " 0   children          21525 non-null  int64  \n",
      " 1   days_employed     19351 non-null  float64\n",
      " 2   dob_years         21525 non-null  int64  \n",
      " 3   education         21525 non-null  object \n",
      " 4   education_id      21525 non-null  int64  \n",
      " 5   family_status     21525 non-null  object \n",
      " 6   family_status_id  21525 non-null  int64  \n",
      " 7   gender            21525 non-null  object \n",
      " 8   income_type       21525 non-null  object \n",
      " 9   debt              21525 non-null  int64  \n",
      " 10  total_income      19351 non-null  float64\n",
      " 11  purpose           21525 non-null  object \n",
      "dtypes: float64(2), int64(5), object(5)\n",
      "memory usage: 2.0+ MB\n"
     ]
    }
   ],
   "source": [
    "data.info()"
   ]
  },
  {
   "cell_type": "markdown",
   "id": "60e3e22d",
   "metadata": {
    "deletable": false,
    "editable": false,
    "id": "60e3e22d"
   },
   "source": [
    "## Предобработка данных"
   ]
  },
  {
   "cell_type": "markdown",
   "id": "03dc170c",
   "metadata": {
    "deletable": false,
    "editable": false,
    "id": "03dc170c"
   },
   "source": [
    "### Удаление пропусков"
   ]
  },
  {
   "cell_type": "markdown",
   "id": "a4f54eef",
   "metadata": {
    "deletable": false,
    "editable": false,
    "id": "a4f54eef"
   },
   "source": [
    "**Задание 4. Выведите количество пропущенных значений для каждого столбца. Используйте комбинацию двух методов.**"
   ]
  },
  {
   "cell_type": "code",
   "execution_count": 4,
   "id": "2dc372b2",
   "metadata": {
    "deletable": false,
    "id": "2dc372b2",
    "outputId": "81f4d817-781c-465c-ed15-91ce4446810d"
   },
   "outputs": [
    {
     "data": {
      "text/plain": [
       "children               0\n",
       "days_employed       2174\n",
       "dob_years              0\n",
       "education              0\n",
       "education_id           0\n",
       "family_status          0\n",
       "family_status_id       0\n",
       "gender                 0\n",
       "income_type            0\n",
       "debt                   0\n",
       "total_income        2174\n",
       "purpose                0\n",
       "dtype: int64"
      ]
     },
     "execution_count": 4,
     "metadata": {},
     "output_type": "execute_result"
    }
   ],
   "source": [
    "data.isna().sum()"
   ]
  },
  {
   "cell_type": "markdown",
   "id": "14f011b1",
   "metadata": {
    "deletable": false,
    "editable": false,
    "id": "14f011b1"
   },
   "source": [
    "**Задание 5. В двух столбцах есть пропущенные значения. Один из них — `days_employed`. Пропуски в этом столбце вы обработаете на следующем этапе. Другой столбец с пропущенными значениями — `total_income` — хранит данные о доходах. На сумму дохода сильнее всего влияет тип занятости, поэтому заполнить пропуски в этом столбце нужно медианным значением по каждому типу из столбца `income_type`. Например, у человека с типом занятости `сотрудник` пропуск в столбце `total_income` должен быть заполнен медианным доходом среди всех записей с тем же типом.**"
   ]
  },
  {
   "cell_type": "code",
   "execution_count": 5,
   "id": "bdabfb6e",
   "metadata": {
    "deletable": false,
    "id": "bdabfb6e"
   },
   "outputs": [],
   "source": [
    "for t in data['income_type'].unique():\n",
    "    data.loc[(data['income_type'] == t) & (data['total_income'].isna()), 'total_income'] = \\\n",
    "    data.loc[(data['income_type'] == t), 'total_income'].median()"
   ]
  },
  {
   "cell_type": "markdown",
   "id": "5be34059",
   "metadata": {
    "deletable": false,
    "editable": false,
    "id": "5be34059"
   },
   "source": [
    "### Обработка аномальных значений"
   ]
  },
  {
   "cell_type": "markdown",
   "id": "a87606cb",
   "metadata": {
    "deletable": false,
    "editable": false,
    "id": "a87606cb"
   },
   "source": [
    "**Задание 6. В данных могут встречаться артефакты (аномалии) — значения, которые не отражают действительность и появились по какой-то ошибке. таким артефактом будет отрицательное количество дней трудового стажа в столбце `days_employed`. Для реальных данных это нормально. Обработайте значения в этом столбце: замените все отрицательные значения положительными с помощью метода `abs()`.**"
   ]
  },
  {
   "cell_type": "code",
   "execution_count": 6,
   "id": "020c46cc",
   "metadata": {
    "deletable": false,
    "id": "020c46cc"
   },
   "outputs": [],
   "source": [
    "data['days_employed'] = data['days_employed'].abs()"
   ]
  },
  {
   "cell_type": "markdown",
   "id": "45538a3a",
   "metadata": {
    "deletable": false,
    "editable": false,
    "id": "45538a3a"
   },
   "source": [
    "**Задание 7. Для каждого типа занятости выведите медианное значение трудового стажа `days_employed` в днях.**"
   ]
  },
  {
   "cell_type": "code",
   "execution_count": 7,
   "id": "cd3e6328",
   "metadata": {
    "deletable": false,
    "id": "cd3e6328",
    "outputId": "801ef80e-522b-4668-f34e-565af7432bcf"
   },
   "outputs": [
    {
     "data": {
      "text/plain": [
       "income_type\n",
       "безработный        366413.652744\n",
       "в декрете            3296.759962\n",
       "госслужащий          2689.368353\n",
       "компаньон            1547.382223\n",
       "пенсионер          365213.306266\n",
       "предприниматель       520.848083\n",
       "сотрудник            1574.202821\n",
       "студент               578.751554\n",
       "Name: days_employed, dtype: float64"
      ]
     },
     "execution_count": 7,
     "metadata": {},
     "output_type": "execute_result"
    }
   ],
   "source": [
    "data.groupby('income_type')['days_employed'].agg('median')"
   ]
  },
  {
   "cell_type": "markdown",
   "id": "90c5f058",
   "metadata": {
    "deletable": false,
    "editable": false,
    "id": "90c5f058"
   },
   "source": [
    "У двух типов (безработные и пенсионеры) получатся аномально большие значения. Исправить такие значения сложно, поэтому оставьте их как есть."
   ]
  },
  {
   "cell_type": "markdown",
   "id": "9652e50d",
   "metadata": {
    "deletable": false,
    "editable": false,
    "id": "9652e50d"
   },
   "source": [
    "**Задание 8. Выведите перечень уникальных значений столбца `children`.**"
   ]
  },
  {
   "cell_type": "code",
   "execution_count": 8,
   "id": "dbb37b8e",
   "metadata": {
    "deletable": false,
    "id": "dbb37b8e",
    "outputId": "6975b15c-7f95-4697-d16d-a0c79b657b03"
   },
   "outputs": [
    {
     "data": {
      "text/plain": [
       "array([ 1,  0,  3,  2, -1,  4, 20,  5])"
      ]
     },
     "execution_count": 8,
     "metadata": {},
     "output_type": "execute_result"
    }
   ],
   "source": [
    "data['children'].unique()"
   ]
  },
  {
   "cell_type": "markdown",
   "id": "2b8b0715",
   "metadata": {
    "deletable": false,
    "editable": false,
    "id": "2b8b0715"
   },
   "source": [
    "**Задание 9. В столбце `children` есть два аномальных значения. Удалите строки, в которых встречаются такие аномальные значения из датафрейма `data`.**"
   ]
  },
  {
   "cell_type": "code",
   "execution_count": 9,
   "id": "20009df8",
   "metadata": {
    "deletable": false,
    "id": "20009df8"
   },
   "outputs": [],
   "source": [
    "data = data[(data['children'] != -1) & (data['children'] != 20)]"
   ]
  },
  {
   "cell_type": "markdown",
   "id": "8c6ac9f1",
   "metadata": {
    "deletable": false,
    "editable": false,
    "id": "8c6ac9f1"
   },
   "source": [
    "**Задание 10. Ещё раз выведите перечень уникальных значений столбца `children`, чтобы убедиться, что артефакты удалены.**"
   ]
  },
  {
   "cell_type": "code",
   "execution_count": 10,
   "id": "07337b81",
   "metadata": {
    "deletable": false,
    "id": "07337b81",
    "outputId": "b2097101-d49d-44d9-901b-32a65c9463d1"
   },
   "outputs": [
    {
     "data": {
      "text/plain": [
       "array([1, 0, 3, 2, 4, 5])"
      ]
     },
     "execution_count": 10,
     "metadata": {},
     "output_type": "execute_result"
    }
   ],
   "source": [
    "data['children'].unique()"
   ]
  },
  {
   "cell_type": "markdown",
   "id": "ee3f52d4",
   "metadata": {
    "deletable": false,
    "editable": false,
    "id": "ee3f52d4"
   },
   "source": [
    "### Удаление пропусков (продолжение)"
   ]
  },
  {
   "cell_type": "markdown",
   "id": "a700b0e4",
   "metadata": {
    "deletable": false,
    "editable": false,
    "id": "a700b0e4"
   },
   "source": [
    "**Задание 11. Заполните пропуски в столбце `days_employed` медианными значениями по каждого типа занятости `income_type`.**"
   ]
  },
  {
   "cell_type": "code",
   "execution_count": 11,
   "id": "61946b83",
   "metadata": {
    "deletable": false,
    "id": "61946b83"
   },
   "outputs": [],
   "source": [
    "for t in data['income_type'].unique():\n",
    "    data.loc[(data['income_type'] == t) & (data['days_employed'].isna()), 'days_employed'] = \\\n",
    "    data.loc[(data['income_type'] == t), 'days_employed'].median()"
   ]
  },
  {
   "cell_type": "markdown",
   "id": "550dcd9b",
   "metadata": {
    "deletable": false,
    "editable": false,
    "id": "550dcd9b"
   },
   "source": [
    "**Задание 12. Убедитесь, что все пропуски заполнены. Проверьте себя и ещё раз выведите количество пропущенных значений для каждого столбца с помощью двух методов.**"
   ]
  },
  {
   "cell_type": "code",
   "execution_count": 12,
   "id": "937c7014",
   "metadata": {
    "deletable": false,
    "id": "937c7014",
    "outputId": "8da1e4e1-358e-4e87-98c9-f261bce0a7b2"
   },
   "outputs": [
    {
     "data": {
      "text/plain": [
       "children            0\n",
       "days_employed       0\n",
       "dob_years           0\n",
       "education           0\n",
       "education_id        0\n",
       "family_status       0\n",
       "family_status_id    0\n",
       "gender              0\n",
       "income_type         0\n",
       "debt                0\n",
       "total_income        0\n",
       "purpose             0\n",
       "dtype: int64"
      ]
     },
     "execution_count": 12,
     "metadata": {},
     "output_type": "execute_result"
    }
   ],
   "source": [
    "data.isna().sum()"
   ]
  },
  {
   "cell_type": "markdown",
   "id": "d522e295",
   "metadata": {
    "deletable": false,
    "editable": false,
    "id": "d522e295"
   },
   "source": [
    "### Изменение типов данных"
   ]
  },
  {
   "cell_type": "markdown",
   "id": "c229c581",
   "metadata": {
    "deletable": false,
    "editable": false,
    "id": "c229c581"
   },
   "source": [
    "**Задание 13. Замените вещественный тип данных в столбце `total_income` на целочисленный с помощью метода `astype()`.**"
   ]
  },
  {
   "cell_type": "code",
   "execution_count": 13,
   "id": "31036462",
   "metadata": {
    "deletable": false,
    "id": "31036462"
   },
   "outputs": [],
   "source": [
    "data['total_income'] = data['total_income'].astype(int)"
   ]
  },
  {
   "cell_type": "markdown",
   "id": "b8e3d1d9",
   "metadata": {
    "deletable": false,
    "editable": false,
    "id": "b8e3d1d9"
   },
   "source": [
    "### Обработка дубликатов"
   ]
  },
  {
   "cell_type": "markdown",
   "id": "9be53c49",
   "metadata": {
    "deletable": false,
    "editable": false,
    "id": "9be53c49"
   },
   "source": [
    "**Задание 14. Обработайте неявные дубликаты в столбце `education`. В этом столбце есть одни и те же значения, но записанные по-разному: с использованием заглавных и строчных букв. Приведите их к нижнему регистру.**"
   ]
  },
  {
   "cell_type": "code",
   "execution_count": 14,
   "id": "d89e73e1",
   "metadata": {
    "deletable": false,
    "id": "d89e73e1"
   },
   "outputs": [],
   "source": [
    "data['education'] = data['education'].str.lower()"
   ]
  },
  {
   "cell_type": "markdown",
   "id": "01d4500e",
   "metadata": {
    "deletable": false,
    "editable": false,
    "id": "01d4500e"
   },
   "source": [
    "**Задание 15. Выведите на экран количество строк-дубликатов в данных. Если такие строки присутствуют, удалите их.**"
   ]
  },
  {
   "cell_type": "code",
   "execution_count": 15,
   "id": "e10efb23",
   "metadata": {
    "deletable": false,
    "id": "e10efb23",
    "outputId": "9684deba-1934-42d1-99e1-cda61740f822"
   },
   "outputs": [
    {
     "data": {
      "text/plain": [
       "71"
      ]
     },
     "execution_count": 15,
     "metadata": {},
     "output_type": "execute_result"
    }
   ],
   "source": [
    "data.duplicated().sum()"
   ]
  },
  {
   "cell_type": "code",
   "execution_count": 16,
   "id": "df853f20",
   "metadata": {
    "deletable": false,
    "id": "df853f20"
   },
   "outputs": [],
   "source": [
    "data = data.drop_duplicates()"
   ]
  },
  {
   "cell_type": "markdown",
   "id": "627be38f",
   "metadata": {
    "deletable": false,
    "editable": false,
    "id": "627be38f"
   },
   "source": [
    "### Категоризация данных"
   ]
  },
  {
   "cell_type": "markdown",
   "id": "4684c3e0",
   "metadata": {
    "deletable": false,
    "editable": false,
    "id": "4684c3e0"
   },
   "source": [
    "**Задание 16. На основании диапазонов, указанных ниже, создайте в датафрейме `data` столбец `total_income_category` с категориями:**\n",
    "\n",
    "- 0–30000 — `'E'`;\n",
    "- 30001–50000 — `'D'`;\n",
    "- 50001–200000 — `'C'`;\n",
    "- 200001–1000000 — `'B'`;\n",
    "- 1000001 и выше — `'A'`.\n",
    "\n",
    "\n",
    "**Например, кредитополучателю с доходом 25000 нужно назначить категорию `'E'`, а клиенту, получающему 235000, — `'B'`. Используйте собственную функцию с именем `categorize_income()` и метод `apply()`.**"
   ]
  },
  {
   "cell_type": "code",
   "execution_count": 17,
   "id": "78965238",
   "metadata": {
    "deletable": false,
    "id": "78965238"
   },
   "outputs": [],
   "source": [
    "def categorize_income(income):\n",
    "    try:\n",
    "        if 0 <= income <= 30000:\n",
    "            return 'E'\n",
    "        elif 30001 <= income <= 50000:\n",
    "            return 'D'\n",
    "        elif 50001 <= income <= 200000:\n",
    "            return 'C'\n",
    "        elif 200001 <= income <= 1000000:\n",
    "            return 'B'\n",
    "        elif income >= 1000001:\n",
    "            return 'A'\n",
    "    except:\n",
    "        pass"
   ]
  },
  {
   "cell_type": "code",
   "execution_count": 18,
   "id": "0980ada1",
   "metadata": {
    "deletable": false,
    "id": "0980ada1"
   },
   "outputs": [],
   "source": [
    "data['total_income_category'] = data['total_income'].apply(categorize_income)"
   ]
  },
  {
   "cell_type": "markdown",
   "id": "9917bba0",
   "metadata": {
    "deletable": false,
    "editable": false,
    "id": "9917bba0"
   },
   "source": [
    "**Задание 17. Выведите на экран перечень уникальных целей взятия кредита из столбца `purpose`.**"
   ]
  },
  {
   "cell_type": "code",
   "execution_count": 19,
   "id": "ee07b65e",
   "metadata": {
    "deletable": false,
    "id": "ee07b65e",
    "outputId": "673c12d9-7d7e-4ae0-9812-c622c89dd244"
   },
   "outputs": [
    {
     "data": {
      "text/plain": [
       "array(['покупка жилья', 'приобретение автомобиля',\n",
       "       'дополнительное образование', 'сыграть свадьбу',\n",
       "       'операции с жильем', 'образование', 'на проведение свадьбы',\n",
       "       'покупка жилья для семьи', 'покупка недвижимости',\n",
       "       'покупка коммерческой недвижимости', 'покупка жилой недвижимости',\n",
       "       'строительство собственной недвижимости', 'недвижимость',\n",
       "       'строительство недвижимости', 'на покупку подержанного автомобиля',\n",
       "       'на покупку своего автомобиля',\n",
       "       'операции с коммерческой недвижимостью',\n",
       "       'строительство жилой недвижимости', 'жилье',\n",
       "       'операции со своей недвижимостью', 'автомобили',\n",
       "       'заняться образованием', 'сделка с подержанным автомобилем',\n",
       "       'получение образования', 'автомобиль', 'свадьба',\n",
       "       'получение дополнительного образования', 'покупка своего жилья',\n",
       "       'операции с недвижимостью', 'получение высшего образования',\n",
       "       'свой автомобиль', 'сделка с автомобилем',\n",
       "       'профильное образование', 'высшее образование',\n",
       "       'покупка жилья для сдачи', 'на покупку автомобиля', 'ремонт жилью',\n",
       "       'заняться высшим образованием'], dtype=object)"
      ]
     },
     "execution_count": 19,
     "metadata": {},
     "output_type": "execute_result"
    }
   ],
   "source": [
    "data['purpose'].unique()"
   ]
  },
  {
   "cell_type": "markdown",
   "id": "52b79d56",
   "metadata": {
    "deletable": false,
    "editable": false,
    "id": "52b79d56"
   },
   "source": [
    "**Задание 18. Создайте функцию, которая на основании данных из столбца `purpose` сформирует новый столбец `purpose_category`, в который войдут следующие категории:**\n",
    "\n",
    "- `'операции с автомобилем'`,\n",
    "- `'операции с недвижимостью'`,\n",
    "- `'проведение свадьбы'`,\n",
    "- `'получение образования'`.\n",
    "\n",
    "**Например, если в столбце `purpose` находится подстрока `'на покупку автомобиля'`, то в столбце `purpose_category` должна появиться строка `'операции с автомобилем'`.**\n",
    "\n",
    "**Используйте собственную функцию с именем `categorize_purpose()` и метод `apply()`. Изучите данные в столбце `purpose` и определите, какие подстроки помогут вам правильно определить категорию.**"
   ]
  },
  {
   "cell_type": "code",
   "execution_count": 20,
   "id": "be41da5d",
   "metadata": {
    "deletable": false,
    "id": "be41da5d"
   },
   "outputs": [],
   "source": [
    "def categorize_purpose(row):\n",
    "    try:\n",
    "        if 'автом' in row:\n",
    "            return 'операции с автомобилем'\n",
    "        elif 'жил' in row or 'недвиж' in row:\n",
    "            return 'операции с недвижимостью'\n",
    "        elif 'свад' in row:\n",
    "            return 'проведение свадьбы'\n",
    "        elif 'образов' in row:\n",
    "            return 'получение образования'\n",
    "    except:\n",
    "        return 'нет категории'"
   ]
  },
  {
   "cell_type": "code",
   "execution_count": 21,
   "id": "94c4a19a",
   "metadata": {
    "deletable": false,
    "id": "94c4a19a"
   },
   "outputs": [],
   "source": [
    "data['purpose_category'] = data['purpose'].apply(categorize_purpose)"
   ]
  },
  {
   "cell_type": "markdown",
   "id": "3d596c34",
   "metadata": {
    "deletable": false,
    "editable": false,
    "id": "3d596c34"
   },
   "source": [
    "### Шаг 3. Исследуйте данные и ответьте на вопросы"
   ]
  },
  {
   "cell_type": "markdown",
   "id": "648db036",
   "metadata": {
    "deletable": false,
    "editable": false,
    "id": "648db036"
   },
   "source": [
    "#### 3.1 Есть ли зависимость между количеством детей и возвратом кредита в срок?"
   ]
  },
  {
   "cell_type": "code",
   "execution_count": 32,
   "id": "7fcff25e",
   "metadata": {
    "deletable": false,
    "id": "7fcff25e"
   },
   "outputs": [
    {
     "data": {
      "text/html": [
       "<div>\n",
       "<style scoped>\n",
       "    .dataframe tbody tr th:only-of-type {\n",
       "        vertical-align: middle;\n",
       "    }\n",
       "\n",
       "    .dataframe tbody tr th {\n",
       "        vertical-align: top;\n",
       "    }\n",
       "\n",
       "    .dataframe thead tr th {\n",
       "        text-align: left;\n",
       "    }\n",
       "\n",
       "    .dataframe thead tr:last-of-type th {\n",
       "        text-align: right;\n",
       "    }\n",
       "</style>\n",
       "<table border=\"1\" class=\"dataframe\">\n",
       "  <thead>\n",
       "    <tr>\n",
       "      <th></th>\n",
       "      <th>sum</th>\n",
       "      <th>count</th>\n",
       "      <th>mean</th>\n",
       "    </tr>\n",
       "    <tr>\n",
       "      <th></th>\n",
       "      <th>debt</th>\n",
       "      <th>debt</th>\n",
       "      <th>debt</th>\n",
       "    </tr>\n",
       "    <tr>\n",
       "      <th>children_category</th>\n",
       "      <th></th>\n",
       "      <th></th>\n",
       "      <th></th>\n",
       "    </tr>\n",
       "  </thead>\n",
       "  <tbody>\n",
       "    <tr>\n",
       "      <th>есть дети</th>\n",
       "      <td>638</td>\n",
       "      <td>6860</td>\n",
       "      <td>0.093003</td>\n",
       "    </tr>\n",
       "    <tr>\n",
       "      <th>многодетная семья</th>\n",
       "      <td>31</td>\n",
       "      <td>380</td>\n",
       "      <td>0.081579</td>\n",
       "    </tr>\n",
       "    <tr>\n",
       "      <th>нет детей</th>\n",
       "      <td>1063</td>\n",
       "      <td>14091</td>\n",
       "      <td>0.075438</td>\n",
       "    </tr>\n",
       "  </tbody>\n",
       "</table>\n",
       "</div>"
      ],
      "text/plain": [
       "                    sum  count      mean\n",
       "                   debt   debt      debt\n",
       "children_category                       \n",
       "есть дети           638   6860  0.093003\n",
       "многодетная семья    31    380  0.081579\n",
       "нет детей          1063  14091  0.075438"
      ]
     },
     "execution_count": 32,
     "metadata": {},
     "output_type": "execute_result"
    }
   ],
   "source": [
    "# Категоризируем данные по наличию детей в семье\n",
    "# Cоздаем функцию children_func \n",
    "def children_func(children):\n",
    "    if (children == 1) | (children == 2):\n",
    "        return 'есть дети'\n",
    "    if children >= 3:\n",
    "        return 'многодетная семья'\n",
    "    return 'нет детей'\n",
    "data['children_category'] = data['children'].apply(children_func)\n",
    "# Сгруппируем данные по новой категории и найдем отношение наличия детей и задолжности\n",
    "#data_grouped_debt_ratio = data.groupby('children_category')['debt'].sum() / data.groupby('children_category')['debt'].count()\n",
    "# Преобразуем данные в процентый формат, для наглядности\n",
    "#data_grouped_debt_ratio = data_grouped_debt_ratio.map('{:.1%}'.format)\n",
    "# Создаем таблицу\n",
    "children_debt_ratio = data.pivot_table(index='children_category', values='debt', aggfunc=['sum','count','mean'])\n",
    "# Добовляем столбец\n",
    "children_debt_ratio\n",
    "\n"
   ]
  },
  {
   "cell_type": "markdown",
   "id": "ab7657b8",
   "metadata": {},
   "source": [
    "\n"
   ]
  },
  {
   "cell_type": "markdown",
   "id": "2eb9088e",
   "metadata": {
    "deletable": false,
    "id": "2eb9088e"
   },
   "source": [
    "**Вывод: Наличие детей имеет зависимость с наличием задолжностей в семье.** \n",
    "Хотя и можно заметить что многодетные семьи(семьи, где детей 3 или больше) чаще платят в срок, чем семьи с 1 или 2 детьми, возможно это связано с социальными выплатами, программами поддержки, или колличество клиентов в категории \"многодетная семья\" недостаточно для общего вывода."
   ]
  },
  {
   "cell_type": "markdown",
   "id": "3b118753",
   "metadata": {},
   "source": [
    "<div class=\"alert alert-warning\">\n",
    "    <h3> Комментарий ревьюера v2 ⚠️<a class=\"tocSkip\"> </h3>\n",
    "\n",
    "Да, всё так, правильно, что обращаешь внимание на размеры категорий клиентов.\n",
    "        \n",
    "В aggfunc можно передавать список функций. Например, aggfunc=['func1', 'func2', 'func3']\n",
    "\n",
    "</div>"
   ]
  },
  {
   "cell_type": "markdown",
   "id": "cea67ef8",
   "metadata": {},
   "source": [
    "<div class=\"alert alert-danger\">\n",
    "    <h3> Комментарий ревьюера ❌<a class=\"tocSkip\"> </h3>\n",
    "\n",
    "Если говорить только о проценте просроченных платежей, то вывод верный. Но его нельзя назвать объективным, так как нет информации о объёме выборок категорий заёмщиков. Некоторые группы могут не обладать достаточным объёмом для объективных выводов. Это нужно проверить\n",
    "\n",
    "И я хочу убедиться, что тебе удалось освоить сводные таблицы на хорошем уровне. Потому что в дальнейшем ты будешь пользоваться ими постоянно. Выведи, пожалуйста, общую сводную таблицу с количеством клиентов, количеством должников и процентом должников. В параметрах сводных таблиц укажи сразу несколько агрегирующих функций, пожалуйста.\n",
    "\n",
    "Даю несколько ссылок, в которых есть описание, как это можно сделать:       \n",
    "* С помощью pivot_table и аргумента aggfunc https://pandas.pydata.org/pandas-docs/stable/reference/api/pandas.pivot_table.html\n",
    "* С помощью groupby и функции .agg() https://pandas.pydata.org/pandas-docs/stable/user_guide/groupby.html под заголовком The aggregate() method\n",
    "\n",
    "При написании выводов учитывай, пожалуйста, репрезентативность групп.\n",
    "\n",
    "Добавь такие таблицы для всех вопросов исследовательской части.\n",
    "        \n",
    "</div>"
   ]
  },
  {
   "cell_type": "markdown",
   "id": "74c9b3a7",
   "metadata": {
    "deletable": false,
    "editable": false,
    "id": "74c9b3a7"
   },
   "source": [
    "#### 3.2 Есть ли зависимость между семейным положением и возвратом кредита в срок?"
   ]
  },
  {
   "cell_type": "code",
   "execution_count": null,
   "id": "8098ab3b",
   "metadata": {
    "deletable": false,
    "id": "8098ab3b"
   },
   "outputs": [],
   "source": [
    "# Ваш код будет здесь. Вы можете создавать новые ячейки.\n",
    "# Воспользуемся решением из предыдушего задания.\n",
    "data_status_debt_ratio = data.groupby('family_status')['debt'].sum() / data.groupby('family_status')['debt'].count()\n",
    "# Преобразуем данные в процентый формат, для наглядности\n",
    "data_status_debt_ratio = data_status_debt_ratio.map('{:.1%}'.format)\n",
    "# Создаем таблицу\n",
    "family_debt_ratio = data.pivot_table(index='family_status', columns='debt', values='gender', aggfunc='count')\n",
    "# Обозначим столбцы (0 и 1, будут не очень понятны)\n",
    "family_debt_ratio.columns=['no_debt', 'debt']\n",
    "# Добовляем столбец \n",
    "family_debt_ratio['ratio'] = data_status_debt_ratio\n",
    "family_debt_ratio.sort_values(by='ratio',ascending=False)\n",
    "\n"
   ]
  },
  {
   "cell_type": "markdown",
   "id": "c389ca63",
   "metadata": {
    "deletable": false,
    "id": "c389ca63"
   },
   "source": [
    "**Вывод: Исходя из сгруппированных данных, мы можем сделать вывод, что человек, не состоящий в отношениях, чаще всего имеет задолжность по кредиту.** Возможно, у этой категории заемщиков, более свободное распоряжение средствами и нет общих накоплений. Люди в браке, имея, возможно, общий доход, чаще платят в срок, как и люди в разводе. Да, зависимость есть, выборка довольно репрезентативная."
   ]
  },
  {
   "cell_type": "markdown",
   "id": "ca641793",
   "metadata": {},
   "source": [
    "<div class=\"alert alert-block alert-danger\">\n",
    "<h3> Комментарий ревьюера ❌<a class=\"tocSkip\"></h3>\n",
    "\n",
    " С выводом по проценту согласен. Но добавь, пожалуйста, сводную таблицу и сделай оценку репрезентативности групп. Измени, пожалуйста, вывод, если потребуется.\n",
    "</div>"
   ]
  },
  {
   "cell_type": "markdown",
   "id": "ab20342b",
   "metadata": {},
   "source": [
    " <div class=\"alert alert-success\">\n",
    "<h3> Комментарий ревьюера v2 ✔️<a class=\"tocSkip\"> </h3>\n",
    "\n",
    " 👍\n",
    "</div>"
   ]
  },
  {
   "cell_type": "markdown",
   "id": "9529de68",
   "metadata": {
    "deletable": false,
    "editable": false,
    "id": "9529de68"
   },
   "source": [
    "#### 3.3 Есть ли зависимость между уровнем дохода и возвратом кредита в срок?"
   ]
  },
  {
   "cell_type": "code",
   "execution_count": null,
   "id": "8787f44a",
   "metadata": {
    "deletable": false,
    "id": "8787f44a"
   },
   "outputs": [],
   "source": [
    "# Ваш код будет здесь. Вы можете создавать новые ячейки.\n",
    "# Вспомним категоризацию клиентов из предыдущих заданий.\n",
    "#0–30000 — 'E';\n",
    "#30001–50000 — 'D';\n",
    "#50001–200000 — 'C';\n",
    "#200001–1000000 — 'B';\n",
    "#1000001 и выше — 'A'.\n",
    "df_total_income_debt = data.groupby('total_income_category')['debt'].sum() / data.groupby('total_income_category')['debt'].count()\n",
    "df_total_income_debt = df_total_income_debt.map('{:.1%}'.format)\n",
    "# Создаем таблицу\n",
    "total_income_debt_ratio = data.pivot_table(index='total_income_category', columns='debt', values='gender', aggfunc='count')\n",
    "# Обозначим столбцы (0 и 1, будут не очень понятны)\n",
    "total_income_debt_ratio.columns=['no_debt', 'debt']\n",
    "# Добовляем столбец \n",
    "total_income_debt_ratio['ratio'] = df_total_income_debt\n",
    "# Если честно не понял, как на практике использовать данную функцию и правильно ее применить.\n",
    "total_income_debt_ratio['representativeness'] = pd.qcut(total_income_debt_ratio['no_debt'], q=3, labels=['c', 'b', 'a'])\n",
    "total_income_debt_ratio.sort_values(by='ratio',ascending=False)"
   ]
  },
  {
   "cell_type": "code",
   "execution_count": null,
   "id": "5d7e27fa",
   "metadata": {},
   "outputs": [],
   "source": [
    "\n"
   ]
  },
  {
   "cell_type": "markdown",
   "id": "6dd14b57",
   "metadata": {
    "deletable": false,
    "id": "6dd14b57"
   },
   "source": [
    "**Вывод:** Исходя из неоднозначной выборки(очень маленькая репрезентативность у категорий E A D. Но даже по таким данным можно сделать выводы, что наименьшее доверие будут вызывать клиенты с категорией (C), а наибольшее у (B). "
   ]
  },
  {
   "cell_type": "markdown",
   "id": "19ae9f77",
   "metadata": {},
   "source": [
    " <div class=\"alert alert-success\">\n",
    "<h3> Комментарий ревьюера v2 ✔️<a class=\"tocSkip\"> </h3>\n",
    "\n",
    " Да, верно.\n",
    "</div>"
   ]
  },
  {
   "cell_type": "markdown",
   "id": "e623f77c",
   "metadata": {},
   "source": [
    "<div class=\"alert alert-warning\">\n",
    "    <h3> Комментарий ревьюера ⚠️<a class=\"tocSkip\"> </h3>\n",
    "\n",
    "Всё так, но обрати внимание, в этой таблице группы крайне несбалансированны. Поэтому стоит учитывать только две самые многочисленные - B и С, так как они включают примерно 98 процентов данных от общей выборки\n",
    "\n",
    "Можно решить это задание через разделение выборки на равные по объёму части. Для этого подойдёт функция pd.qcut().\n",
    "\n",
    "Даю ссылку:\n",
    "    \n",
    "* https://pandas.pydata.org/pandas-docs/stable/reference/api/pandas.qcut.html\n",
    "\n",
    "Метод qcut() делит числовой столбец на равные по объёму части на основании квантилей. Квантили — это статистические показатели, которые разделяют набор данных на равные части. Квантили включают квартили (25%, 50% и 75%), децили (каждые 10%) и процентили (каждые 1%). Приведу пример разделения на 3 равных отрезка, находящихся на отметках 33,3% и 66,7%.\n",
    "        \n",
    "    pd.qcut(data['column'], q=3, labels=['one', 'two', 'three'])\n",
    "        \n",
    "Можно не указывать названия отрезков с помощью labels. Тогда названия отрезкам присвоятся в численном виде.\n",
    "</div>"
   ]
  },
  {
   "cell_type": "markdown",
   "id": "1dcc9b12",
   "metadata": {
    "deletable": false,
    "editable": false,
    "id": "1dcc9b12"
   },
   "source": [
    "#### 3.4 Как разные цели кредита влияют на его возврат в срок?"
   ]
  },
  {
   "cell_type": "code",
   "execution_count": null,
   "id": "c602bc8b",
   "metadata": {
    "deletable": false,
    "id": "c602bc8b"
   },
   "outputs": [],
   "source": [
    "# Ваш код будет здесь. Вы можете создавать новые ячейки\n",
    "df_debt_purpose = data.groupby('purpose_category')['debt'].sum() / data.groupby('purpose_category')['debt'].count()\n",
    "df_debt_purpose = df_debt_purpose.map('{:.1%}'.format)\n",
    "# Создаем таблицу\n",
    "purpose_debt_ratio = data.pivot_table(index='purpose_category', columns='debt', values='gender', aggfunc='count')\n",
    "# Обозначим столбцы (0 и 1, будут не очень понятны)\n",
    "purpose_debt_ratio.columns=['no_debt', 'debt']\n",
    "# Добовляем столбец \n",
    "purpose_debt_ratio['ratio'] = df_debt_purpose\n",
    "purpose_debt_ratio.sort_values(by='ratio',ascending=False)"
   ]
  },
  {
   "cell_type": "markdown",
   "id": "cf05ed63",
   "metadata": {
    "deletable": false,
    "id": "cf05ed63"
   },
   "source": [
    "**Вывод:** Выборка хорошая, репрезентативность по категорям нигде не завышена, значит можно сделать качественный вывод. Кредиты с целью покупки недвижимости или проведение свадьбы чаще платят в срок, нежели покупки автомобилей или образования."
   ]
  },
  {
   "cell_type": "markdown",
   "id": "2a92c955",
   "metadata": {},
   "source": [
    " <div class=\"alert alert-success\">\n",
    "<h3> Комментарий ревьюера v2 ✔️<a class=\"tocSkip\"> </h3>\n",
    "\n",
    " Верно. А почему кредиты на недвижимость и свадьбу выплачиваются лучше, как ты считаешь?\n",
    "</div>"
   ]
  },
  {
   "cell_type": "markdown",
   "id": "59578429",
   "metadata": {},
   "source": [
    "<div class=\"alert alert-block alert-danger\">\n",
    "<h3> Комментарий ревьюера ❌<a class=\"tocSkip\"></h3>\n",
    "\n",
    " Вывод только по процентам верный. Но также нужно оценить репрезентативность групп после добавления сводной таблицы с параметрами из первого комментария.\n",
    "</div>"
   ]
  },
  {
   "cell_type": "markdown",
   "id": "46c1f10b",
   "metadata": {
    "deletable": false,
    "editable": false,
    "id": "46c1f10b"
   },
   "source": [
    "#### 3.5 Приведите возможные причины появления пропусков в исходных данных."
   ]
  },
  {
   "cell_type": "markdown",
   "id": "3697d2a9",
   "metadata": {
    "deletable": false,
    "id": "3697d2a9"
   },
   "source": [
    "*Ответ:* Существуют 2 проблемы. Техническая ошибка(повреждение файла) или Человеческий фактор(неверный ввод данных)"
   ]
  },
  {
   "cell_type": "markdown",
   "id": "aa834db1",
   "metadata": {},
   "source": [
    "<div class=\"alert alert-success\">\n",
    "<h3> Комментарий ревьюера ✔️<a class=\"tocSkip\"> </h3>\n",
    "\n",
    "Абсолютно верно. Основные причины пропусков - это технические проблемы и человеческий фактор. А можешь привести, пожалуйста?\n",
    "</div>"
   ]
  },
  {
   "cell_type": "markdown",
   "id": "3137d257",
   "metadata": {
    "deletable": false,
    "editable": false,
    "id": "3137d257"
   },
   "source": [
    "#### 3.6 Объясните, почему заполнить пропуски медианным значением — лучшее решение для количественных переменных."
   ]
  },
  {
   "cell_type": "markdown",
   "id": "cf40012a",
   "metadata": {
    "deletable": false,
    "id": "cf40012a"
   },
   "source": [
    "*Ответ:* Потому что медиана представляет нам \"типичное\" значение в наборе данных. Также медиана в отличии от среднего устойчива к выборке, если в начале или в конце пристутсвуют аномальные значения (0.00001, 1, 2, 3, 4, 100). \"Он ест мясо, Я капусту, вместе мы едим голубцы\" медиана помогает избежать такого."
   ]
  },
  {
   "cell_type": "markdown",
   "id": "24a7ba22",
   "metadata": {},
   "source": [
    "<div class=\"alert alert-block alert-danger\">\n",
    "<h3> Комментарий ревьюера ❌<a class=\"tocSkip\"></h3>\n",
    "\n",
    "Выбор стоял между средним и медианой. В каких случаях выбор медианы предпочтительнее среднего? Поясни пожалуйста, поподробнее, какие характеристики выборки мотивируют нас использовать медиану\n",
    "</div>"
   ]
  },
  {
   "cell_type": "markdown",
   "id": "453462a5",
   "metadata": {},
   "source": [
    " <div class=\"alert alert-success\">\n",
    "<h3> Комментарий ревьюера v2 ✔️<a class=\"tocSkip\"> </h3>\n",
    "\n",
    " Верно, такие выбивающиеся значения ещё называют выбросами.\n",
    "</div>"
   ]
  },
  {
   "cell_type": "markdown",
   "id": "57bc304e",
   "metadata": {
    "deletable": false,
    "editable": false,
    "id": "57bc304e"
   },
   "source": [
    "### Шаг 4: общий вывод."
   ]
  },
  {
   "cell_type": "markdown",
   "id": "1ab75d1c",
   "metadata": {
    "deletable": false,
    "id": "1ab75d1c"
   },
   "source": [
    "В ходе исследования надёжности заемщиков были изучены полученные данные, обработаны и заполнены пропуски, удалены дубликаты и клиенты были объединены в группы по разным параметрам. По итогам проделанной работы по поставленным вопросам можно сделать следующие выводы:\n",
    "\n",
    "- **Наличие детей напрямую влияет на платеж по кредиту, риск семье с 3 и более детьми остаться должниками 9.3%.**\n",
    "    \n",
    "    * Возможно проблема с выборкой, так как репрезентативность группы \"многодетные\" очень мала, стоит пересмотреть данные.\n",
    "\n",
    "\n",
    "- **Заемщики, не женаты/ не замужем или несостоящие в отношениях, имеют максимальный процент невозврата кредита(9.8% и 9.3%)соответственно, чем заемщики в браке.**\n",
    "   \n",
    "   * Репрезентативность выборки высокая, с данными проблем нет.\n",
    "\n",
    "- **Основываясь на данных, которые мы смогли достать и категоризовать, то заемщики с доходом 50000-200000(С) имеют больше   надеждность для кредитования, чем другие.**\n",
    "    \n",
    "    * Репрезентативность доходов заемщиков очень низкая, возможно были ошибки при выгрузке данных, нужно перепроверить.\n",
    "    \n",
    "- **Категория граждан, берущая кредит на автомобиль или образование больше подвержены быть должниками(9.3% для обоих категорий).**\n",
    "    * Тут стоит учесть еще возраст кредиторов, так как люди покупающие недвижимость или вступающие в брак, это не всегда люди с состоявшимся капиталом.\n",
    "\n",
    "**Рекомендации:**\n",
    "  Надежнее выдавать кредиты клиентам с отсутствием детей и семейным положением \"женат / замужем\", данные категории с больше вероятностью смогут погасить кредиты в установленные договором сроки. Так же такие категории клиентов чаще берут кредиты, выгода для банка на лицо."
   ]
  },
  {
   "cell_type": "markdown",
   "id": "51a3a6ea",
   "metadata": {},
   "source": [
    "<div class=\"alert alert-success\">\n",
    "<h3> Комментарий ревьюера v3 ✔️<a class=\"tocSkip\"> </h3>\n",
    "\n",
    "Теперь получился развёрнутый хороший вывод, учитывающий все показатели и этапы проекта. Отличная работа!\n",
    "    \n",
    "</div>"
   ]
  },
  {
   "cell_type": "markdown",
   "id": "5bf39d4d",
   "metadata": {},
   "source": [
    "<div class=\"alert alert-block alert-danger\">\n",
    "<h3> Комментарий ревьюера v2 ❌<a class=\"tocSkip\"></h3>\n",
    "\n",
    "Хороший структурированный вывод. Но как я писал ранее, этот этап должен подробно описывать данные. Добавь, пожалуйста, значения, которые соответствуют описываемым группам, а также информацию о проблемах, найденных на этапе предобработки и пути их решения.\n",
    "</div>"
   ]
  },
  {
   "cell_type": "markdown",
   "id": "0b657eb5",
   "metadata": {},
   "source": [
    "<div class=\"alert alert-danger\">\n",
    "    <h3> Комментарий ревьюера ❌<a class=\"tocSkip\"> </h3>\n",
    "    \n",
    "Все этапы исследовательской части рассмотрены. Но не хватает деталей.\n",
    "        \n",
    "Стоит учитывать, что твой потенциальный руководитель, в первую очередь, обратит внимание на общий вывод. Поэтому важно отразить в нём все основные результаты из всех шагов проекта в числах. И важно описать проблемы, найденные на этапе предобработки, и пути их решения\n",
    "        \n",
    "Можно опираться на такую структуру финального вывода во всех проектах:\n",
    "* предобработка данных с описанием найденных проблем и путей их решения\n",
    "* ответы на цели проекта\n",
    "* рекомендации для заказчика\n",
    "\n",
    "Чтобы лучше понимать, как оформлять комментарии в markdown-ячейках, советую изучить [краткое руководство по Маркдауну](https://paulradzkov.com/2014/markdown_cheatsheet/).\n",
    "\n",
    "</div>"
   ]
  }
 ],
 "metadata": {
  "ExecuteTimeLog": [
   {
    "duration": 501,
    "start_time": "2024-03-19T15:47:25.944Z"
   },
   {
    "duration": 22,
    "start_time": "2024-03-19T15:47:28.618Z"
   },
   {
    "duration": 510,
    "start_time": "2024-03-19T15:47:59.538Z"
   },
   {
    "duration": 25,
    "start_time": "2024-03-19T15:48:00.050Z"
   },
   {
    "duration": 57,
    "start_time": "2024-03-19T15:48:00.077Z"
   },
   {
    "duration": 33,
    "start_time": "2024-03-19T15:48:00.136Z"
   },
   {
    "duration": 43,
    "start_time": "2024-03-19T15:48:00.170Z"
   },
   {
    "duration": 12,
    "start_time": "2024-03-19T15:48:00.214Z"
   },
   {
    "duration": 31,
    "start_time": "2024-03-19T15:48:00.228Z"
   },
   {
    "duration": 84,
    "start_time": "2024-03-19T15:48:00.260Z"
   },
   {
    "duration": 43,
    "start_time": "2024-03-19T15:48:00.346Z"
   },
   {
    "duration": 41,
    "start_time": "2024-03-19T15:48:00.393Z"
   },
   {
    "duration": 77,
    "start_time": "2024-03-19T15:48:00.436Z"
   },
   {
    "duration": 71,
    "start_time": "2024-03-19T15:48:00.515Z"
   },
   {
    "duration": 59,
    "start_time": "2024-03-19T15:48:00.588Z"
   },
   {
    "duration": 87,
    "start_time": "2024-03-19T15:48:00.649Z"
   },
   {
    "duration": 111,
    "start_time": "2024-03-19T15:48:00.737Z"
   },
   {
    "duration": 45,
    "start_time": "2024-03-19T15:48:00.850Z"
   },
   {
    "duration": 58,
    "start_time": "2024-03-19T15:48:00.897Z"
   },
   {
    "duration": 75,
    "start_time": "2024-03-19T15:48:00.956Z"
   },
   {
    "duration": 54,
    "start_time": "2024-03-19T15:48:01.033Z"
   },
   {
    "duration": 45,
    "start_time": "2024-03-19T15:48:01.089Z"
   },
   {
    "duration": 47,
    "start_time": "2024-03-19T15:48:01.136Z"
   },
   {
    "duration": 57,
    "start_time": "2024-03-19T15:48:01.184Z"
   },
   {
    "duration": 46,
    "start_time": "2024-03-19T15:48:01.243Z"
   },
   {
    "duration": 53,
    "start_time": "2024-03-19T15:48:01.290Z"
   },
   {
    "duration": 47,
    "start_time": "2024-03-19T15:48:01.344Z"
   },
   {
    "duration": 16,
    "start_time": "2024-03-19T15:48:08.302Z"
   },
   {
    "duration": 27,
    "start_time": "2024-03-19T15:48:33.396Z"
   },
   {
    "duration": 4,
    "start_time": "2024-03-19T15:49:47.300Z"
   },
   {
    "duration": 4,
    "start_time": "2024-03-19T15:50:04.708Z"
   },
   {
    "duration": 16,
    "start_time": "2024-03-19T15:50:10.502Z"
   },
   {
    "duration": 1018,
    "start_time": "2024-03-19T15:52:51.944Z"
   },
   {
    "duration": 6,
    "start_time": "2024-03-19T15:53:55.360Z"
   },
   {
    "duration": 7,
    "start_time": "2024-03-19T15:54:24.714Z"
   },
   {
    "duration": 1198,
    "start_time": "2024-03-19T15:54:38.095Z"
   },
   {
    "duration": 23,
    "start_time": "2024-03-19T15:54:39.295Z"
   },
   {
    "duration": 50,
    "start_time": "2024-03-19T15:54:39.319Z"
   },
   {
    "duration": 14,
    "start_time": "2024-03-19T15:54:39.372Z"
   },
   {
    "duration": 67,
    "start_time": "2024-03-19T15:54:39.388Z"
   },
   {
    "duration": 4,
    "start_time": "2024-03-19T15:54:39.456Z"
   },
   {
    "duration": 36,
    "start_time": "2024-03-19T15:54:39.462Z"
   },
   {
    "duration": 24,
    "start_time": "2024-03-19T15:54:39.500Z"
   },
   {
    "duration": 22,
    "start_time": "2024-03-19T15:54:39.525Z"
   },
   {
    "duration": 25,
    "start_time": "2024-03-19T15:54:39.550Z"
   },
   {
    "duration": 62,
    "start_time": "2024-03-19T15:54:39.576Z"
   },
   {
    "duration": 10,
    "start_time": "2024-03-19T15:54:39.640Z"
   },
   {
    "duration": 17,
    "start_time": "2024-03-19T15:54:39.652Z"
   },
   {
    "duration": 35,
    "start_time": "2024-03-19T15:54:39.671Z"
   },
   {
    "duration": 36,
    "start_time": "2024-03-19T15:54:39.708Z"
   },
   {
    "duration": 28,
    "start_time": "2024-03-19T15:54:39.746Z"
   },
   {
    "duration": 6,
    "start_time": "2024-03-19T15:54:39.776Z"
   },
   {
    "duration": 40,
    "start_time": "2024-03-19T15:54:39.784Z"
   },
   {
    "duration": 20,
    "start_time": "2024-03-19T15:54:39.826Z"
   },
   {
    "duration": 34,
    "start_time": "2024-03-19T15:54:39.848Z"
   },
   {
    "duration": 28,
    "start_time": "2024-03-19T15:54:39.884Z"
   },
   {
    "duration": 40,
    "start_time": "2024-03-19T15:54:39.914Z"
   },
   {
    "duration": 28,
    "start_time": "2024-03-19T15:54:39.955Z"
   },
   {
    "duration": 34,
    "start_time": "2024-03-19T15:54:39.985Z"
   },
   {
    "duration": 43,
    "start_time": "2024-03-19T15:54:40.021Z"
   },
   {
    "duration": 103,
    "start_time": "2024-03-19T15:59:53.834Z"
   },
   {
    "duration": 1268,
    "start_time": "2024-03-19T16:00:24.872Z"
   },
   {
    "duration": 18,
    "start_time": "2024-03-19T16:00:26.142Z"
   },
   {
    "duration": 15,
    "start_time": "2024-03-19T16:00:26.162Z"
   },
   {
    "duration": 10,
    "start_time": "2024-03-19T16:00:26.179Z"
   },
   {
    "duration": 36,
    "start_time": "2024-03-19T16:00:26.191Z"
   },
   {
    "duration": 4,
    "start_time": "2024-03-19T16:00:26.229Z"
   },
   {
    "duration": 32,
    "start_time": "2024-03-19T16:00:26.234Z"
   },
   {
    "duration": 5,
    "start_time": "2024-03-19T16:00:26.268Z"
   },
   {
    "duration": 15,
    "start_time": "2024-03-19T16:00:26.274Z"
   },
   {
    "duration": 7,
    "start_time": "2024-03-19T16:00:26.292Z"
   },
   {
    "duration": 41,
    "start_time": "2024-03-19T16:00:26.300Z"
   },
   {
    "duration": 24,
    "start_time": "2024-03-19T16:00:26.343Z"
   },
   {
    "duration": 5,
    "start_time": "2024-03-19T16:00:26.369Z"
   },
   {
    "duration": 29,
    "start_time": "2024-03-19T16:00:26.376Z"
   },
   {
    "duration": 24,
    "start_time": "2024-03-19T16:00:26.407Z"
   },
   {
    "duration": 16,
    "start_time": "2024-03-19T16:00:26.432Z"
   },
   {
    "duration": 5,
    "start_time": "2024-03-19T16:00:26.450Z"
   },
   {
    "duration": 14,
    "start_time": "2024-03-19T16:00:26.465Z"
   },
   {
    "duration": 19,
    "start_time": "2024-03-19T16:00:26.481Z"
   },
   {
    "duration": 5,
    "start_time": "2024-03-19T16:00:26.503Z"
   },
   {
    "duration": 19,
    "start_time": "2024-03-19T16:00:26.510Z"
   },
   {
    "duration": 2,
    "start_time": "2024-03-19T16:00:26.531Z"
   },
   {
    "duration": 18,
    "start_time": "2024-03-19T16:00:26.535Z"
   },
   {
    "duration": 31,
    "start_time": "2024-03-19T16:00:26.555Z"
   },
   {
    "duration": 4,
    "start_time": "2024-03-19T16:04:32.017Z"
   },
   {
    "duration": 6,
    "start_time": "2024-03-19T16:04:38.138Z"
   },
   {
    "duration": 6,
    "start_time": "2024-03-19T16:04:47.709Z"
   },
   {
    "duration": 5,
    "start_time": "2024-03-19T16:05:21.362Z"
   },
   {
    "duration": 6,
    "start_time": "2024-03-19T16:06:09.868Z"
   },
   {
    "duration": 8,
    "start_time": "2024-03-19T16:06:49.865Z"
   },
   {
    "duration": 7,
    "start_time": "2024-03-19T16:07:03.143Z"
   },
   {
    "duration": 26,
    "start_time": "2024-03-19T16:15:18.322Z"
   },
   {
    "duration": 17,
    "start_time": "2024-03-19T16:18:17.697Z"
   },
   {
    "duration": 30,
    "start_time": "2024-03-19T16:18:33.612Z"
   },
   {
    "duration": 31,
    "start_time": "2024-03-19T16:18:53.746Z"
   },
   {
    "duration": 15,
    "start_time": "2024-03-19T16:19:01.969Z"
   },
   {
    "duration": 19,
    "start_time": "2024-03-19T16:19:38.707Z"
   },
   {
    "duration": 19,
    "start_time": "2024-03-19T16:19:43.003Z"
   },
   {
    "duration": 17,
    "start_time": "2024-03-19T16:25:40.099Z"
   },
   {
    "duration": 18,
    "start_time": "2024-03-19T16:26:19.187Z"
   },
   {
    "duration": 6,
    "start_time": "2024-03-19T16:26:44.958Z"
   },
   {
    "duration": 76,
    "start_time": "2024-03-19T16:27:00.985Z"
   },
   {
    "duration": 1189,
    "start_time": "2024-03-19T16:27:04.933Z"
   },
   {
    "duration": 16,
    "start_time": "2024-03-19T16:27:12.811Z"
   },
   {
    "duration": 11,
    "start_time": "2024-03-19T16:29:12.055Z"
   },
   {
    "duration": 11,
    "start_time": "2024-03-19T16:29:16.032Z"
   },
   {
    "duration": 15,
    "start_time": "2024-03-19T16:30:11.927Z"
   },
   {
    "duration": 19,
    "start_time": "2024-03-19T16:30:15.342Z"
   },
   {
    "duration": 11,
    "start_time": "2024-03-19T16:30:33.984Z"
   },
   {
    "duration": 11,
    "start_time": "2024-03-19T16:30:42.245Z"
   },
   {
    "duration": 15,
    "start_time": "2024-03-19T16:37:25.711Z"
   },
   {
    "duration": 139,
    "start_time": "2024-03-19T16:37:38.020Z"
   },
   {
    "duration": 139,
    "start_time": "2024-03-19T16:37:54.541Z"
   },
   {
    "duration": 135,
    "start_time": "2024-03-19T16:37:58.622Z"
   },
   {
    "duration": 128,
    "start_time": "2024-03-19T16:38:32.478Z"
   },
   {
    "duration": 142,
    "start_time": "2024-03-19T16:38:38.918Z"
   },
   {
    "duration": 87,
    "start_time": "2024-03-19T16:38:44.213Z"
   },
   {
    "duration": 131,
    "start_time": "2024-03-19T16:38:48.293Z"
   },
   {
    "duration": 12,
    "start_time": "2024-03-19T16:38:52.181Z"
   },
   {
    "duration": 1110,
    "start_time": "2024-03-19T16:41:56.887Z"
   },
   {
    "duration": 13,
    "start_time": "2024-03-19T16:43:16.502Z"
   },
   {
    "duration": 393,
    "start_time": "2024-03-19T16:43:27.340Z"
   },
   {
    "duration": 378,
    "start_time": "2024-03-19T16:43:38.854Z"
   },
   {
    "duration": 12,
    "start_time": "2024-03-19T16:46:25.817Z"
   },
   {
    "duration": 10,
    "start_time": "2024-03-19T16:46:37.288Z"
   },
   {
    "duration": 14,
    "start_time": "2024-03-19T16:46:48.932Z"
   },
   {
    "duration": 1151,
    "start_time": "2024-03-19T16:47:24.215Z"
   },
   {
    "duration": 18,
    "start_time": "2024-03-19T16:47:25.368Z"
   },
   {
    "duration": 14,
    "start_time": "2024-03-19T16:47:25.387Z"
   },
   {
    "duration": 9,
    "start_time": "2024-03-19T16:47:25.403Z"
   },
   {
    "duration": 56,
    "start_time": "2024-03-19T16:47:25.413Z"
   },
   {
    "duration": 3,
    "start_time": "2024-03-19T16:47:25.471Z"
   },
   {
    "duration": 21,
    "start_time": "2024-03-19T16:47:25.475Z"
   },
   {
    "duration": 3,
    "start_time": "2024-03-19T16:47:25.498Z"
   },
   {
    "duration": 9,
    "start_time": "2024-03-19T16:47:25.502Z"
   },
   {
    "duration": 4,
    "start_time": "2024-03-19T16:47:25.513Z"
   },
   {
    "duration": 47,
    "start_time": "2024-03-19T16:47:25.519Z"
   },
   {
    "duration": 10,
    "start_time": "2024-03-19T16:47:25.567Z"
   },
   {
    "duration": 4,
    "start_time": "2024-03-19T16:47:25.578Z"
   },
   {
    "duration": 13,
    "start_time": "2024-03-19T16:47:25.584Z"
   },
   {
    "duration": 24,
    "start_time": "2024-03-19T16:47:25.599Z"
   },
   {
    "duration": 15,
    "start_time": "2024-03-19T16:47:25.625Z"
   },
   {
    "duration": 25,
    "start_time": "2024-03-19T16:47:25.641Z"
   },
   {
    "duration": 21,
    "start_time": "2024-03-19T16:47:25.667Z"
   },
   {
    "duration": 11,
    "start_time": "2024-03-19T16:47:25.690Z"
   },
   {
    "duration": 4,
    "start_time": "2024-03-19T16:47:25.702Z"
   },
   {
    "duration": 15,
    "start_time": "2024-03-19T16:47:25.707Z"
   },
   {
    "duration": 16,
    "start_time": "2024-03-19T16:47:25.723Z"
   },
   {
    "duration": 12,
    "start_time": "2024-03-19T16:47:25.740Z"
   },
   {
    "duration": 3,
    "start_time": "2024-03-19T16:47:25.753Z"
   },
   {
    "duration": 2,
    "start_time": "2024-03-19T16:47:25.766Z"
   },
   {
    "duration": 113,
    "start_time": "2024-03-19T17:28:21.191Z"
   },
   {
    "duration": 23,
    "start_time": "2024-03-19T17:28:54.674Z"
   },
   {
    "duration": 17,
    "start_time": "2024-03-19T17:29:03.864Z"
   },
   {
    "duration": 14,
    "start_time": "2024-03-19T17:29:17.464Z"
   },
   {
    "duration": 894,
    "start_time": "2024-03-19T17:30:37.424Z"
   },
   {
    "duration": 883,
    "start_time": "2024-03-19T17:30:49.126Z"
   },
   {
    "duration": 950,
    "start_time": "2024-03-19T17:30:56.440Z"
   },
   {
    "duration": 26,
    "start_time": "2024-03-19T17:31:15.950Z"
   },
   {
    "duration": 24,
    "start_time": "2024-03-19T17:31:32.760Z"
   },
   {
    "duration": 24,
    "start_time": "2024-03-19T17:31:37.969Z"
   },
   {
    "duration": 890,
    "start_time": "2024-03-19T17:31:45.175Z"
   },
   {
    "duration": 80,
    "start_time": "2024-03-19T17:33:37.315Z"
   },
   {
    "duration": 427,
    "start_time": "2024-03-19T17:34:42.924Z"
   },
   {
    "duration": 179,
    "start_time": "2024-03-19T17:36:25.910Z"
   },
   {
    "duration": 13,
    "start_time": "2024-03-19T17:36:58.720Z"
   },
   {
    "duration": 163,
    "start_time": "2024-03-19T17:37:00.423Z"
   },
   {
    "duration": 16,
    "start_time": "2024-03-19T17:37:06.012Z"
   },
   {
    "duration": 12,
    "start_time": "2024-03-19T17:44:25.926Z"
   },
   {
    "duration": 153,
    "start_time": "2024-03-19T17:44:34.361Z"
   },
   {
    "duration": 16,
    "start_time": "2024-03-19T17:44:51.252Z"
   },
   {
    "duration": 288,
    "start_time": "2024-03-19T17:44:53.185Z"
   },
   {
    "duration": 16,
    "start_time": "2024-03-19T17:46:36.190Z"
   },
   {
    "duration": 14,
    "start_time": "2024-03-19T17:47:31.593Z"
   },
   {
    "duration": 1263,
    "start_time": "2024-03-19T17:47:40.360Z"
   },
   {
    "duration": 20,
    "start_time": "2024-03-19T17:47:41.624Z"
   },
   {
    "duration": 28,
    "start_time": "2024-03-19T17:47:41.646Z"
   },
   {
    "duration": 12,
    "start_time": "2024-03-19T17:47:41.676Z"
   },
   {
    "duration": 48,
    "start_time": "2024-03-19T17:47:41.690Z"
   },
   {
    "duration": 3,
    "start_time": "2024-03-19T17:47:41.740Z"
   },
   {
    "duration": 32,
    "start_time": "2024-03-19T17:47:41.745Z"
   },
   {
    "duration": 22,
    "start_time": "2024-03-19T17:47:41.779Z"
   },
   {
    "duration": 28,
    "start_time": "2024-03-19T17:47:41.803Z"
   },
   {
    "duration": 17,
    "start_time": "2024-03-19T17:47:41.833Z"
   },
   {
    "duration": 53,
    "start_time": "2024-03-19T17:47:41.852Z"
   },
   {
    "duration": 10,
    "start_time": "2024-03-19T17:47:41.906Z"
   },
   {
    "duration": 26,
    "start_time": "2024-03-19T17:47:41.918Z"
   },
   {
    "duration": 22,
    "start_time": "2024-03-19T17:47:41.946Z"
   },
   {
    "duration": 45,
    "start_time": "2024-03-19T17:47:41.970Z"
   },
   {
    "duration": 21,
    "start_time": "2024-03-19T17:47:42.017Z"
   },
   {
    "duration": 3,
    "start_time": "2024-03-19T17:47:42.040Z"
   },
   {
    "duration": 34,
    "start_time": "2024-03-19T17:47:42.045Z"
   },
   {
    "duration": 20,
    "start_time": "2024-03-19T17:47:42.081Z"
   },
   {
    "duration": 17,
    "start_time": "2024-03-19T17:47:42.102Z"
   },
   {
    "duration": 12,
    "start_time": "2024-03-19T17:47:42.120Z"
   },
   {
    "duration": 34,
    "start_time": "2024-03-19T17:47:42.133Z"
   },
   {
    "duration": 24,
    "start_time": "2024-03-19T17:47:42.169Z"
   },
   {
    "duration": 11,
    "start_time": "2024-03-19T17:47:42.195Z"
   },
   {
    "duration": 135,
    "start_time": "2024-03-19T17:47:42.208Z"
   },
   {
    "duration": 3,
    "start_time": "2024-03-19T17:47:42.345Z"
   },
   {
    "duration": 7,
    "start_time": "2024-03-19T17:48:34.944Z"
   },
   {
    "duration": 10,
    "start_time": "2024-03-19T17:49:10.856Z"
   },
   {
    "duration": 9,
    "start_time": "2024-03-19T17:49:24.369Z"
   },
   {
    "duration": 11,
    "start_time": "2024-03-19T17:49:28.063Z"
   },
   {
    "duration": 14,
    "start_time": "2024-03-19T17:49:35.393Z"
   },
   {
    "duration": 11,
    "start_time": "2024-03-19T17:49:42.372Z"
   },
   {
    "duration": 120,
    "start_time": "2024-03-19T17:50:00.287Z"
   },
   {
    "duration": 6,
    "start_time": "2024-03-19T17:52:05.255Z"
   },
   {
    "duration": 8,
    "start_time": "2024-03-19T17:54:35.759Z"
   },
   {
    "duration": 8,
    "start_time": "2024-03-19T17:56:59.472Z"
   },
   {
    "duration": 6,
    "start_time": "2024-03-19T17:57:12.714Z"
   },
   {
    "duration": 363,
    "start_time": "2024-03-19T17:59:13.788Z"
   },
   {
    "duration": 12,
    "start_time": "2024-03-19T17:59:23.205Z"
   },
   {
    "duration": 12,
    "start_time": "2024-03-19T17:59:42.910Z"
   },
   {
    "duration": 49,
    "start_time": "2024-03-21T05:21:27.690Z"
   },
   {
    "duration": 1611,
    "start_time": "2024-03-21T05:21:56.375Z"
   },
   {
    "duration": 19,
    "start_time": "2024-03-21T05:21:57.988Z"
   },
   {
    "duration": 18,
    "start_time": "2024-03-21T05:21:58.008Z"
   },
   {
    "duration": 10,
    "start_time": "2024-03-21T05:21:58.029Z"
   },
   {
    "duration": 44,
    "start_time": "2024-03-21T05:21:58.041Z"
   },
   {
    "duration": 4,
    "start_time": "2024-03-21T05:21:58.087Z"
   },
   {
    "duration": 9,
    "start_time": "2024-03-21T05:21:58.093Z"
   },
   {
    "duration": 7,
    "start_time": "2024-03-21T05:21:58.103Z"
   },
   {
    "duration": 8,
    "start_time": "2024-03-21T05:21:58.112Z"
   },
   {
    "duration": 4,
    "start_time": "2024-03-21T05:21:58.124Z"
   },
   {
    "duration": 60,
    "start_time": "2024-03-21T05:21:58.130Z"
   },
   {
    "duration": 11,
    "start_time": "2024-03-21T05:21:58.191Z"
   },
   {
    "duration": 12,
    "start_time": "2024-03-21T05:21:58.204Z"
   },
   {
    "duration": 17,
    "start_time": "2024-03-21T05:21:58.217Z"
   },
   {
    "duration": 30,
    "start_time": "2024-03-21T05:21:58.236Z"
   },
   {
    "duration": 16,
    "start_time": "2024-03-21T05:21:58.268Z"
   },
   {
    "duration": 3,
    "start_time": "2024-03-21T05:21:58.286Z"
   },
   {
    "duration": 13,
    "start_time": "2024-03-21T05:21:58.290Z"
   },
   {
    "duration": 5,
    "start_time": "2024-03-21T05:21:58.305Z"
   },
   {
    "duration": 5,
    "start_time": "2024-03-21T05:21:58.311Z"
   },
   {
    "duration": 9,
    "start_time": "2024-03-21T05:21:58.317Z"
   },
   {
    "duration": 141,
    "start_time": "2024-03-21T05:21:58.328Z"
   },
   {
    "duration": 0,
    "start_time": "2024-03-21T05:21:58.470Z"
   },
   {
    "duration": 0,
    "start_time": "2024-03-21T05:21:58.472Z"
   },
   {
    "duration": 0,
    "start_time": "2024-03-21T05:21:58.473Z"
   },
   {
    "duration": 0,
    "start_time": "2024-03-21T05:21:58.474Z"
   },
   {
    "duration": 39,
    "start_time": "2024-03-21T05:22:52.219Z"
   },
   {
    "duration": 28,
    "start_time": "2024-03-21T05:24:04.694Z"
   },
   {
    "duration": 33,
    "start_time": "2024-03-21T05:25:23.209Z"
   },
   {
    "duration": 33,
    "start_time": "2024-03-21T05:25:47.675Z"
   },
   {
    "duration": 27,
    "start_time": "2024-03-21T05:32:44.584Z"
   },
   {
    "duration": 37,
    "start_time": "2024-03-21T05:41:38.850Z"
   },
   {
    "duration": 26,
    "start_time": "2024-03-21T05:42:02.105Z"
   },
   {
    "duration": 27,
    "start_time": "2024-03-21T05:46:23.795Z"
   },
   {
    "duration": 5,
    "start_time": "2024-03-21T05:48:23.601Z"
   },
   {
    "duration": 12,
    "start_time": "2024-03-21T05:48:28.890Z"
   },
   {
    "duration": 39,
    "start_time": "2024-03-21T05:54:31.743Z"
   },
   {
    "duration": 78,
    "start_time": "2024-03-21T14:58:39.210Z"
   },
   {
    "duration": 85,
    "start_time": "2024-03-21T15:00:32.829Z"
   },
   {
    "duration": 77,
    "start_time": "2024-03-21T15:01:38.876Z"
   },
   {
    "duration": 69,
    "start_time": "2024-03-21T15:07:13.959Z"
   },
   {
    "duration": 54,
    "start_time": "2024-03-23T07:49:19.918Z"
   },
   {
    "duration": 1745,
    "start_time": "2024-03-23T07:50:42.874Z"
   },
   {
    "duration": 20,
    "start_time": "2024-03-23T07:50:44.622Z"
   },
   {
    "duration": 17,
    "start_time": "2024-03-23T07:50:44.644Z"
   },
   {
    "duration": 13,
    "start_time": "2024-03-23T07:50:44.664Z"
   },
   {
    "duration": 40,
    "start_time": "2024-03-23T07:50:44.678Z"
   },
   {
    "duration": 4,
    "start_time": "2024-03-23T07:50:44.720Z"
   },
   {
    "duration": 15,
    "start_time": "2024-03-23T07:50:44.726Z"
   },
   {
    "duration": 18,
    "start_time": "2024-03-23T07:50:44.743Z"
   },
   {
    "duration": 17,
    "start_time": "2024-03-23T07:50:44.763Z"
   },
   {
    "duration": 7,
    "start_time": "2024-03-23T07:50:44.783Z"
   },
   {
    "duration": 51,
    "start_time": "2024-03-23T07:50:44.791Z"
   },
   {
    "duration": 11,
    "start_time": "2024-03-23T07:50:44.844Z"
   },
   {
    "duration": 18,
    "start_time": "2024-03-23T07:50:44.857Z"
   },
   {
    "duration": 13,
    "start_time": "2024-03-23T07:50:44.877Z"
   },
   {
    "duration": 24,
    "start_time": "2024-03-23T07:50:44.891Z"
   },
   {
    "duration": 18,
    "start_time": "2024-03-23T07:50:44.916Z"
   },
   {
    "duration": 14,
    "start_time": "2024-03-23T07:50:44.936Z"
   },
   {
    "duration": 26,
    "start_time": "2024-03-23T07:50:44.952Z"
   },
   {
    "duration": 6,
    "start_time": "2024-03-23T07:50:44.980Z"
   },
   {
    "duration": 14,
    "start_time": "2024-03-23T07:50:44.987Z"
   },
   {
    "duration": 99,
    "start_time": "2024-03-23T07:50:45.003Z"
   },
   {
    "duration": 223,
    "start_time": "2024-03-23T07:50:45.104Z"
   },
   {
    "duration": 0,
    "start_time": "2024-03-23T07:50:45.329Z"
   },
   {
    "duration": 0,
    "start_time": "2024-03-23T07:50:45.330Z"
   },
   {
    "duration": 0,
    "start_time": "2024-03-23T07:50:45.331Z"
   },
   {
    "duration": 65,
    "start_time": "2024-03-23T07:51:26.818Z"
   },
   {
    "duration": 80,
    "start_time": "2024-03-23T07:51:33.392Z"
   },
   {
    "duration": 386,
    "start_time": "2024-03-23T07:51:59.558Z"
   },
   {
    "duration": 38,
    "start_time": "2024-03-23T07:52:40.171Z"
   },
   {
    "duration": 40,
    "start_time": "2024-03-23T07:53:27.677Z"
   },
   {
    "duration": 38,
    "start_time": "2024-03-23T07:53:40.733Z"
   },
   {
    "duration": 39,
    "start_time": "2024-03-23T07:53:47.448Z"
   },
   {
    "duration": 49,
    "start_time": "2024-03-23T07:56:23.548Z"
   },
   {
    "duration": 42,
    "start_time": "2024-03-23T07:56:33.228Z"
   },
   {
    "duration": 35,
    "start_time": "2024-03-23T07:56:38.611Z"
   }
  ],
  "colab": {
   "provenance": []
  },
  "kernelspec": {
   "display_name": "Python 3 (ipykernel)",
   "language": "python",
   "name": "python3"
  },
  "language_info": {
   "codemirror_mode": {
    "name": "ipython",
    "version": 3
   },
   "file_extension": ".py",
   "mimetype": "text/x-python",
   "name": "python",
   "nbconvert_exporter": "python",
   "pygments_lexer": "ipython3",
   "version": "3.9.5"
  },
  "toc": {
   "base_numbering": 1,
   "nav_menu": {},
   "number_sections": true,
   "sideBar": true,
   "skip_h1_title": true,
   "title_cell": "Table of Contents",
   "title_sidebar": "Contents",
   "toc_cell": false,
   "toc_position": {},
   "toc_section_display": true,
   "toc_window_display": false
  }
 },
 "nbformat": 4,
 "nbformat_minor": 5
}
