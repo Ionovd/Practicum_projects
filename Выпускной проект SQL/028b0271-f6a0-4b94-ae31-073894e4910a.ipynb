{
 "cells": [
  {
   "cell_type": "markdown",
   "metadata": {},
   "source": [
    "# Проект по SQL"
   ]
  },
  {
   "cell_type": "markdown",
   "metadata": {},
   "source": [
    "# Описание проекта:\n",
    "\n",
    "Коронавирус застал мир врасплох, изменив привычный порядок вещей. На какое-то время жители городов перестали выходить на улицу, посещать кафе и торговые центры. Зато стало больше времени для книг. Это заметили стартаперы — и бросились создавать приложения для тех, кто любит читать.\n",
    "\n",
    "Компания решила быть на волне и купила крупный сервис для чтения книг по подписке. Первая задача как аналитика — проанализировать базу данных.\n",
    "\n",
    "В ней — информация о книгах, издательствах, авторах, а также пользовательские обзоры книг. Эти данные помогут сформулировать ценностное предложение для нового продукта."
   ]
  },
  {
   "cell_type": "markdown",
   "metadata": {},
   "source": [
    "# Описание данных:\n",
    "\n",
    "- **Таблица books**\n",
    "- Содержит данные о книгах:\n",
    "   - book_id — идентификатор книги;\n",
    "   - author_id — идентификатор автора;\n",
    "   - title — название книги;\n",
    "   - num_pages — количество страниц;\n",
    "   - publication_date — дата публикации книги;\n",
    "   - publisher_id — идентификатор издателя.\n",
    "   \n",
    "- **Таблица authors**\n",
    "- Содержит данные об авторах:\n",
    "   - author_id — идентификатор автора;\n",
    "   - author — имя автора.\n",
    "   \n",
    "- **Таблица publishers**\n",
    "- Содержит данные об издательствах:\n",
    "   - publisher_id — идентификатор издательства;\n",
    "   - publisher — название издательства;\n",
    "   \n",
    "- **Таблица ratings**\n",
    "- Содержит данные о пользовательских оценках книг:\n",
    "   - rating_id — идентификатор оценки;\n",
    "   - book_id — идентификатор книги;\n",
    "   - username — имя пользователя, оставившего оценку;\n",
    "   - rating — оценка книги.\n",
    "   \n",
    "- **Таблица reviews**\n",
    "- Содержит данные о пользовательских обзорах:\n",
    "   - review_id — идентификатор обзора;\n",
    "   - book_id — идентификатор книги;\n",
    "   - username — имя автора обзора;\n",
    "   - text — текст обзора."
   ]
  },
  {
   "cell_type": "markdown",
   "metadata": {},
   "source": [
    "# Задания<a class=\"anchor\" id=\"1\"></a>\n",
    "\n",
    "- [x] [Посчитать, сколько книг вышло после 1 января 2000 года](#books)\n",
    "\n",
    "- [x] [Для каждой книги посчитать количество обзоров и среднюю оценку](#reviews)\n",
    "\n",
    "- [x] [Определить издательство, которое выпустило наибольшее число книг толще 50 страниц](#over50)\n",
    "\n",
    "- [x] [Определить автора с самой высокой средней оценкой книг — учитывать только книги с 50 и более оценками;](#over50raiting)\n",
    "\n",
    "- [x] [Посчитать среднее количество обзоров от пользователей, которые поставили больше 48 оценок.](#review48)\n",
    "\n"
   ]
  },
  {
   "cell_type": "markdown",
   "metadata": {},
   "source": []
  },
  {
   "cell_type": "code",
   "execution_count": 1,
   "metadata": {},
   "outputs": [],
   "source": [
    "import pandas as pd\n",
    "from sqlalchemy import create_engine\n",
    "pd.options.display.max_colwidth = 1"
   ]
  },
  {
   "cell_type": "code",
   "execution_count": 2,
   "metadata": {},
   "outputs": [],
   "source": [
    "db_config = {'user': 'praktikum_student', # имя пользователя \n",
    "'pwd': 'Sdf4$2;d-d30pp', # пароль \n",
    "'host': 'rc1b-wcoijxj3yxfsf3fs.mdb.yandexcloud.net', \n",
    "'port': 6432, # порт подключения \n",
    "'db': 'data-analyst-final-project-db'} # название базы данных \n",
    "connection_string = 'postgresql://{user}:{pwd}@{host}:{port}/{db}'.format(**db_config) "
   ]
  },
  {
   "cell_type": "code",
   "execution_count": 3,
   "metadata": {},
   "outputs": [],
   "source": [
    "# сохраняем коннектор \n",
    "engine = create_engine(connection_string, connect_args={'sslmode':'require'})"
   ]
  },
  {
   "cell_type": "code",
   "execution_count": 4,
   "metadata": {},
   "outputs": [
    {
     "data": {
      "text/plain": [
       "'\" query = \\'\\'\\'SELECT * FROM books LIMIT 5\\'\\'\\'\\ncon=engine.connect() \\npd.io.sql.read_sql(sql=text(query), con = con) '"
      ]
     },
     "execution_count": 4,
     "metadata": {},
     "output_type": "execute_result"
    }
   ],
   "source": [
    "# чтобы выполнить SQL-запрос, используем Pandas \n",
    "\"\"\"\" query = '''SELECT * FROM books LIMIT 5'''\n",
    "con=engine.connect() \n",
    "pd.io.sql.read_sql(sql=text(query), con = con) \"\"\"\n"
   ]
  },
  {
   "cell_type": "code",
   "execution_count": 5,
   "metadata": {},
   "outputs": [],
   "source": [
    "con=engine.connect()"
   ]
  },
  {
   "cell_type": "code",
   "execution_count": 6,
   "metadata": {},
   "outputs": [],
   "source": [
    "def select(x):\n",
    "  return pd.io.sql.read_sql(x, con = con)"
   ]
  },
  {
   "cell_type": "markdown",
   "metadata": {},
   "source": [
    "# Исследование баз данных"
   ]
  },
  {
   "cell_type": "code",
   "execution_count": 7,
   "metadata": {},
   "outputs": [],
   "source": [
    "books = '''\n",
    "SELECT * \n",
    "FROM books\n",
    "'''"
   ]
  },
  {
   "cell_type": "code",
   "execution_count": 8,
   "metadata": {},
   "outputs": [],
   "source": [
    "authors = '''\n",
    "SELECT * \n",
    "FROM authors\n",
    "'''"
   ]
  },
  {
   "cell_type": "code",
   "execution_count": 9,
   "metadata": {},
   "outputs": [],
   "source": [
    "publishers = '''\n",
    "SELECT * \n",
    "FROM publishers\n",
    "'''"
   ]
  },
  {
   "cell_type": "code",
   "execution_count": 10,
   "metadata": {},
   "outputs": [],
   "source": [
    "ratings = '''\n",
    "SELECT * \n",
    "FROM ratings\n",
    "'''"
   ]
  },
  {
   "cell_type": "code",
   "execution_count": 11,
   "metadata": {},
   "outputs": [],
   "source": [
    "reviews = '''\n",
    "SELECT * \n",
    "FROM reviews\n",
    "'''"
   ]
  },
  {
   "cell_type": "code",
   "execution_count": 12,
   "metadata": {},
   "outputs": [
    {
     "data": {
      "text/html": [
       "<div>\n",
       "<style scoped>\n",
       "    .dataframe tbody tr th:only-of-type {\n",
       "        vertical-align: middle;\n",
       "    }\n",
       "\n",
       "    .dataframe tbody tr th {\n",
       "        vertical-align: top;\n",
       "    }\n",
       "\n",
       "    .dataframe thead th {\n",
       "        text-align: right;\n",
       "    }\n",
       "</style>\n",
       "<table border=\"1\" class=\"dataframe\">\n",
       "  <thead>\n",
       "    <tr style=\"text-align: right;\">\n",
       "      <th></th>\n",
       "      <th>book_id</th>\n",
       "      <th>author_id</th>\n",
       "      <th>title</th>\n",
       "      <th>num_pages</th>\n",
       "      <th>publication_date</th>\n",
       "      <th>publisher_id</th>\n",
       "    </tr>\n",
       "  </thead>\n",
       "  <tbody>\n",
       "    <tr>\n",
       "      <th>0</th>\n",
       "      <td>1</td>\n",
       "      <td>546</td>\n",
       "      <td>'Salem's Lot</td>\n",
       "      <td>594</td>\n",
       "      <td>2005-11-01</td>\n",
       "      <td>93</td>\n",
       "    </tr>\n",
       "    <tr>\n",
       "      <th>1</th>\n",
       "      <td>2</td>\n",
       "      <td>465</td>\n",
       "      <td>1 000 Places to See Before You Die</td>\n",
       "      <td>992</td>\n",
       "      <td>2003-05-22</td>\n",
       "      <td>336</td>\n",
       "    </tr>\n",
       "    <tr>\n",
       "      <th>2</th>\n",
       "      <td>3</td>\n",
       "      <td>407</td>\n",
       "      <td>13 Little Blue Envelopes (Little Blue Envelope  #1)</td>\n",
       "      <td>322</td>\n",
       "      <td>2010-12-21</td>\n",
       "      <td>135</td>\n",
       "    </tr>\n",
       "    <tr>\n",
       "      <th>3</th>\n",
       "      <td>4</td>\n",
       "      <td>82</td>\n",
       "      <td>1491: New Revelations of the Americas Before Columbus</td>\n",
       "      <td>541</td>\n",
       "      <td>2006-10-10</td>\n",
       "      <td>309</td>\n",
       "    </tr>\n",
       "    <tr>\n",
       "      <th>4</th>\n",
       "      <td>5</td>\n",
       "      <td>125</td>\n",
       "      <td>1776</td>\n",
       "      <td>386</td>\n",
       "      <td>2006-07-04</td>\n",
       "      <td>268</td>\n",
       "    </tr>\n",
       "  </tbody>\n",
       "</table>\n",
       "</div>"
      ],
      "text/plain": [
       "   book_id  author_id                                                  title  \\\n",
       "0  1        546        'Salem's Lot                                            \n",
       "1  2        465        1 000 Places to See Before You Die                      \n",
       "2  3        407        13 Little Blue Envelopes (Little Blue Envelope  #1)     \n",
       "3  4        82         1491: New Revelations of the Americas Before Columbus   \n",
       "4  5        125        1776                                                    \n",
       "\n",
       "   num_pages publication_date  publisher_id  \n",
       "0  594        2005-11-01       93            \n",
       "1  992        2003-05-22       336           \n",
       "2  322        2010-12-21       135           \n",
       "3  541        2006-10-10       309           \n",
       "4  386        2006-07-04       268           "
      ]
     },
     "execution_count": 12,
     "metadata": {},
     "output_type": "execute_result"
    }
   ],
   "source": [
    "select(books).head()"
   ]
  },
  {
   "cell_type": "code",
   "execution_count": 13,
   "metadata": {},
   "outputs": [],
   "source": [
    "db_list = ['books','authors','publishers','ratings','reviews']"
   ]
  },
  {
   "cell_type": "code",
   "execution_count": 14,
   "metadata": {},
   "outputs": [
    {
     "data": {
      "text/html": [
       "<div>\n",
       "<style scoped>\n",
       "    .dataframe tbody tr th:only-of-type {\n",
       "        vertical-align: middle;\n",
       "    }\n",
       "\n",
       "    .dataframe tbody tr th {\n",
       "        vertical-align: top;\n",
       "    }\n",
       "\n",
       "    .dataframe thead th {\n",
       "        text-align: right;\n",
       "    }\n",
       "</style>\n",
       "<table border=\"1\" class=\"dataframe\">\n",
       "  <thead>\n",
       "    <tr style=\"text-align: right;\">\n",
       "      <th></th>\n",
       "      <th>book_id</th>\n",
       "      <th>author_id</th>\n",
       "      <th>title</th>\n",
       "      <th>num_pages</th>\n",
       "      <th>publication_date</th>\n",
       "      <th>publisher_id</th>\n",
       "    </tr>\n",
       "  </thead>\n",
       "  <tbody>\n",
       "    <tr>\n",
       "      <th>0</th>\n",
       "      <td>1</td>\n",
       "      <td>546</td>\n",
       "      <td>'Salem's Lot</td>\n",
       "      <td>594</td>\n",
       "      <td>2005-11-01</td>\n",
       "      <td>93</td>\n",
       "    </tr>\n",
       "    <tr>\n",
       "      <th>1</th>\n",
       "      <td>2</td>\n",
       "      <td>465</td>\n",
       "      <td>1 000 Places to See Before You Die</td>\n",
       "      <td>992</td>\n",
       "      <td>2003-05-22</td>\n",
       "      <td>336</td>\n",
       "    </tr>\n",
       "    <tr>\n",
       "      <th>2</th>\n",
       "      <td>3</td>\n",
       "      <td>407</td>\n",
       "      <td>13 Little Blue Envelopes (Little Blue Envelope  #1)</td>\n",
       "      <td>322</td>\n",
       "      <td>2010-12-21</td>\n",
       "      <td>135</td>\n",
       "    </tr>\n",
       "    <tr>\n",
       "      <th>3</th>\n",
       "      <td>4</td>\n",
       "      <td>82</td>\n",
       "      <td>1491: New Revelations of the Americas Before Columbus</td>\n",
       "      <td>541</td>\n",
       "      <td>2006-10-10</td>\n",
       "      <td>309</td>\n",
       "    </tr>\n",
       "    <tr>\n",
       "      <th>4</th>\n",
       "      <td>5</td>\n",
       "      <td>125</td>\n",
       "      <td>1776</td>\n",
       "      <td>386</td>\n",
       "      <td>2006-07-04</td>\n",
       "      <td>268</td>\n",
       "    </tr>\n",
       "  </tbody>\n",
       "</table>\n",
       "</div>"
      ],
      "text/plain": [
       "   book_id  author_id                                                  title  \\\n",
       "0  1        546        'Salem's Lot                                            \n",
       "1  2        465        1 000 Places to See Before You Die                      \n",
       "2  3        407        13 Little Blue Envelopes (Little Blue Envelope  #1)     \n",
       "3  4        82         1491: New Revelations of the Americas Before Columbus   \n",
       "4  5        125        1776                                                    \n",
       "\n",
       "   num_pages publication_date  publisher_id  \n",
       "0  594       2005-11-01        93            \n",
       "1  992       2003-05-22        336           \n",
       "2  322       2010-12-21        135           \n",
       "3  541       2006-10-10        309           \n",
       "4  386       2006-07-04        268           "
      ]
     },
     "metadata": {},
     "output_type": "display_data"
    },
    {
     "name": "stdout",
     "output_type": "stream",
     "text": [
      "<class 'pandas.core.frame.DataFrame'>\n",
      "RangeIndex: 1000 entries, 0 to 999\n",
      "Data columns (total 6 columns):\n",
      " #   Column            Non-Null Count  Dtype         \n",
      "---  ------            --------------  -----         \n",
      " 0   book_id           1000 non-null   int64         \n",
      " 1   author_id         1000 non-null   int64         \n",
      " 2   title             1000 non-null   object        \n",
      " 3   num_pages         1000 non-null   int64         \n",
      " 4   publication_date  1000 non-null   datetime64[ns]\n",
      " 5   publisher_id      1000 non-null   int64         \n",
      "dtypes: datetime64[ns](1), int64(4), object(1)\n",
      "memory usage: 47.0+ KB\n"
     ]
    },
    {
     "data": {
      "text/plain": [
       "None"
      ]
     },
     "metadata": {},
     "output_type": "display_data"
    },
    {
     "data": {
      "text/html": [
       "<div>\n",
       "<style scoped>\n",
       "    .dataframe tbody tr th:only-of-type {\n",
       "        vertical-align: middle;\n",
       "    }\n",
       "\n",
       "    .dataframe tbody tr th {\n",
       "        vertical-align: top;\n",
       "    }\n",
       "\n",
       "    .dataframe thead th {\n",
       "        text-align: right;\n",
       "    }\n",
       "</style>\n",
       "<table border=\"1\" class=\"dataframe\">\n",
       "  <thead>\n",
       "    <tr style=\"text-align: right;\">\n",
       "      <th></th>\n",
       "      <th>author_id</th>\n",
       "      <th>author</th>\n",
       "    </tr>\n",
       "  </thead>\n",
       "  <tbody>\n",
       "    <tr>\n",
       "      <th>0</th>\n",
       "      <td>1</td>\n",
       "      <td>A.S. Byatt</td>\n",
       "    </tr>\n",
       "    <tr>\n",
       "      <th>1</th>\n",
       "      <td>2</td>\n",
       "      <td>Aesop/Laura Harris/Laura Gibbs</td>\n",
       "    </tr>\n",
       "    <tr>\n",
       "      <th>2</th>\n",
       "      <td>3</td>\n",
       "      <td>Agatha Christie</td>\n",
       "    </tr>\n",
       "    <tr>\n",
       "      <th>3</th>\n",
       "      <td>4</td>\n",
       "      <td>Alan Brennert</td>\n",
       "    </tr>\n",
       "    <tr>\n",
       "      <th>4</th>\n",
       "      <td>5</td>\n",
       "      <td>Alan Moore/David   Lloyd</td>\n",
       "    </tr>\n",
       "  </tbody>\n",
       "</table>\n",
       "</div>"
      ],
      "text/plain": [
       "   author_id                          author\n",
       "0  1          A.S. Byatt                    \n",
       "1  2          Aesop/Laura Harris/Laura Gibbs\n",
       "2  3          Agatha Christie               \n",
       "3  4          Alan Brennert                 \n",
       "4  5          Alan Moore/David   Lloyd      "
      ]
     },
     "metadata": {},
     "output_type": "display_data"
    },
    {
     "name": "stdout",
     "output_type": "stream",
     "text": [
      "<class 'pandas.core.frame.DataFrame'>\n",
      "RangeIndex: 636 entries, 0 to 635\n",
      "Data columns (total 2 columns):\n",
      " #   Column     Non-Null Count  Dtype \n",
      "---  ------     --------------  ----- \n",
      " 0   author_id  636 non-null    int64 \n",
      " 1   author     636 non-null    object\n",
      "dtypes: int64(1), object(1)\n",
      "memory usage: 10.1+ KB\n"
     ]
    },
    {
     "data": {
      "text/plain": [
       "None"
      ]
     },
     "metadata": {},
     "output_type": "display_data"
    },
    {
     "data": {
      "text/html": [
       "<div>\n",
       "<style scoped>\n",
       "    .dataframe tbody tr th:only-of-type {\n",
       "        vertical-align: middle;\n",
       "    }\n",
       "\n",
       "    .dataframe tbody tr th {\n",
       "        vertical-align: top;\n",
       "    }\n",
       "\n",
       "    .dataframe thead th {\n",
       "        text-align: right;\n",
       "    }\n",
       "</style>\n",
       "<table border=\"1\" class=\"dataframe\">\n",
       "  <thead>\n",
       "    <tr style=\"text-align: right;\">\n",
       "      <th></th>\n",
       "      <th>publisher_id</th>\n",
       "      <th>publisher</th>\n",
       "    </tr>\n",
       "  </thead>\n",
       "  <tbody>\n",
       "    <tr>\n",
       "      <th>0</th>\n",
       "      <td>1</td>\n",
       "      <td>Ace</td>\n",
       "    </tr>\n",
       "    <tr>\n",
       "      <th>1</th>\n",
       "      <td>2</td>\n",
       "      <td>Ace Book</td>\n",
       "    </tr>\n",
       "    <tr>\n",
       "      <th>2</th>\n",
       "      <td>3</td>\n",
       "      <td>Ace Books</td>\n",
       "    </tr>\n",
       "    <tr>\n",
       "      <th>3</th>\n",
       "      <td>4</td>\n",
       "      <td>Ace Hardcover</td>\n",
       "    </tr>\n",
       "    <tr>\n",
       "      <th>4</th>\n",
       "      <td>5</td>\n",
       "      <td>Addison Wesley Publishing Company</td>\n",
       "    </tr>\n",
       "  </tbody>\n",
       "</table>\n",
       "</div>"
      ],
      "text/plain": [
       "   publisher_id                          publisher\n",
       "0  1             Ace                              \n",
       "1  2             Ace Book                         \n",
       "2  3             Ace Books                        \n",
       "3  4             Ace Hardcover                    \n",
       "4  5             Addison Wesley Publishing Company"
      ]
     },
     "metadata": {},
     "output_type": "display_data"
    },
    {
     "name": "stdout",
     "output_type": "stream",
     "text": [
      "<class 'pandas.core.frame.DataFrame'>\n",
      "RangeIndex: 340 entries, 0 to 339\n",
      "Data columns (total 2 columns):\n",
      " #   Column        Non-Null Count  Dtype \n",
      "---  ------        --------------  ----- \n",
      " 0   publisher_id  340 non-null    int64 \n",
      " 1   publisher     340 non-null    object\n",
      "dtypes: int64(1), object(1)\n",
      "memory usage: 5.4+ KB\n"
     ]
    },
    {
     "data": {
      "text/plain": [
       "None"
      ]
     },
     "metadata": {},
     "output_type": "display_data"
    },
    {
     "data": {
      "text/html": [
       "<div>\n",
       "<style scoped>\n",
       "    .dataframe tbody tr th:only-of-type {\n",
       "        vertical-align: middle;\n",
       "    }\n",
       "\n",
       "    .dataframe tbody tr th {\n",
       "        vertical-align: top;\n",
       "    }\n",
       "\n",
       "    .dataframe thead th {\n",
       "        text-align: right;\n",
       "    }\n",
       "</style>\n",
       "<table border=\"1\" class=\"dataframe\">\n",
       "  <thead>\n",
       "    <tr style=\"text-align: right;\">\n",
       "      <th></th>\n",
       "      <th>rating_id</th>\n",
       "      <th>book_id</th>\n",
       "      <th>username</th>\n",
       "      <th>rating</th>\n",
       "    </tr>\n",
       "  </thead>\n",
       "  <tbody>\n",
       "    <tr>\n",
       "      <th>0</th>\n",
       "      <td>1</td>\n",
       "      <td>1</td>\n",
       "      <td>ryanfranco</td>\n",
       "      <td>4</td>\n",
       "    </tr>\n",
       "    <tr>\n",
       "      <th>1</th>\n",
       "      <td>2</td>\n",
       "      <td>1</td>\n",
       "      <td>grantpatricia</td>\n",
       "      <td>2</td>\n",
       "    </tr>\n",
       "    <tr>\n",
       "      <th>2</th>\n",
       "      <td>3</td>\n",
       "      <td>1</td>\n",
       "      <td>brandtandrea</td>\n",
       "      <td>5</td>\n",
       "    </tr>\n",
       "    <tr>\n",
       "      <th>3</th>\n",
       "      <td>4</td>\n",
       "      <td>2</td>\n",
       "      <td>lorichen</td>\n",
       "      <td>3</td>\n",
       "    </tr>\n",
       "    <tr>\n",
       "      <th>4</th>\n",
       "      <td>5</td>\n",
       "      <td>2</td>\n",
       "      <td>mariokeller</td>\n",
       "      <td>2</td>\n",
       "    </tr>\n",
       "  </tbody>\n",
       "</table>\n",
       "</div>"
      ],
      "text/plain": [
       "   rating_id  book_id       username  rating\n",
       "0  1          1        ryanfranco     4     \n",
       "1  2          1        grantpatricia  2     \n",
       "2  3          1        brandtandrea   5     \n",
       "3  4          2        lorichen       3     \n",
       "4  5          2        mariokeller    2     "
      ]
     },
     "metadata": {},
     "output_type": "display_data"
    },
    {
     "name": "stdout",
     "output_type": "stream",
     "text": [
      "<class 'pandas.core.frame.DataFrame'>\n",
      "RangeIndex: 6456 entries, 0 to 6455\n",
      "Data columns (total 4 columns):\n",
      " #   Column     Non-Null Count  Dtype \n",
      "---  ------     --------------  ----- \n",
      " 0   rating_id  6456 non-null   int64 \n",
      " 1   book_id    6456 non-null   int64 \n",
      " 2   username   6456 non-null   object\n",
      " 3   rating     6456 non-null   int64 \n",
      "dtypes: int64(3), object(1)\n",
      "memory usage: 201.9+ KB\n"
     ]
    },
    {
     "data": {
      "text/plain": [
       "None"
      ]
     },
     "metadata": {},
     "output_type": "display_data"
    },
    {
     "data": {
      "text/html": [
       "<div>\n",
       "<style scoped>\n",
       "    .dataframe tbody tr th:only-of-type {\n",
       "        vertical-align: middle;\n",
       "    }\n",
       "\n",
       "    .dataframe tbody tr th {\n",
       "        vertical-align: top;\n",
       "    }\n",
       "\n",
       "    .dataframe thead th {\n",
       "        text-align: right;\n",
       "    }\n",
       "</style>\n",
       "<table border=\"1\" class=\"dataframe\">\n",
       "  <thead>\n",
       "    <tr style=\"text-align: right;\">\n",
       "      <th></th>\n",
       "      <th>review_id</th>\n",
       "      <th>book_id</th>\n",
       "      <th>username</th>\n",
       "      <th>text</th>\n",
       "    </tr>\n",
       "  </thead>\n",
       "  <tbody>\n",
       "    <tr>\n",
       "      <th>0</th>\n",
       "      <td>1</td>\n",
       "      <td>1</td>\n",
       "      <td>brandtandrea</td>\n",
       "      <td>Mention society tell send professor analysis. Over provide race technology continue these.</td>\n",
       "    </tr>\n",
       "    <tr>\n",
       "      <th>1</th>\n",
       "      <td>2</td>\n",
       "      <td>1</td>\n",
       "      <td>ryanfranco</td>\n",
       "      <td>Foot glass pretty audience hit themselves. Among admit investment argue security.</td>\n",
       "    </tr>\n",
       "    <tr>\n",
       "      <th>2</th>\n",
       "      <td>3</td>\n",
       "      <td>2</td>\n",
       "      <td>lorichen</td>\n",
       "      <td>Listen treat keep worry. Miss husband tax but person sport treatment industry. Kitchen decision deep the. Social party body the.</td>\n",
       "    </tr>\n",
       "    <tr>\n",
       "      <th>3</th>\n",
       "      <td>4</td>\n",
       "      <td>3</td>\n",
       "      <td>johnsonamanda</td>\n",
       "      <td>Finally month interesting blue could nature cultural bit. Prepare beat finish grow that smile teach. Dream me play near.</td>\n",
       "    </tr>\n",
       "    <tr>\n",
       "      <th>4</th>\n",
       "      <td>5</td>\n",
       "      <td>3</td>\n",
       "      <td>scotttamara</td>\n",
       "      <td>Nation purpose heavy give wait song will. List dinner another whole positive radio fast. Music staff many green.</td>\n",
       "    </tr>\n",
       "  </tbody>\n",
       "</table>\n",
       "</div>"
      ],
      "text/plain": [
       "   review_id  book_id       username  \\\n",
       "0  1          1        brandtandrea    \n",
       "1  2          1        ryanfranco      \n",
       "2  3          2        lorichen        \n",
       "3  4          3        johnsonamanda   \n",
       "4  5          3        scotttamara     \n",
       "\n",
       "                                                                                                                               text  \n",
       "0  Mention society tell send professor analysis. Over provide race technology continue these.                                        \n",
       "1  Foot glass pretty audience hit themselves. Among admit investment argue security.                                                 \n",
       "2  Listen treat keep worry. Miss husband tax but person sport treatment industry. Kitchen decision deep the. Social party body the.  \n",
       "3  Finally month interesting blue could nature cultural bit. Prepare beat finish grow that smile teach. Dream me play near.          \n",
       "4  Nation purpose heavy give wait song will. List dinner another whole positive radio fast. Music staff many green.                  "
      ]
     },
     "metadata": {},
     "output_type": "display_data"
    },
    {
     "name": "stdout",
     "output_type": "stream",
     "text": [
      "<class 'pandas.core.frame.DataFrame'>\n",
      "RangeIndex: 2793 entries, 0 to 2792\n",
      "Data columns (total 4 columns):\n",
      " #   Column     Non-Null Count  Dtype \n",
      "---  ------     --------------  ----- \n",
      " 0   review_id  2793 non-null   int64 \n",
      " 1   book_id    2793 non-null   int64 \n",
      " 2   username   2793 non-null   object\n",
      " 3   text       2793 non-null   object\n",
      "dtypes: int64(2), object(2)\n",
      "memory usage: 87.4+ KB\n"
     ]
    },
    {
     "data": {
      "text/plain": [
       "None"
      ]
     },
     "metadata": {},
     "output_type": "display_data"
    }
   ],
   "source": [
    "for i in db_list:\n",
    "    display(select(i).head())\n",
    "    display(select(i).info())"
   ]
  },
  {
   "cell_type": "code",
   "execution_count": 15,
   "metadata": {},
   "outputs": [
    {
     "data": {
      "text/plain": [
       "book_id             0\n",
       "author_id           0\n",
       "title               0\n",
       "num_pages           0\n",
       "publication_date    0\n",
       "publisher_id        0\n",
       "dtype: int64"
      ]
     },
     "metadata": {},
     "output_type": "display_data"
    },
    {
     "data": {
      "text/plain": [
       "author_id    0\n",
       "author       0\n",
       "dtype: int64"
      ]
     },
     "metadata": {},
     "output_type": "display_data"
    },
    {
     "data": {
      "text/plain": [
       "publisher_id    0\n",
       "publisher       0\n",
       "dtype: int64"
      ]
     },
     "metadata": {},
     "output_type": "display_data"
    },
    {
     "data": {
      "text/plain": [
       "rating_id    0\n",
       "book_id      0\n",
       "username     0\n",
       "rating       0\n",
       "dtype: int64"
      ]
     },
     "metadata": {},
     "output_type": "display_data"
    },
    {
     "data": {
      "text/plain": [
       "review_id    0\n",
       "book_id      0\n",
       "username     0\n",
       "text         0\n",
       "dtype: int64"
      ]
     },
     "metadata": {},
     "output_type": "display_data"
    }
   ],
   "source": [
    "for i in db_list:\n",
    "    display(select(i).isnull().sum())"
   ]
  },
  {
   "cell_type": "code",
   "execution_count": 16,
   "metadata": {},
   "outputs": [
    {
     "data": {
      "text/plain": [
       "0"
      ]
     },
     "metadata": {},
     "output_type": "display_data"
    },
    {
     "data": {
      "text/plain": [
       "0"
      ]
     },
     "metadata": {},
     "output_type": "display_data"
    },
    {
     "data": {
      "text/plain": [
       "0"
      ]
     },
     "metadata": {},
     "output_type": "display_data"
    },
    {
     "data": {
      "text/plain": [
       "0"
      ]
     },
     "metadata": {},
     "output_type": "display_data"
    },
    {
     "data": {
      "text/plain": [
       "0"
      ]
     },
     "metadata": {},
     "output_type": "display_data"
    }
   ],
   "source": [
    "for i in db_list:\n",
    "    display(select(i).duplicated().sum())"
   ]
  },
  {
   "cell_type": "markdown",
   "metadata": {},
   "source": [
    "Вывод по выгрузке файлов:\n",
    "\n",
    "- Таблица books\n",
    "    - 1000 строк и 6 столбцов.\n",
    "\n",
    "- Таблица authors\n",
    "    - 636 строк и 2 столбца.\n",
    "\n",
    "- Таблица publishers\n",
    "    - 340 строк и 2 столбца.\n",
    "    \n",
    "- Таблица ratings\n",
    "    - 6456 строк и 4 столбца.\n",
    "\n",
    "- Таблица reviews\n",
    "    - 2793 строк и 4 столбца.\n",
    "    \n",
    "- Пропуски и дубликаты в каждой таблице отсутстувуют."
   ]
  },
  {
   "cell_type": "markdown",
   "metadata": {},
   "source": [
    "# Задание 1<a class=\"anchor\" id=\"books\"></a>\n",
    "Посчитать, сколько книг вышло после 1 января 2000 года.\n",
    "\n",
    "[К оглавлению](#1)"
   ]
  },
  {
   "cell_type": "code",
   "execution_count": 17,
   "metadata": {},
   "outputs": [],
   "source": [
    "count_books = '''\n",
    "SELECT COUNT(book_id) \n",
    "FROM books\n",
    "WHERE publication_date > '2000-01-01'\n",
    "'''\n"
   ]
  },
  {
   "cell_type": "code",
   "execution_count": 18,
   "metadata": {},
   "outputs": [
    {
     "data": {
      "text/html": [
       "<div>\n",
       "<style scoped>\n",
       "    .dataframe tbody tr th:only-of-type {\n",
       "        vertical-align: middle;\n",
       "    }\n",
       "\n",
       "    .dataframe tbody tr th {\n",
       "        vertical-align: top;\n",
       "    }\n",
       "\n",
       "    .dataframe thead th {\n",
       "        text-align: right;\n",
       "    }\n",
       "</style>\n",
       "<table border=\"1\" class=\"dataframe\">\n",
       "  <thead>\n",
       "    <tr style=\"text-align: right;\">\n",
       "      <th></th>\n",
       "      <th>count</th>\n",
       "    </tr>\n",
       "  </thead>\n",
       "  <tbody>\n",
       "    <tr>\n",
       "      <th>0</th>\n",
       "      <td>819</td>\n",
       "    </tr>\n",
       "  </tbody>\n",
       "</table>\n",
       "</div>"
      ],
      "text/plain": [
       "   count\n",
       "0  819  "
      ]
     },
     "execution_count": 18,
     "metadata": {},
     "output_type": "execute_result"
    }
   ],
   "source": [
    "select(count_books)"
   ]
  },
  {
   "cell_type": "markdown",
   "metadata": {},
   "source": [
    "Вывод: После 1 января 2000 года вышло 819 книг."
   ]
  },
  {
   "cell_type": "markdown",
   "metadata": {},
   "source": [
    "# Задание 2<a class=\"anchor\" id=\"reviews\"></a>\n",
    "\n",
    "Для каждой книги посчитать количество обзоров и среднюю оценку.\n",
    "\n",
    "[К оглавлению](#1)"
   ]
  },
  {
   "cell_type": "code",
   "execution_count": 19,
   "metadata": {},
   "outputs": [
    {
     "data": {
      "text/html": [
       "<div>\n",
       "<style scoped>\n",
       "    .dataframe tbody tr th:only-of-type {\n",
       "        vertical-align: middle;\n",
       "    }\n",
       "\n",
       "    .dataframe tbody tr th {\n",
       "        vertical-align: top;\n",
       "    }\n",
       "\n",
       "    .dataframe thead th {\n",
       "        text-align: right;\n",
       "    }\n",
       "</style>\n",
       "<table border=\"1\" class=\"dataframe\">\n",
       "  <thead>\n",
       "    <tr style=\"text-align: right;\">\n",
       "      <th></th>\n",
       "      <th>review_id</th>\n",
       "      <th>book_id</th>\n",
       "      <th>username</th>\n",
       "      <th>text</th>\n",
       "    </tr>\n",
       "  </thead>\n",
       "  <tbody>\n",
       "    <tr>\n",
       "      <th>0</th>\n",
       "      <td>1</td>\n",
       "      <td>1</td>\n",
       "      <td>brandtandrea</td>\n",
       "      <td>Mention society tell send professor analysis. Over provide race technology continue these.</td>\n",
       "    </tr>\n",
       "    <tr>\n",
       "      <th>1</th>\n",
       "      <td>2</td>\n",
       "      <td>1</td>\n",
       "      <td>ryanfranco</td>\n",
       "      <td>Foot glass pretty audience hit themselves. Among admit investment argue security.</td>\n",
       "    </tr>\n",
       "    <tr>\n",
       "      <th>2</th>\n",
       "      <td>3</td>\n",
       "      <td>2</td>\n",
       "      <td>lorichen</td>\n",
       "      <td>Listen treat keep worry. Miss husband tax but person sport treatment industry. Kitchen decision deep the. Social party body the.</td>\n",
       "    </tr>\n",
       "  </tbody>\n",
       "</table>\n",
       "</div>"
      ],
      "text/plain": [
       "   review_id  book_id      username  \\\n",
       "0  1          1        brandtandrea   \n",
       "1  2          1        ryanfranco     \n",
       "2  3          2        lorichen       \n",
       "\n",
       "                                                                                                                               text  \n",
       "0  Mention society tell send professor analysis. Over provide race technology continue these.                                        \n",
       "1  Foot glass pretty audience hit themselves. Among admit investment argue security.                                                 \n",
       "2  Listen treat keep worry. Miss husband tax but person sport treatment industry. Kitchen decision deep the. Social party body the.  "
      ]
     },
     "execution_count": 19,
     "metadata": {},
     "output_type": "execute_result"
    }
   ],
   "source": [
    "select(reviews).head(3)"
   ]
  },
  {
   "cell_type": "code",
   "execution_count": 20,
   "metadata": {},
   "outputs": [
    {
     "data": {
      "text/html": [
       "<div>\n",
       "<style scoped>\n",
       "    .dataframe tbody tr th:only-of-type {\n",
       "        vertical-align: middle;\n",
       "    }\n",
       "\n",
       "    .dataframe tbody tr th {\n",
       "        vertical-align: top;\n",
       "    }\n",
       "\n",
       "    .dataframe thead th {\n",
       "        text-align: right;\n",
       "    }\n",
       "</style>\n",
       "<table border=\"1\" class=\"dataframe\">\n",
       "  <thead>\n",
       "    <tr style=\"text-align: right;\">\n",
       "      <th></th>\n",
       "      <th>rating_id</th>\n",
       "      <th>book_id</th>\n",
       "      <th>username</th>\n",
       "      <th>rating</th>\n",
       "    </tr>\n",
       "  </thead>\n",
       "  <tbody>\n",
       "    <tr>\n",
       "      <th>0</th>\n",
       "      <td>1</td>\n",
       "      <td>1</td>\n",
       "      <td>ryanfranco</td>\n",
       "      <td>4</td>\n",
       "    </tr>\n",
       "    <tr>\n",
       "      <th>1</th>\n",
       "      <td>2</td>\n",
       "      <td>1</td>\n",
       "      <td>grantpatricia</td>\n",
       "      <td>2</td>\n",
       "    </tr>\n",
       "    <tr>\n",
       "      <th>2</th>\n",
       "      <td>3</td>\n",
       "      <td>1</td>\n",
       "      <td>brandtandrea</td>\n",
       "      <td>5</td>\n",
       "    </tr>\n",
       "  </tbody>\n",
       "</table>\n",
       "</div>"
      ],
      "text/plain": [
       "   rating_id  book_id       username  rating\n",
       "0  1          1        ryanfranco     4     \n",
       "1  2          1        grantpatricia  2     \n",
       "2  3          1        brandtandrea   5     "
      ]
     },
     "execution_count": 20,
     "metadata": {},
     "output_type": "execute_result"
    }
   ],
   "source": [
    "select(ratings).head(3)"
   ]
  },
  {
   "cell_type": "code",
   "execution_count": 21,
   "metadata": {},
   "outputs": [],
   "source": [
    "count_reviews = '''\n",
    "SELECT b.book_id,\n",
    "       b.title,\n",
    "       COUNT(DISTINCT r.text) AS count_reviews,\n",
    "       RoUND(AVG(ra.rating),2) AS average_rating\n",
    "FROM books AS b\n",
    "LEFT JOIN reviews AS r ON r.book_id = b.book_id\n",
    "LEFT JOIN ratings AS ra ON ra.book_id = b.book_id\n",
    "GROUP BY b.book_id,\n",
    "         b.title\n",
    "ORDER BY count_reviews DESC '''"
   ]
  },
  {
   "cell_type": "code",
   "execution_count": 22,
   "metadata": {},
   "outputs": [
    {
     "data": {
      "text/html": [
       "<div>\n",
       "<style scoped>\n",
       "    .dataframe tbody tr th:only-of-type {\n",
       "        vertical-align: middle;\n",
       "    }\n",
       "\n",
       "    .dataframe tbody tr th {\n",
       "        vertical-align: top;\n",
       "    }\n",
       "\n",
       "    .dataframe thead th {\n",
       "        text-align: right;\n",
       "    }\n",
       "</style>\n",
       "<table border=\"1\" class=\"dataframe\">\n",
       "  <thead>\n",
       "    <tr style=\"text-align: right;\">\n",
       "      <th></th>\n",
       "      <th>book_id</th>\n",
       "      <th>title</th>\n",
       "      <th>count_reviews</th>\n",
       "      <th>average_rating</th>\n",
       "    </tr>\n",
       "  </thead>\n",
       "  <tbody>\n",
       "    <tr>\n",
       "      <th>0</th>\n",
       "      <td>948</td>\n",
       "      <td>Twilight (Twilight  #1)</td>\n",
       "      <td>7</td>\n",
       "      <td>3.66</td>\n",
       "    </tr>\n",
       "    <tr>\n",
       "      <th>1</th>\n",
       "      <td>963</td>\n",
       "      <td>Water for Elephants</td>\n",
       "      <td>6</td>\n",
       "      <td>3.98</td>\n",
       "    </tr>\n",
       "    <tr>\n",
       "      <th>2</th>\n",
       "      <td>734</td>\n",
       "      <td>The Glass Castle</td>\n",
       "      <td>6</td>\n",
       "      <td>4.21</td>\n",
       "    </tr>\n",
       "    <tr>\n",
       "      <th>3</th>\n",
       "      <td>302</td>\n",
       "      <td>Harry Potter and the Prisoner of Azkaban (Harry Potter  #3)</td>\n",
       "      <td>6</td>\n",
       "      <td>4.41</td>\n",
       "    </tr>\n",
       "    <tr>\n",
       "      <th>4</th>\n",
       "      <td>695</td>\n",
       "      <td>The Curious Incident of the Dog in the Night-Time</td>\n",
       "      <td>6</td>\n",
       "      <td>4.08</td>\n",
       "    </tr>\n",
       "    <tr>\n",
       "      <th>...</th>\n",
       "      <td>...</td>\n",
       "      <td>...</td>\n",
       "      <td>...</td>\n",
       "      <td>...</td>\n",
       "    </tr>\n",
       "    <tr>\n",
       "      <th>995</th>\n",
       "      <td>83</td>\n",
       "      <td>Anne Rice's The Vampire Lestat: A Graphic Novel</td>\n",
       "      <td>0</td>\n",
       "      <td>3.67</td>\n",
       "    </tr>\n",
       "    <tr>\n",
       "      <th>996</th>\n",
       "      <td>808</td>\n",
       "      <td>The Natural Way to Draw</td>\n",
       "      <td>0</td>\n",
       "      <td>3.00</td>\n",
       "    </tr>\n",
       "    <tr>\n",
       "      <th>997</th>\n",
       "      <td>672</td>\n",
       "      <td>The Cat in the Hat and Other Dr. Seuss Favorites</td>\n",
       "      <td>0</td>\n",
       "      <td>5.00</td>\n",
       "    </tr>\n",
       "    <tr>\n",
       "      <th>998</th>\n",
       "      <td>221</td>\n",
       "      <td>Essential Tales and Poems</td>\n",
       "      <td>0</td>\n",
       "      <td>4.00</td>\n",
       "    </tr>\n",
       "    <tr>\n",
       "      <th>999</th>\n",
       "      <td>191</td>\n",
       "      <td>Disney's Beauty and the Beast (A Little Golden Book)</td>\n",
       "      <td>0</td>\n",
       "      <td>4.00</td>\n",
       "    </tr>\n",
       "  </tbody>\n",
       "</table>\n",
       "<p>1000 rows × 4 columns</p>\n",
       "</div>"
      ],
      "text/plain": [
       "     book_id                                                        title  \\\n",
       "0    948      Twilight (Twilight  #1)                                       \n",
       "1    963      Water for Elephants                                           \n",
       "2    734      The Glass Castle                                              \n",
       "3    302      Harry Potter and the Prisoner of Azkaban (Harry Potter  #3)   \n",
       "4    695      The Curious Incident of the Dog in the Night-Time             \n",
       "..   ...                                                    ...             \n",
       "995  83       Anne Rice's The Vampire Lestat: A Graphic Novel               \n",
       "996  808      The Natural Way to Draw                                       \n",
       "997  672      The Cat in the Hat and Other Dr. Seuss Favorites              \n",
       "998  221      Essential Tales and Poems                                     \n",
       "999  191      Disney's Beauty and the Beast (A Little Golden Book)          \n",
       "\n",
       "     count_reviews  average_rating  \n",
       "0    7              3.66            \n",
       "1    6              3.98            \n",
       "2    6              4.21            \n",
       "3    6              4.41            \n",
       "4    6              4.08            \n",
       "..  ..               ...            \n",
       "995  0              3.67            \n",
       "996  0              3.00            \n",
       "997  0              5.00            \n",
       "998  0              4.00            \n",
       "999  0              4.00            \n",
       "\n",
       "[1000 rows x 4 columns]"
      ]
     },
     "execution_count": 22,
     "metadata": {},
     "output_type": "execute_result"
    }
   ],
   "source": [
    "select(count_reviews)"
   ]
  },
  {
   "cell_type": "markdown",
   "metadata": {},
   "source": [
    "Вывод: \n",
    "Была выведена таблица с кол-во обзоров и средним рейтингом для каждой книги. \n",
    "\n",
    "Самая обозреваемая книга Twilight (Twilight #1)\tс рейтингом 3.66."
   ]
  },
  {
   "cell_type": "markdown",
   "metadata": {},
   "source": []
  },
  {
   "cell_type": "markdown",
   "metadata": {},
   "source": [
    "# Задание 3<a class=\"anchor\" id=\"over50\"></a>\n",
    "\n",
    "Определить издательство, которое выпустило наибольшее число книг толще 50 страниц.\n",
    "\n",
    "[К оглавлению](#1)"
   ]
  },
  {
   "cell_type": "code",
   "execution_count": 23,
   "metadata": {},
   "outputs": [
    {
     "data": {
      "text/html": [
       "<div>\n",
       "<style scoped>\n",
       "    .dataframe tbody tr th:only-of-type {\n",
       "        vertical-align: middle;\n",
       "    }\n",
       "\n",
       "    .dataframe tbody tr th {\n",
       "        vertical-align: top;\n",
       "    }\n",
       "\n",
       "    .dataframe thead th {\n",
       "        text-align: right;\n",
       "    }\n",
       "</style>\n",
       "<table border=\"1\" class=\"dataframe\">\n",
       "  <thead>\n",
       "    <tr style=\"text-align: right;\">\n",
       "      <th></th>\n",
       "      <th>publisher_id</th>\n",
       "      <th>publisher</th>\n",
       "    </tr>\n",
       "  </thead>\n",
       "  <tbody>\n",
       "    <tr>\n",
       "      <th>0</th>\n",
       "      <td>1</td>\n",
       "      <td>Ace</td>\n",
       "    </tr>\n",
       "    <tr>\n",
       "      <th>1</th>\n",
       "      <td>2</td>\n",
       "      <td>Ace Book</td>\n",
       "    </tr>\n",
       "    <tr>\n",
       "      <th>2</th>\n",
       "      <td>3</td>\n",
       "      <td>Ace Books</td>\n",
       "    </tr>\n",
       "    <tr>\n",
       "      <th>3</th>\n",
       "      <td>4</td>\n",
       "      <td>Ace Hardcover</td>\n",
       "    </tr>\n",
       "    <tr>\n",
       "      <th>4</th>\n",
       "      <td>5</td>\n",
       "      <td>Addison Wesley Publishing Company</td>\n",
       "    </tr>\n",
       "    <tr>\n",
       "      <th>...</th>\n",
       "      <td>...</td>\n",
       "      <td>...</td>\n",
       "    </tr>\n",
       "    <tr>\n",
       "      <th>335</th>\n",
       "      <td>336</td>\n",
       "      <td>Workman Publishing Company</td>\n",
       "    </tr>\n",
       "    <tr>\n",
       "      <th>336</th>\n",
       "      <td>337</td>\n",
       "      <td>Wyatt Book</td>\n",
       "    </tr>\n",
       "    <tr>\n",
       "      <th>337</th>\n",
       "      <td>338</td>\n",
       "      <td>Yale University Press</td>\n",
       "    </tr>\n",
       "    <tr>\n",
       "      <th>338</th>\n",
       "      <td>339</td>\n",
       "      <td>Yearling</td>\n",
       "    </tr>\n",
       "    <tr>\n",
       "      <th>339</th>\n",
       "      <td>340</td>\n",
       "      <td>Yearling Books</td>\n",
       "    </tr>\n",
       "  </tbody>\n",
       "</table>\n",
       "<p>340 rows × 2 columns</p>\n",
       "</div>"
      ],
      "text/plain": [
       "     publisher_id                          publisher\n",
       "0    1             Ace                              \n",
       "1    2             Ace Book                         \n",
       "2    3             Ace Books                        \n",
       "3    4             Ace Hardcover                    \n",
       "4    5             Addison Wesley Publishing Company\n",
       "..  ..                                           ...\n",
       "335  336           Workman Publishing Company       \n",
       "336  337           Wyatt Book                       \n",
       "337  338           Yale University Press            \n",
       "338  339           Yearling                         \n",
       "339  340           Yearling Books                   \n",
       "\n",
       "[340 rows x 2 columns]"
      ]
     },
     "execution_count": 23,
     "metadata": {},
     "output_type": "execute_result"
    }
   ],
   "source": [
    "select(publishers)"
   ]
  },
  {
   "cell_type": "code",
   "execution_count": 24,
   "metadata": {},
   "outputs": [],
   "source": [
    "publisher_over_50 = '''\n",
    "SELECT p.publisher,\n",
    "       COUNT(b.book_id) AS count_books\n",
    "FROM books AS b\n",
    "LEFT JOIN publishers AS p ON b.publisher_id = p.publisher_id\n",
    "WHERE b.num_pages > 50\n",
    "GROUP BY p.publisher\n",
    "ORDER BY count_books DESC\n",
    "LIMIT 3\n",
    "'''"
   ]
  },
  {
   "cell_type": "code",
   "execution_count": 25,
   "metadata": {},
   "outputs": [
    {
     "data": {
      "text/html": [
       "<div>\n",
       "<style scoped>\n",
       "    .dataframe tbody tr th:only-of-type {\n",
       "        vertical-align: middle;\n",
       "    }\n",
       "\n",
       "    .dataframe tbody tr th {\n",
       "        vertical-align: top;\n",
       "    }\n",
       "\n",
       "    .dataframe thead th {\n",
       "        text-align: right;\n",
       "    }\n",
       "</style>\n",
       "<table border=\"1\" class=\"dataframe\">\n",
       "  <thead>\n",
       "    <tr style=\"text-align: right;\">\n",
       "      <th></th>\n",
       "      <th>publisher</th>\n",
       "      <th>count_books</th>\n",
       "    </tr>\n",
       "  </thead>\n",
       "  <tbody>\n",
       "    <tr>\n",
       "      <th>0</th>\n",
       "      <td>Penguin Books</td>\n",
       "      <td>42</td>\n",
       "    </tr>\n",
       "    <tr>\n",
       "      <th>1</th>\n",
       "      <td>Vintage</td>\n",
       "      <td>31</td>\n",
       "    </tr>\n",
       "    <tr>\n",
       "      <th>2</th>\n",
       "      <td>Grand Central Publishing</td>\n",
       "      <td>25</td>\n",
       "    </tr>\n",
       "  </tbody>\n",
       "</table>\n",
       "</div>"
      ],
      "text/plain": [
       "                  publisher  count_books\n",
       "0  Penguin Books             42         \n",
       "1  Vintage                   31         \n",
       "2  Grand Central Publishing  25         "
      ]
     },
     "execution_count": 25,
     "metadata": {},
     "output_type": "execute_result"
    }
   ],
   "source": [
    "select(publisher_over_50)"
   ]
  },
  {
   "cell_type": "markdown",
   "metadata": {},
   "source": [
    "Вывод:\n",
    " \n",
    " Издательство Penguin Books выпустило больше всего книг(42) толще 50 страниц."
   ]
  },
  {
   "cell_type": "markdown",
   "metadata": {},
   "source": []
  },
  {
   "cell_type": "markdown",
   "metadata": {},
   "source": [
    "# Задание 4<a class=\"anchor\" id=\"over50raiting\"></a>\n",
    "\n",
    "Определить автора с самой высокой средней оценкой книг — учитывать только книги с 50 и более оценками.\n",
    "\n",
    "[К оглавлению](#1)\n"
   ]
  },
  {
   "cell_type": "code",
   "execution_count": 26,
   "metadata": {},
   "outputs": [
    {
     "data": {
      "text/html": [
       "<div>\n",
       "<style scoped>\n",
       "    .dataframe tbody tr th:only-of-type {\n",
       "        vertical-align: middle;\n",
       "    }\n",
       "\n",
       "    .dataframe tbody tr th {\n",
       "        vertical-align: top;\n",
       "    }\n",
       "\n",
       "    .dataframe thead th {\n",
       "        text-align: right;\n",
       "    }\n",
       "</style>\n",
       "<table border=\"1\" class=\"dataframe\">\n",
       "  <thead>\n",
       "    <tr style=\"text-align: right;\">\n",
       "      <th></th>\n",
       "      <th>author_id</th>\n",
       "      <th>author</th>\n",
       "    </tr>\n",
       "  </thead>\n",
       "  <tbody>\n",
       "    <tr>\n",
       "      <th>0</th>\n",
       "      <td>1</td>\n",
       "      <td>A.S. Byatt</td>\n",
       "    </tr>\n",
       "  </tbody>\n",
       "</table>\n",
       "</div>"
      ],
      "text/plain": [
       "   author_id      author\n",
       "0  1          A.S. Byatt"
      ]
     },
     "execution_count": 26,
     "metadata": {},
     "output_type": "execute_result"
    }
   ],
   "source": [
    "select(authors).head(1)"
   ]
  },
  {
   "cell_type": "code",
   "execution_count": 27,
   "metadata": {},
   "outputs": [
    {
     "data": {
      "text/html": [
       "<div>\n",
       "<style scoped>\n",
       "    .dataframe tbody tr th:only-of-type {\n",
       "        vertical-align: middle;\n",
       "    }\n",
       "\n",
       "    .dataframe tbody tr th {\n",
       "        vertical-align: top;\n",
       "    }\n",
       "\n",
       "    .dataframe thead th {\n",
       "        text-align: right;\n",
       "    }\n",
       "</style>\n",
       "<table border=\"1\" class=\"dataframe\">\n",
       "  <thead>\n",
       "    <tr style=\"text-align: right;\">\n",
       "      <th></th>\n",
       "      <th>rating_id</th>\n",
       "      <th>book_id</th>\n",
       "      <th>username</th>\n",
       "      <th>rating</th>\n",
       "    </tr>\n",
       "  </thead>\n",
       "  <tbody>\n",
       "    <tr>\n",
       "      <th>0</th>\n",
       "      <td>1</td>\n",
       "      <td>1</td>\n",
       "      <td>ryanfranco</td>\n",
       "      <td>4</td>\n",
       "    </tr>\n",
       "  </tbody>\n",
       "</table>\n",
       "</div>"
      ],
      "text/plain": [
       "   rating_id  book_id    username  rating\n",
       "0  1          1        ryanfranco  4     "
      ]
     },
     "execution_count": 27,
     "metadata": {},
     "output_type": "execute_result"
    }
   ],
   "source": [
    "select(ratings).head(1)"
   ]
  },
  {
   "cell_type": "code",
   "execution_count": 28,
   "metadata": {},
   "outputs": [
    {
     "data": {
      "text/html": [
       "<div>\n",
       "<style scoped>\n",
       "    .dataframe tbody tr th:only-of-type {\n",
       "        vertical-align: middle;\n",
       "    }\n",
       "\n",
       "    .dataframe tbody tr th {\n",
       "        vertical-align: top;\n",
       "    }\n",
       "\n",
       "    .dataframe thead th {\n",
       "        text-align: right;\n",
       "    }\n",
       "</style>\n",
       "<table border=\"1\" class=\"dataframe\">\n",
       "  <thead>\n",
       "    <tr style=\"text-align: right;\">\n",
       "      <th></th>\n",
       "      <th>book_id</th>\n",
       "      <th>author_id</th>\n",
       "      <th>title</th>\n",
       "      <th>num_pages</th>\n",
       "      <th>publication_date</th>\n",
       "      <th>publisher_id</th>\n",
       "    </tr>\n",
       "  </thead>\n",
       "  <tbody>\n",
       "    <tr>\n",
       "      <th>0</th>\n",
       "      <td>1</td>\n",
       "      <td>546</td>\n",
       "      <td>'Salem's Lot</td>\n",
       "      <td>594</td>\n",
       "      <td>2005-11-01</td>\n",
       "      <td>93</td>\n",
       "    </tr>\n",
       "  </tbody>\n",
       "</table>\n",
       "</div>"
      ],
      "text/plain": [
       "   book_id  author_id         title  num_pages publication_date  publisher_id\n",
       "0  1        546        'Salem's Lot  594        2005-11-01       93          "
      ]
     },
     "execution_count": 28,
     "metadata": {},
     "output_type": "execute_result"
    }
   ],
   "source": [
    "select(books).head(1)"
   ]
  },
  {
   "cell_type": "code",
   "execution_count": 29,
   "metadata": {},
   "outputs": [],
   "source": [
    "author_over_50 = '''\n",
    "SELECT a.author,\n",
    "       ROUND(AVG(r.rating), 3) AS average_rating\n",
    "FROM books AS b\n",
    "INNER JOIN authors AS a ON a.author_id = b.author_id\n",
    "LEFT JOIN ratings AS r ON r.book_id = b.book_id\n",
    "GROUP BY a.author\n",
    "HAVING COUNT(rating) > 50\n",
    "ORDER BY average_rating DESC\n",
    "LIMIT 5\n",
    "'''"
   ]
  },
  {
   "cell_type": "code",
   "execution_count": 30,
   "metadata": {},
   "outputs": [
    {
     "data": {
      "text/html": [
       "<div>\n",
       "<style scoped>\n",
       "    .dataframe tbody tr th:only-of-type {\n",
       "        vertical-align: middle;\n",
       "    }\n",
       "\n",
       "    .dataframe tbody tr th {\n",
       "        vertical-align: top;\n",
       "    }\n",
       "\n",
       "    .dataframe thead th {\n",
       "        text-align: right;\n",
       "    }\n",
       "</style>\n",
       "<table border=\"1\" class=\"dataframe\">\n",
       "  <thead>\n",
       "    <tr style=\"text-align: right;\">\n",
       "      <th></th>\n",
       "      <th>author</th>\n",
       "      <th>average_rating</th>\n",
       "    </tr>\n",
       "  </thead>\n",
       "  <tbody>\n",
       "    <tr>\n",
       "      <th>0</th>\n",
       "      <td>J.K. Rowling/Mary GrandPré</td>\n",
       "      <td>4.288</td>\n",
       "    </tr>\n",
       "    <tr>\n",
       "      <th>1</th>\n",
       "      <td>Agatha Christie</td>\n",
       "      <td>4.283</td>\n",
       "    </tr>\n",
       "    <tr>\n",
       "      <th>2</th>\n",
       "      <td>Markus Zusak/Cao Xuân Việt Khương</td>\n",
       "      <td>4.264</td>\n",
       "    </tr>\n",
       "    <tr>\n",
       "      <th>3</th>\n",
       "      <td>J.R.R. Tolkien</td>\n",
       "      <td>4.241</td>\n",
       "    </tr>\n",
       "    <tr>\n",
       "      <th>4</th>\n",
       "      <td>Roald Dahl/Quentin Blake</td>\n",
       "      <td>4.210</td>\n",
       "    </tr>\n",
       "  </tbody>\n",
       "</table>\n",
       "</div>"
      ],
      "text/plain": [
       "                              author  average_rating\n",
       "0  J.K. Rowling/Mary GrandPré         4.288         \n",
       "1  Agatha Christie                    4.283         \n",
       "2  Markus Zusak/Cao Xuân Việt Khương  4.264         \n",
       "3  J.R.R. Tolkien                     4.241         \n",
       "4  Roald Dahl/Quentin Blake           4.210         "
      ]
     },
     "execution_count": 30,
     "metadata": {},
     "output_type": "execute_result"
    }
   ],
   "source": [
    "select(author_over_50)"
   ]
  },
  {
   "cell_type": "markdown",
   "metadata": {},
   "source": [
    "Вывод: Автор с самой высокой средней оценкой книг, где оценок больше 50 - это J.K. Rowling/Mary GrandPré."
   ]
  },
  {
   "cell_type": "markdown",
   "metadata": {},
   "source": [
    "# Задание 5<a class=\"anchor\" id=\"review48\"></a>\n",
    "\n",
    "Посчитать среднее количество обзоров от пользователей, которые поставили больше 48 оценок.\n",
    "\n",
    "[К оглавлению](#1)\n"
   ]
  },
  {
   "cell_type": "code",
   "execution_count": 31,
   "metadata": {},
   "outputs": [
    {
     "data": {
      "text/html": [
       "<div>\n",
       "<style scoped>\n",
       "    .dataframe tbody tr th:only-of-type {\n",
       "        vertical-align: middle;\n",
       "    }\n",
       "\n",
       "    .dataframe tbody tr th {\n",
       "        vertical-align: top;\n",
       "    }\n",
       "\n",
       "    .dataframe thead th {\n",
       "        text-align: right;\n",
       "    }\n",
       "</style>\n",
       "<table border=\"1\" class=\"dataframe\">\n",
       "  <thead>\n",
       "    <tr style=\"text-align: right;\">\n",
       "      <th></th>\n",
       "      <th>review_id</th>\n",
       "      <th>book_id</th>\n",
       "      <th>username</th>\n",
       "      <th>text</th>\n",
       "    </tr>\n",
       "  </thead>\n",
       "  <tbody>\n",
       "    <tr>\n",
       "      <th>0</th>\n",
       "      <td>1</td>\n",
       "      <td>1</td>\n",
       "      <td>brandtandrea</td>\n",
       "      <td>Mention society tell send professor analysis. Over provide race technology continue these.</td>\n",
       "    </tr>\n",
       "  </tbody>\n",
       "</table>\n",
       "</div>"
      ],
      "text/plain": [
       "   review_id  book_id      username  \\\n",
       "0  1          1        brandtandrea   \n",
       "\n",
       "                                                                                         text  \n",
       "0  Mention society tell send professor analysis. Over provide race technology continue these.  "
      ]
     },
     "execution_count": 31,
     "metadata": {},
     "output_type": "execute_result"
    }
   ],
   "source": [
    "select(reviews).head(1)"
   ]
  },
  {
   "cell_type": "code",
   "execution_count": 32,
   "metadata": {},
   "outputs": [
    {
     "data": {
      "text/html": [
       "<div>\n",
       "<style scoped>\n",
       "    .dataframe tbody tr th:only-of-type {\n",
       "        vertical-align: middle;\n",
       "    }\n",
       "\n",
       "    .dataframe tbody tr th {\n",
       "        vertical-align: top;\n",
       "    }\n",
       "\n",
       "    .dataframe thead th {\n",
       "        text-align: right;\n",
       "    }\n",
       "</style>\n",
       "<table border=\"1\" class=\"dataframe\">\n",
       "  <thead>\n",
       "    <tr style=\"text-align: right;\">\n",
       "      <th></th>\n",
       "      <th>rating_id</th>\n",
       "      <th>book_id</th>\n",
       "      <th>username</th>\n",
       "      <th>rating</th>\n",
       "    </tr>\n",
       "  </thead>\n",
       "  <tbody>\n",
       "    <tr>\n",
       "      <th>0</th>\n",
       "      <td>1</td>\n",
       "      <td>1</td>\n",
       "      <td>ryanfranco</td>\n",
       "      <td>4</td>\n",
       "    </tr>\n",
       "  </tbody>\n",
       "</table>\n",
       "</div>"
      ],
      "text/plain": [
       "   rating_id  book_id    username  rating\n",
       "0  1          1        ryanfranco  4     "
      ]
     },
     "execution_count": 32,
     "metadata": {},
     "output_type": "execute_result"
    }
   ],
   "source": [
    "select(ratings).head(1)"
   ]
  },
  {
   "cell_type": "code",
   "execution_count": 33,
   "metadata": {},
   "outputs": [],
   "source": [
    "users ='''\n",
    "SELECT AVG(count_reviews) AS average_count_reviews\n",
    "FROM\n",
    "  (SELECT r.username,\n",
    "          COUNT(text) AS count_reviews\n",
    "   FROM reviews AS r\n",
    "   JOIN\n",
    "     (SELECT username,\n",
    "             COUNT(rating_id) AS count_rating\n",
    "      FROM ratings\n",
    "      GROUP BY username) AS cr ON cr.username = r.username\n",
    "   WHERE count_rating > 48\n",
    "   GROUP BY r.username) AS avg_count\n",
    "'''"
   ]
  },
  {
   "cell_type": "code",
   "execution_count": 34,
   "metadata": {},
   "outputs": [
    {
     "data": {
      "text/html": [
       "<div>\n",
       "<style scoped>\n",
       "    .dataframe tbody tr th:only-of-type {\n",
       "        vertical-align: middle;\n",
       "    }\n",
       "\n",
       "    .dataframe tbody tr th {\n",
       "        vertical-align: top;\n",
       "    }\n",
       "\n",
       "    .dataframe thead th {\n",
       "        text-align: right;\n",
       "    }\n",
       "</style>\n",
       "<table border=\"1\" class=\"dataframe\">\n",
       "  <thead>\n",
       "    <tr style=\"text-align: right;\">\n",
       "      <th></th>\n",
       "      <th>average_count_reviews</th>\n",
       "    </tr>\n",
       "  </thead>\n",
       "  <tbody>\n",
       "    <tr>\n",
       "      <th>0</th>\n",
       "      <td>24.0</td>\n",
       "    </tr>\n",
       "  </tbody>\n",
       "</table>\n",
       "</div>"
      ],
      "text/plain": [
       "   average_count_reviews\n",
       "0  24.0                 "
      ]
     },
     "execution_count": 34,
     "metadata": {},
     "output_type": "execute_result"
    }
   ],
   "source": [
    "select(users)"
   ]
  },
  {
   "cell_type": "markdown",
   "metadata": {},
   "source": [
    "Вывод: В среднем пользователи с кол-во оценок больше 48 оставляют 24 обзора. То есть на каждую 2 оценку пишется обзор."
   ]
  },
  {
   "cell_type": "markdown",
   "metadata": {},
   "source": [
    "# Общий вывод по заданиям\n",
    "\n",
    "[К оглавлению](#1)\n",
    "\n",
    "1. После 1 января 2000 года вышло 819 книг.\n",
    "\n",
    "\n",
    "2. Была выведена таблица(count_reviews) с кол-во обзоров и средним рейтингом для каждой книги.\n",
    "\n",
    "    2.1 Самая обозреваемая книга Twilight (Twilight #1) с рейтингом 3.66.\n",
    "    \n",
    "\n",
    "3. Издательство Penguin Books выпустило больше всего книг(42) толще 50 страниц.\n",
    "\n",
    "\n",
    "4. Автор с самой высокой средней оценкой книг, где оценок больше 50 - это J.K. Rowling/Mary GrandPré.\n",
    "\n",
    "\n",
    "5. В среднем пользователи с кол-во оценок больше 48 оставляют 24 обзора. То есть на каждую 2 оценку пишется обзор."
   ]
  }
 ],
 "metadata": {
  "ExecuteTimeLog": [
   {
    "duration": 482,
    "start_time": "2024-12-20T17:00:38.353Z"
   },
   {
    "duration": 7,
    "start_time": "2024-12-20T17:01:34.728Z"
   },
   {
    "duration": 9403,
    "start_time": "2024-12-20T17:01:37.051Z"
   },
   {
    "duration": 193,
    "start_time": "2024-12-20T17:05:19.512Z"
   },
   {
    "duration": 76,
    "start_time": "2024-12-20T17:06:23.271Z"
   },
   {
    "duration": 3,
    "start_time": "2024-12-20T17:06:23.575Z"
   },
   {
    "duration": 3,
    "start_time": "2024-12-20T17:06:35.634Z"
   },
   {
    "duration": 78,
    "start_time": "2024-12-20T17:06:44.942Z"
   },
   {
    "duration": 53,
    "start_time": "2024-12-20T17:06:51.892Z"
   },
   {
    "duration": 2,
    "start_time": "2024-12-20T17:08:02.674Z"
   },
   {
    "duration": 52,
    "start_time": "2024-12-20T17:08:03.204Z"
   },
   {
    "duration": 63,
    "start_time": "2024-12-20T17:23:08.983Z"
   },
   {
    "duration": 7,
    "start_time": "2024-12-20T17:23:16.821Z"
   },
   {
    "duration": 2,
    "start_time": "2024-12-20T17:24:14.624Z"
   },
   {
    "duration": 77,
    "start_time": "2024-12-20T17:26:09.430Z"
   },
   {
    "duration": 160,
    "start_time": "2024-12-20T17:26:13.482Z"
   },
   {
    "duration": 2,
    "start_time": "2024-12-20T17:26:38.886Z"
   },
   {
    "duration": 7,
    "start_time": "2024-12-20T17:26:48.789Z"
   },
   {
    "duration": 3,
    "start_time": "2024-12-20T17:26:56.137Z"
   },
   {
    "duration": 7,
    "start_time": "2024-12-20T17:28:00.657Z"
   },
   {
    "duration": 3,
    "start_time": "2024-12-20T17:28:34.371Z"
   },
   {
    "duration": 2,
    "start_time": "2024-12-20T17:28:34.605Z"
   },
   {
    "duration": 6,
    "start_time": "2024-12-20T17:28:34.831Z"
   },
   {
    "duration": 2,
    "start_time": "2024-12-20T17:28:35.096Z"
   },
   {
    "duration": 3,
    "start_time": "2024-12-20T17:28:35.401Z"
   },
   {
    "duration": 53,
    "start_time": "2024-12-20T17:28:35.899Z"
   },
   {
    "duration": 2,
    "start_time": "2024-12-20T17:28:37.198Z"
   },
   {
    "duration": 128,
    "start_time": "2024-12-20T17:28:37.512Z"
   },
   {
    "duration": 136,
    "start_time": "2024-12-20T17:28:46.738Z"
   },
   {
    "duration": 1847,
    "start_time": "2024-12-20T17:28:57.836Z"
   },
   {
    "duration": 1897,
    "start_time": "2024-12-20T17:29:04.941Z"
   },
   {
    "duration": 1873,
    "start_time": "2024-12-20T17:29:14.807Z"
   },
   {
    "duration": 1866,
    "start_time": "2024-12-20T17:29:27.765Z"
   },
   {
    "duration": 3684,
    "start_time": "2024-12-20T17:30:36.163Z"
   },
   {
    "duration": 2,
    "start_time": "2024-12-20T17:30:55.763Z"
   },
   {
    "duration": 2,
    "start_time": "2024-12-20T17:30:56.183Z"
   },
   {
    "duration": 3,
    "start_time": "2024-12-20T17:30:56.377Z"
   },
   {
    "duration": 3,
    "start_time": "2024-12-20T17:30:56.534Z"
   },
   {
    "duration": 180,
    "start_time": "2024-12-20T17:30:56.684Z"
   },
   {
    "duration": 3,
    "start_time": "2024-12-20T17:30:56.865Z"
   },
   {
    "duration": 3,
    "start_time": "2024-12-20T17:30:57.214Z"
   },
   {
    "duration": 2,
    "start_time": "2024-12-20T17:30:57.444Z"
   },
   {
    "duration": 2,
    "start_time": "2024-12-20T17:30:57.636Z"
   },
   {
    "duration": 2,
    "start_time": "2024-12-20T17:30:57.788Z"
   },
   {
    "duration": 2,
    "start_time": "2024-12-20T17:30:57.941Z"
   },
   {
    "duration": 67,
    "start_time": "2024-12-20T17:30:58.096Z"
   },
   {
    "duration": 4,
    "start_time": "2024-12-20T17:30:58.215Z"
   },
   {
    "duration": 3989,
    "start_time": "2024-12-20T17:30:58.401Z"
   },
   {
    "duration": 536,
    "start_time": "2024-12-22T16:13:30.939Z"
   },
   {
    "duration": 3,
    "start_time": "2024-12-22T16:13:31.477Z"
   },
   {
    "duration": 9651,
    "start_time": "2024-12-22T16:13:31.482Z"
   },
   {
    "duration": 11,
    "start_time": "2024-12-22T16:13:41.135Z"
   },
   {
    "duration": 217,
    "start_time": "2024-12-22T16:13:41.149Z"
   },
   {
    "duration": 2,
    "start_time": "2024-12-22T16:13:41.368Z"
   },
   {
    "duration": 43,
    "start_time": "2024-12-22T16:13:41.372Z"
   },
   {
    "duration": 24,
    "start_time": "2024-12-22T16:13:41.417Z"
   },
   {
    "duration": 15,
    "start_time": "2024-12-22T16:13:41.443Z"
   },
   {
    "duration": 3,
    "start_time": "2024-12-22T16:13:41.460Z"
   },
   {
    "duration": 4,
    "start_time": "2024-12-22T16:13:41.465Z"
   },
   {
    "duration": 72,
    "start_time": "2024-12-22T16:13:41.470Z"
   },
   {
    "duration": 3,
    "start_time": "2024-12-22T16:13:41.543Z"
   },
   {
    "duration": 3817,
    "start_time": "2024-12-22T16:13:41.549Z"
   },
   {
    "duration": 1927,
    "start_time": "2024-12-22T16:13:45.368Z"
   },
   {
    "duration": 1954,
    "start_time": "2024-12-22T16:14:13.741Z"
   },
   {
    "duration": 3907,
    "start_time": "2024-12-22T16:15:07.006Z"
   },
   {
    "duration": 522,
    "start_time": "2024-12-22T16:15:17.574Z"
   },
   {
    "duration": 1946,
    "start_time": "2024-12-22T16:15:24.895Z"
   },
   {
    "duration": 2,
    "start_time": "2024-12-22T16:21:38.178Z"
   },
   {
    "duration": 3,
    "start_time": "2024-12-22T16:22:08.949Z"
   },
   {
    "duration": 53,
    "start_time": "2024-12-22T16:22:15.556Z"
   },
   {
    "duration": 3,
    "start_time": "2024-12-22T16:22:38.761Z"
   },
   {
    "duration": 42,
    "start_time": "2024-12-22T16:22:39.266Z"
   },
   {
    "duration": 3,
    "start_time": "2024-12-22T16:23:03.585Z"
   },
   {
    "duration": 30,
    "start_time": "2024-12-22T16:23:03.904Z"
   },
   {
    "duration": 3,
    "start_time": "2024-12-22T16:23:21.655Z"
   },
   {
    "duration": 31,
    "start_time": "2024-12-22T16:23:21.918Z"
   },
   {
    "duration": 83,
    "start_time": "2024-12-22T16:25:40.413Z"
   },
   {
    "duration": 78,
    "start_time": "2024-12-22T16:25:45.376Z"
   },
   {
    "duration": 3,
    "start_time": "2024-12-22T16:33:03.191Z"
   },
   {
    "duration": 50,
    "start_time": "2024-12-22T16:33:09.592Z"
   },
   {
    "duration": 7,
    "start_time": "2024-12-22T16:33:55.916Z"
   },
   {
    "duration": 62,
    "start_time": "2024-12-22T16:33:56.643Z"
   },
   {
    "duration": 3,
    "start_time": "2024-12-22T16:34:23.424Z"
   },
   {
    "duration": 62,
    "start_time": "2024-12-22T16:34:23.731Z"
   },
   {
    "duration": 95,
    "start_time": "2024-12-22T16:34:52.376Z"
   },
   {
    "duration": 2,
    "start_time": "2024-12-22T16:34:57.108Z"
   },
   {
    "duration": 72,
    "start_time": "2024-12-22T16:34:57.247Z"
   },
   {
    "duration": 4,
    "start_time": "2024-12-22T16:37:18.487Z"
   },
   {
    "duration": 73,
    "start_time": "2024-12-22T16:37:18.794Z"
   },
   {
    "duration": 33,
    "start_time": "2024-12-22T16:39:11.947Z"
   },
   {
    "duration": 59,
    "start_time": "2024-12-22T16:39:21.258Z"
   },
   {
    "duration": 2,
    "start_time": "2024-12-22T16:44:28.274Z"
   },
   {
    "duration": 30,
    "start_time": "2024-12-22T16:44:33.644Z"
   },
   {
    "duration": 3,
    "start_time": "2024-12-22T16:45:15.058Z"
   },
   {
    "duration": 31,
    "start_time": "2024-12-22T16:45:15.275Z"
   },
   {
    "duration": 3,
    "start_time": "2024-12-22T16:45:19.495Z"
   },
   {
    "duration": 30,
    "start_time": "2024-12-22T16:45:20.444Z"
   },
   {
    "duration": 43,
    "start_time": "2024-12-22T16:51:03.211Z"
   },
   {
    "duration": 46,
    "start_time": "2024-12-22T16:51:16.999Z"
   },
   {
    "duration": 145,
    "start_time": "2024-12-22T16:51:30.183Z"
   },
   {
    "duration": 33,
    "start_time": "2024-12-22T16:51:30.377Z"
   },
   {
    "duration": 3,
    "start_time": "2024-12-22T16:53:55.371Z"
   },
   {
    "duration": 52,
    "start_time": "2024-12-22T16:54:06.240Z"
   },
   {
    "duration": 4,
    "start_time": "2024-12-22T16:54:17.984Z"
   },
   {
    "duration": 70,
    "start_time": "2024-12-22T16:54:18.321Z"
   },
   {
    "duration": 52,
    "start_time": "2024-12-22T16:54:28.839Z"
   },
   {
    "duration": 2,
    "start_time": "2024-12-22T16:55:35.247Z"
   },
   {
    "duration": 49,
    "start_time": "2024-12-22T16:55:35.437Z"
   },
   {
    "duration": 3,
    "start_time": "2024-12-22T16:55:44.783Z"
   },
   {
    "duration": 2,
    "start_time": "2024-12-22T16:56:15.824Z"
   },
   {
    "duration": 49,
    "start_time": "2024-12-22T16:56:17.486Z"
   },
   {
    "duration": 3,
    "start_time": "2024-12-22T16:56:39.838Z"
   },
   {
    "duration": 53,
    "start_time": "2024-12-22T16:56:40.176Z"
   },
   {
    "duration": 3,
    "start_time": "2024-12-22T16:58:17.581Z"
   },
   {
    "duration": 60,
    "start_time": "2024-12-22T16:58:18.045Z"
   },
   {
    "duration": 2,
    "start_time": "2024-12-22T16:58:27.546Z"
   },
   {
    "duration": 47,
    "start_time": "2024-12-22T16:58:27.892Z"
   },
   {
    "duration": 2,
    "start_time": "2024-12-22T16:58:36.609Z"
   },
   {
    "duration": 39,
    "start_time": "2024-12-22T16:58:36.809Z"
   },
   {
    "duration": 3,
    "start_time": "2024-12-22T16:58:51.473Z"
   },
   {
    "duration": 36,
    "start_time": "2024-12-22T16:58:52.004Z"
   },
   {
    "duration": 34,
    "start_time": "2024-12-22T16:59:23.118Z"
   },
   {
    "duration": 2,
    "start_time": "2024-12-22T16:59:41.500Z"
   },
   {
    "duration": 35,
    "start_time": "2024-12-22T16:59:44.978Z"
   },
   {
    "duration": 80,
    "start_time": "2024-12-22T17:07:08.777Z"
   },
   {
    "duration": 83,
    "start_time": "2024-12-22T17:07:27.846Z"
   },
   {
    "duration": 3,
    "start_time": "2024-12-22T17:11:15.814Z"
   },
   {
    "duration": 59,
    "start_time": "2024-12-22T17:11:27.593Z"
   },
   {
    "duration": 3,
    "start_time": "2024-12-22T17:12:59.686Z"
   },
   {
    "duration": 60,
    "start_time": "2024-12-22T17:13:02.310Z"
   },
   {
    "duration": 2,
    "start_time": "2024-12-22T17:13:25.668Z"
   },
   {
    "duration": 58,
    "start_time": "2024-12-22T17:13:26.045Z"
   },
   {
    "duration": 3,
    "start_time": "2024-12-22T17:13:48.385Z"
   },
   {
    "duration": 57,
    "start_time": "2024-12-22T17:13:48.692Z"
   },
   {
    "duration": 2,
    "start_time": "2024-12-22T17:14:38.620Z"
   },
   {
    "duration": 57,
    "start_time": "2024-12-22T17:14:38.811Z"
   },
   {
    "duration": 2,
    "start_time": "2024-12-22T17:16:22.790Z"
   },
   {
    "duration": 60,
    "start_time": "2024-12-22T17:16:22.932Z"
   },
   {
    "duration": 2,
    "start_time": "2024-12-22T17:17:41.753Z"
   },
   {
    "duration": 61,
    "start_time": "2024-12-22T17:17:41.960Z"
   },
   {
    "duration": 3,
    "start_time": "2024-12-22T17:17:48.986Z"
   },
   {
    "duration": 60,
    "start_time": "2024-12-22T17:17:49.138Z"
   },
   {
    "duration": 2,
    "start_time": "2024-12-22T17:18:54.661Z"
   },
   {
    "duration": 30,
    "start_time": "2024-12-22T17:18:59.525Z"
   },
   {
    "duration": 61,
    "start_time": "2024-12-22T17:19:07.343Z"
   },
   {
    "duration": 2,
    "start_time": "2024-12-22T17:20:06.499Z"
   },
   {
    "duration": 33,
    "start_time": "2024-12-22T17:20:11.684Z"
   },
   {
    "duration": 3,
    "start_time": "2024-12-22T17:21:42.885Z"
   },
   {
    "duration": 50,
    "start_time": "2024-12-22T17:21:43.382Z"
   },
   {
    "duration": 2,
    "start_time": "2024-12-22T17:21:50.270Z"
   },
   {
    "duration": 62,
    "start_time": "2024-12-22T17:21:50.655Z"
   },
   {
    "duration": 3,
    "start_time": "2024-12-22T17:21:57.856Z"
   },
   {
    "duration": 69,
    "start_time": "2024-12-22T17:21:58.199Z"
   },
   {
    "duration": 2,
    "start_time": "2024-12-22T17:22:07.466Z"
   },
   {
    "duration": 50,
    "start_time": "2024-12-22T17:22:07.611Z"
   },
   {
    "duration": 3,
    "start_time": "2024-12-22T17:22:12.731Z"
   },
   {
    "duration": 706,
    "start_time": "2024-12-22T17:22:13.000Z"
   },
   {
    "duration": 3,
    "start_time": "2024-12-22T17:24:03.555Z"
   },
   {
    "duration": 193,
    "start_time": "2024-12-22T17:24:03.707Z"
   },
   {
    "duration": 62,
    "start_time": "2024-12-22T17:24:24.023Z"
   },
   {
    "duration": 3,
    "start_time": "2024-12-22T17:24:27.977Z"
   },
   {
    "duration": 39,
    "start_time": "2024-12-22T17:24:29.584Z"
   },
   {
    "duration": 248,
    "start_time": "2024-12-22T17:24:42.758Z"
   },
   {
    "duration": 2,
    "start_time": "2024-12-22T17:25:29.768Z"
   },
   {
    "duration": 53,
    "start_time": "2024-12-22T17:25:30.609Z"
   },
   {
    "duration": 2,
    "start_time": "2024-12-22T17:25:39.027Z"
   },
   {
    "duration": 44,
    "start_time": "2024-12-22T17:25:39.532Z"
   },
   {
    "duration": 2,
    "start_time": "2024-12-22T17:25:53.469Z"
   },
   {
    "duration": 30,
    "start_time": "2024-12-22T17:25:54.115Z"
   },
   {
    "duration": 2,
    "start_time": "2024-12-22T17:26:14.233Z"
   },
   {
    "duration": 52,
    "start_time": "2024-12-22T17:26:14.534Z"
   },
   {
    "duration": 3,
    "start_time": "2024-12-22T17:26:37.404Z"
   },
   {
    "duration": 255,
    "start_time": "2024-12-22T17:26:37.787Z"
   },
   {
    "duration": 2,
    "start_time": "2024-12-22T17:27:15.031Z"
   },
   {
    "duration": 34,
    "start_time": "2024-12-22T17:27:15.190Z"
   },
   {
    "duration": 2,
    "start_time": "2024-12-22T17:30:07.523Z"
   },
   {
    "duration": 31,
    "start_time": "2024-12-22T17:30:07.866Z"
   },
   {
    "duration": 3,
    "start_time": "2024-12-22T17:30:26.412Z"
   },
   {
    "duration": 32,
    "start_time": "2024-12-22T17:30:26.756Z"
   },
   {
    "duration": 3,
    "start_time": "2024-12-22T17:30:47.003Z"
   },
   {
    "duration": 31,
    "start_time": "2024-12-22T17:30:47.310Z"
   },
   {
    "duration": 2,
    "start_time": "2024-12-22T17:30:57.452Z"
   },
   {
    "duration": 32,
    "start_time": "2024-12-22T17:30:57.603Z"
   },
   {
    "duration": 3,
    "start_time": "2024-12-22T17:31:02.921Z"
   },
   {
    "duration": 30,
    "start_time": "2024-12-22T17:31:03.085Z"
   },
   {
    "duration": 2,
    "start_time": "2024-12-22T17:31:21.969Z"
   },
   {
    "duration": 51,
    "start_time": "2024-12-22T17:31:22.183Z"
   },
   {
    "duration": 3,
    "start_time": "2024-12-22T17:31:39.833Z"
   },
   {
    "duration": 45,
    "start_time": "2024-12-22T17:31:39.986Z"
   },
   {
    "duration": 2,
    "start_time": "2024-12-22T17:32:19.494Z"
   },
   {
    "duration": 51,
    "start_time": "2024-12-22T17:32:19.646Z"
   },
   {
    "duration": 2,
    "start_time": "2024-12-22T17:32:23.862Z"
   },
   {
    "duration": 62,
    "start_time": "2024-12-22T17:32:24.053Z"
   },
   {
    "duration": 3,
    "start_time": "2024-12-22T17:32:29.324Z"
   },
   {
    "duration": 42,
    "start_time": "2024-12-22T17:32:29.518Z"
   },
   {
    "duration": 2,
    "start_time": "2024-12-22T17:32:45.831Z"
   },
   {
    "duration": 32,
    "start_time": "2024-12-22T17:32:45.989Z"
   },
   {
    "duration": 2,
    "start_time": "2024-12-22T17:33:36.347Z"
   },
   {
    "duration": 33,
    "start_time": "2024-12-22T17:33:36.537Z"
   },
   {
    "duration": 2,
    "start_time": "2024-12-22T17:33:53.245Z"
   },
   {
    "duration": 50,
    "start_time": "2024-12-22T17:33:53.443Z"
   },
   {
    "duration": 2,
    "start_time": "2024-12-22T17:34:01.894Z"
   },
   {
    "duration": 43,
    "start_time": "2024-12-22T17:34:02.048Z"
   },
   {
    "duration": 3,
    "start_time": "2024-12-22T17:35:17.045Z"
   },
   {
    "duration": 52,
    "start_time": "2024-12-22T17:35:17.234Z"
   },
   {
    "duration": 3,
    "start_time": "2024-12-22T17:35:30.533Z"
   },
   {
    "duration": 43,
    "start_time": "2024-12-22T17:35:30.878Z"
   },
   {
    "duration": 3,
    "start_time": "2024-12-22T17:35:42.762Z"
   },
   {
    "duration": 32,
    "start_time": "2024-12-22T17:35:43.068Z"
   },
   {
    "duration": 3,
    "start_time": "2024-12-22T17:36:33.278Z"
   },
   {
    "duration": 52,
    "start_time": "2024-12-22T17:36:33.433Z"
   },
   {
    "duration": 2,
    "start_time": "2024-12-22T17:36:42.594Z"
   },
   {
    "duration": 43,
    "start_time": "2024-12-22T17:36:42.778Z"
   },
   {
    "duration": 3,
    "start_time": "2024-12-22T17:37:04.420Z"
   },
   {
    "duration": 34,
    "start_time": "2024-12-22T17:37:04.572Z"
   },
   {
    "duration": 3,
    "start_time": "2024-12-22T17:37:26.135Z"
   },
   {
    "duration": 32,
    "start_time": "2024-12-22T17:37:26.480Z"
   },
   {
    "duration": 514,
    "start_time": "2024-12-22T17:42:18.859Z"
   },
   {
    "duration": 3,
    "start_time": "2024-12-22T17:42:19.375Z"
   },
   {
    "duration": 11375,
    "start_time": "2024-12-22T17:42:19.379Z"
   },
   {
    "duration": 8,
    "start_time": "2024-12-22T17:42:30.756Z"
   },
   {
    "duration": 184,
    "start_time": "2024-12-22T17:42:30.766Z"
   },
   {
    "duration": 4,
    "start_time": "2024-12-22T17:42:30.952Z"
   },
   {
    "duration": 49,
    "start_time": "2024-12-22T17:42:30.957Z"
   },
   {
    "duration": 59,
    "start_time": "2024-12-22T17:42:31.007Z"
   },
   {
    "duration": 21,
    "start_time": "2024-12-22T17:42:31.067Z"
   },
   {
    "duration": 28,
    "start_time": "2024-12-22T17:42:31.091Z"
   },
   {
    "duration": 24,
    "start_time": "2024-12-22T17:42:31.121Z"
   },
   {
    "duration": 82,
    "start_time": "2024-12-22T17:42:31.147Z"
   },
   {
    "duration": 3,
    "start_time": "2024-12-22T17:42:31.230Z"
   },
   {
    "duration": 3837,
    "start_time": "2024-12-22T17:42:31.234Z"
   },
   {
    "duration": 1949,
    "start_time": "2024-12-22T17:42:35.074Z"
   },
   {
    "duration": 1887,
    "start_time": "2024-12-22T17:42:37.025Z"
   },
   {
    "duration": 2,
    "start_time": "2024-12-22T17:42:38.914Z"
   },
   {
    "duration": 104,
    "start_time": "2024-12-22T17:42:38.917Z"
   },
   {
    "duration": 38,
    "start_time": "2024-12-22T17:42:39.022Z"
   },
   {
    "duration": 41,
    "start_time": "2024-12-22T17:42:39.062Z"
   },
   {
    "duration": 2,
    "start_time": "2024-12-22T17:42:39.105Z"
   },
   {
    "duration": 57,
    "start_time": "2024-12-22T17:42:39.108Z"
   },
   {
    "duration": 31,
    "start_time": "2024-12-22T17:42:39.167Z"
   },
   {
    "duration": 2,
    "start_time": "2024-12-22T17:42:39.200Z"
   },
   {
    "duration": 33,
    "start_time": "2024-12-22T17:42:39.203Z"
   },
   {
    "duration": 31,
    "start_time": "2024-12-22T17:42:39.238Z"
   },
   {
    "duration": 88,
    "start_time": "2024-12-22T17:42:39.270Z"
   },
   {
    "duration": 35,
    "start_time": "2024-12-22T17:42:39.361Z"
   },
   {
    "duration": 2,
    "start_time": "2024-12-22T17:42:39.398Z"
   },
   {
    "duration": 52,
    "start_time": "2024-12-22T17:42:39.401Z"
   },
   {
    "duration": 37,
    "start_time": "2024-12-22T17:42:39.455Z"
   },
   {
    "duration": 43,
    "start_time": "2024-12-22T17:42:39.494Z"
   },
   {
    "duration": 2,
    "start_time": "2024-12-22T17:42:39.539Z"
   },
   {
    "duration": 36,
    "start_time": "2024-12-22T17:42:39.543Z"
   },
   {
    "duration": 483,
    "start_time": "2024-12-22T17:55:40.085Z"
   },
   {
    "duration": 3,
    "start_time": "2024-12-22T17:55:40.570Z"
   },
   {
    "duration": 11908,
    "start_time": "2024-12-22T17:55:40.574Z"
   },
   {
    "duration": 8,
    "start_time": "2024-12-22T17:55:52.484Z"
   },
   {
    "duration": 183,
    "start_time": "2024-12-22T17:55:52.495Z"
   },
   {
    "duration": 2,
    "start_time": "2024-12-22T17:55:52.680Z"
   },
   {
    "duration": 6,
    "start_time": "2024-12-22T17:55:52.684Z"
   },
   {
    "duration": 3,
    "start_time": "2024-12-22T17:55:52.691Z"
   },
   {
    "duration": 13,
    "start_time": "2024-12-22T17:55:52.695Z"
   },
   {
    "duration": 20,
    "start_time": "2024-12-22T17:55:52.709Z"
   },
   {
    "duration": 5,
    "start_time": "2024-12-22T17:55:52.731Z"
   },
   {
    "duration": 69,
    "start_time": "2024-12-22T17:55:52.737Z"
   },
   {
    "duration": 3,
    "start_time": "2024-12-22T17:55:52.807Z"
   },
   {
    "duration": 3837,
    "start_time": "2024-12-22T17:55:52.812Z"
   },
   {
    "duration": 1929,
    "start_time": "2024-12-22T17:55:56.651Z"
   },
   {
    "duration": 1876,
    "start_time": "2024-12-22T17:55:58.582Z"
   },
   {
    "duration": 3,
    "start_time": "2024-12-22T17:56:00.459Z"
   },
   {
    "duration": 75,
    "start_time": "2024-12-22T17:56:00.463Z"
   },
   {
    "duration": 35,
    "start_time": "2024-12-22T17:56:00.540Z"
   },
   {
    "duration": 43,
    "start_time": "2024-12-22T17:56:00.576Z"
   },
   {
    "duration": 3,
    "start_time": "2024-12-22T17:56:00.620Z"
   },
   {
    "duration": 75,
    "start_time": "2024-12-22T17:56:00.624Z"
   },
   {
    "duration": 30,
    "start_time": "2024-12-22T17:56:00.701Z"
   },
   {
    "duration": 2,
    "start_time": "2024-12-22T17:56:00.733Z"
   },
   {
    "duration": 42,
    "start_time": "2024-12-22T17:56:00.737Z"
   },
   {
    "duration": 30,
    "start_time": "2024-12-22T17:56:00.781Z"
   },
   {
    "duration": 44,
    "start_time": "2024-12-22T17:56:00.813Z"
   },
   {
    "duration": 34,
    "start_time": "2024-12-22T17:56:00.859Z"
   },
   {
    "duration": 3,
    "start_time": "2024-12-22T17:56:00.895Z"
   },
   {
    "duration": 68,
    "start_time": "2024-12-22T17:56:00.900Z"
   },
   {
    "duration": 84,
    "start_time": "2024-12-22T17:56:00.970Z"
   },
   {
    "duration": 43,
    "start_time": "2024-12-22T17:56:01.056Z"
   },
   {
    "duration": 3,
    "start_time": "2024-12-22T17:56:01.101Z"
   },
   {
    "duration": 77,
    "start_time": "2024-12-22T17:56:01.105Z"
   }
  ],
  "kernelspec": {
   "display_name": "Python 3 (ipykernel)",
   "language": "python",
   "name": "python3"
  },
  "language_info": {
   "codemirror_mode": {
    "name": "ipython",
    "version": 3
   },
   "file_extension": ".py",
   "mimetype": "text/x-python",
   "name": "python",
   "nbconvert_exporter": "python",
   "pygments_lexer": "ipython3",
   "version": "3.9.5"
  },
  "toc": {
   "base_numbering": 1,
   "nav_menu": {},
   "number_sections": true,
   "sideBar": true,
   "skip_h1_title": true,
   "title_cell": "Table of Contents",
   "title_sidebar": "Contents",
   "toc_cell": false,
   "toc_position": {},
   "toc_section_display": true,
   "toc_window_display": true
  }
 },
 "nbformat": 4,
 "nbformat_minor": 2
}
