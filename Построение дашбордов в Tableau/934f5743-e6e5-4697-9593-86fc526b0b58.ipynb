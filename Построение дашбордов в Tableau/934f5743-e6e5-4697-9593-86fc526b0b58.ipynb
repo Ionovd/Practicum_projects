{
 "cells": [
  {
   "cell_type": "markdown",
   "id": "e413119a",
   "metadata": {},
   "source": [
    "# Проект: Построение дашбордов в Tableau"
   ]
  },
  {
   "cell_type": "markdown",
   "id": "a73daf03",
   "metadata": {},
   "source": [
    "Ссылка на файл дэшборда: https://disk.yandex.ru/d/py1-coR8sCJibg"
   ]
  },
  {
   "cell_type": "markdown",
   "id": "8322e384",
   "metadata": {},
   "source": [
    "Ссылка на презентацию Tableau: https://public.tableau.com/shared/J3ZZ7QZ9B?:display_count=n&:origin=viz_share_link"
   ]
  },
  {
   "cell_type": "code",
   "execution_count": null,
   "id": "a9db58eb",
   "metadata": {},
   "outputs": [],
   "source": []
  }
 ],
 "metadata": {
  "kernelspec": {
   "display_name": "Python 3 (ipykernel)",
   "language": "python",
   "name": "python3"
  },
  "language_info": {
   "codemirror_mode": {
    "name": "ipython",
    "version": 3
   },
   "file_extension": ".py",
   "mimetype": "text/x-python",
   "name": "python",
   "nbconvert_exporter": "python",
   "pygments_lexer": "ipython3",
   "version": "3.9.5"
  },
  "toc": {
   "base_numbering": 1,
   "nav_menu": {},
   "number_sections": true,
   "sideBar": true,
   "skip_h1_title": true,
   "title_cell": "Table of Contents",
   "title_sidebar": "Contents",
   "toc_cell": false,
   "toc_position": {},
   "toc_section_display": true,
   "toc_window_display": false
  }
 },
 "nbformat": 4,
 "nbformat_minor": 5
}
